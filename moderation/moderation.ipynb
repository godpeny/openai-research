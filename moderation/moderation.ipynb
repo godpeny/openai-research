{
 "cells": [
  {
   "cell_type": "code",
   "execution_count": 1,
   "metadata": {
    "collapsed": true,
    "ExecuteTime": {
     "end_time": "2023-06-24T15:28:58.641281Z",
     "start_time": "2023-06-24T15:28:58.484353Z"
    }
   },
   "outputs": [],
   "source": [
    "# imports\n",
    "from dotenv import load_dotenv\n",
    "import os\n",
    "\n",
    "import openai"
   ]
  },
  {
   "cell_type": "code",
   "execution_count": 2,
   "outputs": [],
   "source": [
    "# set OpenAI API key\n",
    "load_dotenv()\n",
    "openai.api_key = os.getenv(\"OPENAI_API_KEY\")"
   ],
   "metadata": {
    "collapsed": false,
    "ExecuteTime": {
     "end_time": "2023-06-24T15:29:10.984836Z",
     "start_time": "2023-06-24T15:29:10.981519Z"
    }
   }
  },
  {
   "cell_type": "code",
   "execution_count": 9,
   "outputs": [
    {
     "data": {
      "text/plain": "<OpenAIObject at 0x107ba6510> JSON: {\n  \"hate\": 3.201089e-05,\n  \"hate/threatening\": 6.028159e-08,\n  \"self-harm\": 1.0982444e-09,\n  \"sexual\": 5.093935e-07,\n  \"sexual/minors\": 1.351804e-10,\n  \"violence\": 0.98950493,\n  \"violence/graphic\": 1.6194169e-06\n}"
     },
     "execution_count": 9,
     "metadata": {},
     "output_type": "execute_result"
    }
   ],
   "source": [
    "response = openai.Moderation.create(\n",
    "    input=\"I'm going to punch you in the face.\",\n",
    ")\n",
    "output = response[\"results\"][0][\"category_scores\"]\n",
    "output # print output"
   ],
   "metadata": {
    "collapsed": false,
    "ExecuteTime": {
     "end_time": "2023-06-24T15:32:17.989563Z",
     "start_time": "2023-06-24T15:32:17.493475Z"
    }
   }
  },
  {
   "cell_type": "code",
   "execution_count": 10,
   "outputs": [
    {
     "data": {
      "text/plain": "<OpenAIObject at 0x107ba64b0> JSON: {\n  \"hate\": 5.208248e-05,\n  \"hate/threatening\": 1.3865276e-09,\n  \"self-harm\": 6.6933765e-09,\n  \"sexual\": 0.46590525,\n  \"sexual/minors\": 0.00041139562,\n  \"violence\": 5.999386e-07,\n  \"violence/graphic\": 4.3010355e-09\n}"
     },
     "execution_count": 10,
     "metadata": {},
     "output_type": "execute_result"
    }
   ],
   "source": [
    "response = openai.Moderation.create(\n",
    "    input=\"I'm so horny right now.\",\n",
    ")\n",
    "output = response[\"results\"][0][\"category_scores\"]\n",
    "output # print output\n"
   ],
   "metadata": {
    "collapsed": false,
    "ExecuteTime": {
     "end_time": "2023-06-24T15:32:19.501163Z",
     "start_time": "2023-06-24T15:32:19.035484Z"
    }
   }
  },
  {
   "cell_type": "code",
   "execution_count": null,
   "outputs": [],
   "source": [],
   "metadata": {
    "collapsed": false
   }
  }
 ],
 "metadata": {
  "kernelspec": {
   "display_name": "Python 3",
   "language": "python",
   "name": "python3"
  },
  "language_info": {
   "codemirror_mode": {
    "name": "ipython",
    "version": 2
   },
   "file_extension": ".py",
   "mimetype": "text/x-python",
   "name": "python",
   "nbconvert_exporter": "python",
   "pygments_lexer": "ipython2",
   "version": "2.7.6"
  }
 },
 "nbformat": 4,
 "nbformat_minor": 0
}
