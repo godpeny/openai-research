{
 "cells": [
  {
   "cell_type": "code",
   "execution_count": 2,
   "outputs": [
    {
     "name": "stdout",
     "output_type": "stream",
     "text": [
      "From: dougb@comm.mot.com (Doug Bank)\n",
      "Subject: Re: Info needed for Cleveland tickets\n",
      "Reply-To: dougb@ecs.comm.mot.com\n",
      "Organization: Motorola Land Mobile Products Sector\n",
      "Distribution: usa\n",
      "Nntp-Posting-Host: 145.1.146.35\n",
      "Lines: 17\n",
      "\n",
      "In article <1993Apr1.234031.4950@leland.Stanford.EDU>, bohnert@leland.Stanford.EDU (matthew bohnert) writes:\n",
      "\n",
      "|> I'm going to be in Cleveland Thursday, April 15 to Sunday, April 18.\n",
      "|> Does anybody know if the Tribe will be in town on those dates, and\n",
      "|> if so, who're they playing and if tickets are available?\n",
      "\n",
      "The tribe will be in town from April 16 to the 19th.\n",
      "There are ALWAYS tickets available! (Though they are playing Toronto,\n",
      "and many Toronto fans make the trip to Cleveland as it is easier to\n",
      "get tickets in Cleveland than in Toronto.  Either way, I seriously\n",
      "doubt they will sell out until the end of the season.)\n",
      "\n",
      "-- \n",
      "Doug Bank                       Private Systems Division\n",
      "dougb@ecs.comm.mot.com          Motorola Communications Sector\n",
      "dougb@nwu.edu                   Schaumburg, Illinois\n",
      "dougb@casbah.acns.nwu.edu       708-576-8207                    \n",
      "\n"
     ]
    }
   ],
   "source": [
    "# 1.Data exploration will give an overview of the data source and what an example looks like\n",
    "from sklearn.datasets import fetch_20newsgroups\n",
    "\n",
    "categories = ['rec.sport.baseball', 'rec.sport.hockey']\n",
    "sports_dataset = fetch_20newsgroups(subset='train', shuffle=True, random_state=42, categories=categories)\n",
    "print(sports_dataset['data'][0])"
   ],
   "metadata": {
    "collapsed": false,
    "ExecuteTime": {
     "end_time": "2023-05-20T13:51:25.915105Z",
     "start_time": "2023-05-20T13:48:42.361165Z"
    }
   }
  },
  {
   "cell_type": "code",
   "execution_count": 13,
   "outputs": [
    {
     "name": "stdout",
     "output_type": "stream",
     "text": [
      "['rec.sport.baseball', 'rec.sport.hockey']\n",
      "Total examples: 1197, Baseball examples: 597, Hockey examples: 600\n"
     ]
    }
   ],
   "source": [
    "sports_dataset.target_names[sports_dataset['target'][0]]\n",
    "len_all, len_baseball, len_hockey = len(sports_dataset.data), len([e for e in sports_dataset.target if e == 0]), len([e for e in sports_dataset.target if e == 1])\n",
    "\n",
    "print(sports_dataset.target_names)\n",
    "print(f\"Total examples: {len_all}, Baseball examples: {len_baseball}, Hockey examples: {len_hockey}\")"
   ],
   "metadata": {
    "collapsed": false,
    "ExecuteTime": {
     "end_time": "2023-05-20T14:20:39.328899Z",
     "start_time": "2023-05-20T14:20:39.323619Z"
    }
   }
  },
  {
   "cell_type": "code",
   "execution_count": 18,
   "outputs": [],
   "source": [
    "# 2.Data preparation will turn our data source into a jsonl file that can be used for fine-tuning\n",
    "import pandas as pd\n",
    "\n",
    "labels = [sports_dataset.target_names[x].split('.')[-1] for x in sports_dataset['target']]\n",
    "texts = [text.strip() for text in sports_dataset['data']]\n",
    "df = pd.DataFrame(zip(texts, labels), columns = ['prompt','completion']) #[:300]\n",
    "# print first 5 lines\n",
    "df.head()\n",
    "# generate jsonl file\n",
    "df.to_json(\"sport2.jsonl\", orient='records', lines=True)"
   ],
   "metadata": {
    "collapsed": false,
    "ExecuteTime": {
     "end_time": "2023-05-20T14:44:45.993119Z",
     "start_time": "2023-05-20T14:44:45.981505Z"
    }
   }
  },
  {
   "cell_type": "code",
   "execution_count": 19,
   "outputs": [
    {
     "name": "stdout",
     "output_type": "stream",
     "text": [
      "Requirement already satisfied: openai in /Users/godpeny/Code/venv/openai-research/lib/python3.11/site-packages (0.27.7)\r\n",
      "Requirement already satisfied: requests>=2.20 in /Users/godpeny/Code/venv/openai-research/lib/python3.11/site-packages (from openai) (2.26.0)\r\n",
      "Requirement already satisfied: tqdm in /Users/godpeny/Code/venv/openai-research/lib/python3.11/site-packages (from openai) (4.62.3)\r\n",
      "Requirement already satisfied: aiohttp in /Users/godpeny/Code/venv/openai-research/lib/python3.11/site-packages (from openai) (3.8.4)\r\n",
      "Requirement already satisfied: urllib3<1.27,>=1.21.1 in /Users/godpeny/Code/venv/openai-research/lib/python3.11/site-packages (from requests>=2.20->openai) (1.26.7)\r\n",
      "Requirement already satisfied: certifi>=2017.4.17 in /Users/godpeny/Code/venv/openai-research/lib/python3.11/site-packages (from requests>=2.20->openai) (2021.10.8)\r\n",
      "Requirement already satisfied: charset-normalizer~=2.0.0 in /Users/godpeny/Code/venv/openai-research/lib/python3.11/site-packages (from requests>=2.20->openai) (2.0.7)\r\n",
      "Requirement already satisfied: idna<4,>=2.5 in /Users/godpeny/Code/venv/openai-research/lib/python3.11/site-packages (from requests>=2.20->openai) (3.3)\r\n",
      "Requirement already satisfied: attrs>=17.3.0 in /Users/godpeny/Code/venv/openai-research/lib/python3.11/site-packages (from aiohttp->openai) (23.1.0)\r\n",
      "Requirement already satisfied: multidict<7.0,>=4.5 in /Users/godpeny/Code/venv/openai-research/lib/python3.11/site-packages (from aiohttp->openai) (6.0.4)\r\n",
      "Requirement already satisfied: async-timeout<5.0,>=4.0.0a3 in /Users/godpeny/Code/venv/openai-research/lib/python3.11/site-packages (from aiohttp->openai) (4.0.2)\r\n",
      "Requirement already satisfied: yarl<2.0,>=1.0 in /Users/godpeny/Code/venv/openai-research/lib/python3.11/site-packages (from aiohttp->openai) (1.9.2)\r\n",
      "Requirement already satisfied: frozenlist>=1.1.1 in /Users/godpeny/Code/venv/openai-research/lib/python3.11/site-packages (from aiohttp->openai) (1.3.3)\r\n",
      "Requirement already satisfied: aiosignal>=1.1.2 in /Users/godpeny/Code/venv/openai-research/lib/python3.11/site-packages (from aiohttp->openai) (1.3.1)\r\n",
      "\r\n",
      "\u001B[1m[\u001B[0m\u001B[34;49mnotice\u001B[0m\u001B[1;39;49m]\u001B[0m\u001B[39;49m A new release of pip available: \u001B[0m\u001B[31;49m22.3.1\u001B[0m\u001B[39;49m -> \u001B[0m\u001B[32;49m23.1.2\u001B[0m\r\n",
      "\u001B[1m[\u001B[0m\u001B[34;49mnotice\u001B[0m\u001B[1;39;49m]\u001B[0m\u001B[39;49m To update, run: \u001B[0m\u001B[32;49mpip install --upgrade pip\u001B[0m\r\n",
      "Analyzing...\r\n",
      "\r\n",
      "- Your file contains 1197 prompt-completion pairs\r\n",
      "- Based on your data it seems like you're trying to fine-tune a model for classification\r\n",
      "- For classification, we recommend you try one of the faster and cheaper models, such as `ada`\r\n",
      "- For classification, you can estimate the expected model performance by keeping a held out dataset, which is not used for training\r\n",
      "- There are 11 examples that are very long. These are rows: [134, 200, 281, 320, 404, 595, 704, 838, 1113, 1139, 1174]\r\n",
      "For conditional generation, and for classification the examples shouldn't be longer than 2048 tokens.\r\n",
      "- Your data does not contain a common separator at the end of your prompts. Having a separator string appended to the end of the prompt makes it clearer to the fine-tuned model where the completion should begin. See https://platform.openai.com/docs/guides/fine-tuning/preparing-your-dataset for more detail and examples. If you intend to do open-ended generation, then you should leave the prompts empty\r\n",
      "- The completion should start with a whitespace character (` `). This tends to produce better results due to the tokenization we use. See https://platform.openai.com/docs/guides/fine-tuning/preparing-your-dataset for more details\r\n",
      "\r\n",
      "Based on the analysis we will perform the following actions:\r\n",
      "- [Recommended] Remove 11 long examples [Y/n]: Y\r\n",
      "- [Recommended] Add a suffix separator `\\n\\n###\\n\\n` to all prompts [Y/n]: Y\r\n",
      "- [Recommended] Add a whitespace character to the beginning of the completion [Y/n]: Y\r\n",
      "- [Recommended] Would you like to split into training and validation set? [Y/n]: Y\r\n",
      "\r\n",
      "\r\n",
      "Your data will be written to a new JSONL file. Proceed [Y/n]: Y\r\n",
      "\r\n",
      "Wrote modified files to `sport2_prepared_train.jsonl` and `sport2_prepared_valid.jsonl`\r\n",
      "Feel free to take a look!\r\n",
      "\r\n",
      "Now use that file when fine-tuning:\r\n",
      "> openai api fine_tunes.create -t \"sport2_prepared_train.jsonl\" -v \"sport2_prepared_valid.jsonl\" --compute_classification_metrics --classification_positive_class \" baseball\"\r\n",
      "\r\n",
      "After you’ve fine-tuned a model, remember that your prompt has to end with the indicator string `\\n\\n###\\n\\n` for the model to start generating completions, rather than continuing with the prompt.\r\n",
      "Once your model starts training, it'll approximately take 30.8 minutes to train a `curie` model, and less for `ada` and `babbage`. Queue will approximately take half an hour per job ahead of you.\r\n"
     ]
    }
   ],
   "source": [
    "# 3.Fine-tuning will kick off the fine-tuning job and explain the resulting model's performance\n",
    "!pip install --upgrade openai\n",
    "!openai tools fine_tunes.prepare_data -f sport2.jsonl -q\n",
    "\n",
    "# automatically generate train and valid files"
   ],
   "metadata": {
    "collapsed": false,
    "ExecuteTime": {
     "end_time": "2023-05-20T14:44:59.246796Z",
     "start_time": "2023-05-20T14:44:57.473825Z"
    }
   }
  },
  {
   "cell_type": "code",
   "execution_count": 25,
   "outputs": [],
   "source": [
    "# proceed fine-tuning with train and valid files\n",
    "import os\n",
    "import openai\n",
    "from dotenv import load_dotenv\n",
    "\n",
    "load_dotenv()\n",
    "openai.api_key = os.getenv(\"OPENAI_API_KEY\")"
   ],
   "metadata": {
    "collapsed": false,
    "ExecuteTime": {
     "end_time": "2023-05-20T15:07:27.784615Z",
     "start_time": "2023-05-20T15:07:27.779663Z"
    }
   }
  },
  {
   "cell_type": "code",
   "execution_count": 28,
   "outputs": [
    {
     "name": "stdout",
     "output_type": "stream",
     "text": [
      "Found potentially duplicated files with name 'sport2_prepared_train.jsonl', purpose 'fine-tune' and size 1519036 bytes\r\n",
      "file-BFhOcLCYJ32WdiRunKZkBmJP\r\n",
      "Enter file ID to reuse an already uploaded file, or an empty string to upload this file anyway: ^C\r\n",
      "\r\n"
     ]
    }
   ],
   "source": [
    "# blank before class name due to tokenization\n",
    "!openai api fine_tunes.create -t \"sport2_prepared_train.jsonl\" -v \"sport2_prepared_valid.jsonl\" --compute_classification_metrics --classification_positive_class \" baseball\" -m ada"
   ],
   "metadata": {
    "collapsed": false,
    "ExecuteTime": {
     "end_time": "2023-05-20T15:09:38.780634Z",
     "start_time": "2023-05-20T15:09:28.918744Z"
    }
   }
  },
  {
   "cell_type": "code",
   "execution_count": 33,
   "outputs": [
    {
     "name": "stdout",
     "output_type": "stream",
     "text": [
      "[2023-05-20 23:53:27] Created fine-tune: ft-oedE7Gq0VoxLeZM9C2wQvBnq\r\n",
      "[2023-05-20 23:56:29] Fine-tune costs $0.78\r\n",
      "[2023-05-20 23:56:29] Fine-tune enqueued. Queue number: 0\r\n",
      "[2023-05-21 00:06:34] Fine-tune started\r\n",
      "[2023-05-21 00:09:20] Completed epoch 1/4\r\n",
      "[2023-05-21 00:12:00] Completed epoch 2/4\r\n",
      "[2023-05-21 00:14:40] Completed epoch 3/4\r\n",
      "[2023-05-21 00:17:20] Completed epoch 4/4\r\n",
      "[2023-05-21 00:17:55] Uploaded model: ada:ft-personal-2023-05-20-15-17-55\r\n",
      "[2023-05-21 00:17:57] Uploaded result file: file-sKfUgAHyMuPrle6t3WJvRcEc\r\n",
      "[2023-05-21 00:17:57] Fine-tune succeeded\r\n",
      "\r\n",
      "Job complete! Status: succeeded 🎉\r\n",
      "Try out your fine-tuned model:\r\n",
      "\r\n",
      "openai api completions.create -m ada:ft-personal-2023-05-20-15-17-55 -p <YOUR_PROMPT>\r\n"
     ]
    }
   ],
   "source": [
    "# when stream is disconnected, use the following command to follow the progress\n",
    "# !openai api fine_tunes.follow -i ft-oedE7Gq0VoxLeZM9C2wQvBnq"
   ],
   "metadata": {
    "collapsed": false,
    "ExecuteTime": {
     "end_time": "2023-05-20T15:17:58.807857Z",
     "start_time": "2023-05-20T15:17:17.493576Z"
    }
   }
  },
  {
   "cell_type": "code",
   "execution_count": null,
   "outputs": [],
   "source": [
    "# Successfully result of fine-tuning\n",
    "\n",
    "# [2023-05-20 23:53:27] Created fine-tune: ft-oedE7Gq0VoxLeZM9C2wQvBnq\n",
    "# [2023-05-20 23:56:29] Fine-tune costs $0.78\n",
    "# ...\n",
    "# [2023-05-21 00:17:55] Uploaded model: ada:ft-personal-2023-05-20-15-17-55\n",
    "# [2023-05-21 00:17:57] Uploaded result file: file-sKfUgAHyMuPrle6t3WJvRcEc\n",
    "# [2023-05-21 00:17:57] Fine-tune succeeded\n",
    "#\n",
    "# Job complete! Status: succeeded 🎉\n",
    "# Try out your fine-tuned model:\n",
    "#\n",
    "# openai api completions.create -m ada:ft-personal-2023-05-20-15-17-55 -p <YOUR_PROMPT>"
   ],
   "metadata": {
    "collapsed": false
   }
  },
  {
   "cell_type": "code",
   "execution_count": 35,
   "outputs": [],
   "source": [
    "# 3.5(Advanced). Download the results file to observe the expected performance on a held out validation set.\n",
    "!openai api fine_tunes.results -i ft-oedE7Gq0VoxLeZM9C2wQvBnq > result.csv"
   ],
   "metadata": {
    "collapsed": false,
    "ExecuteTime": {
     "end_time": "2023-05-20T15:23:03.197576Z",
     "start_time": "2023-05-20T15:23:00.603613Z"
    }
   }
  },
  {
   "cell_type": "code",
   "execution_count": 38,
   "outputs": [
    {
     "data": {
      "text/plain": "<Axes: >"
     },
     "execution_count": 38,
     "metadata": {},
     "output_type": "execute_result"
    },
    {
     "data": {
      "text/plain": "<Figure size 640x480 with 1 Axes>",
      "image/png": "[encoded data removed]"
     },
     "metadata": {},
     "output_type": "display_data"
    }
   ],
   "source": [
    "results = pd.read_csv('result.csv')\n",
    "results[results['classification/accuracy'].notnull()].tail(1)\n",
    "results[results['classification/accuracy'].notnull()]['classification/accuracy'].plot()"
   ],
   "metadata": {
    "collapsed": false,
    "ExecuteTime": {
     "end_time": "2023-05-20T15:26:02.320070Z",
     "start_time": "2023-05-20T15:26:01.542463Z"
    }
   }
  },
  {
   "cell_type": "code",
   "execution_count": 39,
   "outputs": [
    {
     "data": {
      "text/plain": "                                              prompt completion\n0  From: gld@cunixb.cc.columbia.edu (Gary L Dare)...     hockey\n1  From: smorris@venus.lerc.nasa.gov (Ron Morris ...     hockey\n2  From: golchowy@alchemy.chem.utoronto.ca (Geral...     hockey\n3  From: krattige@hpcc01.corp.hp.com (Kim Krattig...   baseball\n4  From: warped@cs.montana.edu (Doug Dolven)\\nSub...   baseball",
      "text/html": "<div>\n<style scoped>\n    .dataframe tbody tr th:only-of-type {\n        vertical-align: middle;\n    }\n\n    .dataframe tbody tr th {\n        vertical-align: top;\n    }\n\n    .dataframe thead th {\n        text-align: right;\n    }\n</style>\n<table border=\"1\" class=\"dataframe\">\n  <thead>\n    <tr style=\"text-align: right;\">\n      <th></th>\n      <th>prompt</th>\n      <th>completion</th>\n    </tr>\n  </thead>\n  <tbody>\n    <tr>\n      <th>0</th>\n      <td>From: gld@cunixb.cc.columbia.edu (Gary L Dare)...</td>\n      <td>hockey</td>\n    </tr>\n    <tr>\n      <th>1</th>\n      <td>From: smorris@venus.lerc.nasa.gov (Ron Morris ...</td>\n      <td>hockey</td>\n    </tr>\n    <tr>\n      <th>2</th>\n      <td>From: golchowy@alchemy.chem.utoronto.ca (Geral...</td>\n      <td>hockey</td>\n    </tr>\n    <tr>\n      <th>3</th>\n      <td>From: krattige@hpcc01.corp.hp.com (Kim Krattig...</td>\n      <td>baseball</td>\n    </tr>\n    <tr>\n      <th>4</th>\n      <td>From: warped@cs.montana.edu (Doug Dolven)\\nSub...</td>\n      <td>baseball</td>\n    </tr>\n  </tbody>\n</table>\n</div>"
     },
     "execution_count": 39,
     "metadata": {},
     "output_type": "execute_result"
    }
   ],
   "source": [
    "# 4.Using the model will demonstrate making requests to the fine-tuned model to get predictions.\n",
    "\n",
    "test = pd.read_json('sport2_prepared_valid.jsonl', lines=True)\n",
    "test.head()"
   ],
   "metadata": {
    "collapsed": false,
    "ExecuteTime": {
     "end_time": "2023-05-20T15:27:53.943092Z",
     "start_time": "2023-05-20T15:27:53.930703Z"
    }
   }
  },
  {
   "cell_type": "code",
   "execution_count": 40,
   "outputs": [
    {
     "data": {
      "text/plain": "' hockey'"
     },
     "execution_count": 40,
     "metadata": {},
     "output_type": "execute_result"
    }
   ],
   "source": [
    "ft_model = 'ada:ft-personal-2023-05-20-15-17-55'\n",
    "res = openai.Completion.create(model=ft_model, prompt=test['prompt'][0] + '\\n\\n###\\n\\n', max_tokens=1, temperature=0)\n",
    "res['choices'][0]['text']"
   ],
   "metadata": {
    "collapsed": false,
    "ExecuteTime": {
     "end_time": "2023-05-20T15:29:19.424690Z",
     "start_time": "2023-05-20T15:29:18.259328Z"
    }
   }
  },
  {
   "cell_type": "code",
   "execution_count": 41,
   "outputs": [
    {
     "data": {
      "text/plain": "<OpenAIObject at 0x29b5f44d0> JSON: {\n  \" Hockey\": -8.938456,\n  \" hockey\": -0.00019404522\n}"
     },
     "execution_count": 41,
     "metadata": {},
     "output_type": "execute_result"
    }
   ],
   "source": [
    "res = openai.Completion.create(model=ft_model, prompt=test['prompt'][0] + '\\n\\n###\\n\\n', max_tokens=1, temperature=0, logprobs=2)\n",
    "res['choices'][0]['logprobs']['top_logprobs'][0]"
   ],
   "metadata": {
    "collapsed": false,
    "ExecuteTime": {
     "end_time": "2023-05-20T15:29:30.105731Z",
     "start_time": "2023-05-20T15:29:29.739926Z"
    }
   }
  },
  {
   "cell_type": "code",
   "execution_count": 43,
   "outputs": [
    {
     "data": {
      "text/plain": "' hockey'"
     },
     "execution_count": 43,
     "metadata": {},
     "output_type": "execute_result"
    }
   ],
   "source": [
    "# 5. Generalization : Using the model on a different prompt. (Set 'Tweet' spec complete)\n",
    "\n",
    "# example 1\n",
    "sample_hockey_tweet = \"\"\"Thank you to the\n",
    "@Canes\n",
    " and all you amazing Caniacs that have been so supportive! You guys are some of the best fans in the NHL without a doubt! Really excited to start this new chapter in my career with the\n",
    "@DetroitRedWings\n",
    " !!\"\"\"\n",
    "res = openai.Completion.create(model=ft_model, prompt=sample_hockey_tweet + '\\n\\n###\\n\\n', max_tokens=1, temperature=0, logprobs=2)\n",
    "res['choices'][0]['text']"
   ],
   "metadata": {
    "collapsed": false,
    "ExecuteTime": {
     "end_time": "2023-05-20T15:31:49.739824Z",
     "start_time": "2023-05-20T15:31:49.330893Z"
    }
   }
  },
  {
   "cell_type": "code",
   "execution_count": 42,
   "outputs": [
    {
     "data": {
      "text/plain": "' baseball'"
     },
     "execution_count": 42,
     "metadata": {},
     "output_type": "execute_result"
    }
   ],
   "source": [
    "# example 2\n",
    "sample_baseball_tweet=\"\"\"BREAKING: The Tampa Bay Rays are finalizing a deal to acquire slugger Nelson Cruz from the Minnesota Twins, sources tell ESPN.\"\"\"\n",
    "res = openai.Completion.create(model=ft_model, prompt=sample_baseball_tweet + '\\n\\n###\\n\\n', max_tokens=1, temperature=0, logprobs=2)\n",
    "res['choices'][0]['text']"
   ],
   "metadata": {
    "collapsed": false,
    "ExecuteTime": {
     "end_time": "2023-05-20T15:31:47.511248Z",
     "start_time": "2023-05-20T15:31:46.882852Z"
    }
   }
  }
 ],
 "metadata": {
  "kernelspec": {
   "display_name": "Python 3",
   "language": "python",
   "name": "python3"
  },
  "language_info": {
   "codemirror_mode": {
    "name": "ipython",
    "version": 2
   },
   "file_extension": ".py",
   "mimetype": "text/x-python",
   "name": "python",
   "nbconvert_exporter": "python",
   "pygments_lexer": "ipython2",
   "version": "2.7.6"
  }
 },
 "nbformat": 4,
 "nbformat_minor": 0
}
