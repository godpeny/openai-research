{
 "cells": [
  {
   "cell_type": "code",
   "execution_count": 50,
   "outputs": [
    {
     "data": {
      "text/plain": "                  title                                         heading  \\\n0  2020 Summer Olympics                                         Summary   \n1  2020 Summer Olympics                             Host city selection   \n2  2020 Summer Olympics                 Impact of the COVID-19 pandemic   \n3  2020 Summer Olympics  Qualifying event cancellation and postponement   \n4  2020 Summer Olympics                          Effect on doping tests   \n\n                                             content  tokens  \\\n0  The 2020 Summer Olympics, officially the Games...     621   \n1  The International Olympic Committee (IOC) vote...     126   \n2  In January 2020, concerns were raised about th...     375   \n3  Concerns about the pandemic began to affect qu...     298   \n4  Mandatory doping tests were being severely res...     163   \n\n                                             context  \n0  2020 Summer Olympics\\nSummary\\n\\nThe 2020 Summ...  \n1  2020 Summer Olympics\\nHost city selection\\n\\nT...  \n2  2020 Summer Olympics\\nImpact of the COVID-19 p...  \n3  2020 Summer Olympics\\nQualifying event cancell...  \n4  2020 Summer Olympics\\nEffect on doping tests\\n...  ",
      "text/html": "<div>\n<style scoped>\n    .dataframe tbody tr th:only-of-type {\n        vertical-align: middle;\n    }\n\n    .dataframe tbody tr th {\n        vertical-align: top;\n    }\n\n    .dataframe thead th {\n        text-align: right;\n    }\n</style>\n<table border=\"1\" class=\"dataframe\">\n  <thead>\n    <tr style=\"text-align: right;\">\n      <th></th>\n      <th>title</th>\n      <th>heading</th>\n      <th>content</th>\n      <th>tokens</th>\n      <th>context</th>\n    </tr>\n  </thead>\n  <tbody>\n    <tr>\n      <th>0</th>\n      <td>2020 Summer Olympics</td>\n      <td>Summary</td>\n      <td>The 2020 Summer Olympics, officially the Games...</td>\n      <td>621</td>\n      <td>2020 Summer Olympics\\nSummary\\n\\nThe 2020 Summ...</td>\n    </tr>\n    <tr>\n      <th>1</th>\n      <td>2020 Summer Olympics</td>\n      <td>Host city selection</td>\n      <td>The International Olympic Committee (IOC) vote...</td>\n      <td>126</td>\n      <td>2020 Summer Olympics\\nHost city selection\\n\\nT...</td>\n    </tr>\n    <tr>\n      <th>2</th>\n      <td>2020 Summer Olympics</td>\n      <td>Impact of the COVID-19 pandemic</td>\n      <td>In January 2020, concerns were raised about th...</td>\n      <td>375</td>\n      <td>2020 Summer Olympics\\nImpact of the COVID-19 p...</td>\n    </tr>\n    <tr>\n      <th>3</th>\n      <td>2020 Summer Olympics</td>\n      <td>Qualifying event cancellation and postponement</td>\n      <td>Concerns about the pandemic began to affect qu...</td>\n      <td>298</td>\n      <td>2020 Summer Olympics\\nQualifying event cancell...</td>\n    </tr>\n    <tr>\n      <th>4</th>\n      <td>2020 Summer Olympics</td>\n      <td>Effect on doping tests</td>\n      <td>Mandatory doping tests were being severely res...</td>\n      <td>163</td>\n      <td>2020 Summer Olympics\\nEffect on doping tests\\n...</td>\n    </tr>\n  </tbody>\n</table>\n</div>"
     },
     "execution_count": 50,
     "metadata": {},
     "output_type": "execute_result"
    }
   ],
   "source": [
    "# Creating a synthetic Q&A dataset\n",
    "import pandas as pd\n",
    "df = pd.read_csv('olympics-data/mock_olympics_sections.csv')\n",
    "df['context'] = df.title + \"\\n\" + df.heading + \"\\n\\n\" + df.content\n",
    "df.head()"
   ],
   "metadata": {
    "collapsed": false,
    "ExecuteTime": {
     "end_time": "2023-05-27T13:30:50.302167Z",
     "start_time": "2023-05-27T13:30:50.294780Z"
    }
   }
  },
  {
   "cell_type": "code",
   "execution_count": 68,
   "outputs": [
    {
     "name": "stdout",
     "output_type": "stream",
     "text": [
      "[1/30]\n",
      " When were the 2020 Summer Olympics originally scheduled to take place?\n",
      "2. When was the event postponed to 2021?\n",
      "3. How much did the Games cost in total?\n",
      "4. Which city hosted the 2020 Summer Olympics for the second time?\n",
      "5. What new events were introduced in existing sports?\n",
      "6. What was the total medal count for the United States?\n",
      "7. What was the total medal count for China?\n",
      "8. What was the total medal count for Japan?\n",
      "9. What country won the most gold medals?\n",
      "10. What was the first-ever Olympic gold medal for Bermuda?\n",
      "[2/30]\n",
      " When did the IOC vote to select the host city of the 2020 Summer Olympics?\n",
      "2. Which city was eliminated in the first round of voting?\n",
      "3. Who won the final vote for the host city of the 2020 Summer Olympics?\n",
      "[3/30]\n",
      " What are the potential impacts of COVID-19 on the 2020 Summer Olympics?\n",
      "2. What did Tokyo organizers and the International Olympic Committee say about the potential impacts of COVID-19?\n",
      "3. What are the challenges posed by COVID-19 for the organizers of the Olympics?\n",
      "4. What did Conservative London mayoral candidate Shaun Bailey say about the potential impacts of COVID-19?\n",
      "5. What did Tokyo Governor Yuriko Koike say about Bailey's comment?\n",
      "6. What are the potential impacts of COVID-19 on the Olympic Games?\n",
      "7. What are the challenges posed by COVID-19 for the organizers of the Olympic Games?\n",
      "8. What are the potential impacts of COVID-19 on the Olympic Games?\n",
      "9. What are the challenges posed by COVID-19 for the organizers of the Olympic Games?\n",
      "10. What are the potential impacts of COVID-19 on the Olympic Games?\n",
      "[4/30]\n",
      " What qualifying events were moved to alternative locations?\n",
      "2. What was the original location of the Asia & Oceania boxing qualification tournament?\n",
      "3. When did the European boxing qualification begin?\n",
      "4. How many Olympic sports were affected by the pandemic?\n",
      "[5/30]\n",
      " What is the main concern with doping tests in relation to the 2020 Summer Olympics?\n",
      "2. When did the Chinese anti-doping agency stop testing?\n",
      "3. What was the main reason for the reduction in doping tests in other countries?\n",
      "[6/30]\n",
      " What did the Tokyo Organizing Committee of the Olympic and Paralympic Games (TOCOG) release on 2 March 2020?\n",
      "2. What did Canada and Australia indicate on 23 March?\n",
      "3. What did Japanese prime minister Shinzo Abe state on the same day?\n",
      "4. What did IOC president Thomas Bach respond to Prime Minister Abe's proposal?\n",
      "5. What was the new date for the 2020 Summer Olympics?\n",
      "6. What is the remit of the task force named \"Here We Go\"?\n",
      "[7/30]\n",
      " What did the then president of TOCOG and former Japanese prime minister, Yoshirō Mori, say about the 2020 Tokyo Olympics?\n",
      "2. What did Prime Minister Abe say about the Games going ahead?\n",
      "3. What did a member of the Japanese COVID-19 Advisory Committee on the basic action policy co-author in a British Medical Journal editorial?\n",
      "4. What did the Japanese government say about reports that the Games would have to be cancelled?\n",
      "5. What did an opinion poll in April 2021 see about support for the cancellation of the Games?\n",
      "6. What did Kenji Utsunomiya do to try and get the Games cancelled?\n",
      "7. What did Asahi Shimbun say in an editorial about the cancellation of the Olympics?\n",
      "8. How did the decision to hold the events behind closed doors affect local sponsors?\n",
      "[8/30]\n",
      " What is the estimated cost of delaying the 2020 Olympics by one year?\n",
      "2. What is the estimated cost of cancelling the Tokyo Olympics and Paralympics in 2021?\n",
      "3. What is the total amount of loss insured for the 2020 Games?\n",
      "4. What is the disruption caused by postponing the Games covered by the insurance policy?\n",
      "5. How much did the Tokyo Olympics Committee take out in insurance?\n",
      "6. How much of the payout from the insurance policy will be available to recoup the proceeds of lost and refunded ticket sales?\n",
      "[9/30]\n",
      " What did the poll find about Japanese citizens' attitudes towards the Tokyo Olympics?\n",
      "2. What did journalist Masaki Kubota report about the Japanese people's perspective on the Olympics?\n",
      "3. What was the cause of the sharp increase in COVID-19 cases in Japan after the Tokyo Olympics?\n",
      "[10/30]\n",
      " Who resigned from their position as head of the Tokyo Organizing Committee?\n",
      "2. Who replaced him?\n",
      "3. What was the cost of the new railway line?\n",
      "4. What expressways were being refurbished?\n",
      "5. What was the partnership with the International Labour Organization?\n",
      "6. What measures were agreed upon between the IOC and Tokyo Organizing Committee?\n",
      "7. What was the goal of these measures?\n",
      "[11/30]\n",
      " What is the National Stadium?\n",
      "2. What was the budget for the National Stadium?\n",
      "3. What was the original design for the National Stadium?\n",
      "4. What was the new design for the National Stadium?\n",
      "5. What is the Olympic Stadium?\n",
      "6. What is the budget for the Olympic Stadium?\n",
      "7. What was the original design for the Olympic Stadium?\n",
      "8. What was the new design for the Olympic Stadium?\n",
      "9. What are the competition venues in Tokyo?\n",
      "10. What is the budget for the competition venues in Tokyo?\n",
      "[12/30]\n",
      " What is the reason for the drone ban?\n",
      "2. What type of terrorist activity is being simulated in the counterterrorism drills?\n",
      "3. What is the Japan Coast Guard's role in the counterterrorism drills?\n",
      "[13/30]\n",
      " When were applications for volunteering at the 2020 Olympic and Paralympic Games accepted?\n",
      "2. How many applications had been received by the Tokyo Organizing Committee by 18 January 2019?\n",
      "3. When do interviews to select the requisite number of volunteers begin?\n",
      "4. What are the names of the two types of volunteers?\n",
      "5. Why did 10,000 out of the 80,000 registered volunteers resign from the Games?\n",
      "[14/30]\n",
      " What is the name of the company that created the recycling program?\n",
      "2. What is the name of the designer of the Olympic and Paralympic medals?\n",
      "3. What is the name of the material that the medals are made of?\n",
      "4. How many kilograms of bronze were collected?\n",
      "5. How many kilograms of silver were collected?\n",
      "6. When were the designs of the medals unveiled?\n",
      "[15/30]\n",
      " What was the slogan for the 2020 Summer Olympics torch relay?\n",
      "2. What was the first phase of the relay?\n",
      "3. Where did the torch go after the handover ceremony in Athens?\n",
      "4. What were the three most affected areas of the 2011 Tōhoku earthquake and tsunami?\n",
      "5. When did the relay end?\n",
      "6. Who lit the Olympic cauldron in the finale of the opening ceremony?\n",
      "[16/30]\n",
      " What are the COVID-19 biosecurity protocols for athletes, officials, the press, and other staff?\n",
      "2. What are the criticisms of the COVID-19 biosecurity protocols?\n",
      "3. What is the IOC's recommendation for athletes regarding vaccinations?\n",
      "4. What restrictions are in place for spectators?\n",
      "5. What is the status of the COVID-19 biosecurity protocols?\n",
      "[17/30]\n",
      " When were tickets for the 2020 Olympics expected to go on sale?\n",
      "2. What was the expected price range for tickets?\n",
      "3. What was the average ticket price?\n",
      "4. What was the maximum price for tickets?\n",
      "5. How many tickets were expected to be sold?\n",
      "6. How many shops were expected to sell tickets?\n",
      "7. How many people were expected to be able to purchase tickets?\n",
      "8. How many people were expected to be able to attend the Olympics?\n",
      "9. How many people were expected to be refunded?\n",
      "10. Why were no international guests allowed to attend the 2020 Olympics?\n",
      "[18/30]\n",
      " What is the Nippon Festival?\n",
      "2. What were the original plans for the Nippon Festival?\n",
      "3. What was the concert on 18 July?\n",
      "4. What were the original plans for the Kabuki x Opera concert?\n",
      "5. What was the arts and culture festival focusing on disabilities?\n",
      "6. What was the special two-day exhibition sumo tournament?\n",
      "[19/30]\n",
      " When was the opening ceremony for the 2020 Olympic Games?\n",
      "2. Who lit the Olympic cauldron in the opening ceremony?\n",
      "3. Why was a moment of silence observed in the opening ceremony for the victims of the Munich massacre?\n",
      "[20/30]\n",
      " What sports will be included in the 2020 Summer Olympics?\n",
      "2. What is the goal of the 2020 Summer Olympics?\n",
      "3. How many disciplines are in the 2020 Summer Olympics?\n",
      "4. What is the goal of the IOC?\n",
      "5. What is the goal of the Games?\n",
      "6. What is the goal of the organizers?\n",
      "7. What is the goal of the athletes?\n",
      "8. What is the goal of the spectators?\n",
      "9. What is the goal of the media?\n",
      "10. What is the goal of the sponsors?\n",
      "[21/30]\n",
      " What sports were removed from the Olympic program in 2013?\n",
      "2. Why was wrestling removed from the Olympic program?\n",
      "3. What sports were added to the Olympic program in 2013?\n",
      "4. What is the IOC's new approach to the Olympic program?\n",
      "5. What sports were added to the Olympic program in 2020?\n",
      "[22/30]\n",
      " What is the name of the event that was first held in September 2018?\n",
      "2. What is the name of the event that is scheduled to take place on 6 May 2020?\n",
      "3. Which events are organized by the Tokyo Organizing Committee?\n",
      "4. Which events were postponed due to COVID-19?\n",
      "[23/30]\n",
      " How many countries are competing in the 2020 Summer Olympics?\n",
      "2. How many of those countries have competed under a different name than the one they are known by now?\n",
      "3. How many countries have withdrawn from the 2020 Summer Olympics?\n",
      "4. How many of the countries that are competing have been sanctioned by the World Anti-Doping Agency?\n",
      "[24/30]\n",
      " What is the name of the composer of the music for the medal ceremonies?\n",
      "2. Why did the composer choose not to employ any musical elements distinctive to Japan?\n",
      "3. What did the bouquets presented to the athletes come from?\n",
      "4. What was the significance of the flowers chosen for the bouquets?\n",
      "[25/30]\n",
      " When were the 2020 Summer Olympics originally scheduled to take place?\n",
      "2. When were the Olympic events originally scheduled to take place?\n",
      "3. When was the schedule for the boxing events released?\n",
      "4. When were the Olympic events postponed?\n",
      "5. When will the Olympic events take place?\n",
      "[26/30]\n",
      " What is the historical precedent for swimming and figure skating events at the Olympics?\n",
      "2. Why were swimming finals held in the morning at the 2008 and 2012 Olympics?\n",
      "3. Why did NBC agree to a contract extension for the Olympics through 2032?\n",
      "4. How did Japanese broadcasters react to the decision to hold swimming finals in the morning?\n",
      "[27/30]\n",
      " What is the name of the designer of the 2020 Olympics and Paralympics emblems?\n",
      "2. What is the name of the official mascot of the 2020 Summer Olympics?\n",
      "3. What is the name of the slogan for the 2020 Summer Olympics?\n",
      "4. What does the slogan \"United by Emotion\" mean?\n",
      "5. What is the name of the artist who created the mascots for the 2020 Summer Olympics?\n",
      "6. What is the name of the final selection of the mascots for the 2020 Summer Olympics?\n",
      "7. What is the name of the legacy of the 2020 Summer Olympics?\n",
      "[28/30]\n",
      " What are the five colors used in the branding of the 2020 Games?\n",
      "2. What do the colors represent?\n",
      "3. How were the colors chosen?\n",
      "[29/30]\n",
      " What were some controversies that arose during the preparations for the Tokyo Games?\n",
      "2. What were some of the allegations against Tsunekazu Takeda?\n",
      "3. What was the reaction to the opening ceremony?\n",
      "4. What were some of the controversies that arose during the Games?\n",
      "5. What was the relationship between the IOC and WHO?\n",
      "6. What was the outcome of the FINA Ethics Panel decision?\n",
      "[30/30]\n",
      " What was the global broadcast audience for the 2020 Summer Olympics?\n",
      "2. How many video views did the Olympic Games Tokyo 2020 generate?\n",
      "3. What was the goal for 8K resolution television broadcasting for the 2020 Summer Olympics?\n",
      "4. Who were the official Olympic broadcast partners for the 2020 Summer Olympics?\n",
      "5. How did the United States Olympic & Paralympic Committee assert that a \"right of abatement\" clause in the contract for the 2020 Summer Olympics was triggered?\n",
      "6. What did NBCUniversal CEO Jeff Shell say about the Tokyo games?\n",
      "7. What did Eurosport debut as pay television rightsholder for the 2020 Summer Olympics?\n",
      "8. How did the 2020 Games fare for the BBC in the United Kingdom?\n",
      "9. What did France Télévisions do with its rights for the 2020 Summer Olympics?\n",
      "10. How did the 2020 Games fare for Seven Network in Australia?\n",
      "1.\n"
     ]
    }
   ],
   "source": [
    "# use 'olympics-data/mock_olympics_sections.csv' to generate questions instead of 'olympics_sections.csv'\n",
    "# it takes a while to run and billing on openai api.\n",
    "import os\n",
    "import openai\n",
    "from dotenv import load_dotenv\n",
    "\n",
    "load_dotenv()\n",
    "openai.api_key = os.getenv(\"OPENAI_API_KEY\")\n",
    "\n",
    "# generating questions based on the data.\n",
    "def get_questions(row):\n",
    "    print(\"[\"+ str(row.name + 1) + \"/\" + str(len(df)) + \"]\") # log to see progress\n",
    "\n",
    "    try:\n",
    "        # https://platform.openai.com/docs/api-reference/completions/create\n",
    "        response = openai.Completion.create(\n",
    "            engine=\"davinci-instruct-beta-v3\",\n",
    "            prompt=f\"Write questions based on the text below\\n\\nText: {row.context}\\n\\nQuestions:\\n1.\",\n",
    "            temperature=0,\n",
    "            max_tokens=257,\n",
    "            top_p=1,\n",
    "            frequency_penalty=0,\n",
    "            presence_penalty=0,\n",
    "            stop=[\"\\n\\n\"]\n",
    "        )\n",
    "        print(response['choices'][0]['text'])\n",
    "        return response['choices'][0]['texta']\n",
    "    except:\n",
    "        return \"\"\n",
    "\n",
    "\n",
    "df['questions']= df.apply(get_questions, axis=1)\n",
    "df['questions'] = \"1.\" + df.questions\n",
    "print(df[['questions']].values[0][0])"
   ],
   "metadata": {
    "collapsed": false,
    "ExecuteTime": {
     "end_time": "2023-05-27T14:02:32.243186Z",
     "start_time": "2023-05-27T14:01:50.428568Z"
    }
   }
  },
  {
   "cell_type": "code",
   "execution_count": 12,
   "outputs": [
    {
     "name": "stdout",
     "output_type": "stream",
     "text": [
      "The 2020 Summer Olympics, officially the Games of the XXXII Olympiad and also known as Tokyo 2020, was an international multi-sport event held from 23 July to 8 August 2021 in Tokyo, Japan, with some preliminary events that began on 21 July 2021. Tokyo was selected as the host city during the 125th IOC Session in Buenos Aires, Argentina, on 7 September 2013.Originally scheduled to take place from 24 July to 9 August 2020, the event was postponed to 2021 on 24 March 2020 due to the global COVID-19 pandemic, the first such instance in the history of the Olympic Games (previous games had been cancelled but not rescheduled). However, the event retained the Tokyo 2020 branding for marketing purposes. It was largely held behind closed doors with no public spectators permitted due to the declaration of a state of emergency in the Greater Tokyo Area in response to the pandemic, the first and only Olympic Games to be held without official spectators. The Games were the most expensive ever, with total spending of over $20 billion.The Games were the fourth Olympic Games to be held in Japan, following the 1964 Summer Olympics (Tokyo), 1972 Winter Olympics (Sapporo), and 1998 Winter Olympics (Nagano). Tokyo became the first city in Asia to hold the Summer Olympic Games twice. The 2020 Games were the second of three consecutive Olympics to be held in East Asia, following the 2018 Winter Olympics in Pyeongchang, South Korea and preceding the 2022 Winter Olympics in Beijing, China. Due to the one-year postponement, Tokyo 2020 was the first and only Olympic Games to have been held in an odd-numbered year and the first Summer Olympics since 1900 to be held in a non-leap year.\n",
      "New events were introduced in existing sports, including 3x3 basketball, freestyle BMX and mixed gender team events in a number of existing sports, as well as the return of madison cycling for men and an introduction of the same event for women. New IOC policies also allowed the host organizing committee to add new sports to the Olympic program for just one Games. The disciplines added by the Japanese Olympic Committee were baseball and softball, karate, sport climbing, surfing and skateboarding, the last four of which made their Olympic debuts, and the last three of which will remain on the Olympic program.The United States topped the medal count by both total golds (39) and total medals (113), with China finishing second by both respects (38 and 89). Host nation Japan finished third, setting a record for the most gold medals and total medals ever won by their delegation at an Olympic Games with 27 and 58. Great Britain finished fourth, with a total of 22 gold and 64 medals. The Russian delegation competing as the ROC finished fifth with 20 gold medals and third in the overall medal count, with 71 medals. Bermuda, the Philippines and Qatar won their first-ever Olympic gold medals. Burkina Faso, San Marino and Turkmenistan also won their first-ever Olympic medals.\n"
     ]
    }
   ],
   "source": [
    "print(df.content.values[0])"
   ],
   "metadata": {
    "collapsed": false,
    "ExecuteTime": {
     "end_time": "2023-05-27T12:08:37.926347Z",
     "start_time": "2023-05-27T12:08:37.920909Z"
    }
   }
  },
  {
   "cell_type": "code",
   "execution_count": 69,
   "outputs": [
    {
     "name": "stdout",
     "output_type": "stream",
     "text": [
      "1. The 2020 Summer Olympics were an international multi-sport event held from 23 July to 8 August 2021 in Tokyo, Japan.\n",
      "2. Originally scheduled to take place from 24 July to 9 August 2020, the event was postponed to 2021 on 24 March 2020 due to the global COVID-19 pandemic.\n",
      "3. The Games were the most expensive ever, with total spending of over $20 billion.\n",
      "4. The Games were the fourth Olympic Games to be held in Japan, following the 1964 Summer Olympics (Tokyo), 1972 Winter Olympics (Sapporo), and 1998 Winter Olympics (Nagano).\n",
      "5. Tokyo became the first city in Asia to hold the Summer Olympic Games twice.\n",
      "6. The 2020 Games were the second of three consecutive Olympics to be held in East Asia, following the 2018 Winter Olympics in Pyeongchang, South Korea and preceding the 2022 Winter Olympics in Beijing, China.\n",
      "7. Due to the one-year postponement, Tokyo 2020 was the first and only Olympic Games to have been held in an odd-numbered year and the first Summer Olympics since 1900 to be held in a non-leap year.\n",
      "8. New events were introduced in existing sports, including 3x3 basketball, freestyle BMX\n"
     ]
    }
   ],
   "source": [
    "# Create answers based on the context\n",
    "def get_answers(row):\n",
    "    try:\n",
    "        response = openai.Completion.create(\n",
    "            engine=\"davinci-instruct-beta-v3\",\n",
    "            prompt=f\"Write answer based on the text below\\n\\nText: {row.context}\\n\\nQuestions:\\n{row.questions}\\n\\nAnswers:\\n1.\",\n",
    "            temperature=0,\n",
    "            max_tokens=257,\n",
    "            top_p=1,\n",
    "            frequency_penalty=0,\n",
    "            presence_penalty=0\n",
    "        )\n",
    "        return response['choices'][0]['text']\n",
    "    except Exception as e:\n",
    "        print (e)\n",
    "        return \"\"\n",
    "\n",
    "\n",
    "df['answers']= df.apply(get_answers, axis=1)\n",
    "df['answers'] = \"1.\" + df.answers\n",
    "df = df.dropna().reset_index().drop('index',axis=1)\n",
    "print(df[['answers']].values[0][0])"
   ],
   "metadata": {
    "collapsed": false,
    "ExecuteTime": {
     "end_time": "2023-05-27T14:20:42.449587Z",
     "start_time": "2023-05-27T14:19:51.017016Z"
    }
   }
  },
  {
   "cell_type": "code",
   "execution_count": 70,
   "outputs": [],
   "source": [
    "# Save the Olympics Q&A dataset based on Wikipedia sections\n",
    "# Change file name when using 'olympics_sections.csv'\n",
    "df.to_csv('olympics-data/mock_olympics_qa.csv', index=False)"
   ],
   "metadata": {
    "collapsed": false,
    "ExecuteTime": {
     "end_time": "2023-05-27T14:20:56.757100Z",
     "start_time": "2023-05-27T14:20:56.742682Z"
    }
   }
  },
  {
   "cell_type": "code",
   "execution_count": 71,
   "outputs": [
    {
     "ename": "InvalidRequestError",
     "evalue": "'search' is not one of ['fine-tune'] - 'purpose'",
     "output_type": "error",
     "traceback": [
      "\u001B[0;31m---------------------------------------------------------------------------\u001B[0m",
      "\u001B[0;31mInvalidRequestError\u001B[0m                       Traceback (most recent call last)",
      "Cell \u001B[0;32mIn[71], line 4\u001B[0m\n\u001B[1;32m      1\u001B[0m df \u001B[38;5;241m=\u001B[39m df[df\u001B[38;5;241m.\u001B[39mtokens\u001B[38;5;241m<\u001B[39m\u001B[38;5;241m2000\u001B[39m]\n\u001B[1;32m      2\u001B[0m df[[\u001B[38;5;124m'\u001B[39m\u001B[38;5;124mcontext\u001B[39m\u001B[38;5;124m'\u001B[39m, \u001B[38;5;124m'\u001B[39m\u001B[38;5;124mtokens\u001B[39m\u001B[38;5;124m'\u001B[39m]]\u001B[38;5;241m.\u001B[39mrename(columns\u001B[38;5;241m=\u001B[39m{\u001B[38;5;124m'\u001B[39m\u001B[38;5;124mcontext\u001B[39m\u001B[38;5;124m'\u001B[39m:\u001B[38;5;124m'\u001B[39m\u001B[38;5;124mtext\u001B[39m\u001B[38;5;124m'\u001B[39m,\u001B[38;5;124m'\u001B[39m\u001B[38;5;124mtokens\u001B[39m\u001B[38;5;124m'\u001B[39m:\u001B[38;5;124m'\u001B[39m\u001B[38;5;124mmetadata\u001B[39m\u001B[38;5;124m'\u001B[39m})\u001B[38;5;241m.\u001B[39mto_json(\u001B[38;5;124m'\u001B[39m\u001B[38;5;124molympics-data/olympics_search.jsonl\u001B[39m\u001B[38;5;124m'\u001B[39m, orient\u001B[38;5;241m=\u001B[39m\u001B[38;5;124m'\u001B[39m\u001B[38;5;124mrecords\u001B[39m\u001B[38;5;124m'\u001B[39m, lines\u001B[38;5;241m=\u001B[39m\u001B[38;5;28;01mTrue\u001B[39;00m)\n\u001B[0;32m----> 4\u001B[0m search_file \u001B[38;5;241m=\u001B[39m \u001B[43mopenai\u001B[49m\u001B[38;5;241;43m.\u001B[39;49m\u001B[43mFile\u001B[49m\u001B[38;5;241;43m.\u001B[39;49m\u001B[43mcreate\u001B[49m\u001B[43m(\u001B[49m\n\u001B[1;32m      5\u001B[0m \u001B[43m    \u001B[49m\u001B[43mfile\u001B[49m\u001B[38;5;241;43m=\u001B[39;49m\u001B[38;5;28;43mopen\u001B[39;49m\u001B[43m(\u001B[49m\u001B[38;5;124;43m\"\u001B[39;49m\u001B[38;5;124;43molympics-data/olympics_search.jsonl\u001B[39;49m\u001B[38;5;124;43m\"\u001B[39;49m\u001B[43m)\u001B[49m\u001B[43m,\u001B[49m\n\u001B[1;32m      6\u001B[0m \u001B[43m    \u001B[49m\u001B[43mpurpose\u001B[49m\u001B[38;5;241;43m=\u001B[39;49m\u001B[38;5;124;43m'\u001B[39;49m\u001B[38;5;124;43msearch\u001B[39;49m\u001B[38;5;124;43m'\u001B[39;49m\n\u001B[1;32m      7\u001B[0m \u001B[43m)\u001B[49m\n\u001B[1;32m      8\u001B[0m olympics_search_fileid \u001B[38;5;241m=\u001B[39m search_file[\u001B[38;5;124m'\u001B[39m\u001B[38;5;124mid\u001B[39m\u001B[38;5;124m'\u001B[39m]\n",
      "File \u001B[0;32m~/Code/venv/openai-research/lib/python3.11/site-packages/openai/api_resources/file.py:84\u001B[0m, in \u001B[0;36mFile.create\u001B[0;34m(cls, file, purpose, model, api_key, api_base, api_type, api_version, organization, user_provided_filename)\u001B[0m\n\u001B[1;32m     60\u001B[0m \u001B[38;5;129m@classmethod\u001B[39m\n\u001B[1;32m     61\u001B[0m \u001B[38;5;28;01mdef\u001B[39;00m \u001B[38;5;21mcreate\u001B[39m(\n\u001B[1;32m     62\u001B[0m     \u001B[38;5;28mcls\u001B[39m,\n\u001B[0;32m   (...)\u001B[0m\n\u001B[1;32m     71\u001B[0m     user_provided_filename\u001B[38;5;241m=\u001B[39m\u001B[38;5;28;01mNone\u001B[39;00m,\n\u001B[1;32m     72\u001B[0m ):\n\u001B[1;32m     73\u001B[0m     requestor, url, files \u001B[38;5;241m=\u001B[39m \u001B[38;5;28mcls\u001B[39m\u001B[38;5;241m.\u001B[39m__prepare_file_create(\n\u001B[1;32m     74\u001B[0m         file,\n\u001B[1;32m     75\u001B[0m         purpose,\n\u001B[0;32m   (...)\u001B[0m\n\u001B[1;32m     82\u001B[0m         user_provided_filename,\n\u001B[1;32m     83\u001B[0m     )\n\u001B[0;32m---> 84\u001B[0m     response, _, api_key \u001B[38;5;241m=\u001B[39m \u001B[43mrequestor\u001B[49m\u001B[38;5;241;43m.\u001B[39;49m\u001B[43mrequest\u001B[49m\u001B[43m(\u001B[49m\u001B[38;5;124;43m\"\u001B[39;49m\u001B[38;5;124;43mpost\u001B[39;49m\u001B[38;5;124;43m\"\u001B[39;49m\u001B[43m,\u001B[49m\u001B[43m \u001B[49m\u001B[43murl\u001B[49m\u001B[43m,\u001B[49m\u001B[43m \u001B[49m\u001B[43mfiles\u001B[49m\u001B[38;5;241;43m=\u001B[39;49m\u001B[43mfiles\u001B[49m\u001B[43m)\u001B[49m\n\u001B[1;32m     85\u001B[0m     \u001B[38;5;28;01mreturn\u001B[39;00m util\u001B[38;5;241m.\u001B[39mconvert_to_openai_object(\n\u001B[1;32m     86\u001B[0m         response, api_key, api_version, organization\n\u001B[1;32m     87\u001B[0m     )\n",
      "File \u001B[0;32m~/Code/venv/openai-research/lib/python3.11/site-packages/openai/api_requestor.py:230\u001B[0m, in \u001B[0;36mAPIRequestor.request\u001B[0;34m(self, method, url, params, headers, files, stream, request_id, request_timeout)\u001B[0m\n\u001B[1;32m    209\u001B[0m \u001B[38;5;28;01mdef\u001B[39;00m \u001B[38;5;21mrequest\u001B[39m(\n\u001B[1;32m    210\u001B[0m     \u001B[38;5;28mself\u001B[39m,\n\u001B[1;32m    211\u001B[0m     method,\n\u001B[0;32m   (...)\u001B[0m\n\u001B[1;32m    218\u001B[0m     request_timeout: Optional[Union[\u001B[38;5;28mfloat\u001B[39m, Tuple[\u001B[38;5;28mfloat\u001B[39m, \u001B[38;5;28mfloat\u001B[39m]]] \u001B[38;5;241m=\u001B[39m \u001B[38;5;28;01mNone\u001B[39;00m,\n\u001B[1;32m    219\u001B[0m ) \u001B[38;5;241m-\u001B[39m\u001B[38;5;241m>\u001B[39m Tuple[Union[OpenAIResponse, Iterator[OpenAIResponse]], \u001B[38;5;28mbool\u001B[39m, \u001B[38;5;28mstr\u001B[39m]:\n\u001B[1;32m    220\u001B[0m     result \u001B[38;5;241m=\u001B[39m \u001B[38;5;28mself\u001B[39m\u001B[38;5;241m.\u001B[39mrequest_raw(\n\u001B[1;32m    221\u001B[0m         method\u001B[38;5;241m.\u001B[39mlower(),\n\u001B[1;32m    222\u001B[0m         url,\n\u001B[0;32m   (...)\u001B[0m\n\u001B[1;32m    228\u001B[0m         request_timeout\u001B[38;5;241m=\u001B[39mrequest_timeout,\n\u001B[1;32m    229\u001B[0m     )\n\u001B[0;32m--> 230\u001B[0m     resp, got_stream \u001B[38;5;241m=\u001B[39m \u001B[38;5;28;43mself\u001B[39;49m\u001B[38;5;241;43m.\u001B[39;49m\u001B[43m_interpret_response\u001B[49m\u001B[43m(\u001B[49m\u001B[43mresult\u001B[49m\u001B[43m,\u001B[49m\u001B[43m \u001B[49m\u001B[43mstream\u001B[49m\u001B[43m)\u001B[49m\n\u001B[1;32m    231\u001B[0m     \u001B[38;5;28;01mreturn\u001B[39;00m resp, got_stream, \u001B[38;5;28mself\u001B[39m\u001B[38;5;241m.\u001B[39mapi_key\n",
      "File \u001B[0;32m~/Code/venv/openai-research/lib/python3.11/site-packages/openai/api_requestor.py:624\u001B[0m, in \u001B[0;36mAPIRequestor._interpret_response\u001B[0;34m(self, result, stream)\u001B[0m\n\u001B[1;32m    616\u001B[0m     \u001B[38;5;28;01mreturn\u001B[39;00m (\n\u001B[1;32m    617\u001B[0m         \u001B[38;5;28mself\u001B[39m\u001B[38;5;241m.\u001B[39m_interpret_response_line(\n\u001B[1;32m    618\u001B[0m             line, result\u001B[38;5;241m.\u001B[39mstatus_code, result\u001B[38;5;241m.\u001B[39mheaders, stream\u001B[38;5;241m=\u001B[39m\u001B[38;5;28;01mTrue\u001B[39;00m\n\u001B[1;32m    619\u001B[0m         )\n\u001B[1;32m    620\u001B[0m         \u001B[38;5;28;01mfor\u001B[39;00m line \u001B[38;5;129;01min\u001B[39;00m parse_stream(result\u001B[38;5;241m.\u001B[39miter_lines())\n\u001B[1;32m    621\u001B[0m     ), \u001B[38;5;28;01mTrue\u001B[39;00m\n\u001B[1;32m    622\u001B[0m \u001B[38;5;28;01melse\u001B[39;00m:\n\u001B[1;32m    623\u001B[0m     \u001B[38;5;28;01mreturn\u001B[39;00m (\n\u001B[0;32m--> 624\u001B[0m         \u001B[38;5;28;43mself\u001B[39;49m\u001B[38;5;241;43m.\u001B[39;49m\u001B[43m_interpret_response_line\u001B[49m\u001B[43m(\u001B[49m\n\u001B[1;32m    625\u001B[0m \u001B[43m            \u001B[49m\u001B[43mresult\u001B[49m\u001B[38;5;241;43m.\u001B[39;49m\u001B[43mcontent\u001B[49m\u001B[38;5;241;43m.\u001B[39;49m\u001B[43mdecode\u001B[49m\u001B[43m(\u001B[49m\u001B[38;5;124;43m\"\u001B[39;49m\u001B[38;5;124;43mutf-8\u001B[39;49m\u001B[38;5;124;43m\"\u001B[39;49m\u001B[43m)\u001B[49m\u001B[43m,\u001B[49m\n\u001B[1;32m    626\u001B[0m \u001B[43m            \u001B[49m\u001B[43mresult\u001B[49m\u001B[38;5;241;43m.\u001B[39;49m\u001B[43mstatus_code\u001B[49m\u001B[43m,\u001B[49m\n\u001B[1;32m    627\u001B[0m \u001B[43m            \u001B[49m\u001B[43mresult\u001B[49m\u001B[38;5;241;43m.\u001B[39;49m\u001B[43mheaders\u001B[49m\u001B[43m,\u001B[49m\n\u001B[1;32m    628\u001B[0m \u001B[43m            \u001B[49m\u001B[43mstream\u001B[49m\u001B[38;5;241;43m=\u001B[39;49m\u001B[38;5;28;43;01mFalse\u001B[39;49;00m\u001B[43m,\u001B[49m\n\u001B[1;32m    629\u001B[0m \u001B[43m        \u001B[49m\u001B[43m)\u001B[49m,\n\u001B[1;32m    630\u001B[0m         \u001B[38;5;28;01mFalse\u001B[39;00m,\n\u001B[1;32m    631\u001B[0m     )\n",
      "File \u001B[0;32m~/Code/venv/openai-research/lib/python3.11/site-packages/openai/api_requestor.py:687\u001B[0m, in \u001B[0;36mAPIRequestor._interpret_response_line\u001B[0;34m(self, rbody, rcode, rheaders, stream)\u001B[0m\n\u001B[1;32m    685\u001B[0m stream_error \u001B[38;5;241m=\u001B[39m stream \u001B[38;5;129;01mand\u001B[39;00m \u001B[38;5;124m\"\u001B[39m\u001B[38;5;124merror\u001B[39m\u001B[38;5;124m\"\u001B[39m \u001B[38;5;129;01min\u001B[39;00m resp\u001B[38;5;241m.\u001B[39mdata\n\u001B[1;32m    686\u001B[0m \u001B[38;5;28;01mif\u001B[39;00m stream_error \u001B[38;5;129;01mor\u001B[39;00m \u001B[38;5;129;01mnot\u001B[39;00m \u001B[38;5;241m200\u001B[39m \u001B[38;5;241m<\u001B[39m\u001B[38;5;241m=\u001B[39m rcode \u001B[38;5;241m<\u001B[39m \u001B[38;5;241m300\u001B[39m:\n\u001B[0;32m--> 687\u001B[0m     \u001B[38;5;28;01mraise\u001B[39;00m \u001B[38;5;28mself\u001B[39m\u001B[38;5;241m.\u001B[39mhandle_error_response(\n\u001B[1;32m    688\u001B[0m         rbody, rcode, resp\u001B[38;5;241m.\u001B[39mdata, rheaders, stream_error\u001B[38;5;241m=\u001B[39mstream_error\n\u001B[1;32m    689\u001B[0m     )\n\u001B[1;32m    690\u001B[0m \u001B[38;5;28;01mreturn\u001B[39;00m resp\n",
      "\u001B[0;31mInvalidRequestError\u001B[0m: 'search' is not one of ['fine-tune'] - 'purpose'"
     ]
    }
   ],
   "source": [
    "# DEPRECATED: The /search endpoint is deprecated in favour of using embeddings. Embeddings are cheaper, faster and can support a better search experience. See Question Answering Guide for a search implementation using the embeddings\n",
    "df = df[df.tokens<2000]\n",
    "df[['context', 'tokens']].rename(columns={'context':'text','tokens':'metadata'}).to_json('olympics-data/olympics_search.jsonl', orient='records', lines=True)\n",
    "\n",
    "search_file = openai.File.create(\n",
    "    file=open(\"olympics-data/olympics_search.jsonl\"),\n",
    "    purpose='search'\n",
    ")\n",
    "olympics_search_fileid = search_file['id']"
   ],
   "metadata": {
    "collapsed": false,
    "ExecuteTime": {
     "end_time": "2023-05-27T14:36:05.495553Z",
     "start_time": "2023-05-27T14:36:04.953553Z"
    }
   }
  },
  {
   "cell_type": "code",
   "execution_count": null,
   "outputs": [],
   "source": [
    "# Since 'Search' API is deprecated, example ends here.\n",
    "# Use Embedding method instead.\n",
    "# https://github.com/openai/openai-cookbook/blob/main/examples/Question_answering_using_embeddings.ipynb"
   ],
   "metadata": {
    "collapsed": false
   }
  }
 ],
 "metadata": {
  "kernelspec": {
   "display_name": "Python 3",
   "language": "python",
   "name": "python3"
  },
  "language_info": {
   "codemirror_mode": {
    "name": "ipython",
    "version": 2
   },
   "file_extension": ".py",
   "mimetype": "text/x-python",
   "name": "python",
   "nbconvert_exporter": "python",
   "pygments_lexer": "ipython2",
   "version": "2.7.6"
  }
 },
 "nbformat": 4,
 "nbformat_minor": 0
}
