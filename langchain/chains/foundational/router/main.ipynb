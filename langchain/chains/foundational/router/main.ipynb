{
 "cells": [
  {
   "cell_type": "code",
   "execution_count": 43,
   "id": "initial_id",
   "metadata": {
    "collapsed": true,
    "ExecuteTime": {
     "end_time": "2023-08-06T15:04:50.027889Z",
     "start_time": "2023-08-06T15:04:50.025783Z"
    }
   },
   "outputs": [],
   "source": [
    "\"\"\" import \"\"\"\n",
    "import os\n",
    "from dotenv import load_dotenv\n",
    "\n",
    "import openai\n",
    "\n",
    "from langchain import OpenAI, LLMChain, PromptTemplate\n",
    "from langchain.chat_models import ChatOpenAI\n",
    "from langchain.chains import ( SequentialChain, SimpleSequentialChain )\n",
    "from langchain.memory import SimpleMemory"
   ]
  },
  {
   "cell_type": "code",
   "execution_count": 31,
   "outputs": [],
   "source": [
    "\"\"\" set OpenAI API key \"\"\"\n",
    "load_dotenv(dotenv_path=\"../../../.env\")\n",
    "openai.api_key = os.getenv(\"OPENAI_API_KEY\")\n",
    "\n",
    "llm = OpenAI(openai_api_key=openai.api_key, temperature=0.9)\n",
    "chat = ChatOpenAI(openai_api_key=openai.api_key, temperature=0.9)"
   ],
   "metadata": {
    "collapsed": false,
    "ExecuteTime": {
     "end_time": "2023-08-06T14:51:53.267436Z",
     "start_time": "2023-08-06T14:51:53.237571Z"
    }
   },
   "id": "38ea5c0324813853"
  },
  {
   "cell_type": "code",
   "execution_count": 34,
   "outputs": [],
   "source": [
    "\"\"\" \n",
    "Sequential\n",
    "make a series of calls to a language model. \n",
    "This is particularly useful when you want to take the output from one call and use it as the input to another.\n",
    "\"\"\"\n",
    "\n",
    "# This is an LLMChain to write a synopsis given a title of a play.\n",
    "template = \"\"\"You are a playwright. Given the title of play, it is your job to write a synopsis for that title.\n",
    "\n",
    "Title: {title}\n",
    "Playwright: This is a synopsis for the above play:\"\"\"\n",
    "\n",
    "prompt_template = PromptTemplate(input_variables=[\"title\"], template=template)\n",
    "synopsis_chain = LLMChain(llm=llm, prompt=prompt_template)\n",
    "\n",
    "# This is an LLMChain to write a review of a play given a synopsis.\n",
    "template = \"\"\"You are a play critic from the New York Times. Given the synopsis of play, it is your job to write a review for that play.\n",
    "\n",
    "Play Synopsis:\n",
    "{synopsis}\n",
    "Review from a New York Times play critic of the above play:\"\"\"\n",
    "\n",
    "prompt_template = PromptTemplate(input_variables=[\"synopsis\"], template=template)\n",
    "review_chain = LLMChain(llm=llm, prompt=prompt_template)"
   ],
   "metadata": {
    "collapsed": false,
    "ExecuteTime": {
     "end_time": "2023-08-06T14:52:14.705477Z",
     "start_time": "2023-08-06T14:52:14.699984Z"
    }
   },
   "id": "60fe5d17dbe23da6"
  },
  {
   "cell_type": "code",
   "execution_count": 35,
   "outputs": [
    {
     "name": "stdout",
     "output_type": "stream",
     "text": [
      "\n",
      "\n",
      "\u001B[1m> Entering new SimpleSequentialChain chain...\u001B[0m\n",
      "\u001B[36;1m\u001B[1;3m\n",
      "\n",
      "Tragedy at Sunset on the Beach is a heart-wrenching story of love and loss set on a beach on the last day of summer. Two lifelong friends, John and Sarah, have been in love since they were children, but their relationship has been kept hidden from the world. On this fateful day, they finally decide to take the plunge and make their relationship public. Unfortunately, tragedy strikes before they can make it official, and John is taken from Sarah far too soon. The story follows Sarah as she grieves John's loss and tries to make sense of this sudden tragedy. Along the way, she comes to understand the depth of her love for John and how precious life can be. Ultimately, Tragedy at Sunset on the Beach is a bittersweet story of love and the fragility of life.\u001B[0m\n",
      "\u001B[33;1m\u001B[1;3m\n",
      "\n",
      "Tragedy at Sunset on the Beach is a beautiful and heartbreaking story that will have you in tears from beginning to end. John and Sarah's story of love, loss, and grief is told with emotion and depth rarely seen on stage. The actors' performances capture the tragedy of the situation, allowing the audience to feel the pain and sorrow of the characters. The script is both lyrical and powerful, offering a unique take on the idea of unrequited love. \n",
      "\n",
      "The set design is also noteworthy, helping to create a beautiful and tranquil backdrop for this moving story. The setting of the beach really adds to the drama of the play, serving as the last hurrah for John and Sarah's relationship. The play is ultimately a reminder of the preciousness of life and love and how fragile they can be. \n",
      "\n",
      "Tragedy at Sunset on the Beach is a powerful and moving play that will stay with you long after you leave the theatre. It is a must-see for anyone who is a fan of romance, tragedy, and the power of love.\u001B[0m\n",
      "\n",
      "\u001B[1m> Finished chain.\u001B[0m\n"
     ]
    }
   ],
   "source": [
    "\"\"\"\n",
    "SimpleSequentialChain\n",
    "the simplest form of sequential chains, where each step has a singular input/output, and the output of one step is the input to the next.\n",
    "\"\"\"\n",
    "overall_chain = SimpleSequentialChain(chains=[synopsis_chain, review_chain], verbose=True)\n",
    "\n",
    "review = overall_chain.run(\"Tragedy at sunset on the beach\")"
   ],
   "metadata": {
    "collapsed": false,
    "ExecuteTime": {
     "end_time": "2023-08-06T14:52:35.882955Z",
     "start_time": "2023-08-06T14:52:24.010906Z"
    }
   },
   "id": "aa31206a73023a32"
  },
  {
   "cell_type": "code",
   "execution_count": 36,
   "outputs": [
    {
     "name": "stdout",
     "output_type": "stream",
     "text": [
      "\n",
      "\n",
      "Tragedy at Sunset on the Beach is a beautiful and heartbreaking story that will have you in tears from beginning to end. John and Sarah's story of love, loss, and grief is told with emotion and depth rarely seen on stage. The actors' performances capture the tragedy of the situation, allowing the audience to feel the pain and sorrow of the characters. The script is both lyrical and powerful, offering a unique take on the idea of unrequited love. \n",
      "\n",
      "The set design is also noteworthy, helping to create a beautiful and tranquil backdrop for this moving story. The setting of the beach really adds to the drama of the play, serving as the last hurrah for John and Sarah's relationship. The play is ultimately a reminder of the preciousness of life and love and how fragile they can be. \n",
      "\n",
      "Tragedy at Sunset on the Beach is a powerful and moving play that will stay with you long after you leave the theatre. It is a must-see for anyone who is a fan of romance, tragedy, and the power of love.\n"
     ]
    }
   ],
   "source": [
    "print(review) # review of self-made synopsis"
   ],
   "metadata": {
    "collapsed": false,
    "ExecuteTime": {
     "end_time": "2023-08-06T14:53:41.285649Z",
     "start_time": "2023-08-06T14:53:41.278017Z"
    }
   },
   "id": "204e90fbaf045d"
  },
  {
   "cell_type": "code",
   "execution_count": 39,
   "outputs": [],
   "source": [
    "\"\"\"\n",
    "SequentialChain\n",
    "more complex chains that involve multiple inputs, and where there also multiple final outputs\n",
    "\"\"\"\n",
    "\n",
    "# This is an LLMChain to write a synopsis given a title of a play and the era it is set in.\n",
    "llm = OpenAI(temperature=.7)\n",
    "template = \"\"\"You are a playwright. Given the title of play and the era it is set in, it is your job to write a synopsis for that title.\n",
    "\n",
    "Title: {title}\n",
    "Era: {era}\n",
    "Playwright: This is a synopsis for the above play:\"\"\"\n",
    "prompt_template = PromptTemplate(input_variables=[\"title\", \"era\"], template=template)\n",
    "synopsis_chain = LLMChain(llm=llm, prompt=prompt_template, output_key=\"synopsis\")\n",
    "\n",
    "# This is an LLMChain to write a review of a play given a synopsis.\n",
    "llm = OpenAI(temperature=.7)\n",
    "template = \"\"\"You are a play critic from the New York Times. Given the synopsis of play, it is your job to write a review for that play.\n",
    "\n",
    "Play Synopsis:\n",
    "{synopsis}\n",
    "Review from a New York Times play critic of the above play:\"\"\"\n",
    "prompt_template = PromptTemplate(input_variables=[\"synopsis\"], template=template)\n",
    "review_chain = LLMChain(llm=llm, prompt=prompt_template, output_key=\"review\")"
   ],
   "metadata": {
    "collapsed": false,
    "ExecuteTime": {
     "end_time": "2023-08-06T14:58:55.830959Z",
     "start_time": "2023-08-06T14:58:55.824541Z"
    }
   },
   "id": "fd8978f364e79ec6"
  },
  {
   "cell_type": "code",
   "execution_count": 42,
   "outputs": [
    {
     "name": "stdout",
     "output_type": "stream",
     "text": [
      "\n",
      "\n",
      "\u001B[1m> Entering new SequentialChain chain...\u001B[0m\n",
      "\n",
      "\u001B[1m> Finished chain.\u001B[0m\n"
     ]
    },
    {
     "data": {
      "text/plain": "{'title': 'Tragedy at sunset on the beach',\n 'era': 'Victorian England',\n 'synopsis': \"\\n\\nTragedy at Sunset on the Beach is set in Victorian England and tells the story of a young couple, Edward and Elizabeth, whose relationship is on the brink of disaster. Edward has been struggling with a gambling addiction that has left him in a desperate financial state and his behavior has become erratic and dangerous. Elizabeth is desperate to save their relationship but Edward refuses to seek help, believing that it will only make matters worse. \\n\\nOne day, Edward takes Elizabeth to the beach in a last-ditch effort to save their relationship. As they watch the sunset, they reminisce on happier times and Elizabeth attempts to convince Edward to seek help, but he still refuses. Suddenly, a group of men appear on the beach and confront Edward, demanding he pay his gambling debts. Edward refuses and a violent altercation ensues, leaving Edward dead on the beach. \\n\\nElizabeth is left devastated and must face the consequences of Edward's actions. She is forced to confront her own feelings of guilt and loneliness as she is left with nothing but her memories of happier times. Tragedy at Sunset on the Beach is a powerful story of love, loss, and the consequences of addiction.\",\n 'review': \"\\n\\nTragedy at Sunset on the Beach, set in Victorian England, is a powerful and heartbreaking story of love, loss, and the consequences of addiction. The play follows Edward and Elizabeth, a young couple whose relationship is on the brink of disaster due to Edward's gambling addiction. Despite Elizabeth's desperate attempts to save their relationship, her efforts are in vain. When Edward takes her to the beach for a last-ditch effort to save their relationship, they are instead met with violence and tragedy. \\n\\nThe play draws attention to the devastating consequences of addiction in a powerful and emotional way. The audience is left deeply moved by the story and its characters, and by the heart-wrenching finale. The performances by the actors are outstanding, and the play is beautifully directed. \\n\\nTragedy at Sunset on the Beach is a must-see for anyone looking for a powerful and emotionally charged story. It is a poignant reminder of the heartbreaking consequences of addiction and the power of love.\"}"
     },
     "execution_count": 42,
     "metadata": {},
     "output_type": "execute_result"
    }
   ],
   "source": [
    "# This is the overall chain where we run these two chains in sequence.\n",
    "overall_chain = SequentialChain(\n",
    "    chains=[synopsis_chain, review_chain],\n",
    "    input_variables=[\"era\", \"title\"],\n",
    "    # Here we return multiple variables\n",
    "    output_variables=[\"synopsis\", \"review\"],\n",
    "    verbose=True)\n",
    "\n",
    "overall_chain({\"title\":\"Tragedy at sunset on the beach\", \"era\": \"Victorian England\"})"
   ],
   "metadata": {
    "collapsed": false,
    "ExecuteTime": {
     "end_time": "2023-08-06T15:00:15.669919Z",
     "start_time": "2023-08-06T15:00:02.574703Z"
    }
   },
   "id": "cbcc4935ce8c3fea"
  },
  {
   "cell_type": "code",
   "execution_count": 44,
   "outputs": [],
   "source": [
    "\"\"\" \n",
    "Memory in Sequential Chains \n",
    "pass along some context to use in each step of the chain or in a later part of the chain.\n",
    "Using SimpleMemory is a convenient way to do manage this and clean up your chains\n",
    "\"\"\"\n",
    "\n",
    "template = \"\"\"You are a social media manager for a theater company.  Given the title of play, the era it is set in, the date,time and location, the synopsis of the play, and the review of the play, it is your job to write a social media post for that play.\n",
    "\n",
    "Here is some context about the time and location of the play:\n",
    "Date and Time: {time}\n",
    "Location: {location}\n",
    "\n",
    "Play Synopsis:\n",
    "{synopsis}\n",
    "Review from a New York Times play critic of the above play:\n",
    "{review}\n",
    "\n",
    "Social Media Post:\n",
    "\"\"\"\n",
    "\n",
    "prompt_template = PromptTemplate(input_variables=[\"synopsis\", \"review\", \"time\", \"location\"], template=template)\n",
    "social_chain = LLMChain(llm=llm, prompt=prompt_template, output_key=\"social_post_text\")"
   ],
   "metadata": {
    "collapsed": false,
    "ExecuteTime": {
     "end_time": "2023-08-06T15:04:53.193858Z",
     "start_time": "2023-08-06T15:04:53.184328Z"
    }
   },
   "id": "43419bf597f1e0a6"
  },
  {
   "cell_type": "code",
   "execution_count": 45,
   "outputs": [
    {
     "name": "stdout",
     "output_type": "stream",
     "text": [
      "\n",
      "\n",
      "\u001B[1m> Entering new SequentialChain chain...\u001B[0m\n",
      "\n",
      "\u001B[1m> Finished chain.\u001B[0m\n"
     ]
    },
    {
     "data": {
      "text/plain": "{'title': 'Tragedy at sunset on the beach',\n 'era': 'Victorian England',\n 'time': 'December 25th, 8pm PST',\n 'location': 'Theater in the Park',\n 'social_post_text': \"Experience the power of forgiveness at ‘Tragedy at Sunset on the Beach’, playing December 25th at 8pm PST at Theater in the Park. This emotionally gripping production will take you on an exploration of the complexities of human relationships and the devastating consequences of unbridled ambition. Don't miss this must-see production - get your tickets now! #TragedyAtSunsetOnTheBeach #TheaterInThePark #Forgiveness\"}"
     },
     "execution_count": 45,
     "metadata": {},
     "output_type": "execute_result"
    }
   ],
   "source": [
    "overall_chain = SequentialChain(\n",
    "    memory=SimpleMemory(memories={\"time\": \"December 25th, 8pm PST\", \"location\": \"Theater in the Park\"}),\n",
    "    chains=[synopsis_chain, review_chain, social_chain],\n",
    "    input_variables=[\"era\", \"title\"],\n",
    "    # Here we return multiple variables\n",
    "    output_variables=[\"social_post_text\"],\n",
    "    verbose=True)\n",
    "\n",
    "overall_chain({\"title\":\"Tragedy at sunset on the beach\", \"era\": \"Victorian England\"})"
   ],
   "metadata": {
    "collapsed": false,
    "ExecuteTime": {
     "end_time": "2023-08-06T15:07:58.767429Z",
     "start_time": "2023-08-06T15:07:45.690405Z"
    }
   },
   "id": "a96131a6b3f17a9"
  },
  {
   "cell_type": "code",
   "execution_count": null,
   "outputs": [],
   "source": [],
   "metadata": {
    "collapsed": false
   },
   "id": "fa8759b987c90761"
  }
 ],
 "metadata": {
  "kernelspec": {
   "display_name": "Python 3",
   "language": "python",
   "name": "python3"
  },
  "language_info": {
   "codemirror_mode": {
    "name": "ipython",
    "version": 2
   },
   "file_extension": ".py",
   "mimetype": "text/x-python",
   "name": "python",
   "nbconvert_exporter": "python",
   "pygments_lexer": "ipython2",
   "version": "2.7.6"
  }
 },
 "nbformat": 4,
 "nbformat_minor": 5
}
