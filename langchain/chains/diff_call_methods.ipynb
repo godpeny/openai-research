{
 "cells": [
  {
   "cell_type": "code",
   "execution_count": 3,
   "metadata": {
    "collapsed": true,
    "ExecuteTime": {
     "end_time": "2023-08-05T10:45:33.158886Z",
     "start_time": "2023-08-05T10:45:33.143565Z"
    }
   },
   "outputs": [],
   "source": [
    "# import\n",
    "import os\n",
    "from dotenv import load_dotenv\n",
    "\n",
    "import openai\n",
    "\n",
    "from langchain.chat_models import ChatOpenAI\n",
    "from langchain.chains import LLMChain\n",
    "from langchain.prompts.chat import (\n",
    "    PromptTemplate\n",
    ")"
   ]
  },
  {
   "cell_type": "code",
   "execution_count": 4,
   "outputs": [],
   "source": [
    "# set OpenAI API key\n",
    "load_dotenv(dotenv_path=\"../.env\")\n",
    "openai.api_key = os.getenv(\"OPENAI_API_KEY\")\n",
    "# set OpenAI API Key to langchain and set temperature to 0.9\n",
    "chat = ChatOpenAI(openai_api_key=openai.api_key, temperature=0.9)"
   ],
   "metadata": {
    "collapsed": false,
    "ExecuteTime": {
     "end_time": "2023-08-05T10:45:36.828441Z",
     "start_time": "2023-08-05T10:45:36.824991Z"
    }
   }
  },
  {
   "cell_type": "code",
   "execution_count": 11,
   "outputs": [
    {
     "data": {
      "text/plain": "{'adjective': 'corny',\n 'text': \"Sure, here's a corny joke for you:\\n\\nWhy don't scientists trust atoms?\\n\\nBecause they make up everything!\"}"
     },
     "execution_count": 11,
     "metadata": {},
     "output_type": "execute_result"
    }
   ],
   "source": [
    "prompt_template = \"Tell me a {adjective} joke\"\n",
    "llm_chain = LLMChain(llm=chat, prompt=PromptTemplate.from_template(prompt_template))\n",
    "\n",
    "# By default, __call__ returns both the input and output key values. \n",
    "llm_chain(inputs={\"adjective\": \"corny\"})"
   ],
   "metadata": {
    "collapsed": false,
    "ExecuteTime": {
     "end_time": "2023-08-05T10:50:59.894843Z",
     "start_time": "2023-08-05T10:50:56.074655Z"
    }
   }
  },
  {
   "cell_type": "code",
   "execution_count": 12,
   "outputs": [
    {
     "data": {
      "text/plain": "{'text': \"Sure, here's a corny joke for you:\\n\\nWhy don't eggs tell jokes?\\n\\nBecause they might crack up!\"}"
     },
     "execution_count": 12,
     "metadata": {},
     "output_type": "execute_result"
    }
   ],
   "source": [
    "# You can configure it to only return output key values by setting return_only_outputs to True.\n",
    "llm_chain(inputs={\"adjective\": \"corny\"}, return_only_outputs=True)"
   ],
   "metadata": {
    "collapsed": false,
    "ExecuteTime": {
     "end_time": "2023-08-05T10:51:26.765019Z",
     "start_time": "2023-08-05T10:51:25.173523Z"
    }
   }
  },
  {
   "cell_type": "code",
   "execution_count": null,
   "outputs": [],
   "source": [
    "\"\"\"\n",
    "# These two are equivalent\n",
    "llm_chain.run({\"adjective\": \"corny\"})\n",
    "llm_chain.run(\"corny\")\n",
    "\n",
    "# These two are also equivalent\n",
    "llm_chain(\"corny\")\n",
    "llm_chain({\"adjective\": \"corny\"})\n",
    "\"\"\""
   ],
   "metadata": {
    "collapsed": false
   }
  }
 ],
 "metadata": {
  "kernelspec": {
   "display_name": "Python 3",
   "language": "python",
   "name": "python3"
  },
  "language_info": {
   "codemirror_mode": {
    "name": "ipython",
    "version": 2
   },
   "file_extension": ".py",
   "mimetype": "text/x-python",
   "name": "python",
   "nbconvert_exporter": "python",
   "pygments_lexer": "ipython2",
   "version": "2.7.6"
  }
 },
 "nbformat": 4,
 "nbformat_minor": 0
}
