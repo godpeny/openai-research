{
 "cells": [
  {
   "cell_type": "code",
   "execution_count": 29,
   "metadata": {
    "collapsed": true,
    "ExecuteTime": {
     "end_time": "2023-07-02T11:03:44.915539Z",
     "start_time": "2023-07-02T11:03:44.905Z"
    }
   },
   "outputs": [],
   "source": [
    "# import\n",
    "import os\n",
    "from dotenv import load_dotenv\n",
    "\n",
    "import openai\n",
    "from langchain import OpenAI\n",
    "from langchain.prompts import PromptTemplate, StringPromptTemplate\n",
    "from langchain.chat_models import ChatOpenAI\n",
    "from langchain.chains import LLMChain\n",
    "\n",
    "import pandas as pd\n",
    "from datetime import datetime\n",
    "from feast import FeatureStore\n",
    "from pprint import pprint"
   ]
  },
  {
   "cell_type": "code",
   "execution_count": 30,
   "outputs": [],
   "source": [
    "# set OpenAI API key\n",
    "load_dotenv(dotenv_path=\"../../../.env\")\n",
    "openai.api_key = os.getenv(\"OPENAI_API_KEY\")\n",
    "# set OpenAI API Key to langchain and set temperature to 0.9\n",
    "llm = OpenAI(openai_api_key=openai.api_key, temperature=0.9)"
   ],
   "metadata": {
    "collapsed": false,
    "ExecuteTime": {
     "end_time": "2023-07-02T11:03:46.527999Z",
     "start_time": "2023-07-02T11:03:46.515913Z"
    }
   }
  },
  {
   "cell_type": "code",
   "execution_count": 31,
   "outputs": [],
   "source": [
    "# Load Feast Store\n",
    "feast_repo_path = \"./feature_store_feast/feature_repo\"\n",
    "store = FeatureStore(repo_path=feast_repo_path)"
   ],
   "metadata": {
    "collapsed": false,
    "ExecuteTime": {
     "end_time": "2023-07-02T11:03:47.283381Z",
     "start_time": "2023-07-02T11:03:47.273824Z"
    }
   }
  },
  {
   "cell_type": "code",
   "execution_count": 32,
   "outputs": [
    {
     "data": {
      "text/plain": "               event_timestamp  driver_id  conv_rate  acc_rate  \\\n0    2023-06-16 22:00:00+00:00       1005   0.015975  0.837928   \n1    2023-06-16 23:00:00+00:00       1005   0.231635  0.732077   \n2    2023-06-17 00:00:00+00:00       1005   0.702013  0.975178   \n3    2023-06-17 01:00:00+00:00       1005   0.282054  0.711458   \n4    2023-06-17 02:00:00+00:00       1005   0.180257  0.793173   \n...                        ...        ...        ...       ...   \n1802 2023-07-01 20:00:00+00:00       1001   0.882013  0.217291   \n1803 2023-07-01 21:00:00+00:00       1001   0.940722  0.614214   \n1804 2021-04-12 07:00:00+00:00       1001   0.006743  0.003659   \n1805 2023-06-24 10:00:00+00:00       1003   0.623993  0.582351   \n1806 2023-06-24 10:00:00+00:00       1003   0.623993  0.582351   \n\n      avg_daily_trips                 created  \n0                 584 2023-07-01 22:42:22.569  \n1                 790 2023-07-01 22:42:22.569  \n2                 209 2023-07-01 22:42:22.569  \n3                 662 2023-07-01 22:42:22.569  \n4                 404 2023-07-01 22:42:22.569  \n...               ...                     ...  \n1802              913 2023-07-01 22:42:22.569  \n1803              892 2023-07-01 22:42:22.569  \n1804              805 2023-07-01 22:42:22.569  \n1805              805 2023-07-01 22:42:22.569  \n1806              805 2023-07-01 22:42:22.569  \n\n[1807 rows x 6 columns]",
      "text/html": "<div>\n<style scoped>\n    .dataframe tbody tr th:only-of-type {\n        vertical-align: middle;\n    }\n\n    .dataframe tbody tr th {\n        vertical-align: top;\n    }\n\n    .dataframe thead th {\n        text-align: right;\n    }\n</style>\n<table border=\"1\" class=\"dataframe\">\n  <thead>\n    <tr style=\"text-align: right;\">\n      <th></th>\n      <th>event_timestamp</th>\n      <th>driver_id</th>\n      <th>conv_rate</th>\n      <th>acc_rate</th>\n      <th>avg_daily_trips</th>\n      <th>created</th>\n    </tr>\n  </thead>\n  <tbody>\n    <tr>\n      <th>0</th>\n      <td>2023-06-16 22:00:00+00:00</td>\n      <td>1005</td>\n      <td>0.015975</td>\n      <td>0.837928</td>\n      <td>584</td>\n      <td>2023-07-01 22:42:22.569</td>\n    </tr>\n    <tr>\n      <th>1</th>\n      <td>2023-06-16 23:00:00+00:00</td>\n      <td>1005</td>\n      <td>0.231635</td>\n      <td>0.732077</td>\n      <td>790</td>\n      <td>2023-07-01 22:42:22.569</td>\n    </tr>\n    <tr>\n      <th>2</th>\n      <td>2023-06-17 00:00:00+00:00</td>\n      <td>1005</td>\n      <td>0.702013</td>\n      <td>0.975178</td>\n      <td>209</td>\n      <td>2023-07-01 22:42:22.569</td>\n    </tr>\n    <tr>\n      <th>3</th>\n      <td>2023-06-17 01:00:00+00:00</td>\n      <td>1005</td>\n      <td>0.282054</td>\n      <td>0.711458</td>\n      <td>662</td>\n      <td>2023-07-01 22:42:22.569</td>\n    </tr>\n    <tr>\n      <th>4</th>\n      <td>2023-06-17 02:00:00+00:00</td>\n      <td>1005</td>\n      <td>0.180257</td>\n      <td>0.793173</td>\n      <td>404</td>\n      <td>2023-07-01 22:42:22.569</td>\n    </tr>\n    <tr>\n      <th>...</th>\n      <td>...</td>\n      <td>...</td>\n      <td>...</td>\n      <td>...</td>\n      <td>...</td>\n      <td>...</td>\n    </tr>\n    <tr>\n      <th>1802</th>\n      <td>2023-07-01 20:00:00+00:00</td>\n      <td>1001</td>\n      <td>0.882013</td>\n      <td>0.217291</td>\n      <td>913</td>\n      <td>2023-07-01 22:42:22.569</td>\n    </tr>\n    <tr>\n      <th>1803</th>\n      <td>2023-07-01 21:00:00+00:00</td>\n      <td>1001</td>\n      <td>0.940722</td>\n      <td>0.614214</td>\n      <td>892</td>\n      <td>2023-07-01 22:42:22.569</td>\n    </tr>\n    <tr>\n      <th>1804</th>\n      <td>2021-04-12 07:00:00+00:00</td>\n      <td>1001</td>\n      <td>0.006743</td>\n      <td>0.003659</td>\n      <td>805</td>\n      <td>2023-07-01 22:42:22.569</td>\n    </tr>\n    <tr>\n      <th>1805</th>\n      <td>2023-06-24 10:00:00+00:00</td>\n      <td>1003</td>\n      <td>0.623993</td>\n      <td>0.582351</td>\n      <td>805</td>\n      <td>2023-07-01 22:42:22.569</td>\n    </tr>\n    <tr>\n      <th>1806</th>\n      <td>2023-06-24 10:00:00+00:00</td>\n      <td>1003</td>\n      <td>0.623993</td>\n      <td>0.582351</td>\n      <td>805</td>\n      <td>2023-07-01 22:42:22.569</td>\n    </tr>\n  </tbody>\n</table>\n<p>1807 rows × 6 columns</p>\n</div>"
     },
     "execution_count": 32,
     "metadata": {},
     "output_type": "execute_result"
    }
   ],
   "source": [
    "# Following Feast Readme\n",
    "pd.read_parquet(feast_repo_path+\"/data/driver_stats.parquet\")"
   ],
   "metadata": {
    "collapsed": false,
    "ExecuteTime": {
     "end_time": "2023-07-02T11:03:47.921876Z",
     "start_time": "2023-07-02T11:03:47.914314Z"
    }
   }
  },
  {
   "cell_type": "code",
   "execution_count": 33,
   "outputs": [
    {
     "name": "stdout",
     "output_type": "stream",
     "text": [
      "   driver_id           event_timestamp  conv_rate  acc_rate  avg_daily_trips\n",
      "0       1001 2021-04-12 10:59:42+00:00   0.006743  0.003659              805\n",
      "1       1002 2021-04-12 08:12:10+00:00   0.674452  0.935988              329\n",
      "2       1003 2021-04-12 16:40:26+00:00   0.757471  0.637771              499\n",
      "3       1004 2021-04-12 15:01:12+00:00   0.600042  0.212857              238\n"
     ]
    }
   ],
   "source": [
    "# Build a training dataset in Feast\n",
    "entity_df = pd.DataFrame.from_dict({\n",
    "    \"driver_id\": [1001, 1002, 1003, 1004],\n",
    "    \"event_timestamp\": [\n",
    "        datetime(2021, 4, 12, 10, 59, 42),\n",
    "        datetime(2021, 4, 12, 8,  12, 10),\n",
    "        datetime(2021, 4, 12, 16, 40, 26),\n",
    "        datetime(2021, 4, 12, 15, 1 , 12)\n",
    "    ]\n",
    "})\n",
    "\n",
    "training_df = store.get_historical_features(\n",
    "    entity_df=entity_df,\n",
    "    features = [\n",
    "        'driver_hourly_stats:conv_rate',\n",
    "        'driver_hourly_stats:acc_rate',\n",
    "        'driver_hourly_stats:avg_daily_trips'\n",
    "    ],\n",
    ").to_df()\n",
    "\n",
    "print(training_df.head())\n",
    "\n",
    "# Train model\n",
    "# model = ml.fit(training_df)"
   ],
   "metadata": {
    "collapsed": false,
    "ExecuteTime": {
     "end_time": "2023-07-02T11:03:48.891802Z",
     "start_time": "2023-07-02T11:03:48.822183Z"
    }
   }
  },
  {
   "cell_type": "code",
   "execution_count": 34,
   "outputs": [
    {
     "name": "stdout",
     "output_type": "stream",
     "text": [
      "Materializing \u001B[1m\u001B[32m2\u001B[0m feature views to \u001B[1m\u001B[32m2023-07-02 20:03:49+09:00\u001B[0m into the \u001B[1m\u001B[32msqlite\u001B[0m online store.\r\n",
      "\r\n",
      "\u001B[1m\u001B[32mdriver_hourly_stats\u001B[0m from \u001B[1m\u001B[32m2023-07-02 19:56:16+09:00\u001B[0m to \u001B[1m\u001B[32m2023-07-02 20:03:49+09:00\u001B[0m:\r\n",
      "0it [00:00, ?it/s]\r\n",
      "\u001B[1m\u001B[32mdriver_hourly_stats_fresh\u001B[0m from \u001B[1m\u001B[32m2023-07-02 19:56:16+09:00\u001B[0m to \u001B[1m\u001B[32m2023-07-02 20:03:49+09:00\u001B[0m:\r\n",
      "0it [00:00, ?it/s]\r\n"
     ]
    }
   ],
   "source": [
    "# Load Feast feature values into your online store\n",
    "!cd $feast_repo_path && feast materialize-incremental $(date -u +\"%Y-%m-%dT%H:%M:%S\")"
   ],
   "metadata": {
    "collapsed": false,
    "ExecuteTime": {
     "end_time": "2023-07-02T11:03:51.640201Z",
     "start_time": "2023-07-02T11:03:49.758477Z"
    }
   }
  },
  {
   "cell_type": "code",
   "execution_count": 35,
   "outputs": [
    {
     "name": "stdout",
     "output_type": "stream",
     "text": [
      "{'acc_rate': [0.6142140030860901],\n",
      " 'avg_daily_trips': [892],\n",
      " 'conv_rate': [0.9407216906547546],\n",
      " 'driver_id': [1001]}\n"
     ]
    }
   ],
   "source": [
    "feature_vector = store.get_online_features(\n",
    "    features=[\n",
    "        'driver_hourly_stats:conv_rate',\n",
    "        'driver_hourly_stats:acc_rate',\n",
    "        'driver_hourly_stats:avg_daily_trips'\n",
    "    ],\n",
    "    entity_rows=[{\"driver_id\": 1001}]\n",
    ").to_dict()\n",
    "\n",
    "pprint(feature_vector)\n",
    "\n",
    "# Make prediction\n",
    "# model.predict(feature_vector)"
   ],
   "metadata": {
    "collapsed": false,
    "ExecuteTime": {
     "end_time": "2023-07-02T11:03:51.648167Z",
     "start_time": "2023-07-02T11:03:51.645276Z"
    }
   }
  },
  {
   "cell_type": "markdown",
   "source": [],
   "metadata": {
    "collapsed": false
   }
  },
  {
   "cell_type": "code",
   "execution_count": 40,
   "outputs": [
    {
     "name": "stdout",
     "output_type": "stream",
     "text": [
      "\u001B[32mINFO\u001B[0m:     Started server process [\u001B[36m1807\u001B[0m]\r\n",
      "\u001B[32mINFO\u001B[0m:     Waiting for application startup.\r\n",
      "\u001B[32mINFO\u001B[0m:     Application startup complete.\r\n",
      "\u001B[32mINFO\u001B[0m:     Uvicorn running on \u001B[1mhttp://0.0.0.0:9999\u001B[0m (Press CTRL+C to quit)\r\n",
      "^C\r\n",
      "\u001B[32mINFO\u001B[0m:     Shutting down\r\n",
      "\u001B[32mINFO\u001B[0m:     Waiting for application shutdown.\r\n",
      "\u001B[32mINFO\u001B[0m:     Application shutdown complete.\r\n",
      "\u001B[32mINFO\u001B[0m:     Finished server process [\u001B[36m1807\u001B[0m]\r\n",
      "Traceback (most recent call last):\r\n",
      "  File \"/Users/godpeny/Code/venv/openai-research/bin/feast\", line 8, in <module>\r\n",
      "    sys.exit(cli())\r\n",
      "             ^^^^^\r\n",
      "  File \"/Users/godpeny/Code/venv/openai-research/lib/python3.11/site-packages/click/core.py\", line 1130, in __call__\r\n",
      "    return self.main(*args, **kwargs)\r\n",
      "           ^^^^^^^^^^^^^^^^^^^^^^^^^^\r\n",
      "  File \"/Users/godpeny/Code/venv/openai-research/lib/python3.11/site-packages/click/core.py\", line 1055, in main\r\n",
      "    rv = self.invoke(ctx)\r\n",
      "         ^^^^^^^^^^^^^^^^\r\n",
      "  File \"/Users/godpeny/Code/venv/openai-research/lib/python3.11/site-packages/click/core.py\", line 1657, in invoke\r\n",
      "    return _process_result(sub_ctx.command.invoke(sub_ctx))\r\n",
      "                           ^^^^^^^^^^^^^^^^^^^^^^^^^^^^^^^\r\n",
      "  File \"/Users/godpeny/Code/venv/openai-research/lib/python3.11/site-packages/click/core.py\", line 1404, in invoke\r\n",
      "    return ctx.invoke(self.callback, **ctx.params)\r\n",
      "           ^^^^^^^^^^^^^^^^^^^^^^^^^^^^^^^^^^^^^^^\r\n",
      "  File \"/Users/godpeny/Code/venv/openai-research/lib/python3.11/site-packages/click/core.py\", line 760, in invoke\r\n",
      "    return __callback(*args, **kwargs)\r\n",
      "           ^^^^^^^^^^^^^^^^^^^^^^^^^^^\r\n",
      "  File \"/Users/godpeny/Code/venv/openai-research/lib/python3.11/site-packages/click/decorators.py\", line 26, in new_func\r\n",
      "    return f(get_current_context(), *args, **kwargs)\r\n",
      "           ^^^^^^^^^^^^^^^^^^^^^^^^^^^^^^^^^^^^^^^^^\r\n",
      "  File \"/Users/godpeny/Code/venv/openai-research/lib/python3.11/site-packages/feast/cli.py\", line 180, in ui\r\n",
      "    store.serve_ui(\r\n",
      "  File \"/Users/godpeny/Code/venv/openai-research/lib/python3.11/site-packages/feast/usage.py\", line 306, in wrapper\r\n",
      "    last_call = ctx.call_stack.pop(-1)\r\n",
      "                ^^^^^^^^^^^^^^^^^^^^^^\r\n",
      "IndexError: pop from empty list\r\n"
     ]
    }
   ],
   "source": [
    "# Check on Feast UI\n",
    "# !cd $feast_repo_path && feast ui --port 9999"
   ],
   "metadata": {
    "collapsed": false,
    "ExecuteTime": {
     "end_time": "2023-07-02T11:05:36.810496Z",
     "start_time": "2023-07-02T11:05:14.337491Z"
    }
   }
  },
  {
   "cell_type": "code",
   "execution_count": 42,
   "outputs": [],
   "source": [
    "# Prompt\n",
    "template = \"\"\"Given the driver's up to date stats, write them note relaying those stats to them.\n",
    "If they have a conversation rate above .5, give them a compliment. Otherwise, make a silly joke about chickens at the end to make them feel better\n",
    "\n",
    "Here are the drivers stats:\n",
    "Conversation rate: {conv_rate}\n",
    "Acceptance rate: {acc_rate}\n",
    "Average Daily Trips: {avg_daily_trips}\n",
    "\n",
    "Your response:\"\"\"\n",
    "prompt = PromptTemplate.from_template(template)"
   ],
   "metadata": {
    "collapsed": false,
    "ExecuteTime": {
     "end_time": "2023-07-02T11:05:39.950488Z",
     "start_time": "2023-07-02T11:05:39.941403Z"
    }
   }
  },
  {
   "cell_type": "code",
   "execution_count": 43,
   "outputs": [],
   "source": [
    "class FeastPromptTemplate(StringPromptTemplate):\n",
    "    def format(self, **kwargs) -> str:\n",
    "        driver_id = kwargs.pop(\"driver_id\")\n",
    "        feature_vector = store.get_online_features(\n",
    "            features=[\n",
    "                \"driver_hourly_stats:conv_rate\",\n",
    "                \"driver_hourly_stats:acc_rate\",\n",
    "                \"driver_hourly_stats:avg_daily_trips\",\n",
    "            ],\n",
    "            entity_rows=[{\"driver_id\": driver_id}],\n",
    "        ).to_dict()\n",
    "        kwargs[\"conv_rate\"] = feature_vector[\"conv_rate\"][0]\n",
    "        kwargs[\"acc_rate\"] = feature_vector[\"acc_rate\"][0]\n",
    "        kwargs[\"avg_daily_trips\"] = feature_vector[\"avg_daily_trips\"][0]\n",
    "        return prompt.format(**kwargs)"
   ],
   "metadata": {
    "collapsed": false,
    "ExecuteTime": {
     "end_time": "2023-07-02T11:05:41.052206Z",
     "start_time": "2023-07-02T11:05:41.045882Z"
    }
   }
  },
  {
   "cell_type": "code",
   "execution_count": 44,
   "outputs": [],
   "source": [
    "prompt_template = FeastPromptTemplate(input_variables=[\"driver_id\"])"
   ],
   "metadata": {
    "collapsed": false,
    "ExecuteTime": {
     "end_time": "2023-07-02T11:05:41.876693Z",
     "start_time": "2023-07-02T11:05:41.866380Z"
    }
   }
  },
  {
   "cell_type": "code",
   "execution_count": 45,
   "outputs": [
    {
     "name": "stdout",
     "output_type": "stream",
     "text": [
      "Given the driver's up to date stats, write them note relaying those stats to them.\n",
      "If they have a conversation rate above .5, give them a compliment. Otherwise, make a silly joke about chickens at the end to make them feel better\n",
      "\n",
      "Here are the drivers stats:\n",
      "Conversation rate: 0.9407216906547546\n",
      "Acceptance rate: 0.6142140030860901\n",
      "Average Daily Trips: 892\n",
      "\n",
      "Your response:\n"
     ]
    }
   ],
   "source": [
    "print(prompt_template.format(driver_id=1001))"
   ],
   "metadata": {
    "collapsed": false,
    "ExecuteTime": {
     "end_time": "2023-07-02T11:05:42.781125Z",
     "start_time": "2023-07-02T11:05:42.775490Z"
    }
   }
  },
  {
   "cell_type": "code",
   "execution_count": 46,
   "outputs": [
    {
     "data": {
      "text/plain": "\"Dear driver,\\n\\nI hope this message finds you well. I wanted to provide you with an update on your current stats as a driver. Your conversation rate is an impressive 0.9407, which is fantastic! Your ability to engage with passengers and create a positive experience is truly commendable. Keep up the great work!\\n\\nAdditionally, your acceptance rate stands at 0.6142, showcasing your dedication to accepting ride requests. It's clear that you are committed to serving your passengers and providing them with a reliable service.\\n\\nLastly, I wanted to mention that your average daily trips amount to 892. This is a remarkable achievement and demonstrates your efficiency as a driver.\\n\\nKeep up the excellent work, and remember to keep spreading positivity and creating memorable experiences for your passengers! You're doing a fantastic job.\\n\\nAnd now, to lighten the mood, here's a silly chicken joke for you: Why did the chicken go to the seance? To talk to the other side! Remember, even chickens appreciate a good laugh.\\n\\nBest regards,\\n[Your Name]\""
     },
     "execution_count": 46,
     "metadata": {},
     "output_type": "execute_result"
    }
   ],
   "source": [
    "# Use \"prompt_template\" from Feast in a Lang Chain\n",
    "chain = LLMChain(llm=ChatOpenAI(), prompt=prompt_template)\n",
    "chain.run(1001)"
   ],
   "metadata": {
    "collapsed": false,
    "ExecuteTime": {
     "end_time": "2023-07-02T11:07:11.619829Z",
     "start_time": "2023-07-02T11:07:03.511771Z"
    }
   }
  },
  {
   "cell_type": "markdown",
   "source": [],
   "metadata": {
    "collapsed": false
   }
  }
 ],
 "metadata": {
  "kernelspec": {
   "display_name": "Python 3",
   "language": "python",
   "name": "python3"
  },
  "language_info": {
   "codemirror_mode": {
    "name": "ipython",
    "version": 2
   },
   "file_extension": ".py",
   "mimetype": "text/x-python",
   "name": "python",
   "nbconvert_exporter": "python",
   "pygments_lexer": "ipython2",
   "version": "2.7.6"
  }
 },
 "nbformat": 4,
 "nbformat_minor": 0
}
