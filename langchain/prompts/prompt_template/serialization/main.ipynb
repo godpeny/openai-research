{
 "cells": [
  {
   "cell_type": "code",
   "execution_count": 1,
   "id": "initial_id",
   "metadata": {
    "collapsed": true,
    "ExecuteTime": {
     "end_time": "2023-07-30T11:18:47.117096Z",
     "start_time": "2023-07-30T11:18:46.399681Z"
    }
   },
   "outputs": [],
   "source": [
    "# import\n",
    "import os\n",
    "from dotenv import load_dotenv\n",
    "\n",
    "import openai\n",
    "from langchain import OpenAI\n",
    "from langchain.prompts import load_prompt"
   ]
  },
  {
   "cell_type": "code",
   "execution_count": 2,
   "outputs": [],
   "source": [
    "# set OpenAI API key\n",
    "load_dotenv(dotenv_path=\"../../../.env\")\n",
    "openai.api_key = os.getenv(\"OPENAI_API_KEY\")\n",
    "# set OpenAI API Key to langchain and set temperature to 0.9\n",
    "llm = OpenAI(openai_api_key=openai.api_key, temperature=0.9)"
   ],
   "metadata": {
    "collapsed": false,
    "ExecuteTime": {
     "end_time": "2023-07-30T11:18:47.762051Z",
     "start_time": "2023-07-30T11:18:47.749105Z"
    }
   },
   "id": "9f04ea9e0aa73722"
  },
  {
   "cell_type": "code",
   "execution_count": 9,
   "outputs": [
    {
     "name": "stdout",
     "output_type": "stream",
     "text": [
      "Tell me a funny joke about chickens.\n",
      "Tell me a sad joke about porks.\n",
      "Tell me a funny joke about chickens.\n"
     ]
    }
   ],
   "source": [
    "# Store prompts not as python code but as files. (JSON, YAML)\n",
    "# For some cases, storing everything in file makes the most sense, but for others it is preferable to split up some of the assets (long templates, large examples, reusable components). LangChain supports both.\n",
    "\n",
    "# 1. Load from YAML file\n",
    "prompt = load_prompt(\"simple_prompt.yaml\")\n",
    "print(prompt.format(adjective=\"funny\", content=\"chickens\"))\n",
    "\n",
    "# 2. Load from JSON file\n",
    "prompt = load_prompt(\"simple_prompt.json\")\n",
    "print(prompt.format(adjective=\"sad\", content=\"porks\"))\n",
    "\n",
    "# 3. Load from Loaded Template\n",
    "prompt = load_prompt(\"./loaded_template/simple_prompt_with_loaded_template.json\")\n",
    "print(prompt.format(adjective=\"funny\", content=\"chickens\"))"
   ],
   "metadata": {
    "collapsed": false,
    "ExecuteTime": {
     "end_time": "2023-07-30T11:24:09.617308Z",
     "start_time": "2023-07-30T11:24:09.610236Z"
    }
   },
   "id": "81ef79bd16c6ebed"
  },
  {
   "cell_type": "code",
   "execution_count": 18,
   "outputs": [
    {
     "name": "stdout",
     "output_type": "stream",
     "text": [
      "Write antonyms for the following words.\n",
      "\n",
      "Input: happy\n",
      "Output: sad\n",
      "\n",
      "Input: tall\n",
      "Output: short\n",
      "\n",
      "Input: delicious\n",
      "Output:\n",
      "Write antonyms for the following words.\n",
      "\n",
      "Input: happy\n",
      "Output: sad\n",
      "\n",
      "Input: tall\n",
      "Output: short\n",
      "\n",
      "Input: ugly\n",
      "Output:\n",
      "Write antonyms for the following words.\n",
      "\n",
      "Input: happy\n",
      "Output: sad\n",
      "\n",
      "Input: tall\n",
      "Output: short\n",
      "\n",
      "Input: cool\n",
      "Output:\n",
      "Write antonyms for the following words.\n",
      "\n",
      "Input: happy\n",
      "Output: sad\n",
      "\n",
      "Input: tall\n",
      "Output: short\n",
      "\n",
      "Input: hot\n",
      "Output:\n",
      "Write antonyms for the following words.\n",
      "\n",
      "Input: happy\n",
      "Output: sad\n",
      "\n",
      "Input: tall\n",
      "Output: short\n",
      "\n",
      "Input: warm\n",
      "Output:\n"
     ]
    }
   ],
   "source": [
    "# Few Shot Prompt Templates\n",
    "# Loading from YAML file\n",
    "prompt = load_prompt(\"./few_shot_prompt_template/few_shot_prompt.yaml\")\n",
    "print(prompt.format(adjective=\"delicious\"))\n",
    "\n",
    "prompt2 = load_prompt(\"./few_shot_prompt_template/few_shot_prompt_yaml_examples.yaml\")\n",
    "print(prompt2.format(adjective=\"ugly\"))\n",
    "\n",
    "# Loading from JSON file\n",
    "prompt3 = load_prompt(\"./few_shot_prompt_template/few_shot_prompt.json\")\n",
    "print(prompt3.format(adjective=\"cool\"))\n",
    "\n",
    "prompt4 = load_prompt(\"./few_shot_prompt_template/few_shot_prompt_examples_input_directly.json\")\n",
    "print(prompt4.format(adjective=\"hot\"))\n",
    "\n",
    "prompt6 = load_prompt(\"./few_shot_prompt_template/few_shot_prompt_example_prompt.json\")\n",
    "print(prompt.format(adjective=\"warm\"))"
   ],
   "metadata": {
    "collapsed": false,
    "ExecuteTime": {
     "end_time": "2023-07-30T11:47:45.498500Z",
     "start_time": "2023-07-30T11:47:45.493695Z"
    }
   },
   "id": "6b95c8ccc81ff67a"
  },
  {
   "cell_type": "code",
   "execution_count": 19,
   "outputs": [
    {
     "data": {
      "text/plain": "{'answer': 'George Washington was born in 1732 and died in 1799.',\n 'score': '1/2'}"
     },
     "execution_count": 19,
     "metadata": {},
     "output_type": "execute_result"
    }
   ],
   "source": [
    "# Load Prompt along with Output Parser\n",
    "prompt = load_prompt(\"prompt_with_output_parser.json\")\n",
    "prompt.output_parser.parse(\n",
    "    \"George Washington was born in 1732 and died in 1799.\\nScore: 1/2\"\n",
    ")"
   ],
   "metadata": {
    "collapsed": false,
    "ExecuteTime": {
     "end_time": "2023-07-30T11:50:04.926019Z",
     "start_time": "2023-07-30T11:50:04.902380Z"
    }
   },
   "id": "366caad663c5db95"
  },
  {
   "cell_type": "code",
   "execution_count": null,
   "outputs": [],
   "source": [],
   "metadata": {
    "collapsed": false
   },
   "id": "f61abc5de61152f6"
  }
 ],
 "metadata": {
  "kernelspec": {
   "display_name": "Python 3",
   "language": "python",
   "name": "python3"
  },
  "language_info": {
   "codemirror_mode": {
    "name": "ipython",
    "version": 2
   },
   "file_extension": ".py",
   "mimetype": "text/x-python",
   "name": "python",
   "nbconvert_exporter": "python",
   "pygments_lexer": "ipython2",
   "version": "2.7.6"
  }
 },
 "nbformat": 4,
 "nbformat_minor": 5
}
