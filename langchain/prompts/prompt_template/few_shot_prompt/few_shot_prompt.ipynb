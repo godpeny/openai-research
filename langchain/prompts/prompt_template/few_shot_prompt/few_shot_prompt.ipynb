{
 "cells": [
  {
   "cell_type": "code",
   "execution_count": 18,
   "metadata": {
    "collapsed": true,
    "ExecuteTime": {
     "end_time": "2023-07-08T14:02:46.990719Z",
     "start_time": "2023-07-08T14:02:46.987903Z"
    }
   },
   "outputs": [],
   "source": [
    "# import\n",
    "import os\n",
    "from dotenv import load_dotenv\n",
    "\n",
    "import openai\n",
    "from langchain import OpenAI\n",
    "\n",
    "from langchain.prompts.few_shot import FewShotPromptTemplate\n",
    "from langchain.prompts.prompt import PromptTemplate\n",
    "from langchain.prompts.example_selector import SemanticSimilarityExampleSelector\n",
    "from langchain.vectorstores import Chroma\n",
    "from langchain.embeddings import OpenAIEmbeddings"
   ]
  },
  {
   "cell_type": "code",
   "execution_count": 13,
   "outputs": [],
   "source": [
    "# set OpenAI API key\n",
    "load_dotenv(dotenv_path=\"../../../.env\")\n",
    "openai.api_key = os.getenv(\"OPENAI_API_KEY\")\n",
    "# set OpenAI API Key to langchain and set temperature to 0.9\n",
    "llm = OpenAI(openai_api_key=openai.api_key, temperature=0.9)"
   ],
   "metadata": {
    "collapsed": false,
    "ExecuteTime": {
     "end_time": "2023-07-08T13:54:48.028134Z",
     "start_time": "2023-07-08T13:54:48.024822Z"
    }
   }
  },
  {
   "cell_type": "code",
   "execution_count": 14,
   "outputs": [],
   "source": [
    "# Examples\n",
    "examples = [\n",
    "    {\n",
    "        \"question\": \"Who lived longer, Muhammad Ali or Alan Turing?\",\n",
    "        \"answer\":\n",
    "            \"\"\"\n",
    "            Are follow up questions needed here: Yes.\n",
    "            Follow up: How old was Muhammad Ali when he died?\n",
    "            Intermediate answer: Muhammad Ali was 74 years old when he died.\n",
    "            Follow up: How old was Alan Turing when he died?\n",
    "            Intermediate answer: Alan Turing was 41 years old when he died.\n",
    "            So the final answer is: Muhammad Ali\n",
    "            \"\"\"\n",
    "    },\n",
    "    {\n",
    "        \"question\": \"When was the founder of craigslist born?\",\n",
    "        \"answer\":\n",
    "            \"\"\"\n",
    "            Are follow up questions needed here: Yes.\n",
    "            Follow up: Who was the founder of craigslist?\n",
    "            Intermediate answer: Craigslist was founded by Craig Newmark.\n",
    "            Follow up: When was Craig Newmark born?\n",
    "            Intermediate answer: Craig Newmark was born on December 6, 1952.\n",
    "            So the final answer is: December 6, 1952\n",
    "            \"\"\"\n",
    "    },\n",
    "    {\n",
    "        \"question\": \"Who was the maternal grandfather of George Washington?\",\n",
    "        \"answer\":\n",
    "            \"\"\"\n",
    "            Are follow up questions needed here: Yes.\n",
    "            Follow up: Who was the mother of George Washington?\n",
    "            Intermediate answer: The mother of George Washington was Mary Ball Washington.\n",
    "            Follow up: Who was the father of Mary Ball Washington?\n",
    "            Intermediate answer: The father of Mary Ball Washington was Joseph Ball.\n",
    "            So the final answer is: Joseph Ball\n",
    "            \"\"\"\n",
    "    },\n",
    "    {\n",
    "        \"question\": \"Are both the directors of Jaws and Casino Royale from the same country?\",\n",
    "        \"answer\":\n",
    "            \"\"\"\n",
    "            Are follow up questions needed here: Yes.\n",
    "            Follow up: Who is the director of Jaws?\n",
    "            Intermediate Answer: The director of Jaws is Steven Spielberg.\n",
    "            Follow up: Where is Steven Spielberg from?\n",
    "            Intermediate Answer: The United States.\n",
    "            Follow up: Who is the director of Casino Royale?\n",
    "            Intermediate Answer: The director of Casino Royale is Martin Campbell.\n",
    "            Follow up: Where is Martin Campbell from?\n",
    "            Intermediate Answer: New Zealand.\n",
    "            So the final answer is: No\n",
    "            \"\"\"\n",
    "    }\n",
    "]"
   ],
   "metadata": {
    "collapsed": false,
    "ExecuteTime": {
     "end_time": "2023-07-08T13:54:48.653395Z",
     "start_time": "2023-07-08T13:54:48.651564Z"
    }
   }
  },
  {
   "cell_type": "code",
   "execution_count": 15,
   "outputs": [
    {
     "name": "stdout",
     "output_type": "stream",
     "text": [
      "Question: Who lived longer, Muhammad Ali or Alan Turing?\n",
      "\n",
      "            Are follow up questions needed here: Yes.\n",
      "            Follow up: How old was Muhammad Ali when he died?\n",
      "            Intermediate answer: Muhammad Ali was 74 years old when he died.\n",
      "            Follow up: How old was Alan Turing when he died?\n",
      "            Intermediate answer: Alan Turing was 41 years old when he died.\n",
      "            So the final answer is: Muhammad Ali\n",
      "            \n"
     ]
    }
   ],
   "source": [
    "# Create a formatter for the few shot examples\n",
    "example_prompt = PromptTemplate(input_variables=[\"question\", \"answer\"], template=\"Question: {question}\\n{answer}\")\n",
    "print(example_prompt.format(**examples[0]))"
   ],
   "metadata": {
    "collapsed": false,
    "ExecuteTime": {
     "end_time": "2023-07-08T13:54:49.314210Z",
     "start_time": "2023-07-08T13:54:49.309507Z"
    }
   }
  },
  {
   "cell_type": "code",
   "execution_count": 16,
   "outputs": [
    {
     "name": "stdout",
     "output_type": "stream",
     "text": [
      "Question: Who lived longer, Muhammad Ali or Alan Turing?\n",
      "\n",
      "            Are follow up questions needed here: Yes.\n",
      "            Follow up: How old was Muhammad Ali when he died?\n",
      "            Intermediate answer: Muhammad Ali was 74 years old when he died.\n",
      "            Follow up: How old was Alan Turing when he died?\n",
      "            Intermediate answer: Alan Turing was 41 years old when he died.\n",
      "            So the final answer is: Muhammad Ali\n",
      "            \n",
      "\n",
      "Question: When was the founder of craigslist born?\n",
      "\n",
      "            Are follow up questions needed here: Yes.\n",
      "            Follow up: Who was the founder of craigslist?\n",
      "            Intermediate answer: Craigslist was founded by Craig Newmark.\n",
      "            Follow up: When was Craig Newmark born?\n",
      "            Intermediate answer: Craig Newmark was born on December 6, 1952.\n",
      "            So the final answer is: December 6, 1952\n",
      "            \n",
      "\n",
      "Question: Who was the maternal grandfather of George Washington?\n",
      "\n",
      "            Are follow up questions needed here: Yes.\n",
      "            Follow up: Who was the mother of George Washington?\n",
      "            Intermediate answer: The mother of George Washington was Mary Ball Washington.\n",
      "            Follow up: Who was the father of Mary Ball Washington?\n",
      "            Intermediate answer: The father of Mary Ball Washington was Joseph Ball.\n",
      "            So the final answer is: Joseph Ball\n",
      "            \n",
      "\n",
      "Question: Are both the directors of Jaws and Casino Royale from the same country?\n",
      "\n",
      "            Are follow up questions needed here: Yes.\n",
      "            Follow up: Who is the director of Jaws?\n",
      "            Intermediate Answer: The director of Jaws is Steven Spielberg.\n",
      "            Follow up: Where is Steven Spielberg from?\n",
      "            Intermediate Answer: The United States.\n",
      "            Follow up: Who is the director of Casino Royale?\n",
      "            Intermediate Answer: The director of Casino Royale is Martin Campbell.\n",
      "            Follow up: Where is Martin Campbell from?\n",
      "            Intermediate Answer: New Zealand.\n",
      "            So the final answer is: No\n",
      "            \n",
      "\n",
      "Question: Who was the father of Mary Ball Washington?\n"
     ]
    }
   ],
   "source": [
    "# Feed examples and formatter to FewShotPromptTemplate\n",
    "prompt = FewShotPromptTemplate(\n",
    "    examples=examples,\n",
    "    example_prompt=example_prompt,\n",
    "    suffix=\"Question: {input}\",\n",
    "    input_variables=[\"input\"]\n",
    ")\n",
    "\n",
    "print(prompt.format(input=\"Who was the father of Mary Ball Washington?\"))"
   ],
   "metadata": {
    "collapsed": false,
    "ExecuteTime": {
     "end_time": "2023-07-08T13:56:22.372729Z",
     "start_time": "2023-07-08T13:56:22.361440Z"
    }
   }
  },
  {
   "cell_type": "code",
   "execution_count": 20,
   "outputs": [],
   "source": [
    "# Feed examples into ExampleSelector\n",
    "# 'SemanticSimilarityExampleSelector' selects few shot examples based on their similarity to the input\n",
    "example_selector = SemanticSimilarityExampleSelector.from_examples(\n",
    "    # This is the list of examples available to select from.\n",
    "    examples,\n",
    "    # This is the embedding class used to produce embeddings which are used to measure semantic similarity.\n",
    "    OpenAIEmbeddings(),\n",
    "    # This is the VectorStore class that is used to store the embeddings and do a similarity search over.\n",
    "    Chroma,\n",
    "    # This is the number of examples to produce.\n",
    "    k=1\n",
    ")"
   ],
   "metadata": {
    "collapsed": false,
    "ExecuteTime": {
     "end_time": "2023-07-08T14:04:08.327932Z",
     "start_time": "2023-07-08T14:04:04.204463Z"
    }
   }
  },
  {
   "cell_type": "code",
   "execution_count": 21,
   "outputs": [
    {
     "name": "stdout",
     "output_type": "stream",
     "text": [
      "Examples most similar to the input: Who was the father of Mary Ball Washington?\n",
      "\n",
      "\n",
      "question: Who was the maternal grandfather of George Washington?\n",
      "answer: \n",
      "            Are follow up questions needed here: Yes.\n",
      "            Follow up: Who was the mother of George Washington?\n",
      "            Intermediate answer: The mother of George Washington was Mary Ball Washington.\n",
      "            Follow up: Who was the father of Mary Ball Washington?\n",
      "            Intermediate answer: The father of Mary Ball Washington was Joseph Ball.\n",
      "            So the final answer is: Joseph Ball\n",
      "            \n"
     ]
    }
   ],
   "source": [
    "# Select the most similar example to the input.\n",
    "question = \"Who was the father of Mary Ball Washington?\"\n",
    "selected_examples = example_selector.select_examples({\"question\": question})\n",
    "print(f\"Examples most similar to the input: {question}\")\n",
    "for example in selected_examples:\n",
    "    print(\"\\n\")\n",
    "    for k, v in example.items():\n",
    "        print(f\"{k}: {v}\")"
   ],
   "metadata": {
    "collapsed": false,
    "ExecuteTime": {
     "end_time": "2023-07-08T14:04:31.910118Z",
     "start_time": "2023-07-08T14:04:31.550389Z"
    }
   }
  },
  {
   "cell_type": "code",
   "execution_count": null,
   "outputs": [],
   "source": [],
   "metadata": {
    "collapsed": false
   }
  }
 ],
 "metadata": {
  "kernelspec": {
   "display_name": "Python 3",
   "language": "python",
   "name": "python3"
  },
  "language_info": {
   "codemirror_mode": {
    "name": "ipython",
    "version": 2
   },
   "file_extension": ".py",
   "mimetype": "text/x-python",
   "name": "python",
   "nbconvert_exporter": "python",
   "pygments_lexer": "ipython2",
   "version": "2.7.6"
  }
 },
 "nbformat": 4,
 "nbformat_minor": 0
}
