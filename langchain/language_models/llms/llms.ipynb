{
 "cells": [
  {
   "cell_type": "code",
   "execution_count": 1,
   "id": "initial_id",
   "metadata": {
    "collapsed": true,
    "ExecuteTime": {
     "end_time": "2023-08-04T13:36:02.172486Z",
     "start_time": "2023-08-04T13:36:00.809476Z"
    }
   },
   "outputs": [],
   "source": [
    "import os\n",
    "from dotenv import load_dotenv\n",
    "\n",
    "import openai\n",
    "from langchain import OpenAI"
   ]
  },
  {
   "cell_type": "code",
   "execution_count": 2,
   "outputs": [],
   "source": [
    "# set OpenAI API key\n",
    "load_dotenv(dotenv_path=\"../../.env\")\n",
    "openai.api_key = os.getenv(\"OPENAI_API_KEY\")\n",
    "# set OpenAI API Key to langchain and set temperature to 0.9\n",
    "llm = OpenAI(openai_api_key=openai.api_key, temperature=0.9)"
   ],
   "metadata": {
    "collapsed": false,
    "ExecuteTime": {
     "end_time": "2023-08-04T13:36:12.914092Z",
     "start_time": "2023-08-04T13:36:12.907449Z"
    }
   },
   "id": "f368c3d739842a64"
  },
  {
   "cell_type": "code",
   "execution_count": 3,
   "outputs": [
    {
     "data": {
      "text/plain": "'\\n\\nQ: What did the fish say when it hit the wall?\\nA: Dam!'"
     },
     "execution_count": 3,
     "metadata": {},
     "output_type": "execute_result"
    }
   ],
   "source": [
    "llm(\"Tell me a joke\")"
   ],
   "metadata": {
    "collapsed": false,
    "ExecuteTime": {
     "end_time": "2023-08-04T13:36:59.604947Z",
     "start_time": "2023-08-04T13:36:57.970746Z"
    }
   },
   "id": "4c30a7d3514c1696"
  },
  {
   "cell_type": "code",
   "execution_count": 4,
   "outputs": [],
   "source": [
    "llm_result = llm.generate([\"Tell me a joke\", \"Tell me a poem\"]*15)"
   ],
   "metadata": {
    "collapsed": false,
    "ExecuteTime": {
     "end_time": "2023-08-04T13:41:18.553782Z",
     "start_time": "2023-08-04T13:41:04.735710Z"
    }
   },
   "id": "4ead1658fc253683"
  },
  {
   "cell_type": "code",
   "execution_count": 9,
   "outputs": [
    {
     "data": {
      "text/plain": "[[Generation(text='\\n\\nQ: What do you call a bear with no teeth?\\nA: A gummy bear!', generation_info={'finish_reason': 'stop', 'logprobs': None})],\n [Generation(text='\\n\\nRoses are red,\\nViolets are blue,\\nSugar is sweet,\\nAnd so are you!', generation_info={'finish_reason': 'stop', 'logprobs': None})],\n [Generation(text='\\n\\nQ: What did the fish say when it hit the wall?\\nA: Dam!', generation_info={'finish_reason': 'stop', 'logprobs': None})],\n [Generation(text=\"\\n\\nWee Willie Winkie,\\nRuns through the town, \\nUpstairs and downstairs, \\nIn his nightgown. \\n\\nRapping at the window, \\nCrying at the lock, \\nAre the children in their beds, \\nFor now it's eight o'clock.\", generation_info={'finish_reason': 'stop', 'logprobs': None})],\n [Generation(text='\\n\\nQ: Why did the chicken cross the playground?\\nA: To get to the other slide!', generation_info={'finish_reason': 'stop', 'logprobs': None})],\n [Generation(text='\\n\\nRoses are red,\\nViolets are blue,\\nSugar is sweet,\\nAnd so are you.', generation_info={'finish_reason': 'stop', 'logprobs': None})],\n [Generation(text=\"\\n\\nQ: Why don't scientists trust atoms? \\nA: Because they make up everything!\", generation_info={'finish_reason': 'stop', 'logprobs': None})],\n [Generation(text=\"\\n\\nI wandered lonely as a cloud\\nThat floats on high o'er vales and hills,\\nWhen all at once I saw a crowd,\\nA host, of golden daffodils;\\nBeside the lake, beneath the trees,\\nFluttering and dancing in the breeze.\\n\\nContinuous as the stars that shine\\nAnd twinkle on the milky way,\\nThey stretched in never-ending line\\nAlong the margin of a bay:\\nTen thousand saw I at a glance,\\nTossing their heads in sprightly dance.\\n\\nThe waves beside them danced; but they\\nOut-did the sparkling waves in glee:\\nA poet could not but be gay,\\nIn such a jocund company:\\nI gazed—and gazed—but little thought\\nWhat wealth the show to me had brought:\\n\\nFor oft, when on my couch I lie\\nIn vacant or in pensive mood,\\nThey flash upon that inward eye\\nWhich is the bliss of solitude;\\nAnd then my heart with pleasure fills,\\nAnd dances with the daffodils.\\n\\n--William Wordsworth\", generation_info={'finish_reason': 'stop', 'logprobs': None})],\n [Generation(text='\\n\\nQ: Why did the chicken go to the séance?\\nA: To get to the other side.', generation_info={'finish_reason': 'stop', 'logprobs': None})],\n [Generation(text='\\n\\nRoses are red, violets are blue\\nSugar is sweet and so are you\\nThou art my heart and I am thine\\nWe belong together, as summer and wine', generation_info={'finish_reason': 'stop', 'logprobs': None})],\n [Generation(text='\\n\\nQ: What did one firefly say to the other?\\nA: \"Got to glow now, see you later!\"', generation_info={'finish_reason': 'stop', 'logprobs': None})],\n [Generation(text='\\n\\nRoses are red,\\nViolets are blue,\\nSugar is sweet,\\nAnd so are you.', generation_info={'finish_reason': 'stop', 'logprobs': None})],\n [Generation(text='\\n\\nQ: What did the fish say when it hit the wall?\\nA: Dam!', generation_info={'finish_reason': 'stop', 'logprobs': None})],\n [Generation(text='\\n\\nRoses are red,\\nViolets are blue,\\nSugar is sweet,\\nAnd so are you!', generation_info={'finish_reason': 'stop', 'logprobs': None})],\n [Generation(text='\\n\\nQ: What did the fish say when it hit the wall?\\nA: Dam!', generation_info={'finish_reason': 'stop', 'logprobs': None})],\n [Generation(text='\\n\\nRoses are red,\\nViolets are blue,\\nSugar is sweet,\\nAnd so are you.', generation_info={'finish_reason': 'stop', 'logprobs': None})],\n [Generation(text='\\n\\nQ: What did the fish say when he hit the wall?\\nA: Dam!', generation_info={'finish_reason': 'stop', 'logprobs': None})],\n [Generation(text='\\n\\nRoses are red\\nViolets are blue\\nSugar is sweet\\nAnd so are you!', generation_info={'finish_reason': 'stop', 'logprobs': None})],\n [Generation(text='\\n\\nQ: Why did the chicken go to the séance?\\nA: To get to the other side.', generation_info={'finish_reason': 'stop', 'logprobs': None})],\n [Generation(text='\\n\\nRoses are red,\\nViolets are blue,\\nSugar is sweet,\\nAnd so are you.', generation_info={'finish_reason': 'stop', 'logprobs': None})],\n [Generation(text=\"\\n\\nQ: What did one wall say to the other wall?\\nA: I'll meet you at the corner!\", generation_info={'finish_reason': 'stop', 'logprobs': None})],\n [Generation(text='\\n\\nRoses are red, \\nViolets are blue,\\nSugar is sweet,\\nAnd so are you.', generation_info={'finish_reason': 'stop', 'logprobs': None})],\n [Generation(text='\\n\\nQ: Why did the scarecrow win an award?\\nA: Because he was outstanding in his field!', generation_info={'finish_reason': 'stop', 'logprobs': None})],\n [Generation(text='\\n\\nRoses are red,\\nViolets are blue,\\nSugar is sweet,\\nAnd so are you.', generation_info={'finish_reason': 'stop', 'logprobs': None})],\n [Generation(text=\"\\n\\nQ: Why don't scientists trust atoms?\\nA: Because they make up everything!\", generation_info={'finish_reason': 'stop', 'logprobs': None})],\n [Generation(text='\\n\\nRoses are red,\\nViolets are blue,\\nSugar is sweet,\\nAnd so are you!', generation_info={'finish_reason': 'stop', 'logprobs': None})],\n [Generation(text='\\n\\nQ: What did one ocean say to the other?\\nA: Nothing, they just waved.', generation_info={'finish_reason': 'stop', 'logprobs': None})],\n [Generation(text=\"\\n\\nI wandered lonely as a cloud\\n\\nThat floats on high o'er vales and hills,\\n\\nWhen all at once I saw a crowd,\\n\\nA host, of golden daffodils;\\n\\nBeside the lake, beneath the trees,\\nFluttering and dancing in the breeze.\\n\\nContinuous as the stars that shine\\nAnd twinkle on the milky way,\\nThey stretched in never-ending line\\nAlong the margin of a bay:\\nTen thousand saw I at a glance,\\nTossing their heads in sprightly dance.\\n\\nThe waves beside them danced, but they\\nOut-did the sparkling waves in glee:\\nA poet could not but be gay,\\nIn such a jocund company:\\nI gazed—and gazed—but little thought\\nWhat wealth the show to me had brought:\\n\\nFor oft, when on my couch I lie\\nIn vacant or in pensive mood,\\nThey flash upon that inward eye\\nWhich is the bliss of solitude;\\nAnd then my heart with pleasure fills,\\nAnd dances with the daffodils.\\n\\n-William Wordsworth, Daffodils\", generation_info={'finish_reason': 'stop', 'logprobs': None})],\n [Generation(text='\\n\\nQ: What did the fish say when it hit the wall?\\nA: Dam!', generation_info={'finish_reason': 'stop', 'logprobs': None})],\n [Generation(text='\\n\\nRoses are red,\\nViolets are blue,\\nSugar is sweet,\\nAnd so are you.', generation_info={'finish_reason': 'stop', 'logprobs': None})]]"
     },
     "execution_count": 9,
     "metadata": {},
     "output_type": "execute_result"
    }
   ],
   "source": [
    "llm_result.generations"
   ],
   "metadata": {
    "collapsed": false,
    "ExecuteTime": {
     "end_time": "2023-08-04T13:42:24.852459Z",
     "start_time": "2023-08-04T13:42:24.847564Z"
    }
   },
   "id": "d3f798fa97a15a11"
  },
  {
   "cell_type": "code",
   "execution_count": 8,
   "outputs": [
    {
     "data": {
      "text/plain": "[Generation(text='\\n\\nQ: What do you call a bear with no teeth?\\nA: A gummy bear!', generation_info={'finish_reason': 'stop', 'logprobs': None})]"
     },
     "execution_count": 8,
     "metadata": {},
     "output_type": "execute_result"
    }
   ],
   "source": [
    "llm_result.generations[0]"
   ],
   "metadata": {
    "collapsed": false,
    "ExecuteTime": {
     "end_time": "2023-08-04T13:42:17.297511Z",
     "start_time": "2023-08-04T13:42:17.283484Z"
    }
   },
   "id": "328ed943b41b32a0"
  },
  {
   "cell_type": "code",
   "execution_count": null,
   "outputs": [],
   "source": [],
   "metadata": {
    "collapsed": false
   },
   "id": "f8fa4eff6b32fded"
  }
 ],
 "metadata": {
  "kernelspec": {
   "display_name": "Python 3",
   "language": "python",
   "name": "python3"
  },
  "language_info": {
   "codemirror_mode": {
    "name": "ipython",
    "version": 2
   },
   "file_extension": ".py",
   "mimetype": "text/x-python",
   "name": "python",
   "nbconvert_exporter": "python",
   "pygments_lexer": "ipython2",
   "version": "2.7.6"
  }
 },
 "nbformat": 4,
 "nbformat_minor": 5
}
