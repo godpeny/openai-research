{
 "cells": [
  {
   "cell_type": "code",
   "execution_count": 1,
   "id": "initial_id",
   "metadata": {
    "collapsed": true,
    "ExecuteTime": {
     "end_time": "2023-08-05T10:10:14.829678Z",
     "start_time": "2023-08-05T10:10:14.118151Z"
    }
   },
   "outputs": [],
   "source": [
    "import os\n",
    "from dotenv import load_dotenv\n",
    "\n",
    "import openai\n",
    "\n",
    "from langchain.chat_models import ChatOpenAI\n",
    "from langchain.schema import (\n",
    "    HumanMessage,\n",
    ")\n",
    "from langchain.callbacks.streaming_stdout import StreamingStdOutCallbackHandler"
   ]
  },
  {
   "cell_type": "code",
   "execution_count": 2,
   "outputs": [],
   "source": [
    "# set OpenAI API key\n",
    "load_dotenv(dotenv_path=\"../../.env\")\n",
    "openai.api_key = os.getenv(\"OPENAI_API_KEY\")\n",
    "# set OpenAI API Key to langchain and set temperature to 0.9\n",
    "chat = ChatOpenAI(openai_api_key=openai.api_key, streaming=True, callbacks=[StreamingStdOutCallbackHandler()], temperature=0)"
   ],
   "metadata": {
    "collapsed": false,
    "ExecuteTime": {
     "end_time": "2023-08-05T10:10:15.604054Z",
     "start_time": "2023-08-05T10:10:15.600632Z"
    }
   },
   "id": "f368c3d739842a64"
  },
  {
   "cell_type": "code",
   "execution_count": 3,
   "outputs": [
    {
     "name": "stdout",
     "output_type": "stream",
     "text": [
      "(Verse 1)\n",
      "In a world of thirst, where the sun shines bright,\n",
      "There's a drink that brings delight, day or night.\n",
      "Bubbles dancing, effervescent delight,\n",
      "It's the magic in a bottle, sparkling water's light.\n",
      "(Pre-Chorus)\n",
      "Clear as crystal, refreshing to the core,\n",
      "Quenching our desires, leaving us wanting more.\n",
      "With every sip, a symphony of fizz,\n",
      "Sparkling water, you're the ultimate bliss.\n",
      "\n",
      "(Chorus)\n",
      "Oh, sparkling water, you're a sparkling dream,\n",
      "Bursting with life, like a bubbling stream.\n",
      "You're the sparkle in my day, the fizz in my night,\n",
      "With you by my side, everything feels right.\n",
      "(Verse 2)\n",
      "From the mountains high, where springs do flow,\n",
      "Comes this liquid magic, a heavenly show.\n",
      "Tiny bubbles rise, like stars in the sky,\n",
      "Tickling my senses, as they pass me by.\n",
      "(Pre-Chorus)\n",
      "A burst of freshness, a taste so pure,\n",
      "Quenching my thirst, making me feel secure.\n",
      "With every sip, a symphony of fizz,\n",
      "Sparkling water, you're the ultimate bliss.\n",
      "(Chorus)\n",
      "Oh, sparkling water, you're a sparkling dream,\n",
      "Bursting with life, like a bubbling stream.\n",
      "You're the sparkle in my day, the fizz in my night,\n",
      "With you by my side, everything feels right.\n",
      "(Bridge)\n",
      "In a world of choices, you stand tall,\n",
      "No added sugar, no worries at all.\n",
      "A healthy companion, a guilt-free pleasure,\n",
      "You're the drink that brings joy, beyond measure.\n",
      "\n",
      "(Chorus)\n",
      "Oh, sparkling water, you're a sparkling dream,\n",
      "Bursting with life, like a bubbling stream.\n",
      "You're the sparkle in my day, the fizz in my night,\n",
      "With you by my side, everything feels right.\n",
      "\n",
      "(Outro)\n",
      "So let's raise a glass, filled with sparkling delight,\n",
      "To the magic in a bottle, shining so bright.\n",
      "Sparkling water, you're the drink of my heart,\n",
      "Forever sparkling, never to depart."
     ]
    }
   ],
   "source": [
    "resp = chat([HumanMessage(content=\"Write me a song about sparkling water.\")])"
   ],
   "metadata": {
    "collapsed": false,
    "ExecuteTime": {
     "end_time": "2023-08-05T10:10:36.821207Z",
     "start_time": "2023-08-05T10:10:20.182982Z"
    }
   },
   "id": "7edc5e581b84fb9"
  },
  {
   "cell_type": "code",
   "execution_count": null,
   "outputs": [],
   "source": [],
   "metadata": {
    "collapsed": false
   },
   "id": "82aec91fc61970d0"
  }
 ],
 "metadata": {
  "kernelspec": {
   "display_name": "Python 3",
   "language": "python",
   "name": "python3"
  },
  "language_info": {
   "codemirror_mode": {
    "name": "ipython",
    "version": 2
   },
   "file_extension": ".py",
   "mimetype": "text/x-python",
   "name": "python",
   "nbconvert_exporter": "python",
   "pygments_lexer": "ipython2",
   "version": "2.7.6"
  }
 },
 "nbformat": 4,
 "nbformat_minor": 5
}
