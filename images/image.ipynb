{
 "cells": [
  {
   "cell_type": "code",
   "execution_count": 1,
   "metadata": {
    "collapsed": true,
    "ExecuteTime": {
     "start_time": "2023-05-05T23:47:45.426355Z",
     "end_time": "2023-05-05T23:47:52.435940Z"
    }
   },
   "outputs": [
    {
     "name": "stdout",
     "output_type": "stream",
     "text": [
      "https://oaidalleapiprodscus.blob.core.windows.net/private/org-4V8yM37vQ7nRN3YIwk25IyCJ/user-GrBRiTCmIT3X4WiyG9ojAunC/img-cspTrR5TMAZMYJQ3WU8ssHye.png?st=2023-05-05T13%3A47%3A52Z&se=2023-05-05T15%3A47%3A52Z&sp=r&sv=2021-08-06&sr=b&rscd=inline&rsct=image/png&skoid=6aaadede-4fb3-4698-a8f6-684d7786b067&sktid=a48cca56-e6da-484e-a814-9c849652bcb3&skt=2023-05-05T04%3A48%3A08Z&ske=2023-05-06T04%3A48%3A08Z&sks=b&skv=2021-08-06&sig=f/8gXvmDBTw22uzltNi05TPk%2BPmAEiBvSYFWZN%2BdrjE%3D\n"
     ]
    }
   ],
   "source": [
    "import os\n",
    "import openai\n",
    "from dotenv import load_dotenv\n",
    "\n",
    "load_dotenv()\n",
    "openai.api_key = os.getenv(\"OPENAI_API_KEY\")\n",
    "\n",
    "response = openai.Image.create(\n",
    "    prompt=\"a white siamese cat\",\n",
    "    n=1,\n",
    "    size=\"256x256\"\n",
    ")\n",
    "image_url = response['data'][0]['url']\n",
    "print(image_url)"
   ]
  },
  {
   "cell_type": "code",
   "execution_count": null,
   "outputs": [],
   "source": [
    "# edit\n",
    "# TODO(@godpeny) : not working properly. guessed it is 'openai''s issue.\n",
    "response = openai.Image.create_edit(\n",
    "    image=open(\"img.png\", \"rb\"),\n",
    "    mask=open(\"mask.png\", \"rb\"),\n",
    "    prompt=\"A sunlit indoor lounge area with a pool containing a chair\",\n",
    "    n=1,\n",
    "    size=\"256x256\"\n",
    ")\n",
    "image_url = response['data'][0]['url']\n",
    "print(image_url)"
   ],
   "metadata": {
    "collapsed": false
   }
  },
  {
   "cell_type": "code",
   "execution_count": null,
   "outputs": [],
   "source": [
    "# variation\n",
    "response = openai.Image.create_variation(\n",
    "    image=open(\"corgi_and_cat_paw.png\", \"rb\"),\n",
    "    n=1,\n",
    "    size=\"1024x1024\"\n",
    ")\n",
    "image_url = response['data'][0]['url']\n",
    "print(image_url)"
   ],
   "metadata": {
    "collapsed": false
   }
  },
  {
   "cell_type": "code",
   "execution_count": null,
   "outputs": [],
   "source": [
    "# bytes\n",
    "from io import BytesIO\n",
    "from PIL import Image\n",
    "\n",
    "# Read the image file from disk and resize it\n",
    "image = Image.open(\"corgi_and_cat_paw.png\")\n",
    "width, height = 256, 256\n",
    "image = image.resize((width, height))\n",
    "\n",
    "# Convert the image to a BytesIO object\n",
    "byte_stream = BytesIO()\n",
    "image.save(byte_stream, format='PNG')\n",
    "byte_array = byte_stream.getvalue()\n",
    "\n",
    "response = openai.Image.create_variation(\n",
    "    image=byte_array,\n",
    "    n=1,\n",
    "    size=\"1024x1024\"\n",
    ")\n",
    "image_url = response['data'][0]['url']"
   ],
   "metadata": {
    "collapsed": false
   }
  }
 ],
 "metadata": {
  "kernelspec": {
   "display_name": "Python 3",
   "language": "python",
   "name": "python3"
  },
  "language_info": {
   "codemirror_mode": {
    "name": "ipython",
    "version": 2
   },
   "file_extension": ".py",
   "mimetype": "text/x-python",
   "name": "python",
   "nbconvert_exporter": "python",
   "pygments_lexer": "ipython2",
   "version": "2.7.6"
  }
 },
 "nbformat": 4,
 "nbformat_minor": 0
}
