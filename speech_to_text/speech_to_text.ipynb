{
 "cells": [
  {
   "cell_type": "code",
   "execution_count": 13,
   "outputs": [],
   "source": [
    "# imports\n",
    "from dotenv import load_dotenv\n",
    "import os\n",
    "\n",
    "import openai\n",
    "\n",
    "from pydub import AudioSegment"
   ],
   "metadata": {
    "collapsed": false,
    "ExecuteTime": {
     "end_time": "2023-06-24T15:10:17.274299Z",
     "start_time": "2023-06-24T15:10:17.272301Z"
    }
   }
  },
  {
   "cell_type": "code",
   "execution_count": 14,
   "outputs": [],
   "source": [
    "# set OpenAI API key\n",
    "load_dotenv()\n",
    "openai.api_key = os.getenv(\"OPENAI_API_KEY\")"
   ],
   "metadata": {
    "collapsed": false,
    "ExecuteTime": {
     "end_time": "2023-06-24T15:10:17.283642Z",
     "start_time": "2023-06-24T15:10:17.274585Z"
    }
   }
  },
  {
   "cell_type": "code",
   "execution_count": 15,
   "outputs": [],
   "source": [
    "# load data\n",
    "audio_file= open(\"./audio1.m4a\", \"rb\")\n",
    "transcript = openai.Audio.transcribe(\"whisper-1\", audio_file)"
   ],
   "metadata": {
    "collapsed": false,
    "ExecuteTime": {
     "end_time": "2023-06-24T15:10:18.883422Z",
     "start_time": "2023-06-24T15:10:17.278989Z"
    }
   }
  },
  {
   "cell_type": "code",
   "execution_count": 16,
   "outputs": [
    {
     "data": {
      "text/plain": "<OpenAIObject at 0x1112d65d0> JSON: {\n  \"text\": \"Hello, my name is Penny. I'm living in Pangyo, Korea.\"\n}"
     },
     "execution_count": 16,
     "metadata": {},
     "output_type": "execute_result"
    }
   ],
   "source": [
    "transcript # print transcript"
   ],
   "metadata": {
    "collapsed": false,
    "ExecuteTime": {
     "end_time": "2023-06-24T15:10:18.887183Z",
     "start_time": "2023-06-24T15:10:18.883665Z"
    }
   }
  },
  {
   "cell_type": "markdown",
   "source": [],
   "metadata": {
    "collapsed": false
   }
  },
  {
   "cell_type": "code",
   "execution_count": 17,
   "outputs": [],
   "source": [
    "audio_file2= open(\"./audio2.m4a\", \"rb\")\n",
    "translate = openai.Audio.translate(\"whisper-1\", audio_file2)"
   ],
   "metadata": {
    "collapsed": false,
    "ExecuteTime": {
     "end_time": "2023-06-24T15:10:19.982954Z",
     "start_time": "2023-06-24T15:10:18.888514Z"
    }
   }
  },
  {
   "cell_type": "code",
   "execution_count": 18,
   "outputs": [
    {
     "data": {
      "text/plain": "<OpenAIObject at 0x1112d5af0> JSON: {\n  \"text\": \"Hi, my name is Penny. I live in Pangyo, South Korea.\"\n}"
     },
     "execution_count": 18,
     "metadata": {},
     "output_type": "execute_result"
    }
   ],
   "source": [
    "translate # print translate"
   ],
   "metadata": {
    "collapsed": false,
    "ExecuteTime": {
     "end_time": "2023-06-24T15:10:19.989430Z",
     "start_time": "2023-06-24T15:10:19.982295Z"
    }
   }
  },
  {
   "cell_type": "code",
   "execution_count": 36,
   "outputs": [
    {
     "data": {
      "text/plain": "<_io.BufferedRandom name='first_10.mp3'>"
     },
     "execution_count": 36,
     "metadata": {},
     "output_type": "execute_result"
    }
   ],
   "source": [
    "# if audio is long, split into chunks\n",
    "longAudio = AudioSegment.from_mp3(\"./audio3.mp3\")\n",
    "# PyDub handles time in milliseconds\n",
    "ten_seconds = 10000\n",
    "first_10_seconds = longAudio[:ten_seconds]\n",
    "# save first 10 seconds chunk\n",
    "first_10_seconds.export(\"first_10.mp3\", format=\"mp3\")"
   ],
   "metadata": {
    "collapsed": false,
    "ExecuteTime": {
     "end_time": "2023-06-24T15:21:36.783932Z",
     "start_time": "2023-06-24T15:21:36.579979Z"
    }
   }
  },
  {
   "cell_type": "code",
   "execution_count": 37,
   "outputs": [],
   "source": [
    "audio_file3= open(\"./first_10.mp3\", \"rb\")\n",
    "transcript3 = openai.Audio.transcribe(\"whisper-1\", audio_file3)"
   ],
   "metadata": {
    "collapsed": false,
    "ExecuteTime": {
     "end_time": "2023-06-24T15:21:41.562308Z",
     "start_time": "2023-06-24T15:21:38.834012Z"
    }
   }
  },
  {
   "cell_type": "code",
   "execution_count": 38,
   "outputs": [
    {
     "data": {
      "text/plain": "<OpenAIObject at 0x111dc2090> JSON: {\n  \"text\": \"\\uba39\\uc744 \\ud150\\ub370... \\uc790, \\uc624\\ub298\\uc740 \\ub418\\uac8c \\uc624\\ub79c\\ub9cc\\uc5d0 \\uba39\\uc744 \\ud150\\ub370\\ub97c \\ucd2c\\uc601\\ud558\\ub294 \\uac83 \\uac19\\uc740\\ub370 \\uc6d0\\uc8fc\\ub85c 153\\uae38?\"\n}"
     },
     "execution_count": 38,
     "metadata": {},
     "output_type": "execute_result"
    }
   ],
   "source": [
    "transcript3  # print transcript (will not show text because language is Korean)"
   ],
   "metadata": {
    "collapsed": false,
    "ExecuteTime": {
     "end_time": "2023-06-24T15:21:42.136173Z",
     "start_time": "2023-06-24T15:21:42.131664Z"
    }
   }
  },
  {
   "cell_type": "code",
   "execution_count": 39,
   "outputs": [],
   "source": [
    "audio_file3= open(\"./first_10.mp3\", \"rb\")\n",
    "translate = openai.Audio.translate(\"whisper-1\", audio_file3)"
   ],
   "metadata": {
    "collapsed": false,
    "ExecuteTime": {
     "end_time": "2023-06-24T15:21:44.532042Z",
     "start_time": "2023-06-24T15:21:43.079026Z"
    }
   }
  },
  {
   "cell_type": "code",
   "execution_count": 40,
   "outputs": [
    {
     "data": {
      "text/plain": "<OpenAIObject at 0x11573eb70> JSON: {\n  \"text\": \"I'm going to eat... Today... I haven't filmed a video of me eating in a while. 153km to Wonju?\"\n}"
     },
     "execution_count": 40,
     "metadata": {},
     "output_type": "execute_result"
    }
   ],
   "source": [
    "translate # print translate"
   ],
   "metadata": {
    "collapsed": false,
    "ExecuteTime": {
     "end_time": "2023-06-24T15:21:45.185579Z",
     "start_time": "2023-06-24T15:21:45.178759Z"
    }
   }
  },
  {
   "cell_type": "code",
   "execution_count": null,
   "outputs": [],
   "source": [],
   "metadata": {
    "collapsed": false
   }
  }
 ],
 "metadata": {
  "kernelspec": {
   "display_name": "Python 3",
   "language": "python",
   "name": "python3"
  },
  "language_info": {
   "codemirror_mode": {
    "name": "ipython",
    "version": 2
   },
   "file_extension": ".py",
   "mimetype": "text/x-python",
   "name": "python",
   "nbconvert_exporter": "python",
   "pygments_lexer": "ipython2",
   "version": "2.7.6"
  }
 },
 "nbformat": 4,
 "nbformat_minor": 0
}
