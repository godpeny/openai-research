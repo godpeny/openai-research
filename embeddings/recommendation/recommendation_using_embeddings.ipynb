{
 "cells": [
  {
   "cell_type": "code",
   "execution_count": null,
   "metadata": {
    "collapsed": true
   },
   "outputs": [],
   "source": [
    "# import\n",
    "from dotenv import load_dotenv\n",
    "import os\n",
    "\n",
    "import pandas as pd\n",
    "import numpy as np\n",
    "import pickle\n",
    "\n",
    "import openai\n",
    "from openai.embeddings_utils import (\n",
    "    get_embedding,\n",
    "    distances_from_embeddings,\n",
    "    tsne_components_from_embeddings,\n",
    "    chart_from_components,\n",
    "    indices_of_nearest_neighbors_from_distances,\n",
    ")"
   ]
  },
  {
   "cell_type": "code",
   "execution_count": null,
   "outputs": [],
   "source": [
    "# set OpenAI API key\n",
    "load_dotenv()\n",
    "openai.api_key = os.getenv(\"OPENAI_API_KEY\")\n",
    "\n",
    "# constants\n",
    "EMBEDDING_MODEL = \"text-embedding-ada-002\""
   ],
   "metadata": {
    "collapsed": false
   }
  },
  {
   "cell_type": "code",
   "execution_count": null,
   "outputs": [],
   "source": [
    "# load data (full dataset available at http://groups.di.unipi.it/~gulli/AG_corpus_of_news_articles.html)\n",
    "dataset_path = \"data/AG_news_samples.csv\"\n",
    "df = pd.read_csv(dataset_path)\n",
    "\n",
    "# print dataframe\n",
    "print(len(df))\n",
    "n_examples = 5\n",
    "df.head(n_examples)"
   ],
   "metadata": {
    "collapsed": false
   }
  },
  {
   "cell_type": "code",
   "execution_count": null,
   "outputs": [],
   "source": [
    "# Build cache to save embeddings\n",
    "# Before getting embeddings for these articles, let's set up a cache to save the embeddings we generate. In general, it's a good idea to save your embeddings so you can re-use them later. If you don't save them, you'll pay again each time you compute them again.\n",
    "\n",
    "# establish a cache of embeddings to avoid recomputing\n",
    "# cache is a dict of tuples (text, model) -> embedding, saved as a pickle file\n",
    "\n",
    "# set path to embedding cache\n",
    "embedding_cache_path = \"data/recommendations_embeddings_cache.pkl\"\n",
    "\n",
    "# load the cache if it exists, and save a copy to disk\n",
    "try:\n",
    "    embedding_cache = pd.read_pickle(embedding_cache_path)\n",
    "except FileNotFoundError:\n",
    "    embedding_cache = {}\n",
    "with open(embedding_cache_path, \"wb\") as embedding_cache_file:\n",
    "    pickle.dump(embedding_cache, embedding_cache_file)\n",
    "\n",
    "embedding_cache # print cache"
   ],
   "metadata": {
    "collapsed": false
   }
  },
  {
   "cell_type": "code",
   "execution_count": null,
   "outputs": [],
   "source": [
    "# retrieve embeddings from the cache if present, and otherwise request via the API\n",
    "def embedding_from_string(\n",
    "        string: str,\n",
    "        model: str = EMBEDDING_MODEL,\n",
    "        embedding_cache=embedding_cache\n",
    ") -> list:\n",
    "    # Return embedding of given string, using a cache to avoid recomputing.\n",
    "    if (string, model) not in embedding_cache.keys():\n",
    "        embedding_cache[(string, model)] = get_embedding(string, model)\n",
    "        with open(embedding_cache_path, \"wb\") as embedding_cache_file:\n",
    "            pickle.dump(embedding_cache, embedding_cache_file)\n",
    "    return embedding_cache[(string, model)]"
   ],
   "metadata": {
    "collapsed": false
   }
  },
  {
   "cell_type": "code",
   "execution_count": null,
   "outputs": [],
   "source": [
    "# as an example, take the first description from the dataset\n",
    "example_string = df[\"description\"].values[0]\n",
    "print(f\"\\nExample string: {example_string}\")\n",
    "\n",
    "# print the first 10 dimensions of the embedding\n",
    "example_embedding = embedding_from_string(example_string)\n",
    "print(len(example_embedding))\n",
    "print(f\"\\nExample embedding: {example_embedding[:10]}...\")"
   ],
   "metadata": {
    "collapsed": false
   }
  },
  {
   "cell_type": "code",
   "execution_count": null,
   "outputs": [],
   "source": [
    "# Recommend similar articles based on embeddings\n",
    "# 1.Get the similarity embeddings of all the article descriptions\n",
    "# 2.Calculate the distance between a source title and all other articles\n",
    "# 3.Print out the other articles closest to the source title\n",
    "\n",
    "def print_recommendations_from_strings(\n",
    "        strings: list[str],\n",
    "        index_of_source_string: int,\n",
    "        k_nearest_neighbors: int = 1,\n",
    "        model=EMBEDDING_MODEL,\n",
    ") -> list[int]:\n",
    "    \"\"\"Print out the k nearest neighbors of a given string.\"\"\"\n",
    "    # get embeddings for all strings\n",
    "    embeddings = [embedding_from_string(string, model=model) for string in strings]\n",
    "    # get the embedding of the source string\n",
    "    query_embedding = embeddings[index_of_source_string]\n",
    "    # get distances between the source embedding and other embeddings (function from embeddings_utils.py)\n",
    "    distances = distances_from_embeddings(query_embedding, embeddings, distance_metric=\"cosine\")\n",
    "    # get indices of nearest neighbors (function from embeddings_utils.py)\n",
    "    indices_of_nearest_neighbors = indices_of_nearest_neighbors_from_distances(distances)\n",
    "\n",
    "    # print out source string\n",
    "    query_string = strings[index_of_source_string]\n",
    "    print(f\"Source string: {query_string}\")\n",
    "    # print out its k nearest neighbors\n",
    "    k_counter = 0\n",
    "    for i in indices_of_nearest_neighbors:\n",
    "        # skip any strings that are identical matches to the starting string\n",
    "        if query_string == strings[i]:\n",
    "            continue\n",
    "        # stop after printing out k articles\n",
    "        if k_counter >= k_nearest_neighbors:\n",
    "            break\n",
    "        k_counter += 1\n",
    "\n",
    "        # print out the similar strings and their distances\n",
    "        print(\n",
    "            f\"\"\"\n",
    "        --- Recommendation #{k_counter} (nearest neighbor {k_counter} of {k_nearest_neighbors}) ---\n",
    "        String: {strings[i]}\n",
    "        Distance: {distances[i]:0.3f}\"\"\"\n",
    "        )\n",
    "\n",
    "    return indices_of_nearest_neighbors"
   ],
   "metadata": {
    "collapsed": false
   }
  },
  {
   "cell_type": "code",
   "execution_count": null,
   "outputs": [],
   "source": [
    "# Example recommendations (1)\n",
    "# Let's look for articles similar to first one, which was about Tony Blair.\n",
    "\n",
    "# check only 35 descriptions for cost reduction.\n",
    "# why 35? because perplexity must be less than n_samples and perplexity is 30 by default.\n",
    "article_descriptions = df[\"description\"].tolist()[:35]\n",
    "\n",
    "tony_blair_articles = print_recommendations_from_strings(\n",
    "    strings=article_descriptions,  # let's base similarity off of the article description\n",
    "    index_of_source_string=0,  # let's look at articles similar to the first one about Tony Blair\n",
    "    k_nearest_neighbors=5,  # let's look at the 5 most similar articles\n",
    ")"
   ],
   "metadata": {
    "collapsed": false
   }
  },
  {
   "cell_type": "code",
   "execution_count": null,
   "outputs": [],
   "source": [
    "# Example recommendations (2)\n",
    "chipset_security_articles = print_recommendations_from_strings(\n",
    "    strings=article_descriptions,  # let's base similarity off of the article description\n",
    "    index_of_source_string=1,  # let's look at articles similar to the second one about a more secure chipset\n",
    "    k_nearest_neighbors=5,  # let's look at the 5 most similar articles\n",
    ")"
   ],
   "metadata": {
    "collapsed": false
   }
  },
  {
   "cell_type": "code",
   "execution_count": 16,
   "outputs": [
    {
     "data": {
      "application/vnd.plotly.v1+json": {
       "data": [
        {
         "customdata": [
          [
           "BRITAIN: BLAIR WARNS OF<br>CLIMATE THREAT Prime Minister<br>Tony Blair urged the<br>international community to<br>consider global warming a dire<br>threat and agree on a plan of<br>action to curb the<br>quot;alarming quot; growth of<br>greenhouse gases."
          ],
          [
           "KABUL, Sept 22 (AFP): Three US<br>soldiers were killed and 14<br>wounded in a series of fierce<br>clashes with suspected Taliban<br>fighters in south and eastern<br>Afghanistan this week, the US<br>military said Wednesday."
          ],
          [
           "AUSTRALIAN journalist John<br>Martinkus is lucky to be alive<br>after spending 24 hours in the<br>hands of Iraqi militants at<br>the weekend. Martinkus was in<br>Baghdad working for the SBS<br>Dateline TV current affairs<br>program"
          ],
          [
           " GAZA (Reuters) - An Israeli<br>helicopter fired a missile<br>into  a town in the southern<br>Gaza Strip late on Wednesday,<br>witnesses  said, hours after a<br>Palestinian suicide bomber<br>blew herself up  in Jerusalem,<br>killing two Israeli border<br>policemen."
          ],
          [
           "RIYADH, Saudi Arabia -- Saudi<br>police are seeking two young<br>men in the killing of a Briton<br>in a Riyadh parking lot, the<br>Interior Ministry said today,<br>and the British ambassador<br>called it a terrorist attack."
          ],
          [
           "A gas explosion at a coal mine<br>in northern China killed 33<br>workers in the 10th deadly<br>mine blast reported in three<br>months. The explosion occurred<br>yesterday at 4:20 pm at Nanlou<br>township"
          ],
          [
           "Reuters - Palestinian leader<br>Mahmoud Abbas called\\Israel<br>\"the Zionist enemy\" Tuesday,<br>unprecedented language for\\the<br>relative moderate who is<br>expected to succeed Yasser<br>Arafat."
          ],
          [
           "Nasser al-Qidwa, Palestinian<br>representative at the United<br>Nations and nephew of late<br>leader Yasser Arafat, handed<br>Arafat #39;s death report to<br>the Palestinian National<br>Authority (PNA) on Saturday."
          ],
          [
           "CAIRO, Egypt - France's<br>foreign minister appealed<br>Monday for the release of two<br>French journalists abducted in<br>Baghdad, saying the French<br>respect all religions. He did<br>not rule out traveling to<br>Baghdad..."
          ],
          [
           "United Arab Emirates President<br>and ruler of Abu Dhabi Sheik<br>Zayed bin Sultan al-Nayhan<br>died Tuesday, official<br>television reports. He was 86."
          ],
          [
           "PALESTINIAN leader Yasser<br>Arafat today issued an urgent<br>call for the immediate release<br>of two French journalists<br>taken hostage in Iraq."
          ],
          [
           "The al-Qaida terrorist network<br>spent less than \\$50,000 on<br>each of its major attacks<br>except for the Sept. 11, 2001,<br>suicide hijackings, and one of<br>its hallmarks is using"
          ],
          [
           "A FATHER who scaled the walls<br>of a Cardiff court dressed as<br>superhero Robin said the<br>Buckingham Palace protester<br>posed no threat. Fathers 4<br>Justice activist Jim Gibson,<br>who earlier this year staged<br>an eye-catching"
          ],
          [
           "Julia Gillard has reportedly<br>bowed out of the race to<br>become shadow treasurer,<br>taking enormous pressure off<br>Opposition Leader Mark Latham."
          ],
          [
           "AFP - Maybe it's something to<br>do with the fact that the<br>playing area is so vast that<br>you need a good pair of<br>binoculars to see the action<br>if it's not taking place right<br>in front of the stands."
          ],
          [
           "Egypt #39;s release of accused<br>Israeli spy Azzam Azzam in an<br>apparent swap for six Egyptian<br>students held on suspicion of<br>terrorism is expected to melt<br>the ice and perhaps result"
          ],
          [
           "GAZA CITY, Gaza Strip: Hamas<br>militants killed an Israeli<br>soldier and wounded four with<br>an explosion in a booby-<br>trapped chicken coop on<br>Tuesday, in what the Islamic<br>group said was an elaborate<br>scheme to lure troops to the<br>area with the help of a double"
          ]
         ],
         "hovertemplate": "label=World<br>Component 0=%{x}<br>Component 1=%{y}<br>string=%{customdata[0]}<extra></extra>",
         "legendgroup": "World",
         "marker": {
          "color": "#636efa",
          "symbol": "circle",
          "size": 5
         },
         "mode": "markers",
         "name": "World",
         "orientation": "v",
         "showlegend": true,
         "x": [
          0.641406238079071,
          0.8413530588150024,
          0.7905227541923523,
          0.6342016458511353,
          0.5356552004814148,
          0.8112216591835022,
          0.7167497277259827,
          0.480080246925354,
          0.7183560729026794,
          0.3968530297279358,
          0.7074247598648071,
          0.9219285249710083,
          0.5485984683036804,
          1.0099313259124756,
          1.2649791240692139,
          0.8579442501068115,
          0.7569591999053955
         ],
         "xaxis": "x",
         "y": [
          -0.8610023260116577,
          -0.01676429808139801,
          -0.5619493722915649,
          -0.04992583021521568,
          -0.445613294839859,
          0.1635337620973587,
          -0.46271374821662903,
          -0.3288489282131195,
          -0.6787339448928833,
          -0.3186416029930115,
          -0.5933508276939392,
          -0.06196345016360283,
          -0.8497397899627686,
          -1.0908046960830688,
          -1.310441017150879,
          -0.5235027074813843,
          -0.09701341390609741
         ],
         "yaxis": "y",
         "type": "scatter"
        },
        {
         "customdata": [
          [
           "PC World - Upcoming chip set<br>will include built-in security<br>features for your PC."
          ],
          [
           "SAN JOSE, Calif. -- Apple<br>Computer (Quote, Chart)<br>unveiled a batch of new iPods,<br>iTunes software and promos<br>designed to keep it atop the<br>heap of digital music players."
          ],
          [
           "Any product, any shape, any<br>size -- manufactured on your<br>desktop! The future is the<br>fabricator. By Bruce Sterling<br>from Wired magazine."
          ],
          [
           "The Microsoft CEO says one way<br>to stem growing piracy of<br>Windows and Office in emerging<br>markets is to offer low-cost<br>computers."
          ],
          [
           "PalmSource surprised the<br>mobile vendor community today<br>with the announcement that it<br>will acquire China MobileSoft<br>(CMS), ostensibly to leverage<br>that company's expertise in<br>building a mobile version of<br>the Linux operating system."
          ],
          [
           "JEFFERSON CITY - An election<br>security expert has raised<br>questions about Missouri<br>Secretary of State Matt Blunt<br>#39;s plan to let soldiers at<br>remote duty stations or in<br>combat areas cast their<br>ballots with the help of<br>e-mail."
          ],
          [
           "A new, optional log-on service<br>from America Online that makes<br>it harder for scammers to<br>access a persons online<br>account will not be available<br>for Macintosh"
          ],
          [
           "It #39;s official. Microsoft<br>recently stated<br>definitivelyand contrary to<br>rumorsthat there will be no<br>new versions of Internet<br>Explorer for users of older<br>versions of Windows."
          ],
          [
           "But fresh antitrust suit is in<br>the envelope, says Novell"
          ],
          [
           "Chips that help a computer's<br>main microprocessors perform<br>specific types of math<br>problems are becoming a big<br>business once again.\\"
          ]
         ],
         "hovertemplate": "label=Sci/Tech<br>Component 0=%{x}<br>Component 1=%{y}<br>string=%{customdata[0]}<extra></extra>",
         "legendgroup": "Sci/Tech",
         "marker": {
          "color": "#EF553B",
          "symbol": "diamond",
          "size": 5
         },
         "mode": "markers",
         "name": "Sci/Tech",
         "orientation": "v",
         "showlegend": true,
         "x": [
          1.9652401208877563,
          2.0683395862579346,
          2.0551156997680664,
          1.9429960250854492,
          2.1210575103759766,
          1.1661555767059326,
          1.8835703134536743,
          1.9634886980056763,
          1.9677958488464355,
          2.0665225982666016
         ],
         "xaxis": "x",
         "y": [
          -0.12470246106386185,
          -0.4779253602027893,
          -0.185745507478714,
          -0.20235387980937958,
          -0.1976824849843979,
          0.0857056975364685,
          -0.028870314359664917,
          0.011354289948940277,
          -0.47430986166000366,
          -0.2301630973815918
         ],
         "yaxis": "y",
         "type": "scatter"
        },
        {
         "customdata": [
          [
           "Newspapers in Greece reflect a<br>mixture of exhilaration that<br>the Athens Olympics proved<br>successful, and relief that<br>they passed off without any<br>major setback."
          ],
          [
           "Loudon, NH -- As the rain<br>began falling late Friday<br>afternoon at New Hampshire<br>International Speedway, the<br>rich in the Nextel Cup garage<br>got richer."
          ],
          [
           "AP - Ottawa Senators right<br>wing Marian Hossa is switching<br>European teams during the NHL<br>lockout."
          ],
          [
           "Chelsea terminated Romania<br>striker Adrian Mutu #39;s<br>contract, citing gross<br>misconduct after the player<br>failed a doping test for<br>cocaine and admitted taking<br>the drug, the English soccer<br>club said in a statement."
          ],
          [
           "The success of Paris #39; bid<br>for Olympic Games 2012 would<br>bring an exceptional<br>development for France for at<br>least 6 years, said Jean-<br>Francois Lamour, French<br>minister for Youth and Sports<br>on Tuesday."
          ]
         ],
         "hovertemplate": "label=Sports<br>Component 0=%{x}<br>Component 1=%{y}<br>string=%{customdata[0]}<extra></extra>",
         "legendgroup": "Sports",
         "marker": {
          "color": "#00cc96",
          "symbol": "square",
          "size": 5
         },
         "mode": "markers",
         "name": "Sports",
         "orientation": "v",
         "showlegend": true,
         "x": [
          1.274294376373291,
          1.6096394062042236,
          1.2500663995742798,
          1.0644276142120361,
          1.1928198337554932
         ],
         "xaxis": "x",
         "y": [
          -1.052558422088623,
          -1.0551117658615112,
          -1.362322211265564,
          -1.356748104095459,
          -1.1099801063537598
         ],
         "yaxis": "y",
         "type": "scatter"
        },
        {
         "customdata": [
          [
           "The EU and US moved closer to<br>an aviation trade war after<br>failing to reach agreement<br>during talks Thursday on<br>subsidies to Airbus Industrie."
          ],
          [
           " SAN FRANCISCO (Reuters) -<br>Nike Inc. &lt;A HREF=\"http://w<br>ww.investor.reuters.com/FullQu<br>ote.aspx?ticker=NKE.N target=/<br>stocks/quickinfo/fullquote\"&gt<br>;NKE.N&lt;/A&gt;, the world's<br>largest athletic shoe company,<br>on Monday reported a 25<br>percent  rise in quarterly<br>profit, beating analysts'<br>estimates, on  strong demand<br>for high-end running and<br>basketball shoes in the<br>United States."
          ],
          [
           "NEW YORK (CBS.MW) - US stocks<br>traded mixed Thurday as Merck<br>shares lost a quarter of their<br>value, dragging blue chips<br>lower, but the Nasdaq moved<br>higher, buoyed by gains in the<br>semiconductor sector."
          ]
         ],
         "hovertemplate": "label=Business<br>Component 0=%{x}<br>Component 1=%{y}<br>string=%{customdata[0]}<extra></extra>",
         "legendgroup": "Business",
         "marker": {
          "color": "#ab63fa",
          "symbol": "x",
          "size": 5
         },
         "mode": "markers",
         "name": "Business",
         "orientation": "v",
         "showlegend": true,
         "x": [
          1.5090250968933105,
          2.082258462905884,
          2.011774778366089
         ],
         "xaxis": "x",
         "y": [
          -0.9110847115516663,
          -0.8864904046058655,
          -0.800133466720581
         ],
         "yaxis": "y",
         "type": "scatter"
        }
       ],
       "layout": {
        "template": {
         "data": {
          "histogram2dcontour": [
           {
            "type": "histogram2dcontour",
            "colorbar": {
             "outlinewidth": 0,
             "ticks": ""
            },
            "colorscale": [
             [
              0.0,
              "#0d0887"
             ],
             [
              0.1111111111111111,
              "#46039f"
             ],
             [
              0.2222222222222222,
              "#7201a8"
             ],
             [
              0.3333333333333333,
              "#9c179e"
             ],
             [
              0.4444444444444444,
              "#bd3786"
             ],
             [
              0.5555555555555556,
              "#d8576b"
             ],
             [
              0.6666666666666666,
              "#ed7953"
             ],
             [
              0.7777777777777778,
              "#fb9f3a"
             ],
             [
              0.8888888888888888,
              "#fdca26"
             ],
             [
              1.0,
              "#f0f921"
             ]
            ]
           }
          ],
          "choropleth": [
           {
            "type": "choropleth",
            "colorbar": {
             "outlinewidth": 0,
             "ticks": ""
            }
           }
          ],
          "histogram2d": [
           {
            "type": "histogram2d",
            "colorbar": {
             "outlinewidth": 0,
             "ticks": ""
            },
            "colorscale": [
             [
              0.0,
              "#0d0887"
             ],
             [
              0.1111111111111111,
              "#46039f"
             ],
             [
              0.2222222222222222,
              "#7201a8"
             ],
             [
              0.3333333333333333,
              "#9c179e"
             ],
             [
              0.4444444444444444,
              "#bd3786"
             ],
             [
              0.5555555555555556,
              "#d8576b"
             ],
             [
              0.6666666666666666,
              "#ed7953"
             ],
             [
              0.7777777777777778,
              "#fb9f3a"
             ],
             [
              0.8888888888888888,
              "#fdca26"
             ],
             [
              1.0,
              "#f0f921"
             ]
            ]
           }
          ],
          "heatmap": [
           {
            "type": "heatmap",
            "colorbar": {
             "outlinewidth": 0,
             "ticks": ""
            },
            "colorscale": [
             [
              0.0,
              "#0d0887"
             ],
             [
              0.1111111111111111,
              "#46039f"
             ],
             [
              0.2222222222222222,
              "#7201a8"
             ],
             [
              0.3333333333333333,
              "#9c179e"
             ],
             [
              0.4444444444444444,
              "#bd3786"
             ],
             [
              0.5555555555555556,
              "#d8576b"
             ],
             [
              0.6666666666666666,
              "#ed7953"
             ],
             [
              0.7777777777777778,
              "#fb9f3a"
             ],
             [
              0.8888888888888888,
              "#fdca26"
             ],
             [
              1.0,
              "#f0f921"
             ]
            ]
           }
          ],
          "heatmapgl": [
           {
            "type": "heatmapgl",
            "colorbar": {
             "outlinewidth": 0,
             "ticks": ""
            },
            "colorscale": [
             [
              0.0,
              "#0d0887"
             ],
             [
              0.1111111111111111,
              "#46039f"
             ],
             [
              0.2222222222222222,
              "#7201a8"
             ],
             [
              0.3333333333333333,
              "#9c179e"
             ],
             [
              0.4444444444444444,
              "#bd3786"
             ],
             [
              0.5555555555555556,
              "#d8576b"
             ],
             [
              0.6666666666666666,
              "#ed7953"
             ],
             [
              0.7777777777777778,
              "#fb9f3a"
             ],
             [
              0.8888888888888888,
              "#fdca26"
             ],
             [
              1.0,
              "#f0f921"
             ]
            ]
           }
          ],
          "contourcarpet": [
           {
            "type": "contourcarpet",
            "colorbar": {
             "outlinewidth": 0,
             "ticks": ""
            }
           }
          ],
          "contour": [
           {
            "type": "contour",
            "colorbar": {
             "outlinewidth": 0,
             "ticks": ""
            },
            "colorscale": [
             [
              0.0,
              "#0d0887"
             ],
             [
              0.1111111111111111,
              "#46039f"
             ],
             [
              0.2222222222222222,
              "#7201a8"
             ],
             [
              0.3333333333333333,
              "#9c179e"
             ],
             [
              0.4444444444444444,
              "#bd3786"
             ],
             [
              0.5555555555555556,
              "#d8576b"
             ],
             [
              0.6666666666666666,
              "#ed7953"
             ],
             [
              0.7777777777777778,
              "#fb9f3a"
             ],
             [
              0.8888888888888888,
              "#fdca26"
             ],
             [
              1.0,
              "#f0f921"
             ]
            ]
           }
          ],
          "surface": [
           {
            "type": "surface",
            "colorbar": {
             "outlinewidth": 0,
             "ticks": ""
            },
            "colorscale": [
             [
              0.0,
              "#0d0887"
             ],
             [
              0.1111111111111111,
              "#46039f"
             ],
             [
              0.2222222222222222,
              "#7201a8"
             ],
             [
              0.3333333333333333,
              "#9c179e"
             ],
             [
              0.4444444444444444,
              "#bd3786"
             ],
             [
              0.5555555555555556,
              "#d8576b"
             ],
             [
              0.6666666666666666,
              "#ed7953"
             ],
             [
              0.7777777777777778,
              "#fb9f3a"
             ],
             [
              0.8888888888888888,
              "#fdca26"
             ],
             [
              1.0,
              "#f0f921"
             ]
            ]
           }
          ],
          "mesh3d": [
           {
            "type": "mesh3d",
            "colorbar": {
             "outlinewidth": 0,
             "ticks": ""
            }
           }
          ],
          "scatter": [
           {
            "fillpattern": {
             "fillmode": "overlay",
             "size": 10,
             "solidity": 0.2
            },
            "type": "scatter"
           }
          ],
          "parcoords": [
           {
            "type": "parcoords",
            "line": {
             "colorbar": {
              "outlinewidth": 0,
              "ticks": ""
             }
            }
           }
          ],
          "scatterpolargl": [
           {
            "type": "scatterpolargl",
            "marker": {
             "colorbar": {
              "outlinewidth": 0,
              "ticks": ""
             }
            }
           }
          ],
          "bar": [
           {
            "error_x": {
             "color": "#2a3f5f"
            },
            "error_y": {
             "color": "#2a3f5f"
            },
            "marker": {
             "line": {
              "color": "#E5ECF6",
              "width": 0.5
             },
             "pattern": {
              "fillmode": "overlay",
              "size": 10,
              "solidity": 0.2
             }
            },
            "type": "bar"
           }
          ],
          "scattergeo": [
           {
            "type": "scattergeo",
            "marker": {
             "colorbar": {
              "outlinewidth": 0,
              "ticks": ""
             }
            }
           }
          ],
          "scatterpolar": [
           {
            "type": "scatterpolar",
            "marker": {
             "colorbar": {
              "outlinewidth": 0,
              "ticks": ""
             }
            }
           }
          ],
          "histogram": [
           {
            "marker": {
             "pattern": {
              "fillmode": "overlay",
              "size": 10,
              "solidity": 0.2
             }
            },
            "type": "histogram"
           }
          ],
          "scattergl": [
           {
            "type": "scattergl",
            "marker": {
             "colorbar": {
              "outlinewidth": 0,
              "ticks": ""
             }
            }
           }
          ],
          "scatter3d": [
           {
            "type": "scatter3d",
            "line": {
             "colorbar": {
              "outlinewidth": 0,
              "ticks": ""
             }
            },
            "marker": {
             "colorbar": {
              "outlinewidth": 0,
              "ticks": ""
             }
            }
           }
          ],
          "scattermapbox": [
           {
            "type": "scattermapbox",
            "marker": {
             "colorbar": {
              "outlinewidth": 0,
              "ticks": ""
             }
            }
           }
          ],
          "scatterternary": [
           {
            "type": "scatterternary",
            "marker": {
             "colorbar": {
              "outlinewidth": 0,
              "ticks": ""
             }
            }
           }
          ],
          "scattercarpet": [
           {
            "type": "scattercarpet",
            "marker": {
             "colorbar": {
              "outlinewidth": 0,
              "ticks": ""
             }
            }
           }
          ],
          "carpet": [
           {
            "aaxis": {
             "endlinecolor": "#2a3f5f",
             "gridcolor": "white",
             "linecolor": "white",
             "minorgridcolor": "white",
             "startlinecolor": "#2a3f5f"
            },
            "baxis": {
             "endlinecolor": "#2a3f5f",
             "gridcolor": "white",
             "linecolor": "white",
             "minorgridcolor": "white",
             "startlinecolor": "#2a3f5f"
            },
            "type": "carpet"
           }
          ],
          "table": [
           {
            "cells": {
             "fill": {
              "color": "#EBF0F8"
             },
             "line": {
              "color": "white"
             }
            },
            "header": {
             "fill": {
              "color": "#C8D4E3"
             },
             "line": {
              "color": "white"
             }
            },
            "type": "table"
           }
          ],
          "barpolar": [
           {
            "marker": {
             "line": {
              "color": "#E5ECF6",
              "width": 0.5
             },
             "pattern": {
              "fillmode": "overlay",
              "size": 10,
              "solidity": 0.2
             }
            },
            "type": "barpolar"
           }
          ],
          "pie": [
           {
            "automargin": true,
            "type": "pie"
           }
          ]
         },
         "layout": {
          "autotypenumbers": "strict",
          "colorway": [
           "#636efa",
           "#EF553B",
           "#00cc96",
           "#ab63fa",
           "#FFA15A",
           "#19d3f3",
           "#FF6692",
           "#B6E880",
           "#FF97FF",
           "#FECB52"
          ],
          "font": {
           "color": "#2a3f5f"
          },
          "hovermode": "closest",
          "hoverlabel": {
           "align": "left"
          },
          "paper_bgcolor": "white",
          "plot_bgcolor": "#E5ECF6",
          "polar": {
           "bgcolor": "#E5ECF6",
           "angularaxis": {
            "gridcolor": "white",
            "linecolor": "white",
            "ticks": ""
           },
           "radialaxis": {
            "gridcolor": "white",
            "linecolor": "white",
            "ticks": ""
           }
          },
          "ternary": {
           "bgcolor": "#E5ECF6",
           "aaxis": {
            "gridcolor": "white",
            "linecolor": "white",
            "ticks": ""
           },
           "baxis": {
            "gridcolor": "white",
            "linecolor": "white",
            "ticks": ""
           },
           "caxis": {
            "gridcolor": "white",
            "linecolor": "white",
            "ticks": ""
           }
          },
          "coloraxis": {
           "colorbar": {
            "outlinewidth": 0,
            "ticks": ""
           }
          },
          "colorscale": {
           "sequential": [
            [
             0.0,
             "#0d0887"
            ],
            [
             0.1111111111111111,
             "#46039f"
            ],
            [
             0.2222222222222222,
             "#7201a8"
            ],
            [
             0.3333333333333333,
             "#9c179e"
            ],
            [
             0.4444444444444444,
             "#bd3786"
            ],
            [
             0.5555555555555556,
             "#d8576b"
            ],
            [
             0.6666666666666666,
             "#ed7953"
            ],
            [
             0.7777777777777778,
             "#fb9f3a"
            ],
            [
             0.8888888888888888,
             "#fdca26"
            ],
            [
             1.0,
             "#f0f921"
            ]
           ],
           "sequentialminus": [
            [
             0.0,
             "#0d0887"
            ],
            [
             0.1111111111111111,
             "#46039f"
            ],
            [
             0.2222222222222222,
             "#7201a8"
            ],
            [
             0.3333333333333333,
             "#9c179e"
            ],
            [
             0.4444444444444444,
             "#bd3786"
            ],
            [
             0.5555555555555556,
             "#d8576b"
            ],
            [
             0.6666666666666666,
             "#ed7953"
            ],
            [
             0.7777777777777778,
             "#fb9f3a"
            ],
            [
             0.8888888888888888,
             "#fdca26"
            ],
            [
             1.0,
             "#f0f921"
            ]
           ],
           "diverging": [
            [
             0,
             "#8e0152"
            ],
            [
             0.1,
             "#c51b7d"
            ],
            [
             0.2,
             "#de77ae"
            ],
            [
             0.3,
             "#f1b6da"
            ],
            [
             0.4,
             "#fde0ef"
            ],
            [
             0.5,
             "#f7f7f7"
            ],
            [
             0.6,
             "#e6f5d0"
            ],
            [
             0.7,
             "#b8e186"
            ],
            [
             0.8,
             "#7fbc41"
            ],
            [
             0.9,
             "#4d9221"
            ],
            [
             1,
             "#276419"
            ]
           ]
          },
          "xaxis": {
           "gridcolor": "white",
           "linecolor": "white",
           "ticks": "",
           "title": {
            "standoff": 15
           },
           "zerolinecolor": "white",
           "automargin": true,
           "zerolinewidth": 2
          },
          "yaxis": {
           "gridcolor": "white",
           "linecolor": "white",
           "ticks": "",
           "title": {
            "standoff": 15
           },
           "zerolinecolor": "white",
           "automargin": true,
           "zerolinewidth": 2
          },
          "scene": {
           "xaxis": {
            "backgroundcolor": "#E5ECF6",
            "gridcolor": "white",
            "linecolor": "white",
            "showbackground": true,
            "ticks": "",
            "zerolinecolor": "white",
            "gridwidth": 2
           },
           "yaxis": {
            "backgroundcolor": "#E5ECF6",
            "gridcolor": "white",
            "linecolor": "white",
            "showbackground": true,
            "ticks": "",
            "zerolinecolor": "white",
            "gridwidth": 2
           },
           "zaxis": {
            "backgroundcolor": "#E5ECF6",
            "gridcolor": "white",
            "linecolor": "white",
            "showbackground": true,
            "ticks": "",
            "zerolinecolor": "white",
            "gridwidth": 2
           }
          },
          "shapedefaults": {
           "line": {
            "color": "#2a3f5f"
           }
          },
          "annotationdefaults": {
           "arrowcolor": "#2a3f5f",
           "arrowhead": 0,
           "arrowwidth": 1
          },
          "geo": {
           "bgcolor": "white",
           "landcolor": "#E5ECF6",
           "subunitcolor": "white",
           "showland": true,
           "showlakes": true,
           "lakecolor": "white"
          },
          "title": {
           "x": 0.05
          },
          "mapbox": {
           "style": "light"
          }
         }
        },
        "xaxis": {
         "anchor": "y",
         "domain": [
          0.0,
          1.0
         ],
         "title": {
          "text": "Component 0"
         }
        },
        "yaxis": {
         "anchor": "x",
         "domain": [
          0.0,
          1.0
         ],
         "title": {
          "text": "Component 1"
         }
        },
        "legend": {
         "title": {
          "text": "label"
         },
         "tracegroupgap": 0
        },
        "title": {
         "text": "t-SNE components of article descriptions"
        },
        "height": 500,
        "width": 600
       },
       "config": {
        "plotlyServerURL": "https://plot.ly"
       }
      },
      "text/html": "<div>                            <div id=\"5072957f-e481-4900-8076-9106cdb950f8\" class=\"plotly-graph-div\" style=\"height:500px; width:600px;\"></div>            <script type=\"text/javascript\">                require([\"plotly\"], function(Plotly) {                    window.PLOTLYENV=window.PLOTLYENV || {};                                    if (document.getElementById(\"5072957f-e481-4900-8076-9106cdb950f8\")) {                    Plotly.newPlot(                        \"5072957f-e481-4900-8076-9106cdb950f8\",                        [{\"customdata\":[[\"BRITAIN: BLAIR WARNS OF<br>CLIMATE THREAT Prime Minister<br>Tony Blair urged the<br>international community to<br>consider global warming a dire<br>threat and agree on a plan of<br>action to curb the<br>quot;alarming quot; growth of<br>greenhouse gases.\"],[\"KABUL, Sept 22 (AFP): Three US<br>soldiers were killed and 14<br>wounded in a series of fierce<br>clashes with suspected Taliban<br>fighters in south and eastern<br>Afghanistan this week, the US<br>military said Wednesday.\"],[\"AUSTRALIAN journalist John<br>Martinkus is lucky to be alive<br>after spending 24 hours in the<br>hands of Iraqi militants at<br>the weekend. Martinkus was in<br>Baghdad working for the SBS<br>Dateline TV current affairs<br>program\"],[\" GAZA (Reuters) - An Israeli<br>helicopter fired a missile<br>into  a town in the southern<br>Gaza Strip late on Wednesday,<br>witnesses  said, hours after a<br>Palestinian suicide bomber<br>blew herself up  in Jerusalem,<br>killing two Israeli border<br>policemen.\"],[\"RIYADH, Saudi Arabia -- Saudi<br>police are seeking two young<br>men in the killing of a Briton<br>in a Riyadh parking lot, the<br>Interior Ministry said today,<br>and the British ambassador<br>called it a terrorist attack.\"],[\"A gas explosion at a coal mine<br>in northern China killed 33<br>workers in the 10th deadly<br>mine blast reported in three<br>months. The explosion occurred<br>yesterday at 4:20 pm at Nanlou<br>township\"],[\"Reuters - Palestinian leader<br>Mahmoud Abbas called\\\\Israel<br>\\\"the Zionist enemy\\\" Tuesday,<br>unprecedented language for\\\\the<br>relative moderate who is<br>expected to succeed Yasser<br>Arafat.\"],[\"Nasser al-Qidwa, Palestinian<br>representative at the United<br>Nations and nephew of late<br>leader Yasser Arafat, handed<br>Arafat #39;s death report to<br>the Palestinian National<br>Authority (PNA) on Saturday.\"],[\"CAIRO, Egypt - France's<br>foreign minister appealed<br>Monday for the release of two<br>French journalists abducted in<br>Baghdad, saying the French<br>respect all religions. He did<br>not rule out traveling to<br>Baghdad...\"],[\"United Arab Emirates President<br>and ruler of Abu Dhabi Sheik<br>Zayed bin Sultan al-Nayhan<br>died Tuesday, official<br>television reports. He was 86.\"],[\"PALESTINIAN leader Yasser<br>Arafat today issued an urgent<br>call for the immediate release<br>of two French journalists<br>taken hostage in Iraq.\"],[\"The al-Qaida terrorist network<br>spent less than \\\\$50,000 on<br>each of its major attacks<br>except for the Sept. 11, 2001,<br>suicide hijackings, and one of<br>its hallmarks is using\"],[\"A FATHER who scaled the walls<br>of a Cardiff court dressed as<br>superhero Robin said the<br>Buckingham Palace protester<br>posed no threat. Fathers 4<br>Justice activist Jim Gibson,<br>who earlier this year staged<br>an eye-catching\"],[\"Julia Gillard has reportedly<br>bowed out of the race to<br>become shadow treasurer,<br>taking enormous pressure off<br>Opposition Leader Mark Latham.\"],[\"AFP - Maybe it's something to<br>do with the fact that the<br>playing area is so vast that<br>you need a good pair of<br>binoculars to see the action<br>if it's not taking place right<br>in front of the stands.\"],[\"Egypt #39;s release of accused<br>Israeli spy Azzam Azzam in an<br>apparent swap for six Egyptian<br>students held on suspicion of<br>terrorism is expected to melt<br>the ice and perhaps result\"],[\"GAZA CITY, Gaza Strip: Hamas<br>militants killed an Israeli<br>soldier and wounded four with<br>an explosion in a booby-<br>trapped chicken coop on<br>Tuesday, in what the Islamic<br>group said was an elaborate<br>scheme to lure troops to the<br>area with the help of a double\"]],\"hovertemplate\":\"label=World<br>Component 0=%{x}<br>Component 1=%{y}<br>string=%{customdata[0]}<extra></extra>\",\"legendgroup\":\"World\",\"marker\":{\"color\":\"#636efa\",\"symbol\":\"circle\",\"size\":5},\"mode\":\"markers\",\"name\":\"World\",\"orientation\":\"v\",\"showlegend\":true,\"x\":[0.641406238079071,0.8413530588150024,0.7905227541923523,0.6342016458511353,0.5356552004814148,0.8112216591835022,0.7167497277259827,0.480080246925354,0.7183560729026794,0.3968530297279358,0.7074247598648071,0.9219285249710083,0.5485984683036804,1.0099313259124756,1.2649791240692139,0.8579442501068115,0.7569591999053955],\"xaxis\":\"x\",\"y\":[-0.8610023260116577,-0.01676429808139801,-0.5619493722915649,-0.04992583021521568,-0.445613294839859,0.1635337620973587,-0.46271374821662903,-0.3288489282131195,-0.6787339448928833,-0.3186416029930115,-0.5933508276939392,-0.06196345016360283,-0.8497397899627686,-1.0908046960830688,-1.310441017150879,-0.5235027074813843,-0.09701341390609741],\"yaxis\":\"y\",\"type\":\"scatter\"},{\"customdata\":[[\"PC World - Upcoming chip set<br>will include built-in security<br>features for your PC.\"],[\"SAN JOSE, Calif. -- Apple<br>Computer (Quote, Chart)<br>unveiled a batch of new iPods,<br>iTunes software and promos<br>designed to keep it atop the<br>heap of digital music players.\"],[\"Any product, any shape, any<br>size -- manufactured on your<br>desktop! The future is the<br>fabricator. By Bruce Sterling<br>from Wired magazine.\"],[\"The Microsoft CEO says one way<br>to stem growing piracy of<br>Windows and Office in emerging<br>markets is to offer low-cost<br>computers.\"],[\"PalmSource surprised the<br>mobile vendor community today<br>with the announcement that it<br>will acquire China MobileSoft<br>(CMS), ostensibly to leverage<br>that company's expertise in<br>building a mobile version of<br>the Linux operating system.\"],[\"JEFFERSON CITY - An election<br>security expert has raised<br>questions about Missouri<br>Secretary of State Matt Blunt<br>#39;s plan to let soldiers at<br>remote duty stations or in<br>combat areas cast their<br>ballots with the help of<br>e-mail.\"],[\"A new, optional log-on service<br>from America Online that makes<br>it harder for scammers to<br>access a persons online<br>account will not be available<br>for Macintosh\"],[\"It #39;s official. Microsoft<br>recently stated<br>definitivelyand contrary to<br>rumorsthat there will be no<br>new versions of Internet<br>Explorer for users of older<br>versions of Windows.\"],[\"But fresh antitrust suit is in<br>the envelope, says Novell\"],[\"Chips that help a computer's<br>main microprocessors perform<br>specific types of math<br>problems are becoming a big<br>business once again.\\\\\"]],\"hovertemplate\":\"label=Sci/Tech<br>Component 0=%{x}<br>Component 1=%{y}<br>string=%{customdata[0]}<extra></extra>\",\"legendgroup\":\"Sci/Tech\",\"marker\":{\"color\":\"#EF553B\",\"symbol\":\"diamond\",\"size\":5},\"mode\":\"markers\",\"name\":\"Sci/Tech\",\"orientation\":\"v\",\"showlegend\":true,\"x\":[1.9652401208877563,2.0683395862579346,2.0551156997680664,1.9429960250854492,2.1210575103759766,1.1661555767059326,1.8835703134536743,1.9634886980056763,1.9677958488464355,2.0665225982666016],\"xaxis\":\"x\",\"y\":[-0.12470246106386185,-0.4779253602027893,-0.185745507478714,-0.20235387980937958,-0.1976824849843979,0.0857056975364685,-0.028870314359664917,0.011354289948940277,-0.47430986166000366,-0.2301630973815918],\"yaxis\":\"y\",\"type\":\"scatter\"},{\"customdata\":[[\"Newspapers in Greece reflect a<br>mixture of exhilaration that<br>the Athens Olympics proved<br>successful, and relief that<br>they passed off without any<br>major setback.\"],[\"Loudon, NH -- As the rain<br>began falling late Friday<br>afternoon at New Hampshire<br>International Speedway, the<br>rich in the Nextel Cup garage<br>got richer.\"],[\"AP - Ottawa Senators right<br>wing Marian Hossa is switching<br>European teams during the NHL<br>lockout.\"],[\"Chelsea terminated Romania<br>striker Adrian Mutu #39;s<br>contract, citing gross<br>misconduct after the player<br>failed a doping test for<br>cocaine and admitted taking<br>the drug, the English soccer<br>club said in a statement.\"],[\"The success of Paris #39; bid<br>for Olympic Games 2012 would<br>bring an exceptional<br>development for France for at<br>least 6 years, said Jean-<br>Francois Lamour, French<br>minister for Youth and Sports<br>on Tuesday.\"]],\"hovertemplate\":\"label=Sports<br>Component 0=%{x}<br>Component 1=%{y}<br>string=%{customdata[0]}<extra></extra>\",\"legendgroup\":\"Sports\",\"marker\":{\"color\":\"#00cc96\",\"symbol\":\"square\",\"size\":5},\"mode\":\"markers\",\"name\":\"Sports\",\"orientation\":\"v\",\"showlegend\":true,\"x\":[1.274294376373291,1.6096394062042236,1.2500663995742798,1.0644276142120361,1.1928198337554932],\"xaxis\":\"x\",\"y\":[-1.052558422088623,-1.0551117658615112,-1.362322211265564,-1.356748104095459,-1.1099801063537598],\"yaxis\":\"y\",\"type\":\"scatter\"},{\"customdata\":[[\"The EU and US moved closer to<br>an aviation trade war after<br>failing to reach agreement<br>during talks Thursday on<br>subsidies to Airbus Industrie.\"],[\" SAN FRANCISCO (Reuters) -<br>Nike Inc. &lt;A HREF=\\\"http://w<br>ww.investor.reuters.com/FullQu<br>ote.aspx?ticker=NKE.N target=/<br>stocks/quickinfo/fullquote\\\"&gt<br>;NKE.N&lt;/A&gt;, the world's<br>largest athletic shoe company,<br>on Monday reported a 25<br>percent  rise in quarterly<br>profit, beating analysts'<br>estimates, on  strong demand<br>for high-end running and<br>basketball shoes in the<br>United States.\"],[\"NEW YORK (CBS.MW) - US stocks<br>traded mixed Thurday as Merck<br>shares lost a quarter of their<br>value, dragging blue chips<br>lower, but the Nasdaq moved<br>higher, buoyed by gains in the<br>semiconductor sector.\"]],\"hovertemplate\":\"label=Business<br>Component 0=%{x}<br>Component 1=%{y}<br>string=%{customdata[0]}<extra></extra>\",\"legendgroup\":\"Business\",\"marker\":{\"color\":\"#ab63fa\",\"symbol\":\"x\",\"size\":5},\"mode\":\"markers\",\"name\":\"Business\",\"orientation\":\"v\",\"showlegend\":true,\"x\":[1.5090250968933105,2.082258462905884,2.011774778366089],\"xaxis\":\"x\",\"y\":[-0.9110847115516663,-0.8864904046058655,-0.800133466720581],\"yaxis\":\"y\",\"type\":\"scatter\"}],                        {\"template\":{\"data\":{\"histogram2dcontour\":[{\"type\":\"histogram2dcontour\",\"colorbar\":{\"outlinewidth\":0,\"ticks\":\"\"},\"colorscale\":[[0.0,\"#0d0887\"],[0.1111111111111111,\"#46039f\"],[0.2222222222222222,\"#7201a8\"],[0.3333333333333333,\"#9c179e\"],[0.4444444444444444,\"#bd3786\"],[0.5555555555555556,\"#d8576b\"],[0.6666666666666666,\"#ed7953\"],[0.7777777777777778,\"#fb9f3a\"],[0.8888888888888888,\"#fdca26\"],[1.0,\"#f0f921\"]]}],\"choropleth\":[{\"type\":\"choropleth\",\"colorbar\":{\"outlinewidth\":0,\"ticks\":\"\"}}],\"histogram2d\":[{\"type\":\"histogram2d\",\"colorbar\":{\"outlinewidth\":0,\"ticks\":\"\"},\"colorscale\":[[0.0,\"#0d0887\"],[0.1111111111111111,\"#46039f\"],[0.2222222222222222,\"#7201a8\"],[0.3333333333333333,\"#9c179e\"],[0.4444444444444444,\"#bd3786\"],[0.5555555555555556,\"#d8576b\"],[0.6666666666666666,\"#ed7953\"],[0.7777777777777778,\"#fb9f3a\"],[0.8888888888888888,\"#fdca26\"],[1.0,\"#f0f921\"]]}],\"heatmap\":[{\"type\":\"heatmap\",\"colorbar\":{\"outlinewidth\":0,\"ticks\":\"\"},\"colorscale\":[[0.0,\"#0d0887\"],[0.1111111111111111,\"#46039f\"],[0.2222222222222222,\"#7201a8\"],[0.3333333333333333,\"#9c179e\"],[0.4444444444444444,\"#bd3786\"],[0.5555555555555556,\"#d8576b\"],[0.6666666666666666,\"#ed7953\"],[0.7777777777777778,\"#fb9f3a\"],[0.8888888888888888,\"#fdca26\"],[1.0,\"#f0f921\"]]}],\"heatmapgl\":[{\"type\":\"heatmapgl\",\"colorbar\":{\"outlinewidth\":0,\"ticks\":\"\"},\"colorscale\":[[0.0,\"#0d0887\"],[0.1111111111111111,\"#46039f\"],[0.2222222222222222,\"#7201a8\"],[0.3333333333333333,\"#9c179e\"],[0.4444444444444444,\"#bd3786\"],[0.5555555555555556,\"#d8576b\"],[0.6666666666666666,\"#ed7953\"],[0.7777777777777778,\"#fb9f3a\"],[0.8888888888888888,\"#fdca26\"],[1.0,\"#f0f921\"]]}],\"contourcarpet\":[{\"type\":\"contourcarpet\",\"colorbar\":{\"outlinewidth\":0,\"ticks\":\"\"}}],\"contour\":[{\"type\":\"contour\",\"colorbar\":{\"outlinewidth\":0,\"ticks\":\"\"},\"colorscale\":[[0.0,\"#0d0887\"],[0.1111111111111111,\"#46039f\"],[0.2222222222222222,\"#7201a8\"],[0.3333333333333333,\"#9c179e\"],[0.4444444444444444,\"#bd3786\"],[0.5555555555555556,\"#d8576b\"],[0.6666666666666666,\"#ed7953\"],[0.7777777777777778,\"#fb9f3a\"],[0.8888888888888888,\"#fdca26\"],[1.0,\"#f0f921\"]]}],\"surface\":[{\"type\":\"surface\",\"colorbar\":{\"outlinewidth\":0,\"ticks\":\"\"},\"colorscale\":[[0.0,\"#0d0887\"],[0.1111111111111111,\"#46039f\"],[0.2222222222222222,\"#7201a8\"],[0.3333333333333333,\"#9c179e\"],[0.4444444444444444,\"#bd3786\"],[0.5555555555555556,\"#d8576b\"],[0.6666666666666666,\"#ed7953\"],[0.7777777777777778,\"#fb9f3a\"],[0.8888888888888888,\"#fdca26\"],[1.0,\"#f0f921\"]]}],\"mesh3d\":[{\"type\":\"mesh3d\",\"colorbar\":{\"outlinewidth\":0,\"ticks\":\"\"}}],\"scatter\":[{\"fillpattern\":{\"fillmode\":\"overlay\",\"size\":10,\"solidity\":0.2},\"type\":\"scatter\"}],\"parcoords\":[{\"type\":\"parcoords\",\"line\":{\"colorbar\":{\"outlinewidth\":0,\"ticks\":\"\"}}}],\"scatterpolargl\":[{\"type\":\"scatterpolargl\",\"marker\":{\"colorbar\":{\"outlinewidth\":0,\"ticks\":\"\"}}}],\"bar\":[{\"error_x\":{\"color\":\"#2a3f5f\"},\"error_y\":{\"color\":\"#2a3f5f\"},\"marker\":{\"line\":{\"color\":\"#E5ECF6\",\"width\":0.5},\"pattern\":{\"fillmode\":\"overlay\",\"size\":10,\"solidity\":0.2}},\"type\":\"bar\"}],\"scattergeo\":[{\"type\":\"scattergeo\",\"marker\":{\"colorbar\":{\"outlinewidth\":0,\"ticks\":\"\"}}}],\"scatterpolar\":[{\"type\":\"scatterpolar\",\"marker\":{\"colorbar\":{\"outlinewidth\":0,\"ticks\":\"\"}}}],\"histogram\":[{\"marker\":{\"pattern\":{\"fillmode\":\"overlay\",\"size\":10,\"solidity\":0.2}},\"type\":\"histogram\"}],\"scattergl\":[{\"type\":\"scattergl\",\"marker\":{\"colorbar\":{\"outlinewidth\":0,\"ticks\":\"\"}}}],\"scatter3d\":[{\"type\":\"scatter3d\",\"line\":{\"colorbar\":{\"outlinewidth\":0,\"ticks\":\"\"}},\"marker\":{\"colorbar\":{\"outlinewidth\":0,\"ticks\":\"\"}}}],\"scattermapbox\":[{\"type\":\"scattermapbox\",\"marker\":{\"colorbar\":{\"outlinewidth\":0,\"ticks\":\"\"}}}],\"scatterternary\":[{\"type\":\"scatterternary\",\"marker\":{\"colorbar\":{\"outlinewidth\":0,\"ticks\":\"\"}}}],\"scattercarpet\":[{\"type\":\"scattercarpet\",\"marker\":{\"colorbar\":{\"outlinewidth\":0,\"ticks\":\"\"}}}],\"carpet\":[{\"aaxis\":{\"endlinecolor\":\"#2a3f5f\",\"gridcolor\":\"white\",\"linecolor\":\"white\",\"minorgridcolor\":\"white\",\"startlinecolor\":\"#2a3f5f\"},\"baxis\":{\"endlinecolor\":\"#2a3f5f\",\"gridcolor\":\"white\",\"linecolor\":\"white\",\"minorgridcolor\":\"white\",\"startlinecolor\":\"#2a3f5f\"},\"type\":\"carpet\"}],\"table\":[{\"cells\":{\"fill\":{\"color\":\"#EBF0F8\"},\"line\":{\"color\":\"white\"}},\"header\":{\"fill\":{\"color\":\"#C8D4E3\"},\"line\":{\"color\":\"white\"}},\"type\":\"table\"}],\"barpolar\":[{\"marker\":{\"line\":{\"color\":\"#E5ECF6\",\"width\":0.5},\"pattern\":{\"fillmode\":\"overlay\",\"size\":10,\"solidity\":0.2}},\"type\":\"barpolar\"}],\"pie\":[{\"automargin\":true,\"type\":\"pie\"}]},\"layout\":{\"autotypenumbers\":\"strict\",\"colorway\":[\"#636efa\",\"#EF553B\",\"#00cc96\",\"#ab63fa\",\"#FFA15A\",\"#19d3f3\",\"#FF6692\",\"#B6E880\",\"#FF97FF\",\"#FECB52\"],\"font\":{\"color\":\"#2a3f5f\"},\"hovermode\":\"closest\",\"hoverlabel\":{\"align\":\"left\"},\"paper_bgcolor\":\"white\",\"plot_bgcolor\":\"#E5ECF6\",\"polar\":{\"bgcolor\":\"#E5ECF6\",\"angularaxis\":{\"gridcolor\":\"white\",\"linecolor\":\"white\",\"ticks\":\"\"},\"radialaxis\":{\"gridcolor\":\"white\",\"linecolor\":\"white\",\"ticks\":\"\"}},\"ternary\":{\"bgcolor\":\"#E5ECF6\",\"aaxis\":{\"gridcolor\":\"white\",\"linecolor\":\"white\",\"ticks\":\"\"},\"baxis\":{\"gridcolor\":\"white\",\"linecolor\":\"white\",\"ticks\":\"\"},\"caxis\":{\"gridcolor\":\"white\",\"linecolor\":\"white\",\"ticks\":\"\"}},\"coloraxis\":{\"colorbar\":{\"outlinewidth\":0,\"ticks\":\"\"}},\"colorscale\":{\"sequential\":[[0.0,\"#0d0887\"],[0.1111111111111111,\"#46039f\"],[0.2222222222222222,\"#7201a8\"],[0.3333333333333333,\"#9c179e\"],[0.4444444444444444,\"#bd3786\"],[0.5555555555555556,\"#d8576b\"],[0.6666666666666666,\"#ed7953\"],[0.7777777777777778,\"#fb9f3a\"],[0.8888888888888888,\"#fdca26\"],[1.0,\"#f0f921\"]],\"sequentialminus\":[[0.0,\"#0d0887\"],[0.1111111111111111,\"#46039f\"],[0.2222222222222222,\"#7201a8\"],[0.3333333333333333,\"#9c179e\"],[0.4444444444444444,\"#bd3786\"],[0.5555555555555556,\"#d8576b\"],[0.6666666666666666,\"#ed7953\"],[0.7777777777777778,\"#fb9f3a\"],[0.8888888888888888,\"#fdca26\"],[1.0,\"#f0f921\"]],\"diverging\":[[0,\"#8e0152\"],[0.1,\"#c51b7d\"],[0.2,\"#de77ae\"],[0.3,\"#f1b6da\"],[0.4,\"#fde0ef\"],[0.5,\"#f7f7f7\"],[0.6,\"#e6f5d0\"],[0.7,\"#b8e186\"],[0.8,\"#7fbc41\"],[0.9,\"#4d9221\"],[1,\"#276419\"]]},\"xaxis\":{\"gridcolor\":\"white\",\"linecolor\":\"white\",\"ticks\":\"\",\"title\":{\"standoff\":15},\"zerolinecolor\":\"white\",\"automargin\":true,\"zerolinewidth\":2},\"yaxis\":{\"gridcolor\":\"white\",\"linecolor\":\"white\",\"ticks\":\"\",\"title\":{\"standoff\":15},\"zerolinecolor\":\"white\",\"automargin\":true,\"zerolinewidth\":2},\"scene\":{\"xaxis\":{\"backgroundcolor\":\"#E5ECF6\",\"gridcolor\":\"white\",\"linecolor\":\"white\",\"showbackground\":true,\"ticks\":\"\",\"zerolinecolor\":\"white\",\"gridwidth\":2},\"yaxis\":{\"backgroundcolor\":\"#E5ECF6\",\"gridcolor\":\"white\",\"linecolor\":\"white\",\"showbackground\":true,\"ticks\":\"\",\"zerolinecolor\":\"white\",\"gridwidth\":2},\"zaxis\":{\"backgroundcolor\":\"#E5ECF6\",\"gridcolor\":\"white\",\"linecolor\":\"white\",\"showbackground\":true,\"ticks\":\"\",\"zerolinecolor\":\"white\",\"gridwidth\":2}},\"shapedefaults\":{\"line\":{\"color\":\"#2a3f5f\"}},\"annotationdefaults\":{\"arrowcolor\":\"#2a3f5f\",\"arrowhead\":0,\"arrowwidth\":1},\"geo\":{\"bgcolor\":\"white\",\"landcolor\":\"#E5ECF6\",\"subunitcolor\":\"white\",\"showland\":true,\"showlakes\":true,\"lakecolor\":\"white\"},\"title\":{\"x\":0.05},\"mapbox\":{\"style\":\"light\"}}},\"xaxis\":{\"anchor\":\"y\",\"domain\":[0.0,1.0],\"title\":{\"text\":\"Component 0\"}},\"yaxis\":{\"anchor\":\"x\",\"domain\":[0.0,1.0],\"title\":{\"text\":\"Component 1\"}},\"legend\":{\"title\":{\"text\":\"label\"},\"tracegroupgap\":0},\"title\":{\"text\":\"t-SNE components of article descriptions\"},\"height\":500,\"width\":600},                        {\"responsive\": true}                    ).then(function(){\n                            \nvar gd = document.getElementById('5072957f-e481-4900-8076-9106cdb950f8');\nvar x = new MutationObserver(function (mutations, observer) {{\n        var display = window.getComputedStyle(gd).display;\n        if (!display || display === 'none') {{\n            console.log([gd, 'removed!']);\n            Plotly.purge(gd);\n            observer.disconnect();\n        }}\n}});\n\n// Listen for the removal of the full notebook cells\nvar notebookContainer = gd.closest('#notebook-container');\nif (notebookContainer) {{\n    x.observe(notebookContainer, {childList: true});\n}}\n\n// Listen for the clearing of the current output cell\nvar outputEl = gd.closest('.output');\nif (outputEl) {{\n    x.observe(outputEl, {childList: true});\n}}\n\n                        })                };                });            </script>        </div>"
     },
     "metadata": {},
     "output_type": "display_data"
    }
   ],
   "source": [
    "# Appendix\n",
    "\n",
    "# get embeddings for all article descriptions\n",
    "embeddings = [embedding_from_string(string) for string in article_descriptions]\n",
    "# compress the 2048-dimensional embeddings into 2 dimensions using t-SNE\n",
    "tsne_components = tsne_components_from_embeddings(embeddings)\n",
    "# get the article labels for coloring the chart\n",
    "# only 35 lists for cost reduction\n",
    "labels = df[\"label\"].tolist()[:35]\n",
    "\n",
    "chart_from_components(\n",
    "    components=tsne_components,\n",
    "    labels=labels,\n",
    "    strings=article_descriptions,\n",
    "    width=600,\n",
    "    height=500,\n",
    "    title=\"t-SNE components of article descriptions\",\n",
    ")"
   ],
   "metadata": {
    "collapsed": false,
    "ExecuteTime": {
     "end_time": "2023-06-11T16:53:17.586871Z",
     "start_time": "2023-06-11T16:53:17.584080Z"
    }
   }
  },
  {
   "cell_type": "code",
   "execution_count": 17,
   "outputs": [],
   "source": [
    "# create labels for the recommended articles\n",
    "def nearest_neighbor_labels(\n",
    "        list_of_indices: list[int],\n",
    "        k_nearest_neighbors: int = 5\n",
    ") -> list[str]:\n",
    "    # Return a list of labels to color the k nearest neighbors.\"\"\"\n",
    "    labels = [\"Other\" for _ in list_of_indices]\n",
    "    source_index = list_of_indices[0]\n",
    "    labels[source_index] = \"Source\"\n",
    "    for i in range(k_nearest_neighbors):\n",
    "        nearest_neighbor_index = list_of_indices[i + 1]\n",
    "        labels[nearest_neighbor_index] = f\"Nearest neighbor (top {k_nearest_neighbors})\"\n",
    "    return labels"
   ],
   "metadata": {
    "collapsed": false,
    "ExecuteTime": {
     "end_time": "2023-06-11T16:57:26.513528Z",
     "start_time": "2023-06-11T16:57:26.508205Z"
    }
   }
  },
  {
   "cell_type": "code",
   "execution_count": 21,
   "outputs": [
    {
     "data": {
      "text/plain": "['Source',\n 'Other',\n 'Other',\n 'Other',\n 'Other',\n 'Other',\n 'Nearest neighbor (top 5)',\n 'Other',\n 'Other',\n 'Other',\n 'Nearest neighbor (top 5)',\n 'Other',\n 'Other',\n 'Other',\n 'Other',\n 'Nearest neighbor (top 5)',\n 'Other',\n 'Other',\n 'Other',\n 'Nearest neighbor (top 5)',\n 'Other',\n 'Other',\n 'Nearest neighbor (top 5)',\n 'Other',\n 'Other',\n 'Other',\n 'Other',\n 'Other',\n 'Other',\n 'Other',\n 'Other',\n 'Other',\n 'Other',\n 'Other',\n 'Other']"
     },
     "execution_count": 21,
     "metadata": {},
     "output_type": "execute_result"
    }
   ],
   "source": [
    "tony_blair_labels = nearest_neighbor_labels(tony_blair_articles, k_nearest_neighbors=5)\n",
    "chipset_security_labels = nearest_neighbor_labels(chipset_security_articles, k_nearest_neighbors=5)\n",
    "\n",
    "tony_blair_labels # print for check"
   ],
   "metadata": {
    "collapsed": false,
    "ExecuteTime": {
     "end_time": "2023-06-11T17:00:09.075599Z",
     "start_time": "2023-06-11T17:00:09.066933Z"
    }
   }
  },
  {
   "cell_type": "code",
   "execution_count": 19,
   "outputs": [
    {
     "data": {
      "application/vnd.plotly.v1+json": {
       "data": [
        {
         "customdata": [
          [
           "PC World - Upcoming chip set<br>will include built-in security<br>features for your PC."
          ],
          [
           "Newspapers in Greece reflect a<br>mixture of exhilaration that<br>the Athens Olympics proved<br>successful, and relief that<br>they passed off without any<br>major setback."
          ],
          [
           "SAN JOSE, Calif. -- Apple<br>Computer (Quote, Chart)<br>unveiled a batch of new iPods,<br>iTunes software and promos<br>designed to keep it atop the<br>heap of digital music players."
          ],
          [
           "Any product, any shape, any<br>size -- manufactured on your<br>desktop! The future is the<br>fabricator. By Bruce Sterling<br>from Wired magazine."
          ],
          [
           "KABUL, Sept 22 (AFP): Three US<br>soldiers were killed and 14<br>wounded in a series of fierce<br>clashes with suspected Taliban<br>fighters in south and eastern<br>Afghanistan this week, the US<br>military said Wednesday."
          ],
          [
           "AUSTRALIAN journalist John<br>Martinkus is lucky to be alive<br>after spending 24 hours in the<br>hands of Iraqi militants at<br>the weekend. Martinkus was in<br>Baghdad working for the SBS<br>Dateline TV current affairs<br>program"
          ],
          [
           " GAZA (Reuters) - An Israeli<br>helicopter fired a missile<br>into  a town in the southern<br>Gaza Strip late on Wednesday,<br>witnesses  said, hours after a<br>Palestinian suicide bomber<br>blew herself up  in Jerusalem,<br>killing two Israeli border<br>policemen."
          ],
          [
           "The Microsoft CEO says one way<br>to stem growing piracy of<br>Windows and Office in emerging<br>markets is to offer low-cost<br>computers."
          ],
          [
           "Loudon, NH -- As the rain<br>began falling late Friday<br>afternoon at New Hampshire<br>International Speedway, the<br>rich in the Nextel Cup garage<br>got richer."
          ],
          [
           "PalmSource surprised the<br>mobile vendor community today<br>with the announcement that it<br>will acquire China MobileSoft<br>(CMS), ostensibly to leverage<br>that company's expertise in<br>building a mobile version of<br>the Linux operating system."
          ],
          [
           "JEFFERSON CITY - An election<br>security expert has raised<br>questions about Missouri<br>Secretary of State Matt Blunt<br>#39;s plan to let soldiers at<br>remote duty stations or in<br>combat areas cast their<br>ballots with the help of<br>e-mail."
          ],
          [
           "A gas explosion at a coal mine<br>in northern China killed 33<br>workers in the 10th deadly<br>mine blast reported in three<br>months. The explosion occurred<br>yesterday at 4:20 pm at Nanlou<br>township"
          ],
          [
           "AP - Ottawa Senators right<br>wing Marian Hossa is switching<br>European teams during the NHL<br>lockout."
          ],
          [
           "A new, optional log-on service<br>from America Online that makes<br>it harder for scammers to<br>access a persons online<br>account will not be available<br>for Macintosh"
          ],
          [
           "Nasser al-Qidwa, Palestinian<br>representative at the United<br>Nations and nephew of late<br>leader Yasser Arafat, handed<br>Arafat #39;s death report to<br>the Palestinian National<br>Authority (PNA) on Saturday."
          ],
          [
           "Chelsea terminated Romania<br>striker Adrian Mutu #39;s<br>contract, citing gross<br>misconduct after the player<br>failed a doping test for<br>cocaine and admitted taking<br>the drug, the English soccer<br>club said in a statement."
          ],
          [
           "United Arab Emirates President<br>and ruler of Abu Dhabi Sheik<br>Zayed bin Sultan al-Nayhan<br>died Tuesday, official<br>television reports. He was 86."
          ],
          [
           "The al-Qaida terrorist network<br>spent less than \\$50,000 on<br>each of its major attacks<br>except for the Sept. 11, 2001,<br>suicide hijackings, and one of<br>its hallmarks is using"
          ],
          [
           " SAN FRANCISCO (Reuters) -<br>Nike Inc. &lt;A HREF=\"http://w<br>ww.investor.reuters.com/FullQu<br>ote.aspx?ticker=NKE.N target=/<br>stocks/quickinfo/fullquote\"&gt<br>;NKE.N&lt;/A&gt;, the world's<br>largest athletic shoe company,<br>on Monday reported a 25<br>percent  rise in quarterly<br>profit, beating analysts'<br>estimates, on  strong demand<br>for high-end running and<br>basketball shoes in the<br>United States."
          ],
          [
           "A FATHER who scaled the walls<br>of a Cardiff court dressed as<br>superhero Robin said the<br>Buckingham Palace protester<br>posed no threat. Fathers 4<br>Justice activist Jim Gibson,<br>who earlier this year staged<br>an eye-catching"
          ],
          [
           "NEW YORK (CBS.MW) - US stocks<br>traded mixed Thurday as Merck<br>shares lost a quarter of their<br>value, dragging blue chips<br>lower, but the Nasdaq moved<br>higher, buoyed by gains in the<br>semiconductor sector."
          ],
          [
           "Julia Gillard has reportedly<br>bowed out of the race to<br>become shadow treasurer,<br>taking enormous pressure off<br>Opposition Leader Mark Latham."
          ],
          [
           "It #39;s official. Microsoft<br>recently stated<br>definitivelyand contrary to<br>rumorsthat there will be no<br>new versions of Internet<br>Explorer for users of older<br>versions of Windows."
          ],
          [
           "The success of Paris #39; bid<br>for Olympic Games 2012 would<br>bring an exceptional<br>development for France for at<br>least 6 years, said Jean-<br>Francois Lamour, French<br>minister for Youth and Sports<br>on Tuesday."
          ],
          [
           "AFP - Maybe it's something to<br>do with the fact that the<br>playing area is so vast that<br>you need a good pair of<br>binoculars to see the action<br>if it's not taking place right<br>in front of the stands."
          ],
          [
           "Egypt #39;s release of accused<br>Israeli spy Azzam Azzam in an<br>apparent swap for six Egyptian<br>students held on suspicion of<br>terrorism is expected to melt<br>the ice and perhaps result"
          ],
          [
           "But fresh antitrust suit is in<br>the envelope, says Novell"
          ],
          [
           "Chips that help a computer's<br>main microprocessors perform<br>specific types of math<br>problems are becoming a big<br>business once again.\\"
          ],
          [
           "GAZA CITY, Gaza Strip: Hamas<br>militants killed an Israeli<br>soldier and wounded four with<br>an explosion in a booby-<br>trapped chicken coop on<br>Tuesday, in what the Islamic<br>group said was an elaborate<br>scheme to lure troops to the<br>area with the help of a double"
          ]
         ],
         "hovertemplate": "label=Other<br>Component 0=%{x}<br>Component 1=%{y}<br>string=%{customdata[0]}<extra></extra>",
         "legendgroup": "Other",
         "marker": {
          "color": "#636efa",
          "symbol": "circle",
          "size": 5
         },
         "mode": "markers",
         "name": "Other",
         "orientation": "v",
         "showlegend": true,
         "x": [
          1.9652401208877563,
          1.274294376373291,
          2.0683395862579346,
          2.0551156997680664,
          0.8413530588150024,
          0.7905227541923523,
          0.6342016458511353,
          1.9429960250854492,
          1.6096394062042236,
          2.1210575103759766,
          1.1661555767059326,
          0.8112216591835022,
          1.2500663995742798,
          1.8835703134536743,
          0.480080246925354,
          1.0644276142120361,
          0.3968530297279358,
          0.9219285249710083,
          2.082258462905884,
          0.5485984683036804,
          2.011774778366089,
          1.0099313259124756,
          1.9634886980056763,
          1.1928198337554932,
          1.2649791240692139,
          0.8579442501068115,
          1.9677958488464355,
          2.0665225982666016,
          0.7569591999053955
         ],
         "xaxis": "x",
         "y": [
          -0.12470246106386185,
          -1.052558422088623,
          -0.4779253602027893,
          -0.185745507478714,
          -0.01676429808139801,
          -0.5619493722915649,
          -0.04992583021521568,
          -0.20235387980937958,
          -1.0551117658615112,
          -0.1976824849843979,
          0.0857056975364685,
          0.1635337620973587,
          -1.362322211265564,
          -0.028870314359664917,
          -0.3288489282131195,
          -1.356748104095459,
          -0.3186416029930115,
          -0.06196345016360283,
          -0.8864904046058655,
          -0.8497397899627686,
          -0.800133466720581,
          -1.0908046960830688,
          0.011354289948940277,
          -1.1099801063537598,
          -1.310441017150879,
          -0.5235027074813843,
          -0.47430986166000366,
          -0.2301630973815918,
          -0.09701341390609741
         ],
         "yaxis": "y",
         "type": "scatter"
        },
        {
         "customdata": [
          [
           "The EU and US moved closer to<br>an aviation trade war after<br>failing to reach agreement<br>during talks Thursday on<br>subsidies to Airbus Industrie."
          ],
          [
           "RIYADH, Saudi Arabia -- Saudi<br>police are seeking two young<br>men in the killing of a Briton<br>in a Riyadh parking lot, the<br>Interior Ministry said today,<br>and the British ambassador<br>called it a terrorist attack."
          ],
          [
           "Reuters - Palestinian leader<br>Mahmoud Abbas called\\Israel<br>\"the Zionist enemy\" Tuesday,<br>unprecedented language for\\the<br>relative moderate who is<br>expected to succeed Yasser<br>Arafat."
          ],
          [
           "CAIRO, Egypt - France's<br>foreign minister appealed<br>Monday for the release of two<br>French journalists abducted in<br>Baghdad, saying the French<br>respect all religions. He did<br>not rule out traveling to<br>Baghdad..."
          ],
          [
           "PALESTINIAN leader Yasser<br>Arafat today issued an urgent<br>call for the immediate release<br>of two French journalists<br>taken hostage in Iraq."
          ]
         ],
         "hovertemplate": "label=Nearest neighbor (top 5)<br>Component 0=%{x}<br>Component 1=%{y}<br>string=%{customdata[0]}<extra></extra>",
         "legendgroup": "Nearest neighbor (top 5)",
         "marker": {
          "color": "#EF553B",
          "symbol": "diamond",
          "size": 5
         },
         "mode": "markers",
         "name": "Nearest neighbor (top 5)",
         "orientation": "v",
         "showlegend": true,
         "x": [
          1.5090250968933105,
          0.5356552004814148,
          0.7167497277259827,
          0.7183560729026794,
          0.7074247598648071
         ],
         "xaxis": "x",
         "y": [
          -0.9110847115516663,
          -0.445613294839859,
          -0.46271374821662903,
          -0.6787339448928833,
          -0.5933508276939392
         ],
         "yaxis": "y",
         "type": "scatter"
        },
        {
         "customdata": [
          [
           "BRITAIN: BLAIR WARNS OF<br>CLIMATE THREAT Prime Minister<br>Tony Blair urged the<br>international community to<br>consider global warming a dire<br>threat and agree on a plan of<br>action to curb the<br>quot;alarming quot; growth of<br>greenhouse gases."
          ]
         ],
         "hovertemplate": "label=Source<br>Component 0=%{x}<br>Component 1=%{y}<br>string=%{customdata[0]}<extra></extra>",
         "legendgroup": "Source",
         "marker": {
          "color": "#00cc96",
          "symbol": "square",
          "size": 5
         },
         "mode": "markers",
         "name": "Source",
         "orientation": "v",
         "showlegend": true,
         "x": [
          0.641406238079071
         ],
         "xaxis": "x",
         "y": [
          -0.8610023260116577
         ],
         "yaxis": "y",
         "type": "scatter"
        }
       ],
       "layout": {
        "template": {
         "data": {
          "histogram2dcontour": [
           {
            "type": "histogram2dcontour",
            "colorbar": {
             "outlinewidth": 0,
             "ticks": ""
            },
            "colorscale": [
             [
              0.0,
              "#0d0887"
             ],
             [
              0.1111111111111111,
              "#46039f"
             ],
             [
              0.2222222222222222,
              "#7201a8"
             ],
             [
              0.3333333333333333,
              "#9c179e"
             ],
             [
              0.4444444444444444,
              "#bd3786"
             ],
             [
              0.5555555555555556,
              "#d8576b"
             ],
             [
              0.6666666666666666,
              "#ed7953"
             ],
             [
              0.7777777777777778,
              "#fb9f3a"
             ],
             [
              0.8888888888888888,
              "#fdca26"
             ],
             [
              1.0,
              "#f0f921"
             ]
            ]
           }
          ],
          "choropleth": [
           {
            "type": "choropleth",
            "colorbar": {
             "outlinewidth": 0,
             "ticks": ""
            }
           }
          ],
          "histogram2d": [
           {
            "type": "histogram2d",
            "colorbar": {
             "outlinewidth": 0,
             "ticks": ""
            },
            "colorscale": [
             [
              0.0,
              "#0d0887"
             ],
             [
              0.1111111111111111,
              "#46039f"
             ],
             [
              0.2222222222222222,
              "#7201a8"
             ],
             [
              0.3333333333333333,
              "#9c179e"
             ],
             [
              0.4444444444444444,
              "#bd3786"
             ],
             [
              0.5555555555555556,
              "#d8576b"
             ],
             [
              0.6666666666666666,
              "#ed7953"
             ],
             [
              0.7777777777777778,
              "#fb9f3a"
             ],
             [
              0.8888888888888888,
              "#fdca26"
             ],
             [
              1.0,
              "#f0f921"
             ]
            ]
           }
          ],
          "heatmap": [
           {
            "type": "heatmap",
            "colorbar": {
             "outlinewidth": 0,
             "ticks": ""
            },
            "colorscale": [
             [
              0.0,
              "#0d0887"
             ],
             [
              0.1111111111111111,
              "#46039f"
             ],
             [
              0.2222222222222222,
              "#7201a8"
             ],
             [
              0.3333333333333333,
              "#9c179e"
             ],
             [
              0.4444444444444444,
              "#bd3786"
             ],
             [
              0.5555555555555556,
              "#d8576b"
             ],
             [
              0.6666666666666666,
              "#ed7953"
             ],
             [
              0.7777777777777778,
              "#fb9f3a"
             ],
             [
              0.8888888888888888,
              "#fdca26"
             ],
             [
              1.0,
              "#f0f921"
             ]
            ]
           }
          ],
          "heatmapgl": [
           {
            "type": "heatmapgl",
            "colorbar": {
             "outlinewidth": 0,
             "ticks": ""
            },
            "colorscale": [
             [
              0.0,
              "#0d0887"
             ],
             [
              0.1111111111111111,
              "#46039f"
             ],
             [
              0.2222222222222222,
              "#7201a8"
             ],
             [
              0.3333333333333333,
              "#9c179e"
             ],
             [
              0.4444444444444444,
              "#bd3786"
             ],
             [
              0.5555555555555556,
              "#d8576b"
             ],
             [
              0.6666666666666666,
              "#ed7953"
             ],
             [
              0.7777777777777778,
              "#fb9f3a"
             ],
             [
              0.8888888888888888,
              "#fdca26"
             ],
             [
              1.0,
              "#f0f921"
             ]
            ]
           }
          ],
          "contourcarpet": [
           {
            "type": "contourcarpet",
            "colorbar": {
             "outlinewidth": 0,
             "ticks": ""
            }
           }
          ],
          "contour": [
           {
            "type": "contour",
            "colorbar": {
             "outlinewidth": 0,
             "ticks": ""
            },
            "colorscale": [
             [
              0.0,
              "#0d0887"
             ],
             [
              0.1111111111111111,
              "#46039f"
             ],
             [
              0.2222222222222222,
              "#7201a8"
             ],
             [
              0.3333333333333333,
              "#9c179e"
             ],
             [
              0.4444444444444444,
              "#bd3786"
             ],
             [
              0.5555555555555556,
              "#d8576b"
             ],
             [
              0.6666666666666666,
              "#ed7953"
             ],
             [
              0.7777777777777778,
              "#fb9f3a"
             ],
             [
              0.8888888888888888,
              "#fdca26"
             ],
             [
              1.0,
              "#f0f921"
             ]
            ]
           }
          ],
          "surface": [
           {
            "type": "surface",
            "colorbar": {
             "outlinewidth": 0,
             "ticks": ""
            },
            "colorscale": [
             [
              0.0,
              "#0d0887"
             ],
             [
              0.1111111111111111,
              "#46039f"
             ],
             [
              0.2222222222222222,
              "#7201a8"
             ],
             [
              0.3333333333333333,
              "#9c179e"
             ],
             [
              0.4444444444444444,
              "#bd3786"
             ],
             [
              0.5555555555555556,
              "#d8576b"
             ],
             [
              0.6666666666666666,
              "#ed7953"
             ],
             [
              0.7777777777777778,
              "#fb9f3a"
             ],
             [
              0.8888888888888888,
              "#fdca26"
             ],
             [
              1.0,
              "#f0f921"
             ]
            ]
           }
          ],
          "mesh3d": [
           {
            "type": "mesh3d",
            "colorbar": {
             "outlinewidth": 0,
             "ticks": ""
            }
           }
          ],
          "scatter": [
           {
            "fillpattern": {
             "fillmode": "overlay",
             "size": 10,
             "solidity": 0.2
            },
            "type": "scatter"
           }
          ],
          "parcoords": [
           {
            "type": "parcoords",
            "line": {
             "colorbar": {
              "outlinewidth": 0,
              "ticks": ""
             }
            }
           }
          ],
          "scatterpolargl": [
           {
            "type": "scatterpolargl",
            "marker": {
             "colorbar": {
              "outlinewidth": 0,
              "ticks": ""
             }
            }
           }
          ],
          "bar": [
           {
            "error_x": {
             "color": "#2a3f5f"
            },
            "error_y": {
             "color": "#2a3f5f"
            },
            "marker": {
             "line": {
              "color": "#E5ECF6",
              "width": 0.5
             },
             "pattern": {
              "fillmode": "overlay",
              "size": 10,
              "solidity": 0.2
             }
            },
            "type": "bar"
           }
          ],
          "scattergeo": [
           {
            "type": "scattergeo",
            "marker": {
             "colorbar": {
              "outlinewidth": 0,
              "ticks": ""
             }
            }
           }
          ],
          "scatterpolar": [
           {
            "type": "scatterpolar",
            "marker": {
             "colorbar": {
              "outlinewidth": 0,
              "ticks": ""
             }
            }
           }
          ],
          "histogram": [
           {
            "marker": {
             "pattern": {
              "fillmode": "overlay",
              "size": 10,
              "solidity": 0.2
             }
            },
            "type": "histogram"
           }
          ],
          "scattergl": [
           {
            "type": "scattergl",
            "marker": {
             "colorbar": {
              "outlinewidth": 0,
              "ticks": ""
             }
            }
           }
          ],
          "scatter3d": [
           {
            "type": "scatter3d",
            "line": {
             "colorbar": {
              "outlinewidth": 0,
              "ticks": ""
             }
            },
            "marker": {
             "colorbar": {
              "outlinewidth": 0,
              "ticks": ""
             }
            }
           }
          ],
          "scattermapbox": [
           {
            "type": "scattermapbox",
            "marker": {
             "colorbar": {
              "outlinewidth": 0,
              "ticks": ""
             }
            }
           }
          ],
          "scatterternary": [
           {
            "type": "scatterternary",
            "marker": {
             "colorbar": {
              "outlinewidth": 0,
              "ticks": ""
             }
            }
           }
          ],
          "scattercarpet": [
           {
            "type": "scattercarpet",
            "marker": {
             "colorbar": {
              "outlinewidth": 0,
              "ticks": ""
             }
            }
           }
          ],
          "carpet": [
           {
            "aaxis": {
             "endlinecolor": "#2a3f5f",
             "gridcolor": "white",
             "linecolor": "white",
             "minorgridcolor": "white",
             "startlinecolor": "#2a3f5f"
            },
            "baxis": {
             "endlinecolor": "#2a3f5f",
             "gridcolor": "white",
             "linecolor": "white",
             "minorgridcolor": "white",
             "startlinecolor": "#2a3f5f"
            },
            "type": "carpet"
           }
          ],
          "table": [
           {
            "cells": {
             "fill": {
              "color": "#EBF0F8"
             },
             "line": {
              "color": "white"
             }
            },
            "header": {
             "fill": {
              "color": "#C8D4E3"
             },
             "line": {
              "color": "white"
             }
            },
            "type": "table"
           }
          ],
          "barpolar": [
           {
            "marker": {
             "line": {
              "color": "#E5ECF6",
              "width": 0.5
             },
             "pattern": {
              "fillmode": "overlay",
              "size": 10,
              "solidity": 0.2
             }
            },
            "type": "barpolar"
           }
          ],
          "pie": [
           {
            "automargin": true,
            "type": "pie"
           }
          ]
         },
         "layout": {
          "autotypenumbers": "strict",
          "colorway": [
           "#636efa",
           "#EF553B",
           "#00cc96",
           "#ab63fa",
           "#FFA15A",
           "#19d3f3",
           "#FF6692",
           "#B6E880",
           "#FF97FF",
           "#FECB52"
          ],
          "font": {
           "color": "#2a3f5f"
          },
          "hovermode": "closest",
          "hoverlabel": {
           "align": "left"
          },
          "paper_bgcolor": "white",
          "plot_bgcolor": "#E5ECF6",
          "polar": {
           "bgcolor": "#E5ECF6",
           "angularaxis": {
            "gridcolor": "white",
            "linecolor": "white",
            "ticks": ""
           },
           "radialaxis": {
            "gridcolor": "white",
            "linecolor": "white",
            "ticks": ""
           }
          },
          "ternary": {
           "bgcolor": "#E5ECF6",
           "aaxis": {
            "gridcolor": "white",
            "linecolor": "white",
            "ticks": ""
           },
           "baxis": {
            "gridcolor": "white",
            "linecolor": "white",
            "ticks": ""
           },
           "caxis": {
            "gridcolor": "white",
            "linecolor": "white",
            "ticks": ""
           }
          },
          "coloraxis": {
           "colorbar": {
            "outlinewidth": 0,
            "ticks": ""
           }
          },
          "colorscale": {
           "sequential": [
            [
             0.0,
             "#0d0887"
            ],
            [
             0.1111111111111111,
             "#46039f"
            ],
            [
             0.2222222222222222,
             "#7201a8"
            ],
            [
             0.3333333333333333,
             "#9c179e"
            ],
            [
             0.4444444444444444,
             "#bd3786"
            ],
            [
             0.5555555555555556,
             "#d8576b"
            ],
            [
             0.6666666666666666,
             "#ed7953"
            ],
            [
             0.7777777777777778,
             "#fb9f3a"
            ],
            [
             0.8888888888888888,
             "#fdca26"
            ],
            [
             1.0,
             "#f0f921"
            ]
           ],
           "sequentialminus": [
            [
             0.0,
             "#0d0887"
            ],
            [
             0.1111111111111111,
             "#46039f"
            ],
            [
             0.2222222222222222,
             "#7201a8"
            ],
            [
             0.3333333333333333,
             "#9c179e"
            ],
            [
             0.4444444444444444,
             "#bd3786"
            ],
            [
             0.5555555555555556,
             "#d8576b"
            ],
            [
             0.6666666666666666,
             "#ed7953"
            ],
            [
             0.7777777777777778,
             "#fb9f3a"
            ],
            [
             0.8888888888888888,
             "#fdca26"
            ],
            [
             1.0,
             "#f0f921"
            ]
           ],
           "diverging": [
            [
             0,
             "#8e0152"
            ],
            [
             0.1,
             "#c51b7d"
            ],
            [
             0.2,
             "#de77ae"
            ],
            [
             0.3,
             "#f1b6da"
            ],
            [
             0.4,
             "#fde0ef"
            ],
            [
             0.5,
             "#f7f7f7"
            ],
            [
             0.6,
             "#e6f5d0"
            ],
            [
             0.7,
             "#b8e186"
            ],
            [
             0.8,
             "#7fbc41"
            ],
            [
             0.9,
             "#4d9221"
            ],
            [
             1,
             "#276419"
            ]
           ]
          },
          "xaxis": {
           "gridcolor": "white",
           "linecolor": "white",
           "ticks": "",
           "title": {
            "standoff": 15
           },
           "zerolinecolor": "white",
           "automargin": true,
           "zerolinewidth": 2
          },
          "yaxis": {
           "gridcolor": "white",
           "linecolor": "white",
           "ticks": "",
           "title": {
            "standoff": 15
           },
           "zerolinecolor": "white",
           "automargin": true,
           "zerolinewidth": 2
          },
          "scene": {
           "xaxis": {
            "backgroundcolor": "#E5ECF6",
            "gridcolor": "white",
            "linecolor": "white",
            "showbackground": true,
            "ticks": "",
            "zerolinecolor": "white",
            "gridwidth": 2
           },
           "yaxis": {
            "backgroundcolor": "#E5ECF6",
            "gridcolor": "white",
            "linecolor": "white",
            "showbackground": true,
            "ticks": "",
            "zerolinecolor": "white",
            "gridwidth": 2
           },
           "zaxis": {
            "backgroundcolor": "#E5ECF6",
            "gridcolor": "white",
            "linecolor": "white",
            "showbackground": true,
            "ticks": "",
            "zerolinecolor": "white",
            "gridwidth": 2
           }
          },
          "shapedefaults": {
           "line": {
            "color": "#2a3f5f"
           }
          },
          "annotationdefaults": {
           "arrowcolor": "#2a3f5f",
           "arrowhead": 0,
           "arrowwidth": 1
          },
          "geo": {
           "bgcolor": "white",
           "landcolor": "#E5ECF6",
           "subunitcolor": "white",
           "showland": true,
           "showlakes": true,
           "lakecolor": "white"
          },
          "title": {
           "x": 0.05
          },
          "mapbox": {
           "style": "light"
          }
         }
        },
        "xaxis": {
         "anchor": "y",
         "domain": [
          0.0,
          1.0
         ],
         "title": {
          "text": "Component 0"
         }
        },
        "yaxis": {
         "anchor": "x",
         "domain": [
          0.0,
          1.0
         ],
         "title": {
          "text": "Component 1"
         }
        },
        "legend": {
         "title": {
          "text": "label"
         },
         "tracegroupgap": 0
        },
        "title": {
         "text": "Nearest neighbors of the Tony Blair article"
        },
        "height": 500,
        "width": 600
       },
       "config": {
        "plotlyServerURL": "https://plot.ly"
       }
      },
      "text/html": "<div>                            <div id=\"de831b08-4919-41dc-b728-8a2e41d3f005\" class=\"plotly-graph-div\" style=\"height:500px; width:600px;\"></div>            <script type=\"text/javascript\">                require([\"plotly\"], function(Plotly) {                    window.PLOTLYENV=window.PLOTLYENV || {};                                    if (document.getElementById(\"de831b08-4919-41dc-b728-8a2e41d3f005\")) {                    Plotly.newPlot(                        \"de831b08-4919-41dc-b728-8a2e41d3f005\",                        [{\"customdata\":[[\"PC World - Upcoming chip set<br>will include built-in security<br>features for your PC.\"],[\"Newspapers in Greece reflect a<br>mixture of exhilaration that<br>the Athens Olympics proved<br>successful, and relief that<br>they passed off without any<br>major setback.\"],[\"SAN JOSE, Calif. -- Apple<br>Computer (Quote, Chart)<br>unveiled a batch of new iPods,<br>iTunes software and promos<br>designed to keep it atop the<br>heap of digital music players.\"],[\"Any product, any shape, any<br>size -- manufactured on your<br>desktop! The future is the<br>fabricator. By Bruce Sterling<br>from Wired magazine.\"],[\"KABUL, Sept 22 (AFP): Three US<br>soldiers were killed and 14<br>wounded in a series of fierce<br>clashes with suspected Taliban<br>fighters in south and eastern<br>Afghanistan this week, the US<br>military said Wednesday.\"],[\"AUSTRALIAN journalist John<br>Martinkus is lucky to be alive<br>after spending 24 hours in the<br>hands of Iraqi militants at<br>the weekend. Martinkus was in<br>Baghdad working for the SBS<br>Dateline TV current affairs<br>program\"],[\" GAZA (Reuters) - An Israeli<br>helicopter fired a missile<br>into  a town in the southern<br>Gaza Strip late on Wednesday,<br>witnesses  said, hours after a<br>Palestinian suicide bomber<br>blew herself up  in Jerusalem,<br>killing two Israeli border<br>policemen.\"],[\"The Microsoft CEO says one way<br>to stem growing piracy of<br>Windows and Office in emerging<br>markets is to offer low-cost<br>computers.\"],[\"Loudon, NH -- As the rain<br>began falling late Friday<br>afternoon at New Hampshire<br>International Speedway, the<br>rich in the Nextel Cup garage<br>got richer.\"],[\"PalmSource surprised the<br>mobile vendor community today<br>with the announcement that it<br>will acquire China MobileSoft<br>(CMS), ostensibly to leverage<br>that company's expertise in<br>building a mobile version of<br>the Linux operating system.\"],[\"JEFFERSON CITY - An election<br>security expert has raised<br>questions about Missouri<br>Secretary of State Matt Blunt<br>#39;s plan to let soldiers at<br>remote duty stations or in<br>combat areas cast their<br>ballots with the help of<br>e-mail.\"],[\"A gas explosion at a coal mine<br>in northern China killed 33<br>workers in the 10th deadly<br>mine blast reported in three<br>months. The explosion occurred<br>yesterday at 4:20 pm at Nanlou<br>township\"],[\"AP - Ottawa Senators right<br>wing Marian Hossa is switching<br>European teams during the NHL<br>lockout.\"],[\"A new, optional log-on service<br>from America Online that makes<br>it harder for scammers to<br>access a persons online<br>account will not be available<br>for Macintosh\"],[\"Nasser al-Qidwa, Palestinian<br>representative at the United<br>Nations and nephew of late<br>leader Yasser Arafat, handed<br>Arafat #39;s death report to<br>the Palestinian National<br>Authority (PNA) on Saturday.\"],[\"Chelsea terminated Romania<br>striker Adrian Mutu #39;s<br>contract, citing gross<br>misconduct after the player<br>failed a doping test for<br>cocaine and admitted taking<br>the drug, the English soccer<br>club said in a statement.\"],[\"United Arab Emirates President<br>and ruler of Abu Dhabi Sheik<br>Zayed bin Sultan al-Nayhan<br>died Tuesday, official<br>television reports. He was 86.\"],[\"The al-Qaida terrorist network<br>spent less than \\\\$50,000 on<br>each of its major attacks<br>except for the Sept. 11, 2001,<br>suicide hijackings, and one of<br>its hallmarks is using\"],[\" SAN FRANCISCO (Reuters) -<br>Nike Inc. &lt;A HREF=\\\"http://w<br>ww.investor.reuters.com/FullQu<br>ote.aspx?ticker=NKE.N target=/<br>stocks/quickinfo/fullquote\\\"&gt<br>;NKE.N&lt;/A&gt;, the world's<br>largest athletic shoe company,<br>on Monday reported a 25<br>percent  rise in quarterly<br>profit, beating analysts'<br>estimates, on  strong demand<br>for high-end running and<br>basketball shoes in the<br>United States.\"],[\"A FATHER who scaled the walls<br>of a Cardiff court dressed as<br>superhero Robin said the<br>Buckingham Palace protester<br>posed no threat. Fathers 4<br>Justice activist Jim Gibson,<br>who earlier this year staged<br>an eye-catching\"],[\"NEW YORK (CBS.MW) - US stocks<br>traded mixed Thurday as Merck<br>shares lost a quarter of their<br>value, dragging blue chips<br>lower, but the Nasdaq moved<br>higher, buoyed by gains in the<br>semiconductor sector.\"],[\"Julia Gillard has reportedly<br>bowed out of the race to<br>become shadow treasurer,<br>taking enormous pressure off<br>Opposition Leader Mark Latham.\"],[\"It #39;s official. Microsoft<br>recently stated<br>definitivelyand contrary to<br>rumorsthat there will be no<br>new versions of Internet<br>Explorer for users of older<br>versions of Windows.\"],[\"The success of Paris #39; bid<br>for Olympic Games 2012 would<br>bring an exceptional<br>development for France for at<br>least 6 years, said Jean-<br>Francois Lamour, French<br>minister for Youth and Sports<br>on Tuesday.\"],[\"AFP - Maybe it's something to<br>do with the fact that the<br>playing area is so vast that<br>you need a good pair of<br>binoculars to see the action<br>if it's not taking place right<br>in front of the stands.\"],[\"Egypt #39;s release of accused<br>Israeli spy Azzam Azzam in an<br>apparent swap for six Egyptian<br>students held on suspicion of<br>terrorism is expected to melt<br>the ice and perhaps result\"],[\"But fresh antitrust suit is in<br>the envelope, says Novell\"],[\"Chips that help a computer's<br>main microprocessors perform<br>specific types of math<br>problems are becoming a big<br>business once again.\\\\\"],[\"GAZA CITY, Gaza Strip: Hamas<br>militants killed an Israeli<br>soldier and wounded four with<br>an explosion in a booby-<br>trapped chicken coop on<br>Tuesday, in what the Islamic<br>group said was an elaborate<br>scheme to lure troops to the<br>area with the help of a double\"]],\"hovertemplate\":\"label=Other<br>Component 0=%{x}<br>Component 1=%{y}<br>string=%{customdata[0]}<extra></extra>\",\"legendgroup\":\"Other\",\"marker\":{\"color\":\"#636efa\",\"symbol\":\"circle\",\"size\":5},\"mode\":\"markers\",\"name\":\"Other\",\"orientation\":\"v\",\"showlegend\":true,\"x\":[1.9652401208877563,1.274294376373291,2.0683395862579346,2.0551156997680664,0.8413530588150024,0.7905227541923523,0.6342016458511353,1.9429960250854492,1.6096394062042236,2.1210575103759766,1.1661555767059326,0.8112216591835022,1.2500663995742798,1.8835703134536743,0.480080246925354,1.0644276142120361,0.3968530297279358,0.9219285249710083,2.082258462905884,0.5485984683036804,2.011774778366089,1.0099313259124756,1.9634886980056763,1.1928198337554932,1.2649791240692139,0.8579442501068115,1.9677958488464355,2.0665225982666016,0.7569591999053955],\"xaxis\":\"x\",\"y\":[-0.12470246106386185,-1.052558422088623,-0.4779253602027893,-0.185745507478714,-0.01676429808139801,-0.5619493722915649,-0.04992583021521568,-0.20235387980937958,-1.0551117658615112,-0.1976824849843979,0.0857056975364685,0.1635337620973587,-1.362322211265564,-0.028870314359664917,-0.3288489282131195,-1.356748104095459,-0.3186416029930115,-0.06196345016360283,-0.8864904046058655,-0.8497397899627686,-0.800133466720581,-1.0908046960830688,0.011354289948940277,-1.1099801063537598,-1.310441017150879,-0.5235027074813843,-0.47430986166000366,-0.2301630973815918,-0.09701341390609741],\"yaxis\":\"y\",\"type\":\"scatter\"},{\"customdata\":[[\"The EU and US moved closer to<br>an aviation trade war after<br>failing to reach agreement<br>during talks Thursday on<br>subsidies to Airbus Industrie.\"],[\"RIYADH, Saudi Arabia -- Saudi<br>police are seeking two young<br>men in the killing of a Briton<br>in a Riyadh parking lot, the<br>Interior Ministry said today,<br>and the British ambassador<br>called it a terrorist attack.\"],[\"Reuters - Palestinian leader<br>Mahmoud Abbas called\\\\Israel<br>\\\"the Zionist enemy\\\" Tuesday,<br>unprecedented language for\\\\the<br>relative moderate who is<br>expected to succeed Yasser<br>Arafat.\"],[\"CAIRO, Egypt - France's<br>foreign minister appealed<br>Monday for the release of two<br>French journalists abducted in<br>Baghdad, saying the French<br>respect all religions. He did<br>not rule out traveling to<br>Baghdad...\"],[\"PALESTINIAN leader Yasser<br>Arafat today issued an urgent<br>call for the immediate release<br>of two French journalists<br>taken hostage in Iraq.\"]],\"hovertemplate\":\"label=Nearest neighbor (top 5)<br>Component 0=%{x}<br>Component 1=%{y}<br>string=%{customdata[0]}<extra></extra>\",\"legendgroup\":\"Nearest neighbor (top 5)\",\"marker\":{\"color\":\"#EF553B\",\"symbol\":\"diamond\",\"size\":5},\"mode\":\"markers\",\"name\":\"Nearest neighbor (top 5)\",\"orientation\":\"v\",\"showlegend\":true,\"x\":[1.5090250968933105,0.5356552004814148,0.7167497277259827,0.7183560729026794,0.7074247598648071],\"xaxis\":\"x\",\"y\":[-0.9110847115516663,-0.445613294839859,-0.46271374821662903,-0.6787339448928833,-0.5933508276939392],\"yaxis\":\"y\",\"type\":\"scatter\"},{\"customdata\":[[\"BRITAIN: BLAIR WARNS OF<br>CLIMATE THREAT Prime Minister<br>Tony Blair urged the<br>international community to<br>consider global warming a dire<br>threat and agree on a plan of<br>action to curb the<br>quot;alarming quot; growth of<br>greenhouse gases.\"]],\"hovertemplate\":\"label=Source<br>Component 0=%{x}<br>Component 1=%{y}<br>string=%{customdata[0]}<extra></extra>\",\"legendgroup\":\"Source\",\"marker\":{\"color\":\"#00cc96\",\"symbol\":\"square\",\"size\":5},\"mode\":\"markers\",\"name\":\"Source\",\"orientation\":\"v\",\"showlegend\":true,\"x\":[0.641406238079071],\"xaxis\":\"x\",\"y\":[-0.8610023260116577],\"yaxis\":\"y\",\"type\":\"scatter\"}],                        {\"template\":{\"data\":{\"histogram2dcontour\":[{\"type\":\"histogram2dcontour\",\"colorbar\":{\"outlinewidth\":0,\"ticks\":\"\"},\"colorscale\":[[0.0,\"#0d0887\"],[0.1111111111111111,\"#46039f\"],[0.2222222222222222,\"#7201a8\"],[0.3333333333333333,\"#9c179e\"],[0.4444444444444444,\"#bd3786\"],[0.5555555555555556,\"#d8576b\"],[0.6666666666666666,\"#ed7953\"],[0.7777777777777778,\"#fb9f3a\"],[0.8888888888888888,\"#fdca26\"],[1.0,\"#f0f921\"]]}],\"choropleth\":[{\"type\":\"choropleth\",\"colorbar\":{\"outlinewidth\":0,\"ticks\":\"\"}}],\"histogram2d\":[{\"type\":\"histogram2d\",\"colorbar\":{\"outlinewidth\":0,\"ticks\":\"\"},\"colorscale\":[[0.0,\"#0d0887\"],[0.1111111111111111,\"#46039f\"],[0.2222222222222222,\"#7201a8\"],[0.3333333333333333,\"#9c179e\"],[0.4444444444444444,\"#bd3786\"],[0.5555555555555556,\"#d8576b\"],[0.6666666666666666,\"#ed7953\"],[0.7777777777777778,\"#fb9f3a\"],[0.8888888888888888,\"#fdca26\"],[1.0,\"#f0f921\"]]}],\"heatmap\":[{\"type\":\"heatmap\",\"colorbar\":{\"outlinewidth\":0,\"ticks\":\"\"},\"colorscale\":[[0.0,\"#0d0887\"],[0.1111111111111111,\"#46039f\"],[0.2222222222222222,\"#7201a8\"],[0.3333333333333333,\"#9c179e\"],[0.4444444444444444,\"#bd3786\"],[0.5555555555555556,\"#d8576b\"],[0.6666666666666666,\"#ed7953\"],[0.7777777777777778,\"#fb9f3a\"],[0.8888888888888888,\"#fdca26\"],[1.0,\"#f0f921\"]]}],\"heatmapgl\":[{\"type\":\"heatmapgl\",\"colorbar\":{\"outlinewidth\":0,\"ticks\":\"\"},\"colorscale\":[[0.0,\"#0d0887\"],[0.1111111111111111,\"#46039f\"],[0.2222222222222222,\"#7201a8\"],[0.3333333333333333,\"#9c179e\"],[0.4444444444444444,\"#bd3786\"],[0.5555555555555556,\"#d8576b\"],[0.6666666666666666,\"#ed7953\"],[0.7777777777777778,\"#fb9f3a\"],[0.8888888888888888,\"#fdca26\"],[1.0,\"#f0f921\"]]}],\"contourcarpet\":[{\"type\":\"contourcarpet\",\"colorbar\":{\"outlinewidth\":0,\"ticks\":\"\"}}],\"contour\":[{\"type\":\"contour\",\"colorbar\":{\"outlinewidth\":0,\"ticks\":\"\"},\"colorscale\":[[0.0,\"#0d0887\"],[0.1111111111111111,\"#46039f\"],[0.2222222222222222,\"#7201a8\"],[0.3333333333333333,\"#9c179e\"],[0.4444444444444444,\"#bd3786\"],[0.5555555555555556,\"#d8576b\"],[0.6666666666666666,\"#ed7953\"],[0.7777777777777778,\"#fb9f3a\"],[0.8888888888888888,\"#fdca26\"],[1.0,\"#f0f921\"]]}],\"surface\":[{\"type\":\"surface\",\"colorbar\":{\"outlinewidth\":0,\"ticks\":\"\"},\"colorscale\":[[0.0,\"#0d0887\"],[0.1111111111111111,\"#46039f\"],[0.2222222222222222,\"#7201a8\"],[0.3333333333333333,\"#9c179e\"],[0.4444444444444444,\"#bd3786\"],[0.5555555555555556,\"#d8576b\"],[0.6666666666666666,\"#ed7953\"],[0.7777777777777778,\"#fb9f3a\"],[0.8888888888888888,\"#fdca26\"],[1.0,\"#f0f921\"]]}],\"mesh3d\":[{\"type\":\"mesh3d\",\"colorbar\":{\"outlinewidth\":0,\"ticks\":\"\"}}],\"scatter\":[{\"fillpattern\":{\"fillmode\":\"overlay\",\"size\":10,\"solidity\":0.2},\"type\":\"scatter\"}],\"parcoords\":[{\"type\":\"parcoords\",\"line\":{\"colorbar\":{\"outlinewidth\":0,\"ticks\":\"\"}}}],\"scatterpolargl\":[{\"type\":\"scatterpolargl\",\"marker\":{\"colorbar\":{\"outlinewidth\":0,\"ticks\":\"\"}}}],\"bar\":[{\"error_x\":{\"color\":\"#2a3f5f\"},\"error_y\":{\"color\":\"#2a3f5f\"},\"marker\":{\"line\":{\"color\":\"#E5ECF6\",\"width\":0.5},\"pattern\":{\"fillmode\":\"overlay\",\"size\":10,\"solidity\":0.2}},\"type\":\"bar\"}],\"scattergeo\":[{\"type\":\"scattergeo\",\"marker\":{\"colorbar\":{\"outlinewidth\":0,\"ticks\":\"\"}}}],\"scatterpolar\":[{\"type\":\"scatterpolar\",\"marker\":{\"colorbar\":{\"outlinewidth\":0,\"ticks\":\"\"}}}],\"histogram\":[{\"marker\":{\"pattern\":{\"fillmode\":\"overlay\",\"size\":10,\"solidity\":0.2}},\"type\":\"histogram\"}],\"scattergl\":[{\"type\":\"scattergl\",\"marker\":{\"colorbar\":{\"outlinewidth\":0,\"ticks\":\"\"}}}],\"scatter3d\":[{\"type\":\"scatter3d\",\"line\":{\"colorbar\":{\"outlinewidth\":0,\"ticks\":\"\"}},\"marker\":{\"colorbar\":{\"outlinewidth\":0,\"ticks\":\"\"}}}],\"scattermapbox\":[{\"type\":\"scattermapbox\",\"marker\":{\"colorbar\":{\"outlinewidth\":0,\"ticks\":\"\"}}}],\"scatterternary\":[{\"type\":\"scatterternary\",\"marker\":{\"colorbar\":{\"outlinewidth\":0,\"ticks\":\"\"}}}],\"scattercarpet\":[{\"type\":\"scattercarpet\",\"marker\":{\"colorbar\":{\"outlinewidth\":0,\"ticks\":\"\"}}}],\"carpet\":[{\"aaxis\":{\"endlinecolor\":\"#2a3f5f\",\"gridcolor\":\"white\",\"linecolor\":\"white\",\"minorgridcolor\":\"white\",\"startlinecolor\":\"#2a3f5f\"},\"baxis\":{\"endlinecolor\":\"#2a3f5f\",\"gridcolor\":\"white\",\"linecolor\":\"white\",\"minorgridcolor\":\"white\",\"startlinecolor\":\"#2a3f5f\"},\"type\":\"carpet\"}],\"table\":[{\"cells\":{\"fill\":{\"color\":\"#EBF0F8\"},\"line\":{\"color\":\"white\"}},\"header\":{\"fill\":{\"color\":\"#C8D4E3\"},\"line\":{\"color\":\"white\"}},\"type\":\"table\"}],\"barpolar\":[{\"marker\":{\"line\":{\"color\":\"#E5ECF6\",\"width\":0.5},\"pattern\":{\"fillmode\":\"overlay\",\"size\":10,\"solidity\":0.2}},\"type\":\"barpolar\"}],\"pie\":[{\"automargin\":true,\"type\":\"pie\"}]},\"layout\":{\"autotypenumbers\":\"strict\",\"colorway\":[\"#636efa\",\"#EF553B\",\"#00cc96\",\"#ab63fa\",\"#FFA15A\",\"#19d3f3\",\"#FF6692\",\"#B6E880\",\"#FF97FF\",\"#FECB52\"],\"font\":{\"color\":\"#2a3f5f\"},\"hovermode\":\"closest\",\"hoverlabel\":{\"align\":\"left\"},\"paper_bgcolor\":\"white\",\"plot_bgcolor\":\"#E5ECF6\",\"polar\":{\"bgcolor\":\"#E5ECF6\",\"angularaxis\":{\"gridcolor\":\"white\",\"linecolor\":\"white\",\"ticks\":\"\"},\"radialaxis\":{\"gridcolor\":\"white\",\"linecolor\":\"white\",\"ticks\":\"\"}},\"ternary\":{\"bgcolor\":\"#E5ECF6\",\"aaxis\":{\"gridcolor\":\"white\",\"linecolor\":\"white\",\"ticks\":\"\"},\"baxis\":{\"gridcolor\":\"white\",\"linecolor\":\"white\",\"ticks\":\"\"},\"caxis\":{\"gridcolor\":\"white\",\"linecolor\":\"white\",\"ticks\":\"\"}},\"coloraxis\":{\"colorbar\":{\"outlinewidth\":0,\"ticks\":\"\"}},\"colorscale\":{\"sequential\":[[0.0,\"#0d0887\"],[0.1111111111111111,\"#46039f\"],[0.2222222222222222,\"#7201a8\"],[0.3333333333333333,\"#9c179e\"],[0.4444444444444444,\"#bd3786\"],[0.5555555555555556,\"#d8576b\"],[0.6666666666666666,\"#ed7953\"],[0.7777777777777778,\"#fb9f3a\"],[0.8888888888888888,\"#fdca26\"],[1.0,\"#f0f921\"]],\"sequentialminus\":[[0.0,\"#0d0887\"],[0.1111111111111111,\"#46039f\"],[0.2222222222222222,\"#7201a8\"],[0.3333333333333333,\"#9c179e\"],[0.4444444444444444,\"#bd3786\"],[0.5555555555555556,\"#d8576b\"],[0.6666666666666666,\"#ed7953\"],[0.7777777777777778,\"#fb9f3a\"],[0.8888888888888888,\"#fdca26\"],[1.0,\"#f0f921\"]],\"diverging\":[[0,\"#8e0152\"],[0.1,\"#c51b7d\"],[0.2,\"#de77ae\"],[0.3,\"#f1b6da\"],[0.4,\"#fde0ef\"],[0.5,\"#f7f7f7\"],[0.6,\"#e6f5d0\"],[0.7,\"#b8e186\"],[0.8,\"#7fbc41\"],[0.9,\"#4d9221\"],[1,\"#276419\"]]},\"xaxis\":{\"gridcolor\":\"white\",\"linecolor\":\"white\",\"ticks\":\"\",\"title\":{\"standoff\":15},\"zerolinecolor\":\"white\",\"automargin\":true,\"zerolinewidth\":2},\"yaxis\":{\"gridcolor\":\"white\",\"linecolor\":\"white\",\"ticks\":\"\",\"title\":{\"standoff\":15},\"zerolinecolor\":\"white\",\"automargin\":true,\"zerolinewidth\":2},\"scene\":{\"xaxis\":{\"backgroundcolor\":\"#E5ECF6\",\"gridcolor\":\"white\",\"linecolor\":\"white\",\"showbackground\":true,\"ticks\":\"\",\"zerolinecolor\":\"white\",\"gridwidth\":2},\"yaxis\":{\"backgroundcolor\":\"#E5ECF6\",\"gridcolor\":\"white\",\"linecolor\":\"white\",\"showbackground\":true,\"ticks\":\"\",\"zerolinecolor\":\"white\",\"gridwidth\":2},\"zaxis\":{\"backgroundcolor\":\"#E5ECF6\",\"gridcolor\":\"white\",\"linecolor\":\"white\",\"showbackground\":true,\"ticks\":\"\",\"zerolinecolor\":\"white\",\"gridwidth\":2}},\"shapedefaults\":{\"line\":{\"color\":\"#2a3f5f\"}},\"annotationdefaults\":{\"arrowcolor\":\"#2a3f5f\",\"arrowhead\":0,\"arrowwidth\":1},\"geo\":{\"bgcolor\":\"white\",\"landcolor\":\"#E5ECF6\",\"subunitcolor\":\"white\",\"showland\":true,\"showlakes\":true,\"lakecolor\":\"white\"},\"title\":{\"x\":0.05},\"mapbox\":{\"style\":\"light\"}}},\"xaxis\":{\"anchor\":\"y\",\"domain\":[0.0,1.0],\"title\":{\"text\":\"Component 0\"}},\"yaxis\":{\"anchor\":\"x\",\"domain\":[0.0,1.0],\"title\":{\"text\":\"Component 1\"}},\"legend\":{\"title\":{\"text\":\"label\"},\"tracegroupgap\":0},\"title\":{\"text\":\"Nearest neighbors of the Tony Blair article\"},\"height\":500,\"width\":600},                        {\"responsive\": true}                    ).then(function(){\n                            \nvar gd = document.getElementById('de831b08-4919-41dc-b728-8a2e41d3f005');\nvar x = new MutationObserver(function (mutations, observer) {{\n        var display = window.getComputedStyle(gd).display;\n        if (!display || display === 'none') {{\n            console.log([gd, 'removed!']);\n            Plotly.purge(gd);\n            observer.disconnect();\n        }}\n}});\n\n// Listen for the removal of the full notebook cells\nvar notebookContainer = gd.closest('#notebook-container');\nif (notebookContainer) {{\n    x.observe(notebookContainer, {childList: true});\n}}\n\n// Listen for the clearing of the current output cell\nvar outputEl = gd.closest('.output');\nif (outputEl) {{\n    x.observe(outputEl, {childList: true});\n}}\n\n                        })                };                });            </script>        </div>"
     },
     "metadata": {},
     "output_type": "display_data"
    }
   ],
   "source": [
    "# a 2D chart of nearest neighbors of the Tony Blair article\n",
    "\n",
    "# 5 nearest neighbors (red) were closest in high dimensional space, they are not the closest points in this compressed 2D space. Compressing the embeddings down to 2 dimensions discards much of their information, and the nearest neighbors in the 2D space don't seem to be as relevant as those in the full embedding space.\n",
    "\n",
    "chart_from_components(\n",
    "    components=tsne_components,\n",
    "    labels=tony_blair_labels,\n",
    "    strings=article_descriptions,\n",
    "    width=600,\n",
    "    height=500,\n",
    "    title=\"Nearest neighbors of the Tony Blair article\",\n",
    "    category_orders={\"label\": [\"Other\", \"Nearest neighbor (top 5)\", \"Source\"]},\n",
    ")"
   ],
   "metadata": {
    "collapsed": false,
    "ExecuteTime": {
     "end_time": "2023-06-11T16:58:32.364314Z",
     "start_time": "2023-06-11T16:58:32.336805Z"
    }
   }
  },
  {
   "cell_type": "code",
   "execution_count": 20,
   "outputs": [
    {
     "data": {
      "application/vnd.plotly.v1+json": {
       "data": [
        {
         "customdata": [
          [
           "BRITAIN: BLAIR WARNS OF<br>CLIMATE THREAT Prime Minister<br>Tony Blair urged the<br>international community to<br>consider global warming a dire<br>threat and agree on a plan of<br>action to curb the<br>quot;alarming quot; growth of<br>greenhouse gases."
          ],
          [
           "Newspapers in Greece reflect a<br>mixture of exhilaration that<br>the Athens Olympics proved<br>successful, and relief that<br>they passed off without any<br>major setback."
          ],
          [
           "KABUL, Sept 22 (AFP): Three US<br>soldiers were killed and 14<br>wounded in a series of fierce<br>clashes with suspected Taliban<br>fighters in south and eastern<br>Afghanistan this week, the US<br>military said Wednesday."
          ],
          [
           "The EU and US moved closer to<br>an aviation trade war after<br>failing to reach agreement<br>during talks Thursday on<br>subsidies to Airbus Industrie."
          ],
          [
           "AUSTRALIAN journalist John<br>Martinkus is lucky to be alive<br>after spending 24 hours in the<br>hands of Iraqi militants at<br>the weekend. Martinkus was in<br>Baghdad working for the SBS<br>Dateline TV current affairs<br>program"
          ],
          [
           " GAZA (Reuters) - An Israeli<br>helicopter fired a missile<br>into  a town in the southern<br>Gaza Strip late on Wednesday,<br>witnesses  said, hours after a<br>Palestinian suicide bomber<br>blew herself up  in Jerusalem,<br>killing two Israeli border<br>policemen."
          ],
          [
           "RIYADH, Saudi Arabia -- Saudi<br>police are seeking two young<br>men in the killing of a Briton<br>in a Riyadh parking lot, the<br>Interior Ministry said today,<br>and the British ambassador<br>called it a terrorist attack."
          ],
          [
           "Loudon, NH -- As the rain<br>began falling late Friday<br>afternoon at New Hampshire<br>International Speedway, the<br>rich in the Nextel Cup garage<br>got richer."
          ],
          [
           "PalmSource surprised the<br>mobile vendor community today<br>with the announcement that it<br>will acquire China MobileSoft<br>(CMS), ostensibly to leverage<br>that company's expertise in<br>building a mobile version of<br>the Linux operating system."
          ],
          [
           "JEFFERSON CITY - An election<br>security expert has raised<br>questions about Missouri<br>Secretary of State Matt Blunt<br>#39;s plan to let soldiers at<br>remote duty stations or in<br>combat areas cast their<br>ballots with the help of<br>e-mail."
          ],
          [
           "A gas explosion at a coal mine<br>in northern China killed 33<br>workers in the 10th deadly<br>mine blast reported in three<br>months. The explosion occurred<br>yesterday at 4:20 pm at Nanlou<br>township"
          ],
          [
           "Reuters - Palestinian leader<br>Mahmoud Abbas called\\Israel<br>\"the Zionist enemy\" Tuesday,<br>unprecedented language for\\the<br>relative moderate who is<br>expected to succeed Yasser<br>Arafat."
          ],
          [
           "AP - Ottawa Senators right<br>wing Marian Hossa is switching<br>European teams during the NHL<br>lockout."
          ],
          [
           "Nasser al-Qidwa, Palestinian<br>representative at the United<br>Nations and nephew of late<br>leader Yasser Arafat, handed<br>Arafat #39;s death report to<br>the Palestinian National<br>Authority (PNA) on Saturday."
          ],
          [
           "CAIRO, Egypt - France's<br>foreign minister appealed<br>Monday for the release of two<br>French journalists abducted in<br>Baghdad, saying the French<br>respect all religions. He did<br>not rule out traveling to<br>Baghdad..."
          ],
          [
           "Chelsea terminated Romania<br>striker Adrian Mutu #39;s<br>contract, citing gross<br>misconduct after the player<br>failed a doping test for<br>cocaine and admitted taking<br>the drug, the English soccer<br>club said in a statement."
          ],
          [
           "United Arab Emirates President<br>and ruler of Abu Dhabi Sheik<br>Zayed bin Sultan al-Nayhan<br>died Tuesday, official<br>television reports. He was 86."
          ],
          [
           "PALESTINIAN leader Yasser<br>Arafat today issued an urgent<br>call for the immediate release<br>of two French journalists<br>taken hostage in Iraq."
          ],
          [
           "The al-Qaida terrorist network<br>spent less than \\$50,000 on<br>each of its major attacks<br>except for the Sept. 11, 2001,<br>suicide hijackings, and one of<br>its hallmarks is using"
          ],
          [
           " SAN FRANCISCO (Reuters) -<br>Nike Inc. &lt;A HREF=\"http://w<br>ww.investor.reuters.com/FullQu<br>ote.aspx?ticker=NKE.N target=/<br>stocks/quickinfo/fullquote\"&gt<br>;NKE.N&lt;/A&gt;, the world's<br>largest athletic shoe company,<br>on Monday reported a 25<br>percent  rise in quarterly<br>profit, beating analysts'<br>estimates, on  strong demand<br>for high-end running and<br>basketball shoes in the<br>United States."
          ],
          [
           "A FATHER who scaled the walls<br>of a Cardiff court dressed as<br>superhero Robin said the<br>Buckingham Palace protester<br>posed no threat. Fathers 4<br>Justice activist Jim Gibson,<br>who earlier this year staged<br>an eye-catching"
          ],
          [
           "NEW YORK (CBS.MW) - US stocks<br>traded mixed Thurday as Merck<br>shares lost a quarter of their<br>value, dragging blue chips<br>lower, but the Nasdaq moved<br>higher, buoyed by gains in the<br>semiconductor sector."
          ],
          [
           "Julia Gillard has reportedly<br>bowed out of the race to<br>become shadow treasurer,<br>taking enormous pressure off<br>Opposition Leader Mark Latham."
          ],
          [
           "It #39;s official. Microsoft<br>recently stated<br>definitivelyand contrary to<br>rumorsthat there will be no<br>new versions of Internet<br>Explorer for users of older<br>versions of Windows."
          ],
          [
           "The success of Paris #39; bid<br>for Olympic Games 2012 would<br>bring an exceptional<br>development for France for at<br>least 6 years, said Jean-<br>Francois Lamour, French<br>minister for Youth and Sports<br>on Tuesday."
          ],
          [
           "AFP - Maybe it's something to<br>do with the fact that the<br>playing area is so vast that<br>you need a good pair of<br>binoculars to see the action<br>if it's not taking place right<br>in front of the stands."
          ],
          [
           "Egypt #39;s release of accused<br>Israeli spy Azzam Azzam in an<br>apparent swap for six Egyptian<br>students held on suspicion of<br>terrorism is expected to melt<br>the ice and perhaps result"
          ],
          [
           "But fresh antitrust suit is in<br>the envelope, says Novell"
          ],
          [
           "GAZA CITY, Gaza Strip: Hamas<br>militants killed an Israeli<br>soldier and wounded four with<br>an explosion in a booby-<br>trapped chicken coop on<br>Tuesday, in what the Islamic<br>group said was an elaborate<br>scheme to lure troops to the<br>area with the help of a double"
          ]
         ],
         "hovertemplate": "label=Other<br>Component 0=%{x}<br>Component 1=%{y}<br>string=%{customdata[0]}<extra></extra>",
         "legendgroup": "Other",
         "marker": {
          "color": "#636efa",
          "symbol": "circle",
          "size": 5
         },
         "mode": "markers",
         "name": "Other",
         "orientation": "v",
         "showlegend": true,
         "x": [
          0.641406238079071,
          1.274294376373291,
          0.8413530588150024,
          1.5090250968933105,
          0.7905227541923523,
          0.6342016458511353,
          0.5356552004814148,
          1.6096394062042236,
          2.1210575103759766,
          1.1661555767059326,
          0.8112216591835022,
          0.7167497277259827,
          1.2500663995742798,
          0.480080246925354,
          0.7183560729026794,
          1.0644276142120361,
          0.3968530297279358,
          0.7074247598648071,
          0.9219285249710083,
          2.082258462905884,
          0.5485984683036804,
          2.011774778366089,
          1.0099313259124756,
          1.9634886980056763,
          1.1928198337554932,
          1.2649791240692139,
          0.8579442501068115,
          1.9677958488464355,
          0.7569591999053955
         ],
         "xaxis": "x",
         "y": [
          -0.8610023260116577,
          -1.052558422088623,
          -0.01676429808139801,
          -0.9110847115516663,
          -0.5619493722915649,
          -0.04992583021521568,
          -0.445613294839859,
          -1.0551117658615112,
          -0.1976824849843979,
          0.0857056975364685,
          0.1635337620973587,
          -0.46271374821662903,
          -1.362322211265564,
          -0.3288489282131195,
          -0.6787339448928833,
          -1.356748104095459,
          -0.3186416029930115,
          -0.5933508276939392,
          -0.06196345016360283,
          -0.8864904046058655,
          -0.8497397899627686,
          -0.800133466720581,
          -1.0908046960830688,
          0.011354289948940277,
          -1.1099801063537598,
          -1.310441017150879,
          -0.5235027074813843,
          -0.47430986166000366,
          -0.09701341390609741
         ],
         "yaxis": "y",
         "type": "scatter"
        },
        {
         "customdata": [
          [
           "SAN JOSE, Calif. -- Apple<br>Computer (Quote, Chart)<br>unveiled a batch of new iPods,<br>iTunes software and promos<br>designed to keep it atop the<br>heap of digital music players."
          ],
          [
           "Any product, any shape, any<br>size -- manufactured on your<br>desktop! The future is the<br>fabricator. By Bruce Sterling<br>from Wired magazine."
          ],
          [
           "The Microsoft CEO says one way<br>to stem growing piracy of<br>Windows and Office in emerging<br>markets is to offer low-cost<br>computers."
          ],
          [
           "A new, optional log-on service<br>from America Online that makes<br>it harder for scammers to<br>access a persons online<br>account will not be available<br>for Macintosh"
          ],
          [
           "Chips that help a computer's<br>main microprocessors perform<br>specific types of math<br>problems are becoming a big<br>business once again.\\"
          ]
         ],
         "hovertemplate": "label=Nearest neighbor (top 5)<br>Component 0=%{x}<br>Component 1=%{y}<br>string=%{customdata[0]}<extra></extra>",
         "legendgroup": "Nearest neighbor (top 5)",
         "marker": {
          "color": "#EF553B",
          "symbol": "diamond",
          "size": 5
         },
         "mode": "markers",
         "name": "Nearest neighbor (top 5)",
         "orientation": "v",
         "showlegend": true,
         "x": [
          2.0683395862579346,
          2.0551156997680664,
          1.9429960250854492,
          1.8835703134536743,
          2.0665225982666016
         ],
         "xaxis": "x",
         "y": [
          -0.4779253602027893,
          -0.185745507478714,
          -0.20235387980937958,
          -0.028870314359664917,
          -0.2301630973815918
         ],
         "yaxis": "y",
         "type": "scatter"
        },
        {
         "customdata": [
          [
           "PC World - Upcoming chip set<br>will include built-in security<br>features for your PC."
          ]
         ],
         "hovertemplate": "label=Source<br>Component 0=%{x}<br>Component 1=%{y}<br>string=%{customdata[0]}<extra></extra>",
         "legendgroup": "Source",
         "marker": {
          "color": "#00cc96",
          "symbol": "square",
          "size": 5
         },
         "mode": "markers",
         "name": "Source",
         "orientation": "v",
         "showlegend": true,
         "x": [
          1.9652401208877563
         ],
         "xaxis": "x",
         "y": [
          -0.12470246106386185
         ],
         "yaxis": "y",
         "type": "scatter"
        }
       ],
       "layout": {
        "template": {
         "data": {
          "histogram2dcontour": [
           {
            "type": "histogram2dcontour",
            "colorbar": {
             "outlinewidth": 0,
             "ticks": ""
            },
            "colorscale": [
             [
              0.0,
              "#0d0887"
             ],
             [
              0.1111111111111111,
              "#46039f"
             ],
             [
              0.2222222222222222,
              "#7201a8"
             ],
             [
              0.3333333333333333,
              "#9c179e"
             ],
             [
              0.4444444444444444,
              "#bd3786"
             ],
             [
              0.5555555555555556,
              "#d8576b"
             ],
             [
              0.6666666666666666,
              "#ed7953"
             ],
             [
              0.7777777777777778,
              "#fb9f3a"
             ],
             [
              0.8888888888888888,
              "#fdca26"
             ],
             [
              1.0,
              "#f0f921"
             ]
            ]
           }
          ],
          "choropleth": [
           {
            "type": "choropleth",
            "colorbar": {
             "outlinewidth": 0,
             "ticks": ""
            }
           }
          ],
          "histogram2d": [
           {
            "type": "histogram2d",
            "colorbar": {
             "outlinewidth": 0,
             "ticks": ""
            },
            "colorscale": [
             [
              0.0,
              "#0d0887"
             ],
             [
              0.1111111111111111,
              "#46039f"
             ],
             [
              0.2222222222222222,
              "#7201a8"
             ],
             [
              0.3333333333333333,
              "#9c179e"
             ],
             [
              0.4444444444444444,
              "#bd3786"
             ],
             [
              0.5555555555555556,
              "#d8576b"
             ],
             [
              0.6666666666666666,
              "#ed7953"
             ],
             [
              0.7777777777777778,
              "#fb9f3a"
             ],
             [
              0.8888888888888888,
              "#fdca26"
             ],
             [
              1.0,
              "#f0f921"
             ]
            ]
           }
          ],
          "heatmap": [
           {
            "type": "heatmap",
            "colorbar": {
             "outlinewidth": 0,
             "ticks": ""
            },
            "colorscale": [
             [
              0.0,
              "#0d0887"
             ],
             [
              0.1111111111111111,
              "#46039f"
             ],
             [
              0.2222222222222222,
              "#7201a8"
             ],
             [
              0.3333333333333333,
              "#9c179e"
             ],
             [
              0.4444444444444444,
              "#bd3786"
             ],
             [
              0.5555555555555556,
              "#d8576b"
             ],
             [
              0.6666666666666666,
              "#ed7953"
             ],
             [
              0.7777777777777778,
              "#fb9f3a"
             ],
             [
              0.8888888888888888,
              "#fdca26"
             ],
             [
              1.0,
              "#f0f921"
             ]
            ]
           }
          ],
          "heatmapgl": [
           {
            "type": "heatmapgl",
            "colorbar": {
             "outlinewidth": 0,
             "ticks": ""
            },
            "colorscale": [
             [
              0.0,
              "#0d0887"
             ],
             [
              0.1111111111111111,
              "#46039f"
             ],
             [
              0.2222222222222222,
              "#7201a8"
             ],
             [
              0.3333333333333333,
              "#9c179e"
             ],
             [
              0.4444444444444444,
              "#bd3786"
             ],
             [
              0.5555555555555556,
              "#d8576b"
             ],
             [
              0.6666666666666666,
              "#ed7953"
             ],
             [
              0.7777777777777778,
              "#fb9f3a"
             ],
             [
              0.8888888888888888,
              "#fdca26"
             ],
             [
              1.0,
              "#f0f921"
             ]
            ]
           }
          ],
          "contourcarpet": [
           {
            "type": "contourcarpet",
            "colorbar": {
             "outlinewidth": 0,
             "ticks": ""
            }
           }
          ],
          "contour": [
           {
            "type": "contour",
            "colorbar": {
             "outlinewidth": 0,
             "ticks": ""
            },
            "colorscale": [
             [
              0.0,
              "#0d0887"
             ],
             [
              0.1111111111111111,
              "#46039f"
             ],
             [
              0.2222222222222222,
              "#7201a8"
             ],
             [
              0.3333333333333333,
              "#9c179e"
             ],
             [
              0.4444444444444444,
              "#bd3786"
             ],
             [
              0.5555555555555556,
              "#d8576b"
             ],
             [
              0.6666666666666666,
              "#ed7953"
             ],
             [
              0.7777777777777778,
              "#fb9f3a"
             ],
             [
              0.8888888888888888,
              "#fdca26"
             ],
             [
              1.0,
              "#f0f921"
             ]
            ]
           }
          ],
          "surface": [
           {
            "type": "surface",
            "colorbar": {
             "outlinewidth": 0,
             "ticks": ""
            },
            "colorscale": [
             [
              0.0,
              "#0d0887"
             ],
             [
              0.1111111111111111,
              "#46039f"
             ],
             [
              0.2222222222222222,
              "#7201a8"
             ],
             [
              0.3333333333333333,
              "#9c179e"
             ],
             [
              0.4444444444444444,
              "#bd3786"
             ],
             [
              0.5555555555555556,
              "#d8576b"
             ],
             [
              0.6666666666666666,
              "#ed7953"
             ],
             [
              0.7777777777777778,
              "#fb9f3a"
             ],
             [
              0.8888888888888888,
              "#fdca26"
             ],
             [
              1.0,
              "#f0f921"
             ]
            ]
           }
          ],
          "mesh3d": [
           {
            "type": "mesh3d",
            "colorbar": {
             "outlinewidth": 0,
             "ticks": ""
            }
           }
          ],
          "scatter": [
           {
            "fillpattern": {
             "fillmode": "overlay",
             "size": 10,
             "solidity": 0.2
            },
            "type": "scatter"
           }
          ],
          "parcoords": [
           {
            "type": "parcoords",
            "line": {
             "colorbar": {
              "outlinewidth": 0,
              "ticks": ""
             }
            }
           }
          ],
          "scatterpolargl": [
           {
            "type": "scatterpolargl",
            "marker": {
             "colorbar": {
              "outlinewidth": 0,
              "ticks": ""
             }
            }
           }
          ],
          "bar": [
           {
            "error_x": {
             "color": "#2a3f5f"
            },
            "error_y": {
             "color": "#2a3f5f"
            },
            "marker": {
             "line": {
              "color": "#E5ECF6",
              "width": 0.5
             },
             "pattern": {
              "fillmode": "overlay",
              "size": 10,
              "solidity": 0.2
             }
            },
            "type": "bar"
           }
          ],
          "scattergeo": [
           {
            "type": "scattergeo",
            "marker": {
             "colorbar": {
              "outlinewidth": 0,
              "ticks": ""
             }
            }
           }
          ],
          "scatterpolar": [
           {
            "type": "scatterpolar",
            "marker": {
             "colorbar": {
              "outlinewidth": 0,
              "ticks": ""
             }
            }
           }
          ],
          "histogram": [
           {
            "marker": {
             "pattern": {
              "fillmode": "overlay",
              "size": 10,
              "solidity": 0.2
             }
            },
            "type": "histogram"
           }
          ],
          "scattergl": [
           {
            "type": "scattergl",
            "marker": {
             "colorbar": {
              "outlinewidth": 0,
              "ticks": ""
             }
            }
           }
          ],
          "scatter3d": [
           {
            "type": "scatter3d",
            "line": {
             "colorbar": {
              "outlinewidth": 0,
              "ticks": ""
             }
            },
            "marker": {
             "colorbar": {
              "outlinewidth": 0,
              "ticks": ""
             }
            }
           }
          ],
          "scattermapbox": [
           {
            "type": "scattermapbox",
            "marker": {
             "colorbar": {
              "outlinewidth": 0,
              "ticks": ""
             }
            }
           }
          ],
          "scatterternary": [
           {
            "type": "scatterternary",
            "marker": {
             "colorbar": {
              "outlinewidth": 0,
              "ticks": ""
             }
            }
           }
          ],
          "scattercarpet": [
           {
            "type": "scattercarpet",
            "marker": {
             "colorbar": {
              "outlinewidth": 0,
              "ticks": ""
             }
            }
           }
          ],
          "carpet": [
           {
            "aaxis": {
             "endlinecolor": "#2a3f5f",
             "gridcolor": "white",
             "linecolor": "white",
             "minorgridcolor": "white",
             "startlinecolor": "#2a3f5f"
            },
            "baxis": {
             "endlinecolor": "#2a3f5f",
             "gridcolor": "white",
             "linecolor": "white",
             "minorgridcolor": "white",
             "startlinecolor": "#2a3f5f"
            },
            "type": "carpet"
           }
          ],
          "table": [
           {
            "cells": {
             "fill": {
              "color": "#EBF0F8"
             },
             "line": {
              "color": "white"
             }
            },
            "header": {
             "fill": {
              "color": "#C8D4E3"
             },
             "line": {
              "color": "white"
             }
            },
            "type": "table"
           }
          ],
          "barpolar": [
           {
            "marker": {
             "line": {
              "color": "#E5ECF6",
              "width": 0.5
             },
             "pattern": {
              "fillmode": "overlay",
              "size": 10,
              "solidity": 0.2
             }
            },
            "type": "barpolar"
           }
          ],
          "pie": [
           {
            "automargin": true,
            "type": "pie"
           }
          ]
         },
         "layout": {
          "autotypenumbers": "strict",
          "colorway": [
           "#636efa",
           "#EF553B",
           "#00cc96",
           "#ab63fa",
           "#FFA15A",
           "#19d3f3",
           "#FF6692",
           "#B6E880",
           "#FF97FF",
           "#FECB52"
          ],
          "font": {
           "color": "#2a3f5f"
          },
          "hovermode": "closest",
          "hoverlabel": {
           "align": "left"
          },
          "paper_bgcolor": "white",
          "plot_bgcolor": "#E5ECF6",
          "polar": {
           "bgcolor": "#E5ECF6",
           "angularaxis": {
            "gridcolor": "white",
            "linecolor": "white",
            "ticks": ""
           },
           "radialaxis": {
            "gridcolor": "white",
            "linecolor": "white",
            "ticks": ""
           }
          },
          "ternary": {
           "bgcolor": "#E5ECF6",
           "aaxis": {
            "gridcolor": "white",
            "linecolor": "white",
            "ticks": ""
           },
           "baxis": {
            "gridcolor": "white",
            "linecolor": "white",
            "ticks": ""
           },
           "caxis": {
            "gridcolor": "white",
            "linecolor": "white",
            "ticks": ""
           }
          },
          "coloraxis": {
           "colorbar": {
            "outlinewidth": 0,
            "ticks": ""
           }
          },
          "colorscale": {
           "sequential": [
            [
             0.0,
             "#0d0887"
            ],
            [
             0.1111111111111111,
             "#46039f"
            ],
            [
             0.2222222222222222,
             "#7201a8"
            ],
            [
             0.3333333333333333,
             "#9c179e"
            ],
            [
             0.4444444444444444,
             "#bd3786"
            ],
            [
             0.5555555555555556,
             "#d8576b"
            ],
            [
             0.6666666666666666,
             "#ed7953"
            ],
            [
             0.7777777777777778,
             "#fb9f3a"
            ],
            [
             0.8888888888888888,
             "#fdca26"
            ],
            [
             1.0,
             "#f0f921"
            ]
           ],
           "sequentialminus": [
            [
             0.0,
             "#0d0887"
            ],
            [
             0.1111111111111111,
             "#46039f"
            ],
            [
             0.2222222222222222,
             "#7201a8"
            ],
            [
             0.3333333333333333,
             "#9c179e"
            ],
            [
             0.4444444444444444,
             "#bd3786"
            ],
            [
             0.5555555555555556,
             "#d8576b"
            ],
            [
             0.6666666666666666,
             "#ed7953"
            ],
            [
             0.7777777777777778,
             "#fb9f3a"
            ],
            [
             0.8888888888888888,
             "#fdca26"
            ],
            [
             1.0,
             "#f0f921"
            ]
           ],
           "diverging": [
            [
             0,
             "#8e0152"
            ],
            [
             0.1,
             "#c51b7d"
            ],
            [
             0.2,
             "#de77ae"
            ],
            [
             0.3,
             "#f1b6da"
            ],
            [
             0.4,
             "#fde0ef"
            ],
            [
             0.5,
             "#f7f7f7"
            ],
            [
             0.6,
             "#e6f5d0"
            ],
            [
             0.7,
             "#b8e186"
            ],
            [
             0.8,
             "#7fbc41"
            ],
            [
             0.9,
             "#4d9221"
            ],
            [
             1,
             "#276419"
            ]
           ]
          },
          "xaxis": {
           "gridcolor": "white",
           "linecolor": "white",
           "ticks": "",
           "title": {
            "standoff": 15
           },
           "zerolinecolor": "white",
           "automargin": true,
           "zerolinewidth": 2
          },
          "yaxis": {
           "gridcolor": "white",
           "linecolor": "white",
           "ticks": "",
           "title": {
            "standoff": 15
           },
           "zerolinecolor": "white",
           "automargin": true,
           "zerolinewidth": 2
          },
          "scene": {
           "xaxis": {
            "backgroundcolor": "#E5ECF6",
            "gridcolor": "white",
            "linecolor": "white",
            "showbackground": true,
            "ticks": "",
            "zerolinecolor": "white",
            "gridwidth": 2
           },
           "yaxis": {
            "backgroundcolor": "#E5ECF6",
            "gridcolor": "white",
            "linecolor": "white",
            "showbackground": true,
            "ticks": "",
            "zerolinecolor": "white",
            "gridwidth": 2
           },
           "zaxis": {
            "backgroundcolor": "#E5ECF6",
            "gridcolor": "white",
            "linecolor": "white",
            "showbackground": true,
            "ticks": "",
            "zerolinecolor": "white",
            "gridwidth": 2
           }
          },
          "shapedefaults": {
           "line": {
            "color": "#2a3f5f"
           }
          },
          "annotationdefaults": {
           "arrowcolor": "#2a3f5f",
           "arrowhead": 0,
           "arrowwidth": 1
          },
          "geo": {
           "bgcolor": "white",
           "landcolor": "#E5ECF6",
           "subunitcolor": "white",
           "showland": true,
           "showlakes": true,
           "lakecolor": "white"
          },
          "title": {
           "x": 0.05
          },
          "mapbox": {
           "style": "light"
          }
         }
        },
        "xaxis": {
         "anchor": "y",
         "domain": [
          0.0,
          1.0
         ],
         "title": {
          "text": "Component 0"
         }
        },
        "yaxis": {
         "anchor": "x",
         "domain": [
          0.0,
          1.0
         ],
         "title": {
          "text": "Component 1"
         }
        },
        "legend": {
         "title": {
          "text": "label"
         },
         "tracegroupgap": 0
        },
        "title": {
         "text": "Nearest neighbors of the chipset security article"
        },
        "height": 500,
        "width": 600
       },
       "config": {
        "plotlyServerURL": "https://plot.ly"
       }
      },
      "text/html": "<div>                            <div id=\"5ad55647-7eda-4478-b68f-1bab0a6b1099\" class=\"plotly-graph-div\" style=\"height:500px; width:600px;\"></div>            <script type=\"text/javascript\">                require([\"plotly\"], function(Plotly) {                    window.PLOTLYENV=window.PLOTLYENV || {};                                    if (document.getElementById(\"5ad55647-7eda-4478-b68f-1bab0a6b1099\")) {                    Plotly.newPlot(                        \"5ad55647-7eda-4478-b68f-1bab0a6b1099\",                        [{\"customdata\":[[\"BRITAIN: BLAIR WARNS OF<br>CLIMATE THREAT Prime Minister<br>Tony Blair urged the<br>international community to<br>consider global warming a dire<br>threat and agree on a plan of<br>action to curb the<br>quot;alarming quot; growth of<br>greenhouse gases.\"],[\"Newspapers in Greece reflect a<br>mixture of exhilaration that<br>the Athens Olympics proved<br>successful, and relief that<br>they passed off without any<br>major setback.\"],[\"KABUL, Sept 22 (AFP): Three US<br>soldiers were killed and 14<br>wounded in a series of fierce<br>clashes with suspected Taliban<br>fighters in south and eastern<br>Afghanistan this week, the US<br>military said Wednesday.\"],[\"The EU and US moved closer to<br>an aviation trade war after<br>failing to reach agreement<br>during talks Thursday on<br>subsidies to Airbus Industrie.\"],[\"AUSTRALIAN journalist John<br>Martinkus is lucky to be alive<br>after spending 24 hours in the<br>hands of Iraqi militants at<br>the weekend. Martinkus was in<br>Baghdad working for the SBS<br>Dateline TV current affairs<br>program\"],[\" GAZA (Reuters) - An Israeli<br>helicopter fired a missile<br>into  a town in the southern<br>Gaza Strip late on Wednesday,<br>witnesses  said, hours after a<br>Palestinian suicide bomber<br>blew herself up  in Jerusalem,<br>killing two Israeli border<br>policemen.\"],[\"RIYADH, Saudi Arabia -- Saudi<br>police are seeking two young<br>men in the killing of a Briton<br>in a Riyadh parking lot, the<br>Interior Ministry said today,<br>and the British ambassador<br>called it a terrorist attack.\"],[\"Loudon, NH -- As the rain<br>began falling late Friday<br>afternoon at New Hampshire<br>International Speedway, the<br>rich in the Nextel Cup garage<br>got richer.\"],[\"PalmSource surprised the<br>mobile vendor community today<br>with the announcement that it<br>will acquire China MobileSoft<br>(CMS), ostensibly to leverage<br>that company's expertise in<br>building a mobile version of<br>the Linux operating system.\"],[\"JEFFERSON CITY - An election<br>security expert has raised<br>questions about Missouri<br>Secretary of State Matt Blunt<br>#39;s plan to let soldiers at<br>remote duty stations or in<br>combat areas cast their<br>ballots with the help of<br>e-mail.\"],[\"A gas explosion at a coal mine<br>in northern China killed 33<br>workers in the 10th deadly<br>mine blast reported in three<br>months. The explosion occurred<br>yesterday at 4:20 pm at Nanlou<br>township\"],[\"Reuters - Palestinian leader<br>Mahmoud Abbas called\\\\Israel<br>\\\"the Zionist enemy\\\" Tuesday,<br>unprecedented language for\\\\the<br>relative moderate who is<br>expected to succeed Yasser<br>Arafat.\"],[\"AP - Ottawa Senators right<br>wing Marian Hossa is switching<br>European teams during the NHL<br>lockout.\"],[\"Nasser al-Qidwa, Palestinian<br>representative at the United<br>Nations and nephew of late<br>leader Yasser Arafat, handed<br>Arafat #39;s death report to<br>the Palestinian National<br>Authority (PNA) on Saturday.\"],[\"CAIRO, Egypt - France's<br>foreign minister appealed<br>Monday for the release of two<br>French journalists abducted in<br>Baghdad, saying the French<br>respect all religions. He did<br>not rule out traveling to<br>Baghdad...\"],[\"Chelsea terminated Romania<br>striker Adrian Mutu #39;s<br>contract, citing gross<br>misconduct after the player<br>failed a doping test for<br>cocaine and admitted taking<br>the drug, the English soccer<br>club said in a statement.\"],[\"United Arab Emirates President<br>and ruler of Abu Dhabi Sheik<br>Zayed bin Sultan al-Nayhan<br>died Tuesday, official<br>television reports. He was 86.\"],[\"PALESTINIAN leader Yasser<br>Arafat today issued an urgent<br>call for the immediate release<br>of two French journalists<br>taken hostage in Iraq.\"],[\"The al-Qaida terrorist network<br>spent less than \\\\$50,000 on<br>each of its major attacks<br>except for the Sept. 11, 2001,<br>suicide hijackings, and one of<br>its hallmarks is using\"],[\" SAN FRANCISCO (Reuters) -<br>Nike Inc. &lt;A HREF=\\\"http://w<br>ww.investor.reuters.com/FullQu<br>ote.aspx?ticker=NKE.N target=/<br>stocks/quickinfo/fullquote\\\"&gt<br>;NKE.N&lt;/A&gt;, the world's<br>largest athletic shoe company,<br>on Monday reported a 25<br>percent  rise in quarterly<br>profit, beating analysts'<br>estimates, on  strong demand<br>for high-end running and<br>basketball shoes in the<br>United States.\"],[\"A FATHER who scaled the walls<br>of a Cardiff court dressed as<br>superhero Robin said the<br>Buckingham Palace protester<br>posed no threat. Fathers 4<br>Justice activist Jim Gibson,<br>who earlier this year staged<br>an eye-catching\"],[\"NEW YORK (CBS.MW) - US stocks<br>traded mixed Thurday as Merck<br>shares lost a quarter of their<br>value, dragging blue chips<br>lower, but the Nasdaq moved<br>higher, buoyed by gains in the<br>semiconductor sector.\"],[\"Julia Gillard has reportedly<br>bowed out of the race to<br>become shadow treasurer,<br>taking enormous pressure off<br>Opposition Leader Mark Latham.\"],[\"It #39;s official. Microsoft<br>recently stated<br>definitivelyand contrary to<br>rumorsthat there will be no<br>new versions of Internet<br>Explorer for users of older<br>versions of Windows.\"],[\"The success of Paris #39; bid<br>for Olympic Games 2012 would<br>bring an exceptional<br>development for France for at<br>least 6 years, said Jean-<br>Francois Lamour, French<br>minister for Youth and Sports<br>on Tuesday.\"],[\"AFP - Maybe it's something to<br>do with the fact that the<br>playing area is so vast that<br>you need a good pair of<br>binoculars to see the action<br>if it's not taking place right<br>in front of the stands.\"],[\"Egypt #39;s release of accused<br>Israeli spy Azzam Azzam in an<br>apparent swap for six Egyptian<br>students held on suspicion of<br>terrorism is expected to melt<br>the ice and perhaps result\"],[\"But fresh antitrust suit is in<br>the envelope, says Novell\"],[\"GAZA CITY, Gaza Strip: Hamas<br>militants killed an Israeli<br>soldier and wounded four with<br>an explosion in a booby-<br>trapped chicken coop on<br>Tuesday, in what the Islamic<br>group said was an elaborate<br>scheme to lure troops to the<br>area with the help of a double\"]],\"hovertemplate\":\"label=Other<br>Component 0=%{x}<br>Component 1=%{y}<br>string=%{customdata[0]}<extra></extra>\",\"legendgroup\":\"Other\",\"marker\":{\"color\":\"#636efa\",\"symbol\":\"circle\",\"size\":5},\"mode\":\"markers\",\"name\":\"Other\",\"orientation\":\"v\",\"showlegend\":true,\"x\":[0.641406238079071,1.274294376373291,0.8413530588150024,1.5090250968933105,0.7905227541923523,0.6342016458511353,0.5356552004814148,1.6096394062042236,2.1210575103759766,1.1661555767059326,0.8112216591835022,0.7167497277259827,1.2500663995742798,0.480080246925354,0.7183560729026794,1.0644276142120361,0.3968530297279358,0.7074247598648071,0.9219285249710083,2.082258462905884,0.5485984683036804,2.011774778366089,1.0099313259124756,1.9634886980056763,1.1928198337554932,1.2649791240692139,0.8579442501068115,1.9677958488464355,0.7569591999053955],\"xaxis\":\"x\",\"y\":[-0.8610023260116577,-1.052558422088623,-0.01676429808139801,-0.9110847115516663,-0.5619493722915649,-0.04992583021521568,-0.445613294839859,-1.0551117658615112,-0.1976824849843979,0.0857056975364685,0.1635337620973587,-0.46271374821662903,-1.362322211265564,-0.3288489282131195,-0.6787339448928833,-1.356748104095459,-0.3186416029930115,-0.5933508276939392,-0.06196345016360283,-0.8864904046058655,-0.8497397899627686,-0.800133466720581,-1.0908046960830688,0.011354289948940277,-1.1099801063537598,-1.310441017150879,-0.5235027074813843,-0.47430986166000366,-0.09701341390609741],\"yaxis\":\"y\",\"type\":\"scatter\"},{\"customdata\":[[\"SAN JOSE, Calif. -- Apple<br>Computer (Quote, Chart)<br>unveiled a batch of new iPods,<br>iTunes software and promos<br>designed to keep it atop the<br>heap of digital music players.\"],[\"Any product, any shape, any<br>size -- manufactured on your<br>desktop! The future is the<br>fabricator. By Bruce Sterling<br>from Wired magazine.\"],[\"The Microsoft CEO says one way<br>to stem growing piracy of<br>Windows and Office in emerging<br>markets is to offer low-cost<br>computers.\"],[\"A new, optional log-on service<br>from America Online that makes<br>it harder for scammers to<br>access a persons online<br>account will not be available<br>for Macintosh\"],[\"Chips that help a computer's<br>main microprocessors perform<br>specific types of math<br>problems are becoming a big<br>business once again.\\\\\"]],\"hovertemplate\":\"label=Nearest neighbor (top 5)<br>Component 0=%{x}<br>Component 1=%{y}<br>string=%{customdata[0]}<extra></extra>\",\"legendgroup\":\"Nearest neighbor (top 5)\",\"marker\":{\"color\":\"#EF553B\",\"symbol\":\"diamond\",\"size\":5},\"mode\":\"markers\",\"name\":\"Nearest neighbor (top 5)\",\"orientation\":\"v\",\"showlegend\":true,\"x\":[2.0683395862579346,2.0551156997680664,1.9429960250854492,1.8835703134536743,2.0665225982666016],\"xaxis\":\"x\",\"y\":[-0.4779253602027893,-0.185745507478714,-0.20235387980937958,-0.028870314359664917,-0.2301630973815918],\"yaxis\":\"y\",\"type\":\"scatter\"},{\"customdata\":[[\"PC World - Upcoming chip set<br>will include built-in security<br>features for your PC.\"]],\"hovertemplate\":\"label=Source<br>Component 0=%{x}<br>Component 1=%{y}<br>string=%{customdata[0]}<extra></extra>\",\"legendgroup\":\"Source\",\"marker\":{\"color\":\"#00cc96\",\"symbol\":\"square\",\"size\":5},\"mode\":\"markers\",\"name\":\"Source\",\"orientation\":\"v\",\"showlegend\":true,\"x\":[1.9652401208877563],\"xaxis\":\"x\",\"y\":[-0.12470246106386185],\"yaxis\":\"y\",\"type\":\"scatter\"}],                        {\"template\":{\"data\":{\"histogram2dcontour\":[{\"type\":\"histogram2dcontour\",\"colorbar\":{\"outlinewidth\":0,\"ticks\":\"\"},\"colorscale\":[[0.0,\"#0d0887\"],[0.1111111111111111,\"#46039f\"],[0.2222222222222222,\"#7201a8\"],[0.3333333333333333,\"#9c179e\"],[0.4444444444444444,\"#bd3786\"],[0.5555555555555556,\"#d8576b\"],[0.6666666666666666,\"#ed7953\"],[0.7777777777777778,\"#fb9f3a\"],[0.8888888888888888,\"#fdca26\"],[1.0,\"#f0f921\"]]}],\"choropleth\":[{\"type\":\"choropleth\",\"colorbar\":{\"outlinewidth\":0,\"ticks\":\"\"}}],\"histogram2d\":[{\"type\":\"histogram2d\",\"colorbar\":{\"outlinewidth\":0,\"ticks\":\"\"},\"colorscale\":[[0.0,\"#0d0887\"],[0.1111111111111111,\"#46039f\"],[0.2222222222222222,\"#7201a8\"],[0.3333333333333333,\"#9c179e\"],[0.4444444444444444,\"#bd3786\"],[0.5555555555555556,\"#d8576b\"],[0.6666666666666666,\"#ed7953\"],[0.7777777777777778,\"#fb9f3a\"],[0.8888888888888888,\"#fdca26\"],[1.0,\"#f0f921\"]]}],\"heatmap\":[{\"type\":\"heatmap\",\"colorbar\":{\"outlinewidth\":0,\"ticks\":\"\"},\"colorscale\":[[0.0,\"#0d0887\"],[0.1111111111111111,\"#46039f\"],[0.2222222222222222,\"#7201a8\"],[0.3333333333333333,\"#9c179e\"],[0.4444444444444444,\"#bd3786\"],[0.5555555555555556,\"#d8576b\"],[0.6666666666666666,\"#ed7953\"],[0.7777777777777778,\"#fb9f3a\"],[0.8888888888888888,\"#fdca26\"],[1.0,\"#f0f921\"]]}],\"heatmapgl\":[{\"type\":\"heatmapgl\",\"colorbar\":{\"outlinewidth\":0,\"ticks\":\"\"},\"colorscale\":[[0.0,\"#0d0887\"],[0.1111111111111111,\"#46039f\"],[0.2222222222222222,\"#7201a8\"],[0.3333333333333333,\"#9c179e\"],[0.4444444444444444,\"#bd3786\"],[0.5555555555555556,\"#d8576b\"],[0.6666666666666666,\"#ed7953\"],[0.7777777777777778,\"#fb9f3a\"],[0.8888888888888888,\"#fdca26\"],[1.0,\"#f0f921\"]]}],\"contourcarpet\":[{\"type\":\"contourcarpet\",\"colorbar\":{\"outlinewidth\":0,\"ticks\":\"\"}}],\"contour\":[{\"type\":\"contour\",\"colorbar\":{\"outlinewidth\":0,\"ticks\":\"\"},\"colorscale\":[[0.0,\"#0d0887\"],[0.1111111111111111,\"#46039f\"],[0.2222222222222222,\"#7201a8\"],[0.3333333333333333,\"#9c179e\"],[0.4444444444444444,\"#bd3786\"],[0.5555555555555556,\"#d8576b\"],[0.6666666666666666,\"#ed7953\"],[0.7777777777777778,\"#fb9f3a\"],[0.8888888888888888,\"#fdca26\"],[1.0,\"#f0f921\"]]}],\"surface\":[{\"type\":\"surface\",\"colorbar\":{\"outlinewidth\":0,\"ticks\":\"\"},\"colorscale\":[[0.0,\"#0d0887\"],[0.1111111111111111,\"#46039f\"],[0.2222222222222222,\"#7201a8\"],[0.3333333333333333,\"#9c179e\"],[0.4444444444444444,\"#bd3786\"],[0.5555555555555556,\"#d8576b\"],[0.6666666666666666,\"#ed7953\"],[0.7777777777777778,\"#fb9f3a\"],[0.8888888888888888,\"#fdca26\"],[1.0,\"#f0f921\"]]}],\"mesh3d\":[{\"type\":\"mesh3d\",\"colorbar\":{\"outlinewidth\":0,\"ticks\":\"\"}}],\"scatter\":[{\"fillpattern\":{\"fillmode\":\"overlay\",\"size\":10,\"solidity\":0.2},\"type\":\"scatter\"}],\"parcoords\":[{\"type\":\"parcoords\",\"line\":{\"colorbar\":{\"outlinewidth\":0,\"ticks\":\"\"}}}],\"scatterpolargl\":[{\"type\":\"scatterpolargl\",\"marker\":{\"colorbar\":{\"outlinewidth\":0,\"ticks\":\"\"}}}],\"bar\":[{\"error_x\":{\"color\":\"#2a3f5f\"},\"error_y\":{\"color\":\"#2a3f5f\"},\"marker\":{\"line\":{\"color\":\"#E5ECF6\",\"width\":0.5},\"pattern\":{\"fillmode\":\"overlay\",\"size\":10,\"solidity\":0.2}},\"type\":\"bar\"}],\"scattergeo\":[{\"type\":\"scattergeo\",\"marker\":{\"colorbar\":{\"outlinewidth\":0,\"ticks\":\"\"}}}],\"scatterpolar\":[{\"type\":\"scatterpolar\",\"marker\":{\"colorbar\":{\"outlinewidth\":0,\"ticks\":\"\"}}}],\"histogram\":[{\"marker\":{\"pattern\":{\"fillmode\":\"overlay\",\"size\":10,\"solidity\":0.2}},\"type\":\"histogram\"}],\"scattergl\":[{\"type\":\"scattergl\",\"marker\":{\"colorbar\":{\"outlinewidth\":0,\"ticks\":\"\"}}}],\"scatter3d\":[{\"type\":\"scatter3d\",\"line\":{\"colorbar\":{\"outlinewidth\":0,\"ticks\":\"\"}},\"marker\":{\"colorbar\":{\"outlinewidth\":0,\"ticks\":\"\"}}}],\"scattermapbox\":[{\"type\":\"scattermapbox\",\"marker\":{\"colorbar\":{\"outlinewidth\":0,\"ticks\":\"\"}}}],\"scatterternary\":[{\"type\":\"scatterternary\",\"marker\":{\"colorbar\":{\"outlinewidth\":0,\"ticks\":\"\"}}}],\"scattercarpet\":[{\"type\":\"scattercarpet\",\"marker\":{\"colorbar\":{\"outlinewidth\":0,\"ticks\":\"\"}}}],\"carpet\":[{\"aaxis\":{\"endlinecolor\":\"#2a3f5f\",\"gridcolor\":\"white\",\"linecolor\":\"white\",\"minorgridcolor\":\"white\",\"startlinecolor\":\"#2a3f5f\"},\"baxis\":{\"endlinecolor\":\"#2a3f5f\",\"gridcolor\":\"white\",\"linecolor\":\"white\",\"minorgridcolor\":\"white\",\"startlinecolor\":\"#2a3f5f\"},\"type\":\"carpet\"}],\"table\":[{\"cells\":{\"fill\":{\"color\":\"#EBF0F8\"},\"line\":{\"color\":\"white\"}},\"header\":{\"fill\":{\"color\":\"#C8D4E3\"},\"line\":{\"color\":\"white\"}},\"type\":\"table\"}],\"barpolar\":[{\"marker\":{\"line\":{\"color\":\"#E5ECF6\",\"width\":0.5},\"pattern\":{\"fillmode\":\"overlay\",\"size\":10,\"solidity\":0.2}},\"type\":\"barpolar\"}],\"pie\":[{\"automargin\":true,\"type\":\"pie\"}]},\"layout\":{\"autotypenumbers\":\"strict\",\"colorway\":[\"#636efa\",\"#EF553B\",\"#00cc96\",\"#ab63fa\",\"#FFA15A\",\"#19d3f3\",\"#FF6692\",\"#B6E880\",\"#FF97FF\",\"#FECB52\"],\"font\":{\"color\":\"#2a3f5f\"},\"hovermode\":\"closest\",\"hoverlabel\":{\"align\":\"left\"},\"paper_bgcolor\":\"white\",\"plot_bgcolor\":\"#E5ECF6\",\"polar\":{\"bgcolor\":\"#E5ECF6\",\"angularaxis\":{\"gridcolor\":\"white\",\"linecolor\":\"white\",\"ticks\":\"\"},\"radialaxis\":{\"gridcolor\":\"white\",\"linecolor\":\"white\",\"ticks\":\"\"}},\"ternary\":{\"bgcolor\":\"#E5ECF6\",\"aaxis\":{\"gridcolor\":\"white\",\"linecolor\":\"white\",\"ticks\":\"\"},\"baxis\":{\"gridcolor\":\"white\",\"linecolor\":\"white\",\"ticks\":\"\"},\"caxis\":{\"gridcolor\":\"white\",\"linecolor\":\"white\",\"ticks\":\"\"}},\"coloraxis\":{\"colorbar\":{\"outlinewidth\":0,\"ticks\":\"\"}},\"colorscale\":{\"sequential\":[[0.0,\"#0d0887\"],[0.1111111111111111,\"#46039f\"],[0.2222222222222222,\"#7201a8\"],[0.3333333333333333,\"#9c179e\"],[0.4444444444444444,\"#bd3786\"],[0.5555555555555556,\"#d8576b\"],[0.6666666666666666,\"#ed7953\"],[0.7777777777777778,\"#fb9f3a\"],[0.8888888888888888,\"#fdca26\"],[1.0,\"#f0f921\"]],\"sequentialminus\":[[0.0,\"#0d0887\"],[0.1111111111111111,\"#46039f\"],[0.2222222222222222,\"#7201a8\"],[0.3333333333333333,\"#9c179e\"],[0.4444444444444444,\"#bd3786\"],[0.5555555555555556,\"#d8576b\"],[0.6666666666666666,\"#ed7953\"],[0.7777777777777778,\"#fb9f3a\"],[0.8888888888888888,\"#fdca26\"],[1.0,\"#f0f921\"]],\"diverging\":[[0,\"#8e0152\"],[0.1,\"#c51b7d\"],[0.2,\"#de77ae\"],[0.3,\"#f1b6da\"],[0.4,\"#fde0ef\"],[0.5,\"#f7f7f7\"],[0.6,\"#e6f5d0\"],[0.7,\"#b8e186\"],[0.8,\"#7fbc41\"],[0.9,\"#4d9221\"],[1,\"#276419\"]]},\"xaxis\":{\"gridcolor\":\"white\",\"linecolor\":\"white\",\"ticks\":\"\",\"title\":{\"standoff\":15},\"zerolinecolor\":\"white\",\"automargin\":true,\"zerolinewidth\":2},\"yaxis\":{\"gridcolor\":\"white\",\"linecolor\":\"white\",\"ticks\":\"\",\"title\":{\"standoff\":15},\"zerolinecolor\":\"white\",\"automargin\":true,\"zerolinewidth\":2},\"scene\":{\"xaxis\":{\"backgroundcolor\":\"#E5ECF6\",\"gridcolor\":\"white\",\"linecolor\":\"white\",\"showbackground\":true,\"ticks\":\"\",\"zerolinecolor\":\"white\",\"gridwidth\":2},\"yaxis\":{\"backgroundcolor\":\"#E5ECF6\",\"gridcolor\":\"white\",\"linecolor\":\"white\",\"showbackground\":true,\"ticks\":\"\",\"zerolinecolor\":\"white\",\"gridwidth\":2},\"zaxis\":{\"backgroundcolor\":\"#E5ECF6\",\"gridcolor\":\"white\",\"linecolor\":\"white\",\"showbackground\":true,\"ticks\":\"\",\"zerolinecolor\":\"white\",\"gridwidth\":2}},\"shapedefaults\":{\"line\":{\"color\":\"#2a3f5f\"}},\"annotationdefaults\":{\"arrowcolor\":\"#2a3f5f\",\"arrowhead\":0,\"arrowwidth\":1},\"geo\":{\"bgcolor\":\"white\",\"landcolor\":\"#E5ECF6\",\"subunitcolor\":\"white\",\"showland\":true,\"showlakes\":true,\"lakecolor\":\"white\"},\"title\":{\"x\":0.05},\"mapbox\":{\"style\":\"light\"}}},\"xaxis\":{\"anchor\":\"y\",\"domain\":[0.0,1.0],\"title\":{\"text\":\"Component 0\"}},\"yaxis\":{\"anchor\":\"x\",\"domain\":[0.0,1.0],\"title\":{\"text\":\"Component 1\"}},\"legend\":{\"title\":{\"text\":\"label\"},\"tracegroupgap\":0},\"title\":{\"text\":\"Nearest neighbors of the chipset security article\"},\"height\":500,\"width\":600},                        {\"responsive\": true}                    ).then(function(){\n                            \nvar gd = document.getElementById('5ad55647-7eda-4478-b68f-1bab0a6b1099');\nvar x = new MutationObserver(function (mutations, observer) {{\n        var display = window.getComputedStyle(gd).display;\n        if (!display || display === 'none') {{\n            console.log([gd, 'removed!']);\n            Plotly.purge(gd);\n            observer.disconnect();\n        }}\n}});\n\n// Listen for the removal of the full notebook cells\nvar notebookContainer = gd.closest('#notebook-container');\nif (notebookContainer) {{\n    x.observe(notebookContainer, {childList: true});\n}}\n\n// Listen for the clearing of the current output cell\nvar outputEl = gd.closest('.output');\nif (outputEl) {{\n    x.observe(outputEl, {childList: true});\n}}\n\n                        })                };                });            </script>        </div>"
     },
     "metadata": {},
     "output_type": "display_data"
    }
   ],
   "source": [
    "# a 2D chart of nearest neighbors of the chipset security article\n",
    "chart_from_components(\n",
    "    components=tsne_components,\n",
    "    labels=chipset_security_labels,\n",
    "    strings=article_descriptions,\n",
    "    width=600,\n",
    "    height=500,\n",
    "    title=\"Nearest neighbors of the chipset security article\",\n",
    "    category_orders={\"label\": [\"Other\", \"Nearest neighbor (top 5)\", \"Source\"]},\n",
    ")"
   ],
   "metadata": {
    "collapsed": false,
    "ExecuteTime": {
     "end_time": "2023-06-11T16:58:49.945789Z",
     "start_time": "2023-06-11T16:58:49.928609Z"
    }
   }
  },
  {
   "cell_type": "code",
   "execution_count": null,
   "outputs": [],
   "source": [],
   "metadata": {
    "collapsed": false
   }
  }
 ],
 "metadata": {
  "kernelspec": {
   "display_name": "Python 3",
   "language": "python",
   "name": "python3"
  },
  "language_info": {
   "codemirror_mode": {
    "name": "ipython",
    "version": 2
   },
   "file_extension": ".py",
   "mimetype": "text/x-python",
   "name": "python",
   "nbconvert_exporter": "python",
   "pygments_lexer": "ipython2",
   "version": "2.7.6"
  }
 },
 "nbformat": 4,
 "nbformat_minor": 0
}
