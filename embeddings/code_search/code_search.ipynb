{
 "cells": [
  {
   "cell_type": "code",
   "execution_count": 1,
   "metadata": {
    "collapsed": true,
    "ExecuteTime": {
     "end_time": "2023-06-09T14:19:48.711947Z",
     "start_time": "2023-06-09T14:19:44.608751Z"
    }
   },
   "outputs": [],
   "source": [
    "#import\n",
    "\n",
    "import os\n",
    "from dotenv import load_dotenv\n",
    "\n",
    "from glob import glob\n",
    "import pandas as pd\n",
    "\n",
    "import openai\n",
    "from openai.embeddings_utils import get_embedding\n",
    "from openai.embeddings_utils import cosine_similarity"
   ]
  },
  {
   "cell_type": "code",
   "execution_count": 2,
   "outputs": [],
   "source": [
    "# set OpenAI API key\n",
    "load_dotenv()\n",
    "openai.api_key = os.getenv(\"OPENAI_API_KEY\")"
   ],
   "metadata": {
    "collapsed": false,
    "ExecuteTime": {
     "end_time": "2023-06-09T14:19:48.715189Z",
     "start_time": "2023-06-09T14:19:48.712482Z"
    }
   }
  },
  {
   "cell_type": "code",
   "execution_count": 37,
   "outputs": [],
   "source": [
    "# Extract function name from a line beginning with \"def \"\n",
    "def get_function_name(code):\n",
    "    assert code.startswith(\"def \")\n",
    "    return code[len(\"def \"): code.index(\"(\")]\n",
    "\n",
    "# Get all lines until a line outside the function definition is found.\n",
    "def get_until_no_space(all_lines, i) -> str:\n",
    "    ret = [all_lines[i]]\n",
    "    for j in range(i + 1, i + 10000):\n",
    "        if j < len(all_lines):\n",
    "            if len(all_lines[j]) == 0 or all_lines[j][0] in [\" \", \"\\t\", \")\"]:\n",
    "                ret.append(all_lines[j])\n",
    "            else:\n",
    "                break\n",
    "    return \"\\n\".join(ret)\n",
    "\n",
    "# Get all functions in a Python file.\n",
    "def get_functions(filepath):\n",
    "    whole_code = open(filepath).read().replace(\"\\r\", \"\\n\")\n",
    "    all_lines = whole_code.split(\"\\n\")\n",
    "    for i, l in enumerate(all_lines):\n",
    "        if l.startswith(\"def \"):\n",
    "            code = get_until_no_space(all_lines, i)\n",
    "            function_name = get_function_name(code)\n",
    "            yield {\"code\": code, \"function_name\": function_name, \"filepath\": filepath}\n"
   ],
   "metadata": {
    "collapsed": false,
    "ExecuteTime": {
     "end_time": "2023-06-09T15:03:11.451291Z",
     "start_time": "2023-06-09T15:03:11.448369Z"
    }
   }
  },
  {
   "cell_type": "code",
   "execution_count": 38,
   "outputs": [
    {
     "name": "stdout",
     "output_type": "stream",
     "text": [
      "/Users/godpeny/Code/src/github.com/godpeny/openai-research\n",
      "Total number of py files: 4\n",
      "Total number of functions extracted: 14\n"
     ]
    }
   ],
   "source": [
    "# get current directory\n",
    "root_dir = os.path.expanduser(\"~/Code/src/github.com/godpeny\")\n",
    "\n",
    "# path to code repository directory\n",
    "code_root = root_dir + \"/openai-research\"\n",
    "\n",
    "print(code_root)\n",
    "\n",
    "# List Comprehension\n",
    "# x = (dirpath, dirnames, filenames)\n",
    "code_files = [y for x in os.walk(code_root) for y in glob(os.path.join(x[0], '*.py'))]\n",
    "print(\"Total number of py files:\", len(code_files))\n",
    "\n",
    "if len(code_files) == 0:\n",
    "    print(\"Double check that you have downloaded the openai-python repo and set the code_root variable correctly.\")\n",
    "\n",
    "all_funcs = []\n",
    "for code_file in code_files:\n",
    "    funcs = list(get_functions(code_file))\n",
    "    for func in funcs:\n",
    "        all_funcs.append(func)\n",
    "\n",
    "print(\"Total number of functions extracted:\", len(all_funcs))"
   ],
   "metadata": {
    "collapsed": false,
    "ExecuteTime": {
     "end_time": "2023-06-09T15:03:12.674571Z",
     "start_time": "2023-06-09T15:03:12.658641Z"
    }
   }
  },
  {
   "cell_type": "code",
   "execution_count": 18,
   "outputs": [
    {
     "name": "stdout",
     "output_type": "stream",
     "text": [
      "['Hi', 'Steve!', \"What's\", 'up?']\n"
     ]
    }
   ],
   "source": [
    "# Example for Python List Comprehension\n",
    "# text = ((\"Hi\", \"Steve!\"), (\"What's\", \"up?\"))\n",
    "# result = [word for sentence in text for word in sentence]\n",
    "# print(result)"
   ],
   "metadata": {
    "collapsed": false,
    "ExecuteTime": {
     "end_time": "2023-06-09T14:41:40.353221Z",
     "start_time": "2023-06-09T14:41:40.347866Z"
    }
   }
  },
  {
   "cell_type": "code",
   "execution_count": 40,
   "outputs": [
    {
     "data": {
      "text/plain": "{'code': 'def index():\\n    if request.method == \"POST\":\\n        img_req = request.form[\"img_req\"]\\n        response = openai.Image.create(\\n            prompt=img_req,\\n            n=1,\\n            size=\"1024x1024\"\\n        )\\n\\n        image_url = response[\\'data\\'][0][\\'url\\']\\n        return redirect(url_for(\"index\", result=image_url))\\n\\n    result = request.args.get(\"result\")\\n    return render_template(\"index.html\", result=result)\\n\\n',\n 'function_name': 'index',\n 'filepath': '/Users/godpeny/Code/src/github.com/godpeny/openai-research/images_ui/app.py'}"
     },
     "execution_count": 40,
     "metadata": {},
     "output_type": "execute_result"
    }
   ],
   "source": [
    "all_funcs[0] # print first function for checking"
   ],
   "metadata": {
    "collapsed": false,
    "ExecuteTime": {
     "end_time": "2023-06-09T15:04:07.701833Z",
     "start_time": "2023-06-09T15:04:07.697608Z"
    }
   }
  },
  {
   "cell_type": "code",
   "execution_count": 41,
   "outputs": [
    {
     "data": {
      "text/plain": "                                                code function_name  \\\n0  def index():\\n    if request.method == \"POST\":...         index   \n1  def show():\\n    try:\\n        response = open...          show   \n2  def edit():\\n    try:\\n        response = open...          edit   \n3  def variation():\\n    try:\\n        response =...     variation   \n4  def byte():\\n    try:\\n        # Read the imag...          byte   \n\n            filepath                                     code_embedding  \n0  /images_ui/app.py  [-0.010694571770727634, 0.0063886335119605064,...  \n1    /images/main.py  [-0.001927813864313066, -0.016288653016090393,...  \n2    /images/main.py  [-0.009266435168683529, 0.024797502905130386, ...  \n3    /images/main.py  [-0.002660350175574422, 0.009002245031297207, ...  \n4    /images/main.py  [-0.0011167502962052822, 0.005551192909479141,...  ",
      "text/html": "<div>\n<style scoped>\n    .dataframe tbody tr th:only-of-type {\n        vertical-align: middle;\n    }\n\n    .dataframe tbody tr th {\n        vertical-align: top;\n    }\n\n    .dataframe thead th {\n        text-align: right;\n    }\n</style>\n<table border=\"1\" class=\"dataframe\">\n  <thead>\n    <tr style=\"text-align: right;\">\n      <th></th>\n      <th>code</th>\n      <th>function_name</th>\n      <th>filepath</th>\n      <th>code_embedding</th>\n    </tr>\n  </thead>\n  <tbody>\n    <tr>\n      <th>0</th>\n      <td>def index():\\n    if request.method == \"POST\":...</td>\n      <td>index</td>\n      <td>/images_ui/app.py</td>\n      <td>[-0.010694571770727634, 0.0063886335119605064,...</td>\n    </tr>\n    <tr>\n      <th>1</th>\n      <td>def show():\\n    try:\\n        response = open...</td>\n      <td>show</td>\n      <td>/images/main.py</td>\n      <td>[-0.001927813864313066, -0.016288653016090393,...</td>\n    </tr>\n    <tr>\n      <th>2</th>\n      <td>def edit():\\n    try:\\n        response = open...</td>\n      <td>edit</td>\n      <td>/images/main.py</td>\n      <td>[-0.009266435168683529, 0.024797502905130386, ...</td>\n    </tr>\n    <tr>\n      <th>3</th>\n      <td>def variation():\\n    try:\\n        response =...</td>\n      <td>variation</td>\n      <td>/images/main.py</td>\n      <td>[-0.002660350175574422, 0.009002245031297207, ...</td>\n    </tr>\n    <tr>\n      <th>4</th>\n      <td>def byte():\\n    try:\\n        # Read the imag...</td>\n      <td>byte</td>\n      <td>/images/main.py</td>\n      <td>[-0.0011167502962052822, 0.005551192909479141,...</td>\n    </tr>\n  </tbody>\n</table>\n</div>"
     },
     "execution_count": 41,
     "metadata": {},
     "output_type": "execute_result"
    }
   ],
   "source": [
    "df = pd.DataFrame(all_funcs)\n",
    "df['code_embedding'] = df['code'].apply(lambda x: get_embedding(x, engine='text-embedding-ada-002'))\n",
    "df['filepath'] = df['filepath'].apply(lambda x: x.replace(code_root, \"\"))\n",
    "df.to_csv(\"data/code_search_openai-python.csv\", index=False)\n",
    "df.head()"
   ],
   "metadata": {
    "collapsed": false,
    "ExecuteTime": {
     "end_time": "2023-06-09T15:05:42.659715Z",
     "start_time": "2023-06-09T15:05:37.122142Z"
    }
   }
  },
  {
   "cell_type": "code",
   "execution_count": 42,
   "outputs": [],
   "source": [
    "def search_functions(df, code_query, n=3, pprint=True, n_lines=7):\n",
    "    embedding = get_embedding(code_query, engine='text-embedding-ada-002')\n",
    "    df['similarities'] = df.code_embedding.apply(lambda x: cosine_similarity(x, embedding))\n",
    "\n",
    "    res = df.sort_values('similarities', ascending=False).head(n)\n",
    "    if pprint:\n",
    "        for r in res.iterrows():\n",
    "            print(r[1].filepath+\":\"+r[1].function_name + \"  score=\" + str(round(r[1].similarities, 3)))\n",
    "            print(\"\\n\".join(r[1].code.split(\"\\n\")[:n_lines]))\n",
    "            print('-'*70)\n",
    "    return res"
   ],
   "metadata": {
    "collapsed": false,
    "ExecuteTime": {
     "end_time": "2023-06-09T15:08:51.610789Z",
     "start_time": "2023-06-09T15:08:51.595732Z"
    }
   }
  },
  {
   "cell_type": "code",
   "execution_count": 44,
   "outputs": [
    {
     "name": "stdout",
     "output_type": "stream",
     "text": [
      "/images/main.py:show  score=0.751\n",
      "def show():\n",
      "    try:\n",
      "        response = openai.Image.create(\n",
      "            prompt=\"white dogs\",\n",
      "            n=1,\n",
      "            size=\"256x256\"\n",
      "        )\n",
      "----------------------------------------------------------------------\n",
      "/images/main.py:edit  score=0.743\n",
      "def edit():\n",
      "    try:\n",
      "        response = openai.Image.create_edit(\n",
      "            image=open(\"img.png\", \"rb\"),\n",
      "            mask=open(\"mask.png\", \"rb\"),\n",
      "            prompt=\"A sunlit indoor lounge area with a pool containing a chair\",\n",
      "            n=1,\n",
      "----------------------------------------------------------------------\n",
      "/images_ui/app.py:index  score=0.736\n",
      "def index():\n",
      "    if request.method == \"POST\":\n",
      "        img_req = request.form[\"img_req\"]\n",
      "        response = openai.Image.create(\n",
      "            prompt=img_req,\n",
      "            n=1,\n",
      "            size=\"1024x1024\"\n",
      "----------------------------------------------------------------------\n"
     ]
    }
   ],
   "source": [
    "res = search_functions(df, 'generate image with ui', n=3)"
   ],
   "metadata": {
    "collapsed": false,
    "ExecuteTime": {
     "end_time": "2023-06-09T15:09:41.553856Z",
     "start_time": "2023-06-09T15:09:41.198960Z"
    }
   }
  },
  {
   "cell_type": "code",
   "execution_count": null,
   "outputs": [],
   "source": [],
   "metadata": {
    "collapsed": false
   }
  }
 ],
 "metadata": {
  "kernelspec": {
   "display_name": "Python 3",
   "language": "python",
   "name": "python3"
  },
  "language_info": {
   "codemirror_mode": {
    "name": "ipython",
    "version": 2
   },
   "file_extension": ".py",
   "mimetype": "text/x-python",
   "name": "python",
   "nbconvert_exporter": "python",
   "pygments_lexer": "ipython2",
   "version": "2.7.6"
  }
 },
 "nbformat": 4,
 "nbformat_minor": 0
}
