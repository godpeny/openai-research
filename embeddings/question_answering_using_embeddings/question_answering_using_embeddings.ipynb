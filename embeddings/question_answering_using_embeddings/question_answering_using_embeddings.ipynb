{
 "cells": [
  {
   "cell_type": "code",
   "execution_count": 1,
   "metadata": {
    "collapsed": true,
    "ExecuteTime": {
     "end_time": "2023-05-28T05:31:39.527142Z",
     "start_time": "2023-05-28T05:31:37.611078Z"
    }
   },
   "outputs": [],
   "source": [
    "# imports\n",
    "import ast  # for converting embeddings saved as strings back to arrays\n",
    "import openai  # for calling the OpenAI API\n",
    "import pandas as pd  # for storing text and embeddings data\n",
    "import tiktoken  # for counting tokens\n",
    "from scipy import spatial  # for calculating vector similarities for search\n",
    "from dotenv import load_dotenv\n",
    "import os\n",
    "\n",
    "# models\n",
    "EMBEDDING_MODEL = \"text-embedding-ada-002\"\n",
    "GPT_MODEL = \"gpt-3.5-turbo\"\n",
    "\n",
    "# set OpenAI API key\n",
    "load_dotenv()\n",
    "openai.api_key = os.getenv(\"OPENAI_API_KEY\")"
   ]
  },
  {
   "cell_type": "code",
   "execution_count": 2,
   "outputs": [
    {
     "data": {
      "text/plain": "                                                   text  \\\n0     Lviv bid for the 2022 Winter Olympics\\n\\n{{Oly...   \n1     Lviv bid for the 2022 Winter Olympics\\n\\n==His...   \n2     Lviv bid for the 2022 Winter Olympics\\n\\n==Ven...   \n3     Lviv bid for the 2022 Winter Olympics\\n\\n==Ven...   \n4     Lviv bid for the 2022 Winter Olympics\\n\\n==Ven...   \n...                                                 ...   \n6054  Anaïs Chevalier-Bouchet\\n\\n==Personal life==\\n...   \n6055  Uliana Nigmatullina\\n\\n{{short description|Rus...   \n6056  Uliana Nigmatullina\\n\\n==Biathlon results==\\n\\...   \n6057  Uliana Nigmatullina\\n\\n==Biathlon results==\\n\\...   \n6058  Uliana Nigmatullina\\n\\n==Biathlon results==\\n\\...   \n\n                                              embedding  \n0     [-0.005021067801862955, 0.00026050032465718687...  \n1     [0.0033927420154213905, -0.007447326090186834,...  \n2     [-0.00915789045393467, -0.008366798982024193, ...  \n3     [0.0030951891094446182, -0.006064314860850573,...  \n4     [-0.002936174161732197, -0.006185177247971296,...  \n...                                                 ...  \n6054  [-0.027750400826334953, 0.001746018067933619, ...  \n6055  [-0.021714167669415474, 0.016001321375370026, ...  \n6056  [-0.029143543913960457, 0.014654331840574741, ...  \n6057  [-0.024266039952635765, 0.011665306985378265, ...  \n6058  [-0.021818075329065323, 0.005420385394245386, ...  \n\n[6059 rows x 2 columns]",
      "text/html": "<div>\n<style scoped>\n    .dataframe tbody tr th:only-of-type {\n        vertical-align: middle;\n    }\n\n    .dataframe tbody tr th {\n        vertical-align: top;\n    }\n\n    .dataframe thead th {\n        text-align: right;\n    }\n</style>\n<table border=\"1\" class=\"dataframe\">\n  <thead>\n    <tr style=\"text-align: right;\">\n      <th></th>\n      <th>text</th>\n      <th>embedding</th>\n    </tr>\n  </thead>\n  <tbody>\n    <tr>\n      <th>0</th>\n      <td>Lviv bid for the 2022 Winter Olympics\\n\\n{{Oly...</td>\n      <td>[-0.005021067801862955, 0.00026050032465718687...</td>\n    </tr>\n    <tr>\n      <th>1</th>\n      <td>Lviv bid for the 2022 Winter Olympics\\n\\n==His...</td>\n      <td>[0.0033927420154213905, -0.007447326090186834,...</td>\n    </tr>\n    <tr>\n      <th>2</th>\n      <td>Lviv bid for the 2022 Winter Olympics\\n\\n==Ven...</td>\n      <td>[-0.00915789045393467, -0.008366798982024193, ...</td>\n    </tr>\n    <tr>\n      <th>3</th>\n      <td>Lviv bid for the 2022 Winter Olympics\\n\\n==Ven...</td>\n      <td>[0.0030951891094446182, -0.006064314860850573,...</td>\n    </tr>\n    <tr>\n      <th>4</th>\n      <td>Lviv bid for the 2022 Winter Olympics\\n\\n==Ven...</td>\n      <td>[-0.002936174161732197, -0.006185177247971296,...</td>\n    </tr>\n    <tr>\n      <th>...</th>\n      <td>...</td>\n      <td>...</td>\n    </tr>\n    <tr>\n      <th>6054</th>\n      <td>Anaïs Chevalier-Bouchet\\n\\n==Personal life==\\n...</td>\n      <td>[-0.027750400826334953, 0.001746018067933619, ...</td>\n    </tr>\n    <tr>\n      <th>6055</th>\n      <td>Uliana Nigmatullina\\n\\n{{short description|Rus...</td>\n      <td>[-0.021714167669415474, 0.016001321375370026, ...</td>\n    </tr>\n    <tr>\n      <th>6056</th>\n      <td>Uliana Nigmatullina\\n\\n==Biathlon results==\\n\\...</td>\n      <td>[-0.029143543913960457, 0.014654331840574741, ...</td>\n    </tr>\n    <tr>\n      <th>6057</th>\n      <td>Uliana Nigmatullina\\n\\n==Biathlon results==\\n\\...</td>\n      <td>[-0.024266039952635765, 0.011665306985378265, ...</td>\n    </tr>\n    <tr>\n      <th>6058</th>\n      <td>Uliana Nigmatullina\\n\\n==Biathlon results==\\n\\...</td>\n      <td>[-0.021818075329065323, 0.005420385394245386, ...</td>\n    </tr>\n  </tbody>\n</table>\n<p>6059 rows × 2 columns</p>\n</div>"
     },
     "execution_count": 2,
     "metadata": {},
     "output_type": "execute_result"
    }
   ],
   "source": [
    "# 1.Prepare search data\n",
    "# https://cdn.openai.com/API/examples/data/winter_olympics_2022.csv\n",
    "embeddings_path = \"../data/winter_olympics_2022.csv\"\n",
    "\n",
    "df = pd.read_csv(embeddings_path)\n",
    "# convert embeddings from CSV str type back to list type\n",
    "df['embedding'] = df['embedding'].apply(ast.literal_eval)\n",
    "# the dataframe has two columns: \"text\" and \"embedding\"\n",
    "df # print"
   ],
   "metadata": {
    "collapsed": false,
    "ExecuteTime": {
     "end_time": "2023-05-28T05:54:07.280281Z",
     "start_time": "2023-05-28T05:53:47.392908Z"
    }
   }
  },
  {
   "cell_type": "code",
   "execution_count": 18,
   "outputs": [],
   "source": [
    "# 2.Search\n",
    "# Returns a list of strings and relatednesses, sorted from most related to least.\n",
    "def strings_ranked_by_relatedness(\n",
    "        query: str,\n",
    "        df: pd.DataFrame,\n",
    "        relatedness_fn=lambda x, y: 1 - spatial.distance.cosine(x, y),\n",
    "        top_n: int = 100\n",
    ") -> tuple[list[str], list[float]]:\n",
    "    query_embedding_response = openai.Embedding.create(\n",
    "        model=EMBEDDING_MODEL,\n",
    "        input=query,\n",
    "    )\n",
    "    query_embedding = query_embedding_response[\"data\"][0][\"embedding\"]\n",
    "    strings_and_relatednesses = [\n",
    "        (row[\"text\"], relatedness_fn(query_embedding, row[\"embedding\"]))\n",
    "        for i, row in df.iterrows() # {text, relatedness} format.\n",
    "    ]\n",
    "    strings_and_relatednesses.sort(key=lambda x: x[1], reverse=True)\n",
    "    strings, relatednesses = zip(*strings_and_relatednesses)\n",
    "    return strings[:top_n], relatednesses[:top_n]   # sort and return only top n results from total embeddings"
   ],
   "metadata": {
    "collapsed": false,
    "ExecuteTime": {
     "end_time": "2023-05-28T07:28:31.598394Z",
     "start_time": "2023-05-28T07:28:31.592395Z"
    }
   }
  },
  {
   "cell_type": "code",
   "execution_count": 14,
   "outputs": [
    {
     "name": "stdout",
     "output_type": "stream",
     "text": [
      "6059\n",
      "relatedness=0.879\n"
     ]
    },
    {
     "data": {
      "text/plain": "'Curling at the 2022 Winter Olympics\\n\\n==Medal summary==\\n\\n===Medal table===\\n\\n{{Medals table\\n | caption        = \\n | host           = \\n | flag_template  = flagIOC\\n | event          = 2022 Winter\\n | team           = \\n | gold_CAN = 0 | silver_CAN = 0 | bronze_CAN = 1\\n | gold_ITA = 1 | silver_ITA = 0 | bronze_ITA = 0\\n | gold_NOR = 0 | silver_NOR = 1 | bronze_NOR = 0\\n | gold_SWE = 1 | silver_SWE = 0 | bronze_SWE = 2\\n | gold_GBR = 1 | silver_GBR = 1 | bronze_GBR = 0\\n | gold_JPN = 0 | silver_JPN = 1 | bronze_JPN - 0\\n}}'"
     },
     "metadata": {},
     "output_type": "display_data"
    },
    {
     "name": "stdout",
     "output_type": "stream",
     "text": [
      "relatedness=0.872\n"
     ]
    },
    {
     "data": {
      "text/plain": "\"Curling at the 2022 Winter Olympics\\n\\n==Results summary==\\n\\n===Women's tournament===\\n\\n====Playoffs====\\n\\n=====Gold medal game=====\\n\\n''Sunday, 20 February, 9:05''\\n{{#lst:Curling at the 2022 Winter Olympics – Women's tournament|GM}}\\n{{Player percentages\\n| team1 = {{flagIOC|JPN|2022 Winter}}\\n| [[Yurika Yoshida]] | 97%\\n| [[Yumi Suzuki]] | 82%\\n| [[Chinami Yoshida]] | 64%\\n| [[Satsuki Fujisawa]] | 69%\\n| teampct1 = 78%\\n| team2 = {{flagIOC|GBR|2022 Winter}}\\n| [[Hailey Duff]] | 90%\\n| [[Jennifer Dodds]] | 89%\\n| [[Vicky Wright]] | 89%\\n| [[Eve Muirhead]] | 88%\\n| teampct2 = 89%\\n}}\""
     },
     "metadata": {},
     "output_type": "display_data"
    },
    {
     "name": "stdout",
     "output_type": "stream",
     "text": [
      "relatedness=0.869\n"
     ]
    },
    {
     "data": {
      "text/plain": "'Curling at the 2022 Winter Olympics\\n\\n==Results summary==\\n\\n===Mixed doubles tournament===\\n\\n====Playoffs====\\n\\n=====Gold medal game=====\\n\\n\\'\\'Tuesday, 8 February, 20:05\\'\\'\\n{{#lst:Curling at the 2022 Winter Olympics – Mixed doubles tournament|GM}}\\n{| class=\"wikitable\"\\n!colspan=4 width=400|Player percentages\\n|-\\n!colspan=2 width=200 style=\"white-space:nowrap;\"| {{flagIOC|ITA|2022 Winter}}\\n!colspan=2 width=200 style=\"white-space:nowrap;\"| {{flagIOC|NOR|2022 Winter}}\\n|-\\n| [[Stefania Constantini]] || 83%\\n| [[Kristin Skaslien]] || 70%\\n|-\\n| [[Amos Mosaner]] || 90%\\n| [[Magnus Nedregotten]] || 69%\\n|-\\n| \\'\\'\\'Total\\'\\'\\' || 87%\\n| \\'\\'\\'Total\\'\\'\\' || 69%\\n|}'"
     },
     "metadata": {},
     "output_type": "display_data"
    },
    {
     "name": "stdout",
     "output_type": "stream",
     "text": [
      "relatedness=0.868\n"
     ]
    },
    {
     "data": {
      "text/plain": "\"Curling at the 2022 Winter Olympics\\n\\n==Medal summary==\\n\\n===Medalists===\\n\\n{| {{MedalistTable|type=Event|columns=1}}\\n|-\\n|Men<br/>{{DetailsLink|Curling at the 2022 Winter Olympics – Men's tournament}}\\n|{{flagIOC|SWE|2022 Winter}}<br>[[Niklas Edin]]<br>[[Oskar Eriksson]]<br>[[Rasmus Wranå]]<br>[[Christoffer Sundgren]]<br>[[Daniel Magnusson (curler)|Daniel Magnusson]]\\n|{{flagIOC|GBR|2022 Winter}}<br>[[Bruce Mouat]]<br>[[Grant Hardie]]<br>[[Bobby Lammie]]<br>[[Hammy McMillan Jr.]]<br>[[Ross Whyte]]\\n|{{flagIOC|CAN|2022 Winter}}<br>[[Brad Gushue]]<br>[[Mark Nichols (curler)|Mark Nichols]]<br>[[Brett Gallant]]<br>[[Geoff Walker (curler)|Geoff Walker]]<br>[[Marc Kennedy]]\\n|-\\n|Women<br/>{{DetailsLink|Curling at the 2022 Winter Olympics – Women's tournament}}\\n|{{flagIOC|GBR|2022 Winter}}<br>[[Eve Muirhead]]<br>[[Vicky Wright]]<br>[[Jennifer Dodds]]<br>[[Hailey Duff]]<br>[[Mili Smith]]\\n|{{flagIOC|JPN|2022 Winter}}<br>[[Satsuki Fujisawa]]<br>[[Chinami Yoshida]]<br>[[Yumi Suzuki]]<br>[[Yurika Yoshida]]<br>[[Kotomi Ishizaki]]\\n|{{flagIOC|SWE|2022 Winter}}<br>[[Anna Hasselborg]]<br>[[Sara McManus]]<br>[[Agnes Knochenhauer]]<br>[[Sofia Mabergs]]<br>[[Johanna Heldin]]\\n|-\\n|Mixed doubles<br/>{{DetailsLink|Curling at the 2022 Winter Olympics – Mixed doubles tournament}}\\n|{{flagIOC|ITA|2022 Winter}}<br>[[Stefania Constantini]]<br>[[Amos Mosaner]]\\n|{{flagIOC|NOR|2022 Winter}}<br>[[Kristin Skaslien]]<br>[[Magnus Nedregotten]]\\n|{{flagIOC|SWE|2022 Winter}}<br>[[Almida de Val]]<br>[[Oskar Eriksson]]\\n|}\""
     },
     "metadata": {},
     "output_type": "display_data"
    },
    {
     "name": "stdout",
     "output_type": "stream",
     "text": [
      "relatedness=0.867\n"
     ]
    },
    {
     "data": {
      "text/plain": "\"Curling at the 2022 Winter Olympics\\n\\n==Results summary==\\n\\n===Men's tournament===\\n\\n====Playoffs====\\n\\n=====Gold medal game=====\\n\\n''Saturday, 19 February, 14:50''\\n{{#lst:Curling at the 2022 Winter Olympics – Men's tournament|GM}}\\n{{Player percentages\\n| team1 = {{flagIOC|GBR|2022 Winter}}\\n| [[Hammy McMillan Jr.]] | 95%\\n| [[Bobby Lammie]] | 80%\\n| [[Grant Hardie]] | 94%\\n| [[Bruce Mouat]] | 89%\\n| teampct1 = 90%\\n| team2 = {{flagIOC|SWE|2022 Winter}}\\n| [[Christoffer Sundgren]] | 99%\\n| [[Rasmus Wranå]] | 95%\\n| [[Oskar Eriksson]] | 93%\\n| [[Niklas Edin]] | 87%\\n| teampct2 = 94%\\n}}\""
     },
     "metadata": {},
     "output_type": "display_data"
    }
   ],
   "source": [
    "# examples\n",
    "strings, relatednesses = strings_ranked_by_relatedness(\"curling gold medal\", df, top_n=5)\n",
    "for string, relatedness in zip(strings, relatednesses):\n",
    "    print(f\"{relatedness=:.3f}\") # round to 3 decimal places.\n",
    "    display(string)"
   ],
   "metadata": {
    "collapsed": false,
    "ExecuteTime": {
     "end_time": "2023-05-28T06:53:56.300030Z",
     "start_time": "2023-05-28T06:53:55.456285Z"
    }
   }
  },
  {
   "cell_type": "code",
   "execution_count": 16,
   "outputs": [],
   "source": [
    "# 3.Ask\n",
    "# Return the number of tokens in a string.\n",
    "def num_tokens(text: str, model: str = GPT_MODEL) -> int:\n",
    "    encoding = tiktoken.encoding_for_model(model)\n",
    "    return len(encoding.encode(text))\n",
    "\n",
    "# Return a message for GPT, with relevant source texts pulled from a dataframe.\n",
    "def query_message(\n",
    "        query: str,\n",
    "        df: pd.DataFrame,\n",
    "        model: str,\n",
    "        token_budget: int\n",
    ") -> str:\n",
    "    strings, relatednesses = strings_ranked_by_relatedness(query, df)\n",
    "    introduction = 'Use the below articles on the 2022 Winter Olympics to answer the subsequent question. If the answer cannot be found in the articles, write \"I could not find an answer.\"'\n",
    "    question = f\"\\n\\nQuestion: {query}\"\n",
    "    message = introduction\n",
    "    for string in strings:\n",
    "        next_article = f'\\n\\nWikipedia article section:\\n\"\"\"\\n{string}\\n\"\"\"'\n",
    "        if (\n",
    "                num_tokens(message + next_article + question, model=model)\n",
    "                > token_budget\n",
    "        ):\n",
    "            break\n",
    "        else:\n",
    "            message += next_article\n",
    "    return message + question\n",
    "\n",
    "\n",
    "def ask(\n",
    "        query: str,\n",
    "        df: pd.DataFrame = df,\n",
    "        model: str = GPT_MODEL,\n",
    "        token_budget: int = 4096 - 500,\n",
    "        print_message: bool = False,\n",
    ") -> str:\n",
    "    \"\"\"Answers a query using GPT and a dataframe of relevant texts and embeddings.\"\"\"\n",
    "    message = query_message(query, df, model=model, token_budget=token_budget)\n",
    "    if print_message:\n",
    "        print(message)\n",
    "    messages = [\n",
    "        {\"role\": \"system\", \"content\": \"You answer questions about the 2022 Winter Olympics.\"},\n",
    "        {\"role\": \"user\", \"content\": message},\n",
    "    ]\n",
    "    response = openai.ChatCompletion.create(\n",
    "        model=model,\n",
    "        messages=messages,\n",
    "        temperature=0\n",
    "    )\n",
    "    response_message = response[\"choices\"][0][\"message\"][\"content\"]\n",
    "    return response_message"
   ],
   "metadata": {
    "collapsed": false,
    "ExecuteTime": {
     "end_time": "2023-05-28T07:27:07.274848Z",
     "start_time": "2023-05-28T07:27:07.271240Z"
    }
   }
  },
  {
   "cell_type": "code",
   "execution_count": 17,
   "outputs": [
    {
     "name": "stdout",
     "output_type": "stream",
     "text": [
      "total embeddings : 6059\n"
     ]
    },
    {
     "data": {
      "text/plain": "\"There were two gold medal-winning teams in curling at the 2022 Winter Olympics: the Swedish men's team consisting of Niklas Edin, Oskar Eriksson, Rasmus Wranå, Christoffer Sundgren, and Daniel Magnusson, and the British women's team consisting of Eve Muirhead, Vicky Wright, Jennifer Dodds, Hailey Duff, and Mili Smith.\""
     },
     "execution_count": 17,
     "metadata": {},
     "output_type": "execute_result"
    }
   ],
   "source": [
    "# examples\n",
    "ask('Which athletes won the gold medal in curling at the 2022 Winter Olympics?')"
   ],
   "metadata": {
    "collapsed": false,
    "ExecuteTime": {
     "end_time": "2023-05-28T07:27:23.335310Z",
     "start_time": "2023-05-28T07:27:10.139172Z"
    }
   }
  },
  {
   "cell_type": "code",
   "execution_count": 19,
   "outputs": [
    {
     "name": "stdout",
     "output_type": "stream",
     "text": [
      "Use the below articles on the 2022 Winter Olympics to answer the subsequent question. If the answer cannot be found in the articles, write \"I could not find an answer.\"\n",
      "\n",
      "Wikipedia article section:\n",
      "\"\"\"\n",
      "List of 2022 Winter Olympics medal winners\n",
      "\n",
      "==Curling==\n",
      "\n",
      "{{main|Curling at the 2022 Winter Olympics}}\n",
      "{|{{MedalistTable|type=Event|columns=1|width=225|labelwidth=200}}\n",
      "|-valign=\"top\"\n",
      "|Men<br/>{{DetailsLink|Curling at the 2022 Winter Olympics – Men's tournament}}\n",
      "|{{flagIOC|SWE|2022 Winter}}<br/>[[Niklas Edin]]<br/>[[Oskar Eriksson]]<br/>[[Rasmus Wranå]]<br/>[[Christoffer Sundgren]]<br/>[[Daniel Magnusson (curler)|Daniel Magnusson]]\n",
      "|{{flagIOC|GBR|2022 Winter}}<br/>[[Bruce Mouat]]<br/>[[Grant Hardie]]<br/>[[Bobby Lammie]]<br/>[[Hammy McMillan Jr.]]<br/>[[Ross Whyte]]\n",
      "|{{flagIOC|CAN|2022 Winter}}<br/>[[Brad Gushue]]<br/>[[Mark Nichols (curler)|Mark Nichols]]<br/>[[Brett Gallant]]<br/>[[Geoff Walker (curler)|Geoff Walker]]<br/>[[Marc Kennedy]]\n",
      "|-valign=\"top\"\n",
      "|Women<br/>{{DetailsLink|Curling at the 2022 Winter Olympics – Women's tournament}}\n",
      "|{{flagIOC|GBR|2022 Winter}}<br/>[[Eve Muirhead]]<br/>[[Vicky Wright]]<br/>[[Jennifer Dodds]]<br/>[[Hailey Duff]]<br/>[[Mili Smith]]\n",
      "|{{flagIOC|JPN|2022 Winter}}<br/>[[Satsuki Fujisawa]]<br/>[[Chinami Yoshida]]<br/>[[Yumi Suzuki]]<br/>[[Yurika Yoshida]]<br/>[[Kotomi Ishizaki]]\n",
      "|{{flagIOC|SWE|2022 Winter}}<br/>[[Anna Hasselborg]]<br/>[[Sara McManus]]<br/>[[Agnes Knochenhauer]]<br/>[[Sofia Mabergs]]<br/>[[Johanna Heldin]]\n",
      "|-valign=\"top\"\n",
      "|Mixed doubles<br/>{{DetailsLink|Curling at the 2022 Winter Olympics – Mixed doubles tournament}}\n",
      "|{{flagIOC|ITA|2022 Winter}}<br/>[[Stefania Constantini]]<br/>[[Amos Mosaner]]\n",
      "|{{flagIOC|NOR|2022 Winter}}<br/>[[Kristin Skaslien]]<br/>[[Magnus Nedregotten]]\n",
      "|{{flagIOC|SWE|2022 Winter}}<br/>[[Almida de Val]]<br/>[[Oskar Eriksson]]\n",
      "|}\n",
      "\"\"\"\n",
      "\n",
      "Wikipedia article section:\n",
      "\"\"\"\n",
      "Curling at the 2022 Winter Olympics\n",
      "\n",
      "==Results summary==\n",
      "\n",
      "===Women's tournament===\n",
      "\n",
      "====Playoffs====\n",
      "\n",
      "=====Gold medal game=====\n",
      "\n",
      "''Sunday, 20 February, 9:05''\n",
      "{{#lst:Curling at the 2022 Winter Olympics – Women's tournament|GM}}\n",
      "{{Player percentages\n",
      "| team1 = {{flagIOC|JPN|2022 Winter}}\n",
      "| [[Yurika Yoshida]] | 97%\n",
      "| [[Yumi Suzuki]] | 82%\n",
      "| [[Chinami Yoshida]] | 64%\n",
      "| [[Satsuki Fujisawa]] | 69%\n",
      "| teampct1 = 78%\n",
      "| team2 = {{flagIOC|GBR|2022 Winter}}\n",
      "| [[Hailey Duff]] | 90%\n",
      "| [[Jennifer Dodds]] | 89%\n",
      "| [[Vicky Wright]] | 89%\n",
      "| [[Eve Muirhead]] | 88%\n",
      "| teampct2 = 89%\n",
      "}}\n",
      "\"\"\"\n",
      "\n",
      "Wikipedia article section:\n",
      "\"\"\"\n",
      "Curling at the 2022 Winter Olympics\n",
      "\n",
      "==Medal summary==\n",
      "\n",
      "===Medal table===\n",
      "\n",
      "{{Medals table\n",
      " | caption        = \n",
      " | host           = \n",
      " | flag_template  = flagIOC\n",
      " | event          = 2022 Winter\n",
      " | team           = \n",
      " | gold_CAN = 0 | silver_CAN = 0 | bronze_CAN = 1\n",
      " | gold_ITA = 1 | silver_ITA = 0 | bronze_ITA = 0\n",
      " | gold_NOR = 0 | silver_NOR = 1 | bronze_NOR = 0\n",
      " | gold_SWE = 1 | silver_SWE = 0 | bronze_SWE = 2\n",
      " | gold_GBR = 1 | silver_GBR = 1 | bronze_GBR = 0\n",
      " | gold_JPN = 0 | silver_JPN = 1 | bronze_JPN - 0\n",
      "}}\n",
      "\"\"\"\n",
      "\n",
      "Wikipedia article section:\n",
      "\"\"\"\n",
      "Curling at the 2022 Winter Olympics\n",
      "\n",
      "==Results summary==\n",
      "\n",
      "===Men's tournament===\n",
      "\n",
      "====Playoffs====\n",
      "\n",
      "=====Gold medal game=====\n",
      "\n",
      "''Saturday, 19 February, 14:50''\n",
      "{{#lst:Curling at the 2022 Winter Olympics – Men's tournament|GM}}\n",
      "{{Player percentages\n",
      "| team1 = {{flagIOC|GBR|2022 Winter}}\n",
      "| [[Hammy McMillan Jr.]] | 95%\n",
      "| [[Bobby Lammie]] | 80%\n",
      "| [[Grant Hardie]] | 94%\n",
      "| [[Bruce Mouat]] | 89%\n",
      "| teampct1 = 90%\n",
      "| team2 = {{flagIOC|SWE|2022 Winter}}\n",
      "| [[Christoffer Sundgren]] | 99%\n",
      "| [[Rasmus Wranå]] | 95%\n",
      "| [[Oskar Eriksson]] | 93%\n",
      "| [[Niklas Edin]] | 87%\n",
      "| teampct2 = 94%\n",
      "}}\n",
      "\"\"\"\n",
      "\n",
      "Wikipedia article section:\n",
      "\"\"\"\n",
      "Curling at the 2022 Winter Olympics\n",
      "\n",
      "==Medal summary==\n",
      "\n",
      "===Medalists===\n",
      "\n",
      "{| {{MedalistTable|type=Event|columns=1}}\n",
      "|-\n",
      "|Men<br/>{{DetailsLink|Curling at the 2022 Winter Olympics – Men's tournament}}\n",
      "|{{flagIOC|SWE|2022 Winter}}<br>[[Niklas Edin]]<br>[[Oskar Eriksson]]<br>[[Rasmus Wranå]]<br>[[Christoffer Sundgren]]<br>[[Daniel Magnusson (curler)|Daniel Magnusson]]\n",
      "|{{flagIOC|GBR|2022 Winter}}<br>[[Bruce Mouat]]<br>[[Grant Hardie]]<br>[[Bobby Lammie]]<br>[[Hammy McMillan Jr.]]<br>[[Ross Whyte]]\n",
      "|{{flagIOC|CAN|2022 Winter}}<br>[[Brad Gushue]]<br>[[Mark Nichols (curler)|Mark Nichols]]<br>[[Brett Gallant]]<br>[[Geoff Walker (curler)|Geoff Walker]]<br>[[Marc Kennedy]]\n",
      "|-\n",
      "|Women<br/>{{DetailsLink|Curling at the 2022 Winter Olympics – Women's tournament}}\n",
      "|{{flagIOC|GBR|2022 Winter}}<br>[[Eve Muirhead]]<br>[[Vicky Wright]]<br>[[Jennifer Dodds]]<br>[[Hailey Duff]]<br>[[Mili Smith]]\n",
      "|{{flagIOC|JPN|2022 Winter}}<br>[[Satsuki Fujisawa]]<br>[[Chinami Yoshida]]<br>[[Yumi Suzuki]]<br>[[Yurika Yoshida]]<br>[[Kotomi Ishizaki]]\n",
      "|{{flagIOC|SWE|2022 Winter}}<br>[[Anna Hasselborg]]<br>[[Sara McManus]]<br>[[Agnes Knochenhauer]]<br>[[Sofia Mabergs]]<br>[[Johanna Heldin]]\n",
      "|-\n",
      "|Mixed doubles<br/>{{DetailsLink|Curling at the 2022 Winter Olympics – Mixed doubles tournament}}\n",
      "|{{flagIOC|ITA|2022 Winter}}<br>[[Stefania Constantini]]<br>[[Amos Mosaner]]\n",
      "|{{flagIOC|NOR|2022 Winter}}<br>[[Kristin Skaslien]]<br>[[Magnus Nedregotten]]\n",
      "|{{flagIOC|SWE|2022 Winter}}<br>[[Almida de Val]]<br>[[Oskar Eriksson]]\n",
      "|}\n",
      "\"\"\"\n",
      "\n",
      "Wikipedia article section:\n",
      "\"\"\"\n",
      "Curling at the 2022 Winter Olympics\n",
      "\n",
      "==Results summary==\n",
      "\n",
      "===Men's tournament===\n",
      "\n",
      "====Playoffs====\n",
      "\n",
      "=====Bronze medal game=====\n",
      "\n",
      "''Friday, 18 February, 14:05''\n",
      "{{#lst:Curling at the 2022 Winter Olympics – Men's tournament|BM}}\n",
      "{{Player percentages\n",
      "| team1 = {{flagIOC|USA|2022 Winter}}\n",
      "| [[John Landsteiner]] | 80%\n",
      "| [[Matt Hamilton (curler)|Matt Hamilton]] | 86%\n",
      "| [[Chris Plys]] | 74%\n",
      "| [[John Shuster]] | 69%\n",
      "| teampct1 = 77%\n",
      "| team2 = {{flagIOC|CAN|2022 Winter}}\n",
      "| [[Geoff Walker (curler)|Geoff Walker]] | 84%\n",
      "| [[Brett Gallant]] | 86%\n",
      "| [[Mark Nichols (curler)|Mark Nichols]] | 78%\n",
      "| [[Brad Gushue]] | 78%\n",
      "| teampct2 = 82%\n",
      "}}\n",
      "\"\"\"\n",
      "\n",
      "Wikipedia article section:\n",
      "\"\"\"\n",
      "Curling at the 2022 Winter Olympics\n",
      "\n",
      "==Teams==\n",
      "\n",
      "===Mixed doubles===\n",
      "\n",
      "{| class=wikitable\n",
      "|-\n",
      "!width=200|{{flagIOC|AUS|2022 Winter}}\n",
      "!width=200|{{flagIOC|CAN|2022 Winter}}\n",
      "!width=200|{{flagIOC|CHN|2022 Winter}}\n",
      "!width=200|{{flagIOC|CZE|2022 Winter}}\n",
      "!width=200|{{flagIOC|GBR|2022 Winter}}\n",
      "|-\n",
      "|\n",
      "'''Female:''' [[Tahli Gill]]<br>\n",
      "'''Male:''' [[Dean Hewitt]]\n",
      "|\n",
      "'''Female:''' [[Rachel Homan]]<br>\n",
      "'''Male:''' [[John Morris (curler)|John Morris]]\n",
      "|\n",
      "'''Female:''' [[Fan Suyuan]]<br>\n",
      "'''Male:''' [[Ling Zhi]]\n",
      "|\n",
      "'''Female:''' [[Zuzana Paulová]]<br>\n",
      "'''Male:''' [[Tomáš Paul]]\n",
      "|\n",
      "'''Female:''' [[Jennifer Dodds]]<br>\n",
      "'''Male:''' [[Bruce Mouat]]\n",
      "|-\n",
      "!width=200|{{flagIOC|ITA|2022 Winter}}\n",
      "!width=200|{{flagIOC|NOR|2022 Winter}}\n",
      "!width=200|{{flagIOC|SWE|2022 Winter}}\n",
      "!width=200|{{flagIOC|SUI|2022 Winter}}\n",
      "!width=200|{{flagIOC|USA|2022 Winter}}\n",
      "|-\n",
      "|\n",
      "'''Female:''' [[Stefania Constantini]]<br>\n",
      "'''Male:''' [[Amos Mosaner]]\n",
      "|\n",
      "'''Female:''' [[Kristin Skaslien]]<br>\n",
      "'''Male:''' [[Magnus Nedregotten]]\n",
      "|\n",
      "'''Female:''' [[Almida de Val]]<br>\n",
      "'''Male:''' [[Oskar Eriksson]]\n",
      "|\n",
      "'''Female:''' [[Jenny Perret]]<br>\n",
      "'''Male:''' [[Martin Rios]]\n",
      "|\n",
      "'''Female:''' [[Vicky Persinger]]<br>\n",
      "'''Male:''' [[Chris Plys]]\n",
      "|}\n",
      "\"\"\"\n",
      "\n",
      "Wikipedia article section:\n",
      "\"\"\"\n",
      "Curling at the 2022 Winter Olympics\n",
      "\n",
      "==Results summary==\n",
      "\n",
      "===Women's tournament===\n",
      "\n",
      "====Playoffs====\n",
      "\n",
      "=====Bronze medal game=====\n",
      "\n",
      "''Saturday, 19 February, 20:05''\n",
      "{{#lst:Curling at the 2022 Winter Olympics – Women's tournament|BM}}\n",
      "{{Player percentages\n",
      "| team1 = {{flagIOC|SUI|2022 Winter}}\n",
      "| [[Melanie Barbezat]] | 79%\n",
      "| [[Esther Neuenschwander]] | 75%\n",
      "| [[Silvana Tirinzoni]] | 81%\n",
      "| [[Alina Pätz]] | 64%\n",
      "| teampct1 = 75%\n",
      "| team2 = {{flagIOC|SWE|2022 Winter}}\n",
      "| [[Sofia Mabergs]] | 89%\n",
      "| [[Agnes Knochenhauer]] | 80%\n",
      "| [[Sara McManus]] | 81%\n",
      "| [[Anna Hasselborg]] | 76%\n",
      "| teampct2 = 82%\n",
      "}}\n",
      "\"\"\"\n",
      "\n",
      "Wikipedia article section:\n",
      "\"\"\"\n",
      "Curling at the 2022 Winter Olympics\n",
      "\n",
      "==Results summary==\n",
      "\n",
      "===Mixed doubles tournament===\n",
      "\n",
      "====Playoffs====\n",
      "\n",
      "=====Gold medal game=====\n",
      "\n",
      "''Tuesday, 8 February, 20:05''\n",
      "{{#lst:Curling at the 2022 Winter Olympics – Mixed doubles tournament|GM}}\n",
      "{| class=\"wikitable\"\n",
      "!colspan=4 width=400|Player percentages\n",
      "|-\n",
      "!colspan=2 width=200 style=\"white-space:nowrap;\"| {{flagIOC|ITA|2022 Winter}}\n",
      "!colspan=2 width=200 style=\"white-space:nowrap;\"| {{flagIOC|NOR|2022 Winter}}\n",
      "|-\n",
      "| [[Stefania Constantini]] || 83%\n",
      "| [[Kristin Skaslien]] || 70%\n",
      "|-\n",
      "| [[Amos Mosaner]] || 90%\n",
      "| [[Magnus Nedregotten]] || 69%\n",
      "|-\n",
      "| '''Total''' || 87%\n",
      "| '''Total''' || 69%\n",
      "|}\n",
      "\"\"\"\n",
      "\n",
      "Question: Which athletes won the gold medal in curling at the 2022 Winter Olympics?\n"
     ]
    },
    {
     "data": {
      "text/plain": "\"There were two gold medal-winning teams in curling at the 2022 Winter Olympics: the Swedish men's team consisting of Niklas Edin, Oskar Eriksson, Rasmus Wranå, Christoffer Sundgren, and Daniel Magnusson, and the British women's team consisting of Eve Muirhead, Vicky Wright, Jennifer Dodds, Hailey Duff, and Mili Smith.\""
     },
     "execution_count": 19,
     "metadata": {},
     "output_type": "execute_result"
    }
   ],
   "source": [
    "# 4.Troubleshooting wrong answers\n",
    "# answer do not show the winner from two mixed doubles curling events.\n",
    "# set print_message=True to see the source text GPT was working off of.\n",
    "ask('Which athletes won the gold medal in curling at the 2022 Winter Olympics?', print_message=True)"
   ],
   "metadata": {
    "collapsed": false,
    "ExecuteTime": {
     "end_time": "2023-05-28T07:30:40.873462Z",
     "start_time": "2023-05-28T07:30:32.531923Z"
    }
   }
  },
  {
   "cell_type": "code",
   "execution_count": 20,
   "outputs": [
    {
     "ename": "InvalidRequestError",
     "evalue": "The model: `gpt-4` does not exist",
     "output_type": "error",
     "traceback": [
      "\u001B[0;31m---------------------------------------------------------------------------\u001B[0m",
      "\u001B[0;31mInvalidRequestError\u001B[0m                       Traceback (most recent call last)",
      "Cell \u001B[0;32mIn[20], line 2\u001B[0m\n\u001B[1;32m      1\u001B[0m \u001B[38;5;66;03m# Ask with improved model to get more precise information.\u001B[39;00m\n\u001B[0;32m----> 2\u001B[0m \u001B[43mask\u001B[49m\u001B[43m(\u001B[49m\u001B[38;5;124;43m'\u001B[39;49m\u001B[38;5;124;43mWhich athletes won the gold medal in curling at the 2022 Winter Olympics?\u001B[39;49m\u001B[38;5;124;43m'\u001B[39;49m\u001B[43m,\u001B[49m\u001B[43m \u001B[49m\u001B[43mmodel\u001B[49m\u001B[38;5;241;43m=\u001B[39;49m\u001B[38;5;124;43m\"\u001B[39;49m\u001B[38;5;124;43mgpt-4\u001B[39;49m\u001B[38;5;124;43m\"\u001B[39;49m\u001B[43m)\u001B[49m\n",
      "Cell \u001B[0;32mIn[16], line 45\u001B[0m, in \u001B[0;36mask\u001B[0;34m(query, df, model, token_budget, print_message)\u001B[0m\n\u001B[1;32m     40\u001B[0m     \u001B[38;5;28mprint\u001B[39m(message)\n\u001B[1;32m     41\u001B[0m messages \u001B[38;5;241m=\u001B[39m [\n\u001B[1;32m     42\u001B[0m     {\u001B[38;5;124m\"\u001B[39m\u001B[38;5;124mrole\u001B[39m\u001B[38;5;124m\"\u001B[39m: \u001B[38;5;124m\"\u001B[39m\u001B[38;5;124msystem\u001B[39m\u001B[38;5;124m\"\u001B[39m, \u001B[38;5;124m\"\u001B[39m\u001B[38;5;124mcontent\u001B[39m\u001B[38;5;124m\"\u001B[39m: \u001B[38;5;124m\"\u001B[39m\u001B[38;5;124mYou answer questions about the 2022 Winter Olympics.\u001B[39m\u001B[38;5;124m\"\u001B[39m},\n\u001B[1;32m     43\u001B[0m     {\u001B[38;5;124m\"\u001B[39m\u001B[38;5;124mrole\u001B[39m\u001B[38;5;124m\"\u001B[39m: \u001B[38;5;124m\"\u001B[39m\u001B[38;5;124muser\u001B[39m\u001B[38;5;124m\"\u001B[39m, \u001B[38;5;124m\"\u001B[39m\u001B[38;5;124mcontent\u001B[39m\u001B[38;5;124m\"\u001B[39m: message},\n\u001B[1;32m     44\u001B[0m ]\n\u001B[0;32m---> 45\u001B[0m response \u001B[38;5;241m=\u001B[39m \u001B[43mopenai\u001B[49m\u001B[38;5;241;43m.\u001B[39;49m\u001B[43mChatCompletion\u001B[49m\u001B[38;5;241;43m.\u001B[39;49m\u001B[43mcreate\u001B[49m\u001B[43m(\u001B[49m\n\u001B[1;32m     46\u001B[0m \u001B[43m    \u001B[49m\u001B[43mmodel\u001B[49m\u001B[38;5;241;43m=\u001B[39;49m\u001B[43mmodel\u001B[49m\u001B[43m,\u001B[49m\n\u001B[1;32m     47\u001B[0m \u001B[43m    \u001B[49m\u001B[43mmessages\u001B[49m\u001B[38;5;241;43m=\u001B[39;49m\u001B[43mmessages\u001B[49m\u001B[43m,\u001B[49m\n\u001B[1;32m     48\u001B[0m \u001B[43m    \u001B[49m\u001B[43mtemperature\u001B[49m\u001B[38;5;241;43m=\u001B[39;49m\u001B[38;5;241;43m0\u001B[39;49m\n\u001B[1;32m     49\u001B[0m \u001B[43m\u001B[49m\u001B[43m)\u001B[49m\n\u001B[1;32m     50\u001B[0m response_message \u001B[38;5;241m=\u001B[39m response[\u001B[38;5;124m\"\u001B[39m\u001B[38;5;124mchoices\u001B[39m\u001B[38;5;124m\"\u001B[39m][\u001B[38;5;241m0\u001B[39m][\u001B[38;5;124m\"\u001B[39m\u001B[38;5;124mmessage\u001B[39m\u001B[38;5;124m\"\u001B[39m][\u001B[38;5;124m\"\u001B[39m\u001B[38;5;124mcontent\u001B[39m\u001B[38;5;124m\"\u001B[39m]\n\u001B[1;32m     51\u001B[0m \u001B[38;5;28;01mreturn\u001B[39;00m response_message\n",
      "File \u001B[0;32m~/Code/venv/openai-research/lib/python3.11/site-packages/openai/api_resources/chat_completion.py:25\u001B[0m, in \u001B[0;36mChatCompletion.create\u001B[0;34m(cls, *args, **kwargs)\u001B[0m\n\u001B[1;32m     23\u001B[0m \u001B[38;5;28;01mwhile\u001B[39;00m \u001B[38;5;28;01mTrue\u001B[39;00m:\n\u001B[1;32m     24\u001B[0m     \u001B[38;5;28;01mtry\u001B[39;00m:\n\u001B[0;32m---> 25\u001B[0m         \u001B[38;5;28;01mreturn\u001B[39;00m \u001B[38;5;28;43msuper\u001B[39;49m\u001B[43m(\u001B[49m\u001B[43m)\u001B[49m\u001B[38;5;241;43m.\u001B[39;49m\u001B[43mcreate\u001B[49m\u001B[43m(\u001B[49m\u001B[38;5;241;43m*\u001B[39;49m\u001B[43margs\u001B[49m\u001B[43m,\u001B[49m\u001B[43m \u001B[49m\u001B[38;5;241;43m*\u001B[39;49m\u001B[38;5;241;43m*\u001B[39;49m\u001B[43mkwargs\u001B[49m\u001B[43m)\u001B[49m\n\u001B[1;32m     26\u001B[0m     \u001B[38;5;28;01mexcept\u001B[39;00m TryAgain \u001B[38;5;28;01mas\u001B[39;00m e:\n\u001B[1;32m     27\u001B[0m         \u001B[38;5;28;01mif\u001B[39;00m timeout \u001B[38;5;129;01mis\u001B[39;00m \u001B[38;5;129;01mnot\u001B[39;00m \u001B[38;5;28;01mNone\u001B[39;00m \u001B[38;5;129;01mand\u001B[39;00m time\u001B[38;5;241m.\u001B[39mtime() \u001B[38;5;241m>\u001B[39m start \u001B[38;5;241m+\u001B[39m timeout:\n",
      "File \u001B[0;32m~/Code/venv/openai-research/lib/python3.11/site-packages/openai/api_resources/abstract/engine_api_resource.py:153\u001B[0m, in \u001B[0;36mEngineAPIResource.create\u001B[0;34m(cls, api_key, api_base, api_type, request_id, api_version, organization, **params)\u001B[0m\n\u001B[1;32m    127\u001B[0m \u001B[38;5;129m@classmethod\u001B[39m\n\u001B[1;32m    128\u001B[0m \u001B[38;5;28;01mdef\u001B[39;00m \u001B[38;5;21mcreate\u001B[39m(\n\u001B[1;32m    129\u001B[0m     \u001B[38;5;28mcls\u001B[39m,\n\u001B[0;32m   (...)\u001B[0m\n\u001B[1;32m    136\u001B[0m     \u001B[38;5;241m*\u001B[39m\u001B[38;5;241m*\u001B[39mparams,\n\u001B[1;32m    137\u001B[0m ):\n\u001B[1;32m    138\u001B[0m     (\n\u001B[1;32m    139\u001B[0m         deployment_id,\n\u001B[1;32m    140\u001B[0m         engine,\n\u001B[0;32m   (...)\u001B[0m\n\u001B[1;32m    150\u001B[0m         api_key, api_base, api_type, api_version, organization, \u001B[38;5;241m*\u001B[39m\u001B[38;5;241m*\u001B[39mparams\n\u001B[1;32m    151\u001B[0m     )\n\u001B[0;32m--> 153\u001B[0m     response, _, api_key \u001B[38;5;241m=\u001B[39m \u001B[43mrequestor\u001B[49m\u001B[38;5;241;43m.\u001B[39;49m\u001B[43mrequest\u001B[49m\u001B[43m(\u001B[49m\n\u001B[1;32m    154\u001B[0m \u001B[43m        \u001B[49m\u001B[38;5;124;43m\"\u001B[39;49m\u001B[38;5;124;43mpost\u001B[39;49m\u001B[38;5;124;43m\"\u001B[39;49m\u001B[43m,\u001B[49m\n\u001B[1;32m    155\u001B[0m \u001B[43m        \u001B[49m\u001B[43murl\u001B[49m\u001B[43m,\u001B[49m\n\u001B[1;32m    156\u001B[0m \u001B[43m        \u001B[49m\u001B[43mparams\u001B[49m\u001B[38;5;241;43m=\u001B[39;49m\u001B[43mparams\u001B[49m\u001B[43m,\u001B[49m\n\u001B[1;32m    157\u001B[0m \u001B[43m        \u001B[49m\u001B[43mheaders\u001B[49m\u001B[38;5;241;43m=\u001B[39;49m\u001B[43mheaders\u001B[49m\u001B[43m,\u001B[49m\n\u001B[1;32m    158\u001B[0m \u001B[43m        \u001B[49m\u001B[43mstream\u001B[49m\u001B[38;5;241;43m=\u001B[39;49m\u001B[43mstream\u001B[49m\u001B[43m,\u001B[49m\n\u001B[1;32m    159\u001B[0m \u001B[43m        \u001B[49m\u001B[43mrequest_id\u001B[49m\u001B[38;5;241;43m=\u001B[39;49m\u001B[43mrequest_id\u001B[49m\u001B[43m,\u001B[49m\n\u001B[1;32m    160\u001B[0m \u001B[43m        \u001B[49m\u001B[43mrequest_timeout\u001B[49m\u001B[38;5;241;43m=\u001B[39;49m\u001B[43mrequest_timeout\u001B[49m\u001B[43m,\u001B[49m\n\u001B[1;32m    161\u001B[0m \u001B[43m    \u001B[49m\u001B[43m)\u001B[49m\n\u001B[1;32m    163\u001B[0m     \u001B[38;5;28;01mif\u001B[39;00m stream:\n\u001B[1;32m    164\u001B[0m         \u001B[38;5;66;03m# must be an iterator\u001B[39;00m\n\u001B[1;32m    165\u001B[0m         \u001B[38;5;28;01massert\u001B[39;00m \u001B[38;5;129;01mnot\u001B[39;00m \u001B[38;5;28misinstance\u001B[39m(response, OpenAIResponse)\n",
      "File \u001B[0;32m~/Code/venv/openai-research/lib/python3.11/site-packages/openai/api_requestor.py:230\u001B[0m, in \u001B[0;36mAPIRequestor.request\u001B[0;34m(self, method, url, params, headers, files, stream, request_id, request_timeout)\u001B[0m\n\u001B[1;32m    209\u001B[0m \u001B[38;5;28;01mdef\u001B[39;00m \u001B[38;5;21mrequest\u001B[39m(\n\u001B[1;32m    210\u001B[0m     \u001B[38;5;28mself\u001B[39m,\n\u001B[1;32m    211\u001B[0m     method,\n\u001B[0;32m   (...)\u001B[0m\n\u001B[1;32m    218\u001B[0m     request_timeout: Optional[Union[\u001B[38;5;28mfloat\u001B[39m, Tuple[\u001B[38;5;28mfloat\u001B[39m, \u001B[38;5;28mfloat\u001B[39m]]] \u001B[38;5;241m=\u001B[39m \u001B[38;5;28;01mNone\u001B[39;00m,\n\u001B[1;32m    219\u001B[0m ) \u001B[38;5;241m-\u001B[39m\u001B[38;5;241m>\u001B[39m Tuple[Union[OpenAIResponse, Iterator[OpenAIResponse]], \u001B[38;5;28mbool\u001B[39m, \u001B[38;5;28mstr\u001B[39m]:\n\u001B[1;32m    220\u001B[0m     result \u001B[38;5;241m=\u001B[39m \u001B[38;5;28mself\u001B[39m\u001B[38;5;241m.\u001B[39mrequest_raw(\n\u001B[1;32m    221\u001B[0m         method\u001B[38;5;241m.\u001B[39mlower(),\n\u001B[1;32m    222\u001B[0m         url,\n\u001B[0;32m   (...)\u001B[0m\n\u001B[1;32m    228\u001B[0m         request_timeout\u001B[38;5;241m=\u001B[39mrequest_timeout,\n\u001B[1;32m    229\u001B[0m     )\n\u001B[0;32m--> 230\u001B[0m     resp, got_stream \u001B[38;5;241m=\u001B[39m \u001B[38;5;28;43mself\u001B[39;49m\u001B[38;5;241;43m.\u001B[39;49m\u001B[43m_interpret_response\u001B[49m\u001B[43m(\u001B[49m\u001B[43mresult\u001B[49m\u001B[43m,\u001B[49m\u001B[43m \u001B[49m\u001B[43mstream\u001B[49m\u001B[43m)\u001B[49m\n\u001B[1;32m    231\u001B[0m     \u001B[38;5;28;01mreturn\u001B[39;00m resp, got_stream, \u001B[38;5;28mself\u001B[39m\u001B[38;5;241m.\u001B[39mapi_key\n",
      "File \u001B[0;32m~/Code/venv/openai-research/lib/python3.11/site-packages/openai/api_requestor.py:624\u001B[0m, in \u001B[0;36mAPIRequestor._interpret_response\u001B[0;34m(self, result, stream)\u001B[0m\n\u001B[1;32m    616\u001B[0m     \u001B[38;5;28;01mreturn\u001B[39;00m (\n\u001B[1;32m    617\u001B[0m         \u001B[38;5;28mself\u001B[39m\u001B[38;5;241m.\u001B[39m_interpret_response_line(\n\u001B[1;32m    618\u001B[0m             line, result\u001B[38;5;241m.\u001B[39mstatus_code, result\u001B[38;5;241m.\u001B[39mheaders, stream\u001B[38;5;241m=\u001B[39m\u001B[38;5;28;01mTrue\u001B[39;00m\n\u001B[1;32m    619\u001B[0m         )\n\u001B[1;32m    620\u001B[0m         \u001B[38;5;28;01mfor\u001B[39;00m line \u001B[38;5;129;01min\u001B[39;00m parse_stream(result\u001B[38;5;241m.\u001B[39miter_lines())\n\u001B[1;32m    621\u001B[0m     ), \u001B[38;5;28;01mTrue\u001B[39;00m\n\u001B[1;32m    622\u001B[0m \u001B[38;5;28;01melse\u001B[39;00m:\n\u001B[1;32m    623\u001B[0m     \u001B[38;5;28;01mreturn\u001B[39;00m (\n\u001B[0;32m--> 624\u001B[0m         \u001B[38;5;28;43mself\u001B[39;49m\u001B[38;5;241;43m.\u001B[39;49m\u001B[43m_interpret_response_line\u001B[49m\u001B[43m(\u001B[49m\n\u001B[1;32m    625\u001B[0m \u001B[43m            \u001B[49m\u001B[43mresult\u001B[49m\u001B[38;5;241;43m.\u001B[39;49m\u001B[43mcontent\u001B[49m\u001B[38;5;241;43m.\u001B[39;49m\u001B[43mdecode\u001B[49m\u001B[43m(\u001B[49m\u001B[38;5;124;43m\"\u001B[39;49m\u001B[38;5;124;43mutf-8\u001B[39;49m\u001B[38;5;124;43m\"\u001B[39;49m\u001B[43m)\u001B[49m\u001B[43m,\u001B[49m\n\u001B[1;32m    626\u001B[0m \u001B[43m            \u001B[49m\u001B[43mresult\u001B[49m\u001B[38;5;241;43m.\u001B[39;49m\u001B[43mstatus_code\u001B[49m\u001B[43m,\u001B[49m\n\u001B[1;32m    627\u001B[0m \u001B[43m            \u001B[49m\u001B[43mresult\u001B[49m\u001B[38;5;241;43m.\u001B[39;49m\u001B[43mheaders\u001B[49m\u001B[43m,\u001B[49m\n\u001B[1;32m    628\u001B[0m \u001B[43m            \u001B[49m\u001B[43mstream\u001B[49m\u001B[38;5;241;43m=\u001B[39;49m\u001B[38;5;28;43;01mFalse\u001B[39;49;00m\u001B[43m,\u001B[49m\n\u001B[1;32m    629\u001B[0m \u001B[43m        \u001B[49m\u001B[43m)\u001B[49m,\n\u001B[1;32m    630\u001B[0m         \u001B[38;5;28;01mFalse\u001B[39;00m,\n\u001B[1;32m    631\u001B[0m     )\n",
      "File \u001B[0;32m~/Code/venv/openai-research/lib/python3.11/site-packages/openai/api_requestor.py:687\u001B[0m, in \u001B[0;36mAPIRequestor._interpret_response_line\u001B[0;34m(self, rbody, rcode, rheaders, stream)\u001B[0m\n\u001B[1;32m    685\u001B[0m stream_error \u001B[38;5;241m=\u001B[39m stream \u001B[38;5;129;01mand\u001B[39;00m \u001B[38;5;124m\"\u001B[39m\u001B[38;5;124merror\u001B[39m\u001B[38;5;124m\"\u001B[39m \u001B[38;5;129;01min\u001B[39;00m resp\u001B[38;5;241m.\u001B[39mdata\n\u001B[1;32m    686\u001B[0m \u001B[38;5;28;01mif\u001B[39;00m stream_error \u001B[38;5;129;01mor\u001B[39;00m \u001B[38;5;129;01mnot\u001B[39;00m \u001B[38;5;241m200\u001B[39m \u001B[38;5;241m<\u001B[39m\u001B[38;5;241m=\u001B[39m rcode \u001B[38;5;241m<\u001B[39m \u001B[38;5;241m300\u001B[39m:\n\u001B[0;32m--> 687\u001B[0m     \u001B[38;5;28;01mraise\u001B[39;00m \u001B[38;5;28mself\u001B[39m\u001B[38;5;241m.\u001B[39mhandle_error_response(\n\u001B[1;32m    688\u001B[0m         rbody, rcode, resp\u001B[38;5;241m.\u001B[39mdata, rheaders, stream_error\u001B[38;5;241m=\u001B[39mstream_error\n\u001B[1;32m    689\u001B[0m     )\n\u001B[1;32m    690\u001B[0m \u001B[38;5;28;01mreturn\u001B[39;00m resp\n",
      "\u001B[0;31mInvalidRequestError\u001B[0m: The model: `gpt-4` does not exist"
     ]
    }
   ],
   "source": [
    "# Ask with improved model to get more precise information.\n",
    "ask('Which athletes won the gold medal in curling at the 2022 Winter Olympics?', model=\"gpt-4\")"
   ],
   "metadata": {
    "collapsed": false,
    "ExecuteTime": {
     "end_time": "2023-05-28T07:33:05.773330Z",
     "start_time": "2023-05-28T07:33:04.543129Z"
    }
   }
  },
  {
   "cell_type": "code",
   "execution_count": null,
   "outputs": [],
   "source": [],
   "metadata": {
    "collapsed": false
   }
  }
 ],
 "metadata": {
  "kernelspec": {
   "display_name": "Python 3",
   "language": "python",
   "name": "python3"
  },
  "language_info": {
   "codemirror_mode": {
    "name": "ipython",
    "version": 2
   },
   "file_extension": ".py",
   "mimetype": "text/x-python",
   "name": "python",
   "nbconvert_exporter": "python",
   "pygments_lexer": "ipython2",
   "version": "2.7.6"
  }
 },
 "nbformat": 4,
 "nbformat_minor": 0
}
