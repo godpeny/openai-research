{
 "cells": [
  {
   "cell_type": "code",
   "execution_count": 1,
   "metadata": {
    "collapsed": true,
    "ExecuteTime": {
     "end_time": "2023-05-29T15:22:02.689662Z",
     "start_time": "2023-05-29T15:22:01.828672Z"
    }
   },
   "outputs": [],
   "source": [
    "# import\n",
    "from dotenv import load_dotenv\n",
    "import os\n",
    "\n",
    "import pandas as pd\n",
    "import numpy as np\n",
    "\n",
    "import openai\n",
    "from openai.embeddings_utils import get_embedding, cosine_similarity"
   ]
  },
  {
   "cell_type": "code",
   "execution_count": 2,
   "outputs": [],
   "source": [
    "# set OpenAI API key\n",
    "load_dotenv()\n",
    "openai.api_key = os.getenv(\"OPENAI_API_KEY\")"
   ],
   "metadata": {
    "collapsed": false,
    "ExecuteTime": {
     "end_time": "2023-05-29T15:22:02.692385Z",
     "start_time": "2023-05-29T15:22:02.690605Z"
    }
   }
  },
  {
   "cell_type": "code",
   "execution_count": 3,
   "outputs": [
    {
     "data": {
      "text/plain": "         Id   ProductId          UserId  Score  \\\n0    284932  B003XPF9BO  A3R7JR3FMEBXQB      5   \n1    220697  B003JK537S  A3JBPC3WFUT5ZP      1   \n2    107908  B000JMBE7M   AQX1N6A51QOKG      4   \n3    107800  B004AHGBX4  A2UY46X0OSNVUQ      3   \n4    205313  B001BORBHO  A1AFOYZ9HSM2CZ      5   \n..      ...         ...             ...    ...   \n995    7178  B004OQLIHK   AKHQMSUORSA91      5   \n996  401972  B0006349W6  A21BT40VZCCYT4      5   \n997  462088  B00611F084   A6D4ND3C3BCYV      5   \n998  267549  B005QKH5HA  A3LR9HCV3D96I3      5   \n999  542497  B001EQ5GEO  A3VYU0VO6DYV6I      5   \n\n                                               Summary  \\\n0    where does one  start...and stop... with a tre...   \n1                                    Arrived in pieces   \n2            It isn't blanc mange, but isn't bad . . .   \n3          These also have SALT and it's not sea salt.   \n4                               Happy with the product   \n..                                                 ...   \n995                                         Delicious!   \n996                                Good Training Treat   \n997                             Jamica Me Crazy Coffee   \n998                                      Party Peanuts   \n999                                I love Maui Coffee!   \n\n                                                  Text  \\\n0    Wanted to save some to bring to my Chicago fam...   \n1    Not pleased at all. When I opened the box, mos...   \n2    I'm not sure that custard is really custard wi...   \n3    I like the fact that you can see what you're g...   \n4    My dog was suffering with itchy skin.  He had ...   \n..                                                 ...   \n995  I have ordered these raisins multiple times.  ...   \n996  My dog will come in from outside when I am tra...   \n997  Wolfgang Puck's Jamaica Me Crazy is that wonde...   \n998  Great product for the price. Mix with the Asia...   \n999  My first experience with Maui Coffee was bring...   \n\n                                              combined  n_tokens  \\\n0    Title: where does one  start...and stop... wit...        52   \n1    Title: Arrived in pieces; Content: Not pleased...        35   \n2    Title: It isn't blanc mange, but isn't bad . ....       267   \n3    Title: These also have SALT and it's not sea s...       239   \n4    Title: Happy with the product; Content: My dog...        86   \n..                                                 ...       ...   \n995  Title: Delicious!; Content: I have ordered the...        43   \n996  Title: Good Training Treat; Content: My dog wi...        48   \n997  Title: Jamica Me Crazy Coffee; Content: Wolfga...        40   \n998  Title: Party Peanuts; Content: Great product f...        45   \n999  Title: I love Maui Coffee!; Content: My first ...       118   \n\n                                             embedding  \n0    [0.007079250644892454, -0.027231059968471527, ...  \n1    [-0.023640209808945656, -0.011873619630932808,...  \n2    [0.0002428288134979084, 0.005278090480715036, ...  \n3    [0.010502707213163376, -0.013550193049013615, ...  \n4    [0.015294435434043407, -0.003849664004519582, ...  \n..                                                 ...  \n995  [-0.008800246752798557, -0.018662363290786743,...  \n996  [-0.024472814053297043, -0.0175948329269886, 0...  \n997  [-0.01685294136404991, -0.0051534585654735565,...  \n998  [-0.010731690563261509, -0.01646377146244049, ...  \n999  [-0.006103473715484142, -0.015055017545819283,...  \n\n[1000 rows x 9 columns]",
      "text/html": "<div>\n<style scoped>\n    .dataframe tbody tr th:only-of-type {\n        vertical-align: middle;\n    }\n\n    .dataframe tbody tr th {\n        vertical-align: top;\n    }\n\n    .dataframe thead th {\n        text-align: right;\n    }\n</style>\n<table border=\"1\" class=\"dataframe\">\n  <thead>\n    <tr style=\"text-align: right;\">\n      <th></th>\n      <th>Id</th>\n      <th>ProductId</th>\n      <th>UserId</th>\n      <th>Score</th>\n      <th>Summary</th>\n      <th>Text</th>\n      <th>combined</th>\n      <th>n_tokens</th>\n      <th>embedding</th>\n    </tr>\n  </thead>\n  <tbody>\n    <tr>\n      <th>0</th>\n      <td>284932</td>\n      <td>B003XPF9BO</td>\n      <td>A3R7JR3FMEBXQB</td>\n      <td>5</td>\n      <td>where does one  start...and stop... with a tre...</td>\n      <td>Wanted to save some to bring to my Chicago fam...</td>\n      <td>Title: where does one  start...and stop... wit...</td>\n      <td>52</td>\n      <td>[0.007079250644892454, -0.027231059968471527, ...</td>\n    </tr>\n    <tr>\n      <th>1</th>\n      <td>220697</td>\n      <td>B003JK537S</td>\n      <td>A3JBPC3WFUT5ZP</td>\n      <td>1</td>\n      <td>Arrived in pieces</td>\n      <td>Not pleased at all. When I opened the box, mos...</td>\n      <td>Title: Arrived in pieces; Content: Not pleased...</td>\n      <td>35</td>\n      <td>[-0.023640209808945656, -0.011873619630932808,...</td>\n    </tr>\n    <tr>\n      <th>2</th>\n      <td>107908</td>\n      <td>B000JMBE7M</td>\n      <td>AQX1N6A51QOKG</td>\n      <td>4</td>\n      <td>It isn't blanc mange, but isn't bad . . .</td>\n      <td>I'm not sure that custard is really custard wi...</td>\n      <td>Title: It isn't blanc mange, but isn't bad . ....</td>\n      <td>267</td>\n      <td>[0.0002428288134979084, 0.005278090480715036, ...</td>\n    </tr>\n    <tr>\n      <th>3</th>\n      <td>107800</td>\n      <td>B004AHGBX4</td>\n      <td>A2UY46X0OSNVUQ</td>\n      <td>3</td>\n      <td>These also have SALT and it's not sea salt.</td>\n      <td>I like the fact that you can see what you're g...</td>\n      <td>Title: These also have SALT and it's not sea s...</td>\n      <td>239</td>\n      <td>[0.010502707213163376, -0.013550193049013615, ...</td>\n    </tr>\n    <tr>\n      <th>4</th>\n      <td>205313</td>\n      <td>B001BORBHO</td>\n      <td>A1AFOYZ9HSM2CZ</td>\n      <td>5</td>\n      <td>Happy with the product</td>\n      <td>My dog was suffering with itchy skin.  He had ...</td>\n      <td>Title: Happy with the product; Content: My dog...</td>\n      <td>86</td>\n      <td>[0.015294435434043407, -0.003849664004519582, ...</td>\n    </tr>\n    <tr>\n      <th>...</th>\n      <td>...</td>\n      <td>...</td>\n      <td>...</td>\n      <td>...</td>\n      <td>...</td>\n      <td>...</td>\n      <td>...</td>\n      <td>...</td>\n      <td>...</td>\n    </tr>\n    <tr>\n      <th>995</th>\n      <td>7178</td>\n      <td>B004OQLIHK</td>\n      <td>AKHQMSUORSA91</td>\n      <td>5</td>\n      <td>Delicious!</td>\n      <td>I have ordered these raisins multiple times.  ...</td>\n      <td>Title: Delicious!; Content: I have ordered the...</td>\n      <td>43</td>\n      <td>[-0.008800246752798557, -0.018662363290786743,...</td>\n    </tr>\n    <tr>\n      <th>996</th>\n      <td>401972</td>\n      <td>B0006349W6</td>\n      <td>A21BT40VZCCYT4</td>\n      <td>5</td>\n      <td>Good Training Treat</td>\n      <td>My dog will come in from outside when I am tra...</td>\n      <td>Title: Good Training Treat; Content: My dog wi...</td>\n      <td>48</td>\n      <td>[-0.024472814053297043, -0.0175948329269886, 0...</td>\n    </tr>\n    <tr>\n      <th>997</th>\n      <td>462088</td>\n      <td>B00611F084</td>\n      <td>A6D4ND3C3BCYV</td>\n      <td>5</td>\n      <td>Jamica Me Crazy Coffee</td>\n      <td>Wolfgang Puck's Jamaica Me Crazy is that wonde...</td>\n      <td>Title: Jamica Me Crazy Coffee; Content: Wolfga...</td>\n      <td>40</td>\n      <td>[-0.01685294136404991, -0.0051534585654735565,...</td>\n    </tr>\n    <tr>\n      <th>998</th>\n      <td>267549</td>\n      <td>B005QKH5HA</td>\n      <td>A3LR9HCV3D96I3</td>\n      <td>5</td>\n      <td>Party Peanuts</td>\n      <td>Great product for the price. Mix with the Asia...</td>\n      <td>Title: Party Peanuts; Content: Great product f...</td>\n      <td>45</td>\n      <td>[-0.010731690563261509, -0.01646377146244049, ...</td>\n    </tr>\n    <tr>\n      <th>999</th>\n      <td>542497</td>\n      <td>B001EQ5GEO</td>\n      <td>A3VYU0VO6DYV6I</td>\n      <td>5</td>\n      <td>I love Maui Coffee!</td>\n      <td>My first experience with Maui Coffee was bring...</td>\n      <td>Title: I love Maui Coffee!; Content: My first ...</td>\n      <td>118</td>\n      <td>[-0.006103473715484142, -0.015055017545819283,...</td>\n    </tr>\n  </tbody>\n</table>\n<p>1000 rows × 9 columns</p>\n</div>"
     },
     "execution_count": 3,
     "metadata": {},
     "output_type": "execute_result"
    }
   ],
   "source": [
    "datafile_path = \"../data/fine_food_reviews_with_embeddings_1k.csv\"\n",
    "\n",
    "df = pd.read_csv(datafile_path)\n",
    "df[\"embedding\"] = df.embedding.apply(eval).apply(np.array)\n",
    "df # print"
   ],
   "metadata": {
    "collapsed": false,
    "ExecuteTime": {
     "end_time": "2023-05-29T15:22:04.670013Z",
     "start_time": "2023-05-29T15:22:02.693416Z"
    }
   }
  }
 ],
 "metadata": {
  "kernelspec": {
   "display_name": "Python 3",
   "language": "python",
   "name": "python3"
  },
  "language_info": {
   "codemirror_mode": {
    "name": "ipython",
    "version": 2
   },
   "file_extension": ".py",
   "mimetype": "text/x-python",
   "name": "python",
   "nbconvert_exporter": "python",
   "pygments_lexer": "ipython2",
   "version": "2.7.6"
  }
 },
 "nbformat": 4,
 "nbformat_minor": 0
}
