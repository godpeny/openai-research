{
 "cells": [
  {
   "cell_type": "code",
   "execution_count": 1,
   "metadata": {
    "collapsed": true,
    "ExecuteTime": {
     "end_time": "2023-05-27T15:42:13.944024Z",
     "start_time": "2023-05-27T15:42:13.057179Z"
    }
   },
   "outputs": [],
   "source": [
    "# imports\n",
    "import ast  # for converting embeddings saved as strings back to arrays\n",
    "import openai  # for calling the OpenAI API\n",
    "import pandas as pd  # for storing text and embeddings data\n",
    "import tiktoken  # for counting tokens\n",
    "from scipy import spatial  # for calculating vector similarities for search\n",
    "\n",
    "\n",
    "# models\n",
    "EMBEDDING_MODEL = \"text-embedding-ada-002\"\n",
    "GPT_MODEL = \"gpt-3.5-turbo\""
   ]
  },
  {
   "cell_type": "code",
   "execution_count": 3,
   "outputs": [
    {
     "name": "stdout",
     "output_type": "stream",
     "text": [
      "                                                   text  \\\n",
      "0     Lviv bid for the 2022 Winter Olympics\\n\\n{{Oly...   \n",
      "1     Lviv bid for the 2022 Winter Olympics\\n\\n==His...   \n",
      "2     Lviv bid for the 2022 Winter Olympics\\n\\n==Ven...   \n",
      "3     Lviv bid for the 2022 Winter Olympics\\n\\n==Ven...   \n",
      "4     Lviv bid for the 2022 Winter Olympics\\n\\n==Ven...   \n",
      "...                                                 ...   \n",
      "6054  Anaïs Chevalier-Bouchet\\n\\n==Personal life==\\n...   \n",
      "6055  Uliana Nigmatullina\\n\\n{{short description|Rus...   \n",
      "6056  Uliana Nigmatullina\\n\\n==Biathlon results==\\n\\...   \n",
      "6057  Uliana Nigmatullina\\n\\n==Biathlon results==\\n\\...   \n",
      "6058  Uliana Nigmatullina\\n\\n==Biathlon results==\\n\\...   \n",
      "\n",
      "                                              embedding  \n",
      "0     [-0.005021067801862955, 0.00026050032465718687...  \n",
      "1     [0.0033927420154213905, -0.007447326090186834,...  \n",
      "2     [-0.00915789045393467, -0.008366798982024193, ...  \n",
      "3     [0.0030951891094446182, -0.006064314860850573,...  \n",
      "4     [-0.002936174161732197, -0.006185177247971296,...  \n",
      "...                                                 ...  \n",
      "6054  [-0.027750400826334953, 0.001746018067933619, ...  \n",
      "6055  [-0.021714167669415474, 0.016001321375370026, ...  \n",
      "6056  [-0.029143543913960457, 0.014654331840574741, ...  \n",
      "6057  [-0.024266039952635765, 0.011665306985378265, ...  \n",
      "6058  [-0.021818075329065323, 0.005420385394245386, ...  \n",
      "\n",
      "[6059 rows x 2 columns]\n"
     ]
    }
   ],
   "source": [
    "# https://cdn.openai.com/API/examples/data/winter_olympics_2022.csv\n",
    "embeddings_path = \"./winter_olympics_2022.csv\"\n",
    "\n",
    "df = pd.read_csv(embeddings_path)\n",
    "# convert embeddings from CSV str type back to list type\n",
    "df['embedding'] = df['embedding'].apply(ast.literal_eval)\n",
    "# the dataframe has two columns: \"text\" and \"embedding\"\n",
    "df # print"
   ],
   "metadata": {
    "collapsed": false,
    "ExecuteTime": {
     "end_time": "2023-05-27T15:46:36.463110Z",
     "start_time": "2023-05-27T15:46:12.312549Z"
    }
   }
  },
  {
   "cell_type": "code",
   "execution_count": null,
   "outputs": [],
   "source": [
    "# search function\n",
    "def strings_ranked_by_relatedness(\n",
    "        query: str,\n",
    "        df: pd.DataFrame,\n",
    "        relatedness_fn=lambda x, y: 1 - spatial.distance.cosine(x, y),\n",
    "        top_n: int = 100\n",
    ") -> tuple[list[str], list[float]]:\n",
    "    \"\"\"Returns a list of strings and relatednesses, sorted from most related to least.\"\"\"\n",
    "    query_embedding_response = openai.Embedding.create(\n",
    "        model=EMBEDDING_MODEL,\n",
    "        input=query,\n",
    "    )\n",
    "    query_embedding = query_embedding_response[\"data\"][0][\"embedding\"]\n",
    "    strings_and_relatednesses = [\n",
    "        (row[\"text\"], relatedness_fn(query_embedding, row[\"embedding\"]))\n",
    "        for i, row in df.iterrows()\n",
    "    ]\n",
    "    strings_and_relatednesses.sort(key=lambda x: x[1], reverse=True)\n",
    "    strings, relatednesses = zip(*strings_and_relatednesses)\n",
    "    return strings[:top_n], relatednesses[:top_n]"
   ],
   "metadata": {
    "collapsed": false
   }
  }
 ],
 "metadata": {
  "kernelspec": {
   "display_name": "Python 3",
   "language": "python",
   "name": "python3"
  },
  "language_info": {
   "codemirror_mode": {
    "name": "ipython",
    "version": 2
   },
   "file_extension": ".py",
   "mimetype": "text/x-python",
   "name": "python",
   "nbconvert_exporter": "python",
   "pygments_lexer": "ipython2",
   "version": "2.7.6"
  }
 },
 "nbformat": 4,
 "nbformat_minor": 0
}
